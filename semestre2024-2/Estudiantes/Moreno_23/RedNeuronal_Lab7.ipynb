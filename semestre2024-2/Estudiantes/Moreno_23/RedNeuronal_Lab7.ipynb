{
  "nbformat": 4,
  "nbformat_minor": 0,
  "metadata": {
    "colab": {
      "provenance": []
    },
    "kernelspec": {
      "name": "python3",
      "display_name": "Python 3"
    },
    "language_info": {
      "name": "python"
    }
  },
  "cells": [
    {
      "cell_type": "code",
      "execution_count": 1,
      "metadata": {
        "id": "Mf0iwFnF8dCc"
      },
      "outputs": [],
      "source": [
        "import numpy as np\n",
        "import matplotlib.pyplot as plt\n",
        "\n",
        "import scipy as sc\n",
        "import h5py\n",
        "\n",
        "from sklearn.datasets import make_circles"
      ]
    },
    {
      "cell_type": "code",
      "source": [
        "class layer_nn():\n",
        "  def __init__(self,act_fun,nlayer_present, nlayer_before):\n",
        "    \"\"\"\n",
        "    act_fun: función de activación para la red neuronal\n",
        "    nlayer_present: # de redes neuronales en la capaque hay  presente\n",
        "    nlayer_before: # de redes neuronales que hay que la capa anterior\n",
        "    \"\"\"\n",
        "    self.act_fun=act_fun\n",
        "\n",
        "    self.theta = np.random.randn(nlayer_present, nlayer_before) * np.sqrt(1 / nlayer_before)\n",
        "    self.b = np.zeros((nlayer_present, 1))\n",
        "    \"\"\"\n",
        "    al final estas parametros recomendados por la IA, fueron más eficientes que los\n",
        "    parametros al final\n",
        "    \"\"\"\n",
        "\n",
        "\n",
        "   # self.b=2*np.random.random((nlayer_present,1))-1\n",
        "\n",
        "    #self.theta=2*np.random.random((nlayer_present,nlayer_before))-1\n",
        "\n",
        "    #self.theta=np.random.randn(nlayer_present,nlayer_before) * np.sqrt(2 / nlayer_before)"
      ],
      "metadata": {
        "id": "wzuAwEJC-MXp"
      },
      "execution_count": 2,
      "outputs": []
    },
    {
      "cell_type": "code",
      "source": [
        "#Funciones de activación\n",
        "f = (lambda x: 1/(1+np.exp(-x)),\n",
        "     lambda x: 1/(1+np.exp(-x))*(1-(1/(1+np.exp(-x)))))\n",
        "\n",
        "g = (lambda x: np.tanh(x),\n",
        "     lambda x: 1-np.tanh(x)**2)\n",
        "\n",
        "r= (lambda x: np.maximum(0,x),\n",
        "    lambda x: np.where(x>0,1,0))\n"
      ],
      "metadata": {
        "id": "rmgESL51-Rrl"
      },
      "execution_count": 3,
      "outputs": []
    },
    {
      "cell_type": "code",
      "source": [
        "n=12288\n",
        "#topology=[n,4,2,1]\n",
        "#topology=[n,8,4,16,8,1]\n",
        "topology=[n,256,128,64,32,1]\n",
        "#activation=[None,r,r,f]\n",
        "activation=[None,r,r,r,r,f]\n",
        "\n",
        "\"\"\"\n",
        "despues de ensayar con varias topologias y activaciones esta es la que dio mejores resultados\n",
        "\"\"\"\n"
      ],
      "metadata": {
        "id": "c5VTnLAY-Umu"
      },
      "execution_count": 4,
      "outputs": []
    },
    {
      "cell_type": "code",
      "source": [
        "#Creación de las capas con sus respectivas redes neuronales\n",
        "nn=[]\n",
        "for l,val in enumerate(topology[:-1]):\n",
        "  # Para cada capa, crea una capa con la función de activación correspondiente\n",
        "\n",
        "  nn.append(layer_nn(activation[l+1],topology[l+1],topology[l]))"
      ],
      "metadata": {
        "id": "3TFMpbAH-W3A"
      },
      "execution_count": 5,
      "outputs": []
    },
    {
      "cell_type": "code",
      "source": [
        "def forward_pass(A0,nn):\n",
        "  \"\"\"A0 es la matriz de características de entrada por cada elememento\"\"\"\n",
        "\n",
        "  z_l=[None] #Contiene suma ponderada por cada capa\n",
        "  A_l=[A0] #Contiene matrices que representa el valor de la función de activación por cada capa(que serían los parametro de la capa sigiuiente)\n",
        "\n",
        "\n",
        "  for i in range(len(nn)):\n",
        "\n",
        "    z = nn[i].theta @ A0 + nn[i].b\n",
        "\n",
        "    a = nn[i].act_fun[0](z)\n",
        "\n",
        "\n",
        "    z_l.append(z)\n",
        "    A_l.append(a)\n",
        "\n",
        "    A0 = a\n",
        "\n",
        "\n",
        "  return z_l, A_l\n"
      ],
      "metadata": {
        "id": "1v4vvZyg-aMI"
      },
      "execution_count": 6,
      "outputs": []
    },
    {
      "cell_type": "code",
      "source": [
        "epsilon = 1e-10\n",
        "coste = (lambda Yh, Yr: -1*np.mean(Yr*np.log(Yh + epsilon) + (1 - Yr)*np.log(1 - Yh + epsilon)),\n",
        "         lambda Yh, Yr: Yr/(Yh + epsilon) - (1 - Yr)/(1 - Yh + epsilon))\n",
        "\n",
        "\"\"\"\n",
        "se le agrega un epsilon para evitar error de division por cero\n",
        "\"\"\""
      ],
      "metadata": {
        "colab": {
          "base_uri": "https://localhost:8080/",
          "height": 36
        },
        "id": "kcQ47_7M-dTP",
        "outputId": "2dd6bcd6-6e84-46b7-c616-73267d056c80"
      },
      "execution_count": 31,
      "outputs": [
        {
          "output_type": "execute_result",
          "data": {
            "text/plain": [
              "'\\nse le agrega un epsilon para evitar error de division por cero\\n'"
            ],
            "application/vnd.google.colaboratory.intrinsic+json": {
              "type": "string"
            }
          },
          "metadata": {},
          "execution_count": 31
        }
      ]
    },
    {
      "cell_type": "code",
      "source": [
        "def Backward_Pass(forward_pass_values, neural_net, X, Y, cost_fun, lr):\n",
        "    \"\"\"\n",
        "    Realiza el Backward Pass y actualiza los pesos y sesgos.\n",
        "\n",
        "    \"\"\"\n",
        "    z = forward_pass_values[0][1:]  # Excluir el primer None\n",
        "    a = forward_pass_values[1]\n",
        "    number_layers = len(neural_net)\n",
        "    delta = []\n",
        "\n",
        "    # Calcular delta para la última capa\n",
        "    delta.insert(0, (a[-1] - Y) * neural_net[-1].act_fun[1](z[-1]))\n",
        "\n",
        "    # Recorrer las capas intermedias y calcular delta\n",
        "\n",
        "    for i in range(number_layers - 2, -1, -1):\n",
        "        _theta = neural_net[i + 1].theta\n",
        "\n",
        "        delta.insert(0, (_theta.T @ delta[0]) * neural_net[i].act_fun[1](z[i]))\n",
        "       # _theta = neural_net[i + 1].theta.T\n",
        "\n",
        "    # Actualización de parámetros\n",
        "    for i in range(number_layers - 1, -1, -1):\n",
        "        neural_net[i].b -= lr * np.mean(delta[i], axis=1, keepdims=True)\n",
        "\n",
        "        if i == 0:  # Primera capa\n",
        "            neural_net[i].theta -= lr * delta[i] @ a[0].T\n",
        "        else:  # Para las demás capas\n",
        "            neural_net[i].theta -= lr * delta[i] @ a[i].T\n",
        "\n",
        "             # Obtener a[-1] del forward pass actualizado\n",
        "\n",
        "    return neural_net\n"
      ],
      "metadata": {
        "id": "EbSmq82w-j6J"
      },
      "execution_count": 8,
      "outputs": []
    },
    {
      "cell_type": "code",
      "source": [
        "data_train = \"/content/train_catvnoncat.h5\"  # Replace with the actual path\n",
        "train_dataset = h5py.File(data_train, \"r\")\n",
        "data_test= \"/content/test_catvnoncat.h5\"\n",
        "test_dataset = h5py.File(data_test, \"r\")"
      ],
      "metadata": {
        "id": "Nh57JWP1-nsp"
      },
      "execution_count": 9,
      "outputs": []
    },
    {
      "cell_type": "code",
      "source": [
        "# Read the data\n",
        "xtrain_classes, xtrain, train_label =\\\n",
        "train_dataset[\"list_classes\"],train_dataset[\"train_set_x\"],train_dataset[\"train_set_y\"]\n",
        "\n",
        "test_classes, xtest,test_label =\\\n",
        "test_dataset[\"list_classes\"],test_dataset[\"test_set_x\"],test_dataset[\"test_set_y\"]"
      ],
      "metadata": {
        "id": "f5Vr-iD5_D8t"
      },
      "execution_count": 10,
      "outputs": []
    },
    {
      "cell_type": "code",
      "source": [
        "# Check if train_label is already a NumPy array\n",
        "if not isinstance(train_label, np.ndarray):\n",
        "    train_labels_np = train_label[:]  # Convert to NumPy array if needed\n",
        "else:\n",
        "    train_labels_np = train_label  # Use directly if it's already a NumPy array"
      ],
      "metadata": {
        "id": "gW8z94_uIeLb"
      },
      "execution_count": 11,
      "outputs": []
    },
    {
      "cell_type": "code",
      "source": [
        "xtrain_= np.reshape(xtrain,(209, 64*64*3))/255\n",
        "xtest_ = np.reshape(xtest,(50, 64*64*3))/255"
      ],
      "metadata": {
        "id": "s1iFpwU2_NRW"
      },
      "execution_count": 12,
      "outputs": []
    },
    {
      "cell_type": "code",
      "source": [
        "\n",
        "# Número de iteraciones (epochs) y tasa de aprendizaje\n",
        "epochs = 1000\n",
        "learning_rate = 0.001\n",
        "cost_history = []\n",
        "\n",
        "for epoch in range(epochs):\n",
        "    # Forward Pass\n",
        "    forward_values = forward_pass(xtrain_.T, nn)\n",
        "    Y_hat = forward_values[1][-1]  # a[-1] contiene las predicciones\n",
        "\n",
        "    # Calcular el costo\n",
        "    cost = coste[0](Y_hat, train_labels_np)\n",
        "    cost_history.append(cost)\n",
        "\n",
        "    # Backward Pass\n",
        "    nn = Backward_Pass(forward_values, nn, xtrain_, train_label, coste, learning_rate)\n",
        "\n",
        "    # Mostrar progreso cada 100 iteraciones\n",
        "    if epoch % 100 == 0 or epoch == epochs - 1:\n",
        "        print(f\"Epoch {epoch+1}/{epochs}, Cost: {cost}\")\n",
        "\n",
        "# Graficar la evolución del costo\n",
        "plt.figure(figsize=(10, 5))\n",
        "plt.plot(range(epochs), cost_history, label=\"Costo\")\n",
        "plt.xlabel(\"Épocas\")\n",
        "plt.ylabel(\"Costo\")\n",
        "plt.title(\"Evolución del Costo durante el Entrenamiento\")\n",
        "plt.legend()\n",
        "plt.show()\n"
      ],
      "metadata": {
        "colab": {
          "base_uri": "https://localhost:8080/",
          "height": 691
        },
        "id": "YRZkdjMoAQZm",
        "outputId": "838994dc-4c63-4fd3-a352-642d8202937b"
      },
      "execution_count": 13,
      "outputs": [
        {
          "output_type": "stream",
          "name": "stdout",
          "text": [
            "Epoch 1/1000, Cost: 0.7063589811466553\n",
            "Epoch 101/1000, Cost: 0.5868083158725864\n",
            "Epoch 201/1000, Cost: 0.4558908368168191\n",
            "Epoch 301/1000, Cost: 0.29738930454059037\n",
            "Epoch 401/1000, Cost: 0.055127912985598784\n",
            "Epoch 501/1000, Cost: 0.023925907727025422\n",
            "Epoch 601/1000, Cost: 0.016237052898269492\n",
            "Epoch 701/1000, Cost: 0.01265932892983176\n",
            "Epoch 801/1000, Cost: 0.01053153819965361\n",
            "Epoch 901/1000, Cost: 0.009116771311017452\n",
            "Epoch 1000/1000, Cost: 0.00811266771314922\n"
          ]
        },
        {
          "output_type": "display_data",
          "data": {
            "text/plain": [
              "<Figure size 1000x500 with 1 Axes>"
            ],
            "image/png": "[encoded data removed]"
          },
          "metadata": {}
        }
      ]
    },
    {
      "cell_type": "code",
      "source": [
        "forward_values_test = forward_pass(xtest_.T, nn)\n",
        "Y_hat_test = forward_values_test[1][-1]  # Obtengo predicciones para el conjunto de testeo"
      ],
      "metadata": {
        "id": "EweaAV3UHXms"
      },
      "execution_count": 14,
      "outputs": []
    },
    {
      "cell_type": "code",
      "source": [
        "\"\"\"\n",
        "Y_hat_test contiene las salidas de la función activación de la ultima capa, que representa\n",
        "la probabilidad de que la imagen sea una imagen de gato.\n",
        "\n",
        "\"\"\"\n",
        "predictions = (Y_hat_test > 0.5).astype(int)  # Convertir la probabilidades en 1 o 0"
      ],
      "metadata": {
        "id": "kYD0oEJsuVB8"
      },
      "execution_count": 15,
      "outputs": []
    },
    {
      "cell_type": "code",
      "source": [
        "accuracy = np.mean(predictions == test_label)\n",
        "print(f\"Exactitud en el conjunto de test: {accuracy}\")"
      ],
      "metadata": {
        "colab": {
          "base_uri": "https://localhost:8080/"
        },
        "id": "CAPuRhWEuYfk",
        "outputId": "58c4df55-e4c0-4b90-e468-c7445a4001ba"
      },
      "execution_count": 29,
      "outputs": [
        {
          "output_type": "stream",
          "name": "stdout",
          "text": [
            "Exactitud en el conjunto de test: 0.7\n"
          ]
        }
      ]
    },
    {
      "cell_type": "code",
      "source": [
        "from sklearn.metrics import f1_score\n",
        "\n",
        "f1 = f1_score(test_label, predictions[0])\n",
        "print(f\"F1 score: {f1}\")"
      ],
      "metadata": {
        "colab": {
          "base_uri": "https://localhost:8080/"
        },
        "id": "y8BpHP7nu7gx",
        "outputId": "5bbec02d-2f68-4799-b3ac-82edb57365f2"
      },
      "execution_count": 27,
      "outputs": [
        {
          "output_type": "stream",
          "name": "stdout",
          "text": [
            "F1 score: 0.7619047619047619\n"
          ]
        }
      ]
    },
    {
      "cell_type": "code",
      "source": [],
      "metadata": {
        "id": "CI_vV11EwxxP"
      },
      "execution_count": 29,
      "outputs": []
    },
    {
      "cell_type": "code",
      "source": [],
      "metadata": {
        "id": "TZsxZDVZxJvk"
      },
      "execution_count": null,
      "outputs": []
    }
  ]
}