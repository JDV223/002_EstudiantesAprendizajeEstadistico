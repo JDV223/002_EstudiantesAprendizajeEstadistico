{
  "cells": [
    {
      "cell_type": "markdown",
      "metadata": {
        "id": "uKPb3LC9cTyI"
      },
      "source": [
        "<a href=\"https://colab.research.google.com/github/CienciaDatosUdea/002_EstudiantesAprendizajeEstadistico/blob/main/semestre2024-2/Laboratorios/Laboratorio_07_nn_zeroV1.ipynb\" target=\"_parent\"><img src=\"https://colab.research.google.com/assets/colab-badge.svg\" alt=\"Open In Colab\"/></a>"
      ]
    },
    {
      "cell_type": "code",
      "execution_count": null,
      "metadata": {
        "id": "UG0R-DxjnBhn"
      },
      "outputs": [],
      "source": [
        "#liberias\n",
        "import pandas as pd\n",
        "import scipy as sc\n",
        "import numpy as np\n",
        "import h5py\n",
        "import matplotlib.pylab as plt"
      ]
    },
    {
      "cell_type": "code",
      "execution_count": null,
      "metadata": {
        "id": "u3DbUInju5bB"
      },
      "outputs": [],
      "source": [
        "#Cargamos los dataset\n",
        "data_train= \"train_catvnoncat.h5\"\n",
        "train_dataset = h5py.File(data_train, \"r\")\n",
        "\n",
        "data_test= \"test_catvnoncat.h5\"\n",
        "test_dataset = h5py.File(data_test, \"r\")"
      ]
    },
    {
      "cell_type": "code",
      "execution_count": null,
      "metadata": {
        "id": "vXXeE1af2OJx",
        "colab": {
          "base_uri": "https://localhost:8080/"
        },
        "outputId": "f5884040-278b-407a-866a-1c1b2bc3af49"
      },
      "outputs": [
        {
          "output_type": "execute_result",
          "data": {
            "text/plain": [
              "<KeysViewHDF5 ['list_classes', 'train_set_x', 'train_set_y']>"
            ]
          },
          "metadata": {},
          "execution_count": 3
        }
      ],
      "source": [
        "train_dataset.keys()"
      ]
    },
    {
      "cell_type": "code",
      "execution_count": null,
      "metadata": {
        "id": "-1hat8N62M4e"
      },
      "outputs": [],
      "source": [
        "# Read the data\n",
        "xtrain_classes, xtrain, train_label =\\\n",
        "train_dataset[\"list_classes\"],train_dataset[\"train_set_x\"],train_dataset[\"train_set_y\"]\n",
        "\n",
        "test_classes, xtest,test_label =\\\n",
        "test_dataset[\"list_classes\"],test_dataset[\"test_set_x\"],test_dataset[\"test_set_y\"]\n"
      ]
    },
    {
      "cell_type": "code",
      "execution_count": null,
      "metadata": {
        "colab": {
          "base_uri": "https://localhost:8080/"
        },
        "id": "d2mgfnsTvC2a",
        "outputId": "3ca42052-50d9-4bd2-e3d0-b0f5c76678fa"
      },
      "outputs": [
        {
          "output_type": "execute_result",
          "data": {
            "text/plain": [
              "(209, 64, 64, 3)"
            ]
          },
          "metadata": {},
          "execution_count": 5
        }
      ],
      "source": [
        "np.shape(xtrain)"
      ]
    },
    {
      "cell_type": "code",
      "execution_count": null,
      "metadata": {
        "colab": {
          "base_uri": "https://localhost:8080/",
          "height": 450
        },
        "id": "qC1DrIWiu--B",
        "outputId": "276d171e-0491-41d9-cf39-5aa2a14f3eb8"
      },
      "outputs": [
        {
          "output_type": "execute_result",
          "data": {
            "text/plain": [
              "<matplotlib.image.AxesImage at 0x7d66145da7a0>"
            ]
          },
          "metadata": {},
          "execution_count": 6
        },
        {
          "output_type": "display_data",
          "data": {
            "text/plain": [
              "<Figure size 640x480 with 1 Axes>"
            ],
            "image/png": "[encoded data removed]"
          },
          "metadata": {}
        }
      ],
      "source": [
        "plt.imshow(xtrain[208])"
      ]
    },
    {
      "cell_type": "code",
      "execution_count": null,
      "metadata": {
        "colab": {
          "base_uri": "https://localhost:8080/"
        },
        "id": "9pxd8cOX4Xk6",
        "outputId": "3e0ee1ee-4590-49cb-df02-3e6e33925930"
      },
      "outputs": [
        {
          "output_type": "execute_result",
          "data": {
            "text/plain": [
              "(64, 64, 3)"
            ]
          },
          "metadata": {},
          "execution_count": 7
        }
      ],
      "source": [
        "np.shape(xtrain[0])"
      ]
    },
    {
      "cell_type": "code",
      "execution_count": null,
      "metadata": {
        "colab": {
          "base_uri": "https://localhost:8080/"
        },
        "id": "Du9z2Uxb4cJR",
        "outputId": "8655e71d-5b11-41a1-d09a-5139401bbd08"
      },
      "outputs": [
        {
          "output_type": "execute_result",
          "data": {
            "text/plain": [
              "array([17, 31, 56, ...,  0,  0,  0], dtype=uint8)"
            ]
          },
          "metadata": {},
          "execution_count": 8
        }
      ],
      "source": [
        "np.reshape(xtrain[0], 64*64*3)"
      ]
    },
    {
      "cell_type": "code",
      "execution_count": null,
      "metadata": {
        "id": "vhMaDzC0vVPp"
      },
      "outputs": [],
      "source": [
        "xtrain_= np.reshape(xtrain,(209, 64*64*3))/255\n",
        "xtest_ = np.reshape(xtest,(50, 64*64*3))/255"
      ]
    },
    {
      "cell_type": "code",
      "execution_count": null,
      "metadata": {
        "colab": {
          "base_uri": "https://localhost:8080/"
        },
        "id": "UADlx19ivW3z",
        "outputId": "99470e36-923d-4d43-c6eb-9414a0bf01bb"
      },
      "outputs": [
        {
          "output_type": "execute_result",
          "data": {
            "text/plain": [
              "12288"
            ]
          },
          "metadata": {},
          "execution_count": 10
        }
      ],
      "source": [
        "len(xtrain_[208])"
      ]
    },
    {
      "cell_type": "code",
      "execution_count": null,
      "metadata": {
        "colab": {
          "base_uri": "https://localhost:8080/"
        },
        "id": "FeSx2i9B4_f3",
        "outputId": "3c884a58-50bb-40d6-ce7c-1cf692ca66e0"
      },
      "outputs": [
        {
          "output_type": "execute_result",
          "data": {
            "text/plain": [
              "12288"
            ]
          },
          "metadata": {},
          "execution_count": 11
        }
      ],
      "source": [
        "64*64*3"
      ]
    },
    {
      "cell_type": "markdown",
      "metadata": {
        "id": "i97z3Eofni2T"
      },
      "source": [
        "Construyamos una red neuronal con una capa de entrada, una capa de salida con una red y L-1 redes ocultas.\n",
        "\n",
        "# Con m datos de entrenamientos.\n",
        "\n",
        "Para $m$ datos de entrenamiento, las expresión anteriores pueden ser resumidas en las siguientes ecuaciones\n",
        "\n",
        "\n",
        "\n",
        "\\begin{equation}\n",
        "\\begin{bmatrix}\n",
        "z_1^{(0)}  &z_1^{(1)} & .&.& .&z_1^{(m)}\\\\\n",
        "z_2^{(0)}  &z_2^{(1)} &. &.&  .&z_2^{(m)}\\\\\n",
        ".          & .        &. & &   &.      \\\\\n",
        ".          & .        &  &. &   &.      \\\\\n",
        ".          & .        &  &  & .&      \\\\\n",
        "z_{n^{[l]}}^{(0)}&z_{n^{[l]}}^{(1)} & . & .& .& z_{n^{[l]}}^{(m)}        \\\\\n",
        "\\end{bmatrix}^{[l]}=\n",
        "\\begin{bmatrix}\n",
        "\\theta_{11} & \\theta_{12} & . & .& .& \\theta_{1n^{[l-1]}}\\\\\n",
        "\\theta_{21} & \\theta_{22} & . & .& .& \\theta_{2n^{[l-1]}}\\\\\n",
        ". & .  & . &   & & .\\\\\n",
        ". & .  &   & . & & .\\\\\n",
        ". & .  &   &  & .& .\\\\\n",
        "\\theta_{n^{[l]}1} & \\theta_{n^{[l]}2} & . & .& .& \\theta_{n^{[l]}n^{[l-1]}}\\\\\n",
        "\\end{bmatrix}^{[l]}_{n^{[l]} \\times n^{[l-1]}}\n",
        "\\begin{bmatrix}\n",
        "a_1^{(0)}  &a_1^{(1)} & .&.& .&a_1^{(m)}\\\\\n",
        "a_2^{(0)}  &a_2^{(1)} &. &.&  .&a_2^{(m)}\\\\\n",
        ".          & .        &. & &   &.      \\\\\n",
        ".          & .        &  &. &   &.      \\\\\n",
        ".          & .        &  &  & .&      \\\\\n",
        "a_{n^{[L-1]}}^{(0)}&a_{n^{[L-1]}}^{(1)} & . & .& .& a_{n^{[L-1]}}^{(m)}        \\\\\n",
        "\\end{bmatrix}^{[l-1]} +\n",
        "\\begin{bmatrix}\n",
        "b_1 \\\\\n",
        "b_2 \\\\\n",
        ". \\\\\n",
        ". \\\\\n",
        ". \\\\\n",
        "b_{n^{[l]}}\\\\\n",
        "\\end{bmatrix}^{[l]}\n",
        "\\end{equation}\n",
        "\n",
        "\n",
        "Escrito de una formas mas compacta tenemos que:\n",
        "\n",
        "\n",
        "\\begin{equation}\n",
        "[ \\vec{Z}^{[l](0)},\\vec{Z}^{[l](1)},...,\\vec{Z}^{[l](m)}  ]= \\Theta^{[l]} [\\vec{A}^{[l-1](0)},\\vec{A}^{[l-1](1)},...,\\vec{A}^{[l-1](m)} ]+ \\vec{b}^{[l]}\n",
        "\\end{equation}\n",
        "\n",
        "Aplicando la funcion de activación:\n",
        "\n",
        "\\begin{equation}\n",
        "[\\vec{A}^{[l](0)},\\vec{A}^{[l](1)},...,\\vec{A}^{[l](m)} ]=f([\\vec{Z}^{[l](0)},\\vec{Z}^{[l](1)},...,\\vec{Z}^{[l](m)}  ])\n",
        "\\end{equation}\n",
        "\n",
        "Las dimensiones de las expresiones anteriores, pueden ser resumidas en lo siguiente:\n",
        "\n",
        "$\\mathrm{dim(\\vec{\\cal{Z}}^{[l]})}=n^{[l]}\\times m $\n",
        "\n",
        "$\\mathrm{dim(\\vec{\\Theta}^{[l]})}=n^{[l]}\\times n^{[l-1]}$\n",
        "\n",
        "$\\mathrm{dim(\\vec{\\cal{A}}^{[l]})}=n^{[l-1]}\\times m $\n",
        "\n",
        "$\\mathrm{dim(\\vec{b}^{[l]})}=n^{[l]}$\n",
        "\n",
        "\n"
      ]
    },
    {
      "cell_type": "markdown",
      "metadata": {
        "id": "rfFDqaFihE-d"
      },
      "source": [
        "## Topología de la red.\n",
        "\n",
        "1. Construir un clase  que permita definir una red neuronal con la topología\n",
        "deseada y la función de activación para cada capa, para ello deberá construir una funcion Topology con el número de capas de la red neuronal :\n",
        "\n",
        "Topology = [n_x, n_h1, n_h2, n_h3, ...,n_y]\n",
        "\n",
        "En este caso:\n",
        "- $n^{[0]}=n_x$ seran los valores de entradas de la capa de entrada\n",
        "- $n^{[1]}=n_{h1}$ Primera capa oculta de la red neuronal\n",
        "- $n^{[2]}=n_{h2}$ Segunda capa oculta de la red neuronal\n",
        "\n",
        ".\n",
        "\n",
        ".\n",
        "\n",
        ".\n",
        "\n",
        "\n",
        "- $n^{[l]}=n_{hl}$ Segunda capa oculta de la red neuronal\n",
        ".\n",
        "\n",
        ".\n",
        "\n",
        ".\n",
        "\n",
        "- $n^{[L]}=n_{y}$ Segunda capa oculta de la red neuronal\n",
        "\n",
        "donde\n",
        "\n",
        "- $\\mathrm{n_x}$: valores de entrada\n",
        "- $\\mathrm{n_{h1}}$: hidden layer 1\n",
        "- $\\mathrm{n_{h2}}$: hidden layer 2\n",
        "- $\\mathrm{n_y}$: last layer\n",
        "\n",
        "- $n^{[L]}=n_{y}$ Segunda capa oculta de la red neuronal\n",
        "\n",
        "\n",
        "También definir una lista con las funciones de activaciones para cada capa.\n",
        "\n",
        "\n",
        "activation=[None, relu, relu, relu, ...,sigmoid]\n",
        "\n",
        "  \n",
        "\n",
        "\n",
        "a. Cada unas de las capas deberá tener los parámetros de inicialización de manera aleatoria:\n",
        "\n",
        "\n",
        "La matriz de parametros para cada capa debera tener:\n",
        "\n",
        "\n",
        "$\\mathrm{dim(\\vec{b}^{[l]})}=n^{[l]}$\n",
        "\n",
        "$\\mathrm{dim(\\vec{\\Theta}^{[l]})}=n^{[l]}\\times n^{[l-1]}$\n",
        "\n",
        "Lo anteriores parametros deberán estar en el constructor de la clase.\n",
        "\n",
        "\n",
        "b. Construya un metodo llamado output cuya salida serán los valores de Z y A\n",
        "\n",
        "\n",
        "$\\mathrm{dim(\\vec{\\cal{A}}^{[l]})}=n^{[l-1]}\\times m $\n",
        "\n",
        "$\\mathrm{dim(\\vec{\\cal{Z}}^{[l]})}=n^{[l]}\\times m $."
      ]
    },
    {
      "cell_type": "markdown",
      "metadata": {
        "id": "VYQt5vHfnuEo"
      },
      "source": [
        "\n",
        "\n",
        "Se sugiere para cada capa emplear programación orientada a objetos definida de la siguiente manera:\n",
        "\n",
        "```\n",
        "class layer_nn():\n",
        "  def __init__(self, act_fun, nlayer_present, nlayer_before):\n",
        "    self.theta = 2*np.random.random((nlayer_present, nlayer_before)) - 1\n",
        "    self.B = 2*np.random.random((nlayer_present,1)) - 1\n",
        "    self.act_fun = act_fun\n",
        "\n",
        "  def output(self, Z, A):\n",
        "    self.Z = Z\n",
        "    self.A = A\n",
        "\n",
        "\n",
        "\n",
        "def act_function(x, activation):\n",
        "  if activation==\"sigmoid\":\n",
        "    f = lambda x: 1/(1+np.exp(-x))\n",
        "    fp = f(x)*(1-f(x))\n",
        "    return f, fp\n",
        "  \n",
        "  elif activation == \"tanh\":\n",
        "    f = lambda x: np.tanh\n",
        "    return tanh\n",
        "  else :\n",
        "    return 0\n",
        "```\n",
        "    \n",
        "\n",
        "2. Construir un generalizacion de la red, en el que entrada el valor inicial\n",
        "y la red neuronal completa arroje la salida y la actualizacion de la red con los parametros deseados:\n",
        "\n",
        "  ```\n",
        "  A, nn = forward_pass(A0, nn_red)\n",
        "\n",
        " ```\n",
        "3. Encontrar la funcion de coste.\n",
        "\n",
        "\n",
        "$$-\\frac{1}{m} \\sum\\limits_{i = 1}^{m} (y^{(i)}\\log\\left(a^{[L] (i)}\\right) + (1-y^{(i)})\\log\\left(1- a^{[L](i)}\\right)) \\tag{7}$$\n",
        "\n",
        "\n",
        "4. Construir un codigo que permita realizar el BackwardPropagation\n",
        "\n",
        "\n",
        "# Backward Propagation\n",
        "\n",
        "Para una capa $l$ arbitraria tenemos que:\n",
        "\n",
        "- \\begin{equation}\n",
        "d\\Theta^{[l]} =  d{\\cal Z}^{(i)[l]} Trans(A)^{(i)[l-1]} = dA^{(i)[l]} f'({\\cal Z}^{(i)[l]} ) Trans(A)^{(i)[l-1]}\n",
        "\\end{equation}\n",
        "\n",
        "- \\begin{equation}\n",
        "db^{[l]} =  d{\\cal Z}^{(i)[L]}  = dA^{(i)[l]} f'({\\cal Z}^{(i)[l]} )\n",
        "\\end{equation}\n",
        "```\n",
        "db_L =  m_*np.sum(dZ, axis=1, keepdims=True)\n",
        "```\n",
        "Los valores de dA pueden ser escritos como:\n",
        "- \\begin{equation}\n",
        "dA^{(i)[l-1]} = \\Theta^{l} \\cdot dZ^{(i)[l]}\n",
        "\\end{equation}\n",
        "\n",
        "\n",
        "\n",
        "\n",
        "\n",
        "$ dZ^{[l]} = dA^{[l]} * f'^{[l]} (Z^{[l]}) $\n",
        "$ d\\Theta^{[l]} = \\frac{\\partial \\mathcal{J} }{\\partial \\Theta^{[l]}} = \\frac{1}{m} dZ^{[l]} A^{[l-1] T} \\tag{1}$\n",
        "$ db^{[l]} = \\frac{\\partial \\mathcal{J} }{\\partial b^{[l]}} = \\frac{1}{m} \\sum_{i = 1}^{m} dZ^{[l](i)}\\tag{2}$\n",
        "$ dA^{[l-1]} = \\frac{\\partial \\mathcal{L} }{\\partial A^{[l-1]}} = \\theta^{[l] T} dZ^{[l]} \\tag{3}$\n",
        "\n",
        "\n",
        "Para la capa L esima:\n",
        "\n",
        "```\n",
        "dAL = -(np.divide(Y, A) - np.divide(1 - Y, 1 - A))\n",
        "```\n",
        "\n",
        "# Aplicacion gradiente descendente\n",
        "\n",
        "$$ \\Theta^{[l]} = \\Theta^{[l]} - \\alpha \\text{ } d\\Theta^{[l]} \\tag{16}$$\n",
        "$$ b^{[l]} = b^{[l]} - \\alpha \\text{ } db^{[l]} \\tag{17}$$\n"
      ]
    },
    {
      "cell_type": "markdown",
      "metadata": {
        "id": "lF_qdftyQKR5"
      },
      "source": [
        "# Generalizacion Forward Pass"
      ]
    },
    {
      "cell_type": "markdown",
      "metadata": {
        "id": "JQ4m24HgbRXw"
      },
      "source": [
        "\n",
        "\\begin{equation}\n",
        "[ \\vec{Z}^{[l](0)},\\vec{Z}^{[l](1)},...,\\vec{Z}^{[l](m)}  ]= \\Theta^{[l]} [\\vec{A}^{[l-1](0)},\\vec{A}^{[l-1](1)},...,\\vec{A}^{[l-1](m)} ]+ \\vec{b}^{[l]}\n",
        "\\end{equation}\n"
      ]
    },
    {
      "cell_type": "markdown",
      "metadata": {
        "id": "H44xkI09RzO0"
      },
      "source": [
        "\n",
        "\n",
        "# Backward Propagation\n",
        "\n",
        "Para una capa $l$ arbitraria tenemos que:\n",
        "\n",
        "- \\begin{equation}\n",
        "d\\Theta^{[l]} =  d{\\cal Z}^{(i)[l]} Trans(A)^{(i)[l-1]} = dA^{(i)[l]} f'({\\cal Z}^{(i)[l]} ) Trans(A)^{(i)[l-1]}\n",
        "\\end{equation}\n",
        "\n",
        "- \\begin{equation}\n",
        "db^{[l]} =  d{\\cal Z}^{(i)[L]}  = dA^{(i)[l]} f'({\\cal Z}^{(i)[l]} )\n",
        "\\end{equation}\n",
        "```\n",
        "db_L =  m_*np.sum(dZ, axis=1, keepdims=True)\n",
        "```\n",
        "Los valores de dA pueden ser escritos como:\n",
        "- \\begin{equation}\n",
        "dA^{(i)[l-1]} = \\Theta^{l} \\cdot dZ^{(i)[l]}\n",
        "\\end{equation}\n",
        "\n",
        "\n",
        "\n",
        "\n",
        "\n",
        "$ dZ^{[l]} = dA^{[l]} * f'^{[l]} (Z^{[l]}) $\n",
        "$ d\\Theta^{[l]} = \\frac{\\partial \\mathcal{J} }{\\partial \\Theta^{[l]}} = \\frac{1}{m} dZ^{[l]} A^{[l-1] T} \\tag{1}$\n",
        "$ db^{[l]} = \\frac{\\partial \\mathcal{J} }{\\partial b^{[l]}} = \\frac{1}{m} \\sum_{i = 1}^{m} dZ^{[l](i)}\\tag{2}$\n",
        "$ dA^{[l-1]} = \\frac{\\partial \\mathcal{L} }{\\partial A^{[l-1]}} = \\theta^{[l] T} dZ^{[l]} \\tag{3}$\n",
        "\n",
        "\n",
        "Para la capa L esima:\n",
        "\n",
        "```\n",
        "dAL = -(np.divide(Y, A) - np.divide(1 - Y, 1 - A))\n",
        "```"
      ]
    },
    {
      "cell_type": "markdown",
      "source": [
        "#Solución"
      ],
      "metadata": {
        "id": "g9cSAf-IKmtI"
      }
    },
    {
      "cell_type": "code",
      "source": [
        "import numpy as np\n",
        "import sympy as sp"
      ],
      "metadata": {
        "id": "XGCZerhPKmXU"
      },
      "execution_count": null,
      "outputs": []
    },
    {
      "cell_type": "code",
      "source": [
        "m = 2*np.random.rand(2,2) - 1"
      ],
      "metadata": {
        "id": "aHgiZY78Kr2w"
      },
      "execution_count": null,
      "outputs": []
    },
    {
      "cell_type": "code",
      "source": [
        "sp.Matrix(m)"
      ],
      "metadata": {
        "colab": {
          "base_uri": "https://localhost:8080/",
          "height": 58
        },
        "id": "hll36P61K054",
        "outputId": "44ac13c2-556f-42c1-a6de-8736ba9d7182"
      },
      "execution_count": null,
      "outputs": [
        {
          "output_type": "execute_result",
          "data": {
            "text/plain": [
              "Matrix([\n",
              "[ -0.892071890907765, -0.134555449303314],\n",
              "[-0.0677641408694134,  0.496104442931836]])"
            ],
            "text/latex": "$\\displaystyle \\left[\\begin{matrix}-0.892071890907765 & -0.134555449303314\\\\-0.0677641408694134 & 0.496104442931836\\end{matrix}\\right]$"
          },
          "metadata": {},
          "execution_count": 22
        }
      ]
    },
    {
      "cell_type": "code",
      "source": [
        "# Función de activación Sigmoid no lineal y comunmente usada en redes neuronales\n",
        "#para clasificaion binaria con rango entre 0 y 1\n",
        "def sigmoid(x):\n",
        "    A = 1 / (1 + np.exp(-x))\n",
        "    A_prime = A * (1 - A)  # Derivada de la función Sigmoid\n",
        "    return A, A_prime\n",
        "\n",
        "# Función de activación Tanh, no lineal con rango entre -1 y 1\n",
        "def tanh(x):\n",
        "    A = np.tanh(x)\n",
        "    A_prime = 1 - A**2  # Derivada de la función Tanh\n",
        "    return A, A_prime\n",
        "\n",
        "# Clase para la capa de la red neuronal\n",
        "class LayerNN():\n",
        "    def __init__(self, func_act, nn_present, nn_before):\n",
        "        np.random.seed(0)\n",
        "        #propiedades o atributos\n",
        "        self.theta = 2 * np.random.random((nn_present, nn_before)) - 1 #matriz de pesos de la capa\n",
        "        self.b = 2 * np.random.random((nn_present, 1)) - 1 #sesgos de la capa\n",
        "        self.func_act = func_act #tipo de funcion de activacion (sigmoid y tanh)\n",
        "        self.activation = None #funcion de activacion\n",
        "        self.activation_prime = None #derivada\n",
        "\n",
        "        # Asignacion de la función de activación y su derivada\n",
        "        #metodos\n",
        "        if func_act == \"sigmoid\":\n",
        "            self.activation = sigmoid\n",
        "            self.activation_prime = lambda Z: Z * (1 - Z)  # Derivada de la Sigmoid\n",
        "        elif func_act == \"tanh\":\n",
        "            self.activation = tanh\n",
        "            self.activation_prime = lambda Z: 1 - Z**2  # Derivada de la Tanh\n",
        "        else:\n",
        "            raise ValueError(\"Función de activación no soportada\")\n",
        "\n",
        "\n",
        "    def output(self, A, Z): #Almacena las salidas (A) y entradas ponderadas (Z) de la capa.\n",
        "        self.A = A\n",
        "        self.Z = Z\n",
        "\n",
        "    def derivative(self, dtheta, db): # Almacena los gradientes calculados durante la propagación (atras)\n",
        "        self.dtheta = dtheta\n",
        "        self.db = db\n",
        "\n",
        "# Función de propagación hacia adelante\n",
        "def forward_pass(A0, nn): #calcula la salida de cada capa de la red\n",
        "#Entrada: A0 (entrada inicial) y nn (red neuronal).\n",
        "#Salida: A0 (salida final) y la red neuronal actualizada (update_nn).\n",
        "    update_nn = []\n",
        "    for layer in nn:\n",
        "        Z = np.dot(layer.theta, A0) + layer.b\n",
        "        A, A_prime = layer.activation(Z)\n",
        "        layer.output(A, Z)\n",
        "        update_nn.append(layer)\n",
        "        A0 = A.copy()\n",
        "    return A0, update_nn\n",
        "\n",
        "# Función de costo\n",
        "def cost_func(Y, A): #Implementa la función de costo binaria (log).\n",
        "    m = Y.shape[0]\n",
        "    cost = - (np.multiply(Y, np.log(A)) + np.multiply(1 - Y, np.log(1 - A))).sum()\n",
        "    return cost / m\n",
        "\n",
        "# Función de propagacion (atras)\n",
        "def backward_pass(Y, nn, m, A0): #Calcula los gradientes de cada capa (dtheta, db) para actualizar los parámetros.\n",
        "    dA = -(np.divide(Y, nn[-1].A) - np.divide(1 - Y, 1 - nn[-1].A))  # Derivada de la salida\n",
        "    update_nn = []\n",
        "\n",
        "    for i in reversed(range(len(nn))):\n",
        "        layer = nn[i]\n",
        "        dZ = dA * layer.activation_prime(layer.A)  # Usamos layer.A aquí\n",
        "        dtheta = np.dot(dZ, nn[i-1].A.T) if i > 0 else np.dot(dZ, A0.T)  # Calculando el gradiente para theta\n",
        "        db = np.sum(dZ, axis=1, keepdims=True) / m  # Gradiente de los sesgos\n",
        "        layer.derivative(dtheta, db)\n",
        "\n",
        "        if i > 0:\n",
        "            dA = np.dot(layer.theta.T, dZ)  # Error de la capa anterior\n",
        "\n",
        "        update_nn.append(layer)\n",
        "\n",
        "    return update_nn\n",
        "\n",
        "# Función de actualización de parámetros (gradiente descendente)\n",
        "def update_parameters(nn, learning_rate): #Implementa el gradiente descendente, ajustando pesos y sesgos de cada capa.\n",
        "    for layer in nn:\n",
        "        layer.theta -= learning_rate * layer.dtheta\n",
        "        layer.b -= learning_rate * layer.db\n",
        "\n",
        "# Función para construir la red neuronal\n",
        "def build_nn(topology, activation_functions): #Construccion la red neuronal según una topología dada\n",
        "#([entrada, capa1, capa2, salida]) y funciones de activación.\n",
        "    layers = []\n",
        "    for i in range(1, len(topology)):\n",
        "        layers.append(LayerNN(activation_functions[i-1], topology[i], topology[i-1]))\n",
        "    return layers"
      ],
      "metadata": {
        "id": "KXFwhBzlYAPZ"
      },
      "execution_count": null,
      "outputs": []
    },
    {
      "cell_type": "code",
      "source": [
        "# Inicialización de la red neuronal\n",
        "nx = 12288  # Número de entradas (ejemplo)\n",
        "topology = [nx, 3, 4, 7, 1]  # Topología de la red neuronal\n",
        "activation_functions = [\"sigmoid\", \"sigmoid\", \"sigmoid\", \"sigmoid\"]  # Funciones de activación\n",
        "nn = build_nn(topology, activation_functions)"
      ],
      "metadata": {
        "id": "qk0hiYAVYo4K"
      },
      "execution_count": null,
      "outputs": []
    },
    {
      "cell_type": "code",
      "source": [
        "# Ejemplo de datos de entrenamiento\n",
        "xtrain_ = np.random.rand(12288, 209)  # 209 ejemplos de entrenamiento\n",
        "train_label = np.random.randint(0, 2, (1, 209))  # Etiquetas binarias"
      ],
      "metadata": {
        "id": "T-obYz1eYrIT"
      },
      "execution_count": null,
      "outputs": []
    },
    {
      "cell_type": "code",
      "source": [
        "# Propagación hacia adelante\n",
        "A0 = xtrain_\n",
        "A_final, update_nn = forward_pass(A0, nn)"
      ],
      "metadata": {
        "id": "JcG8HjEPYsnm"
      },
      "execution_count": null,
      "outputs": []
    },
    {
      "cell_type": "code",
      "source": [
        "# Función de costo\n",
        "Y = train_label\n",
        "cost = cost_func(Y, A_final)\n",
        "print(\"Costo inicial:\", cost)"
      ],
      "metadata": {
        "colab": {
          "base_uri": "https://localhost:8080/"
        },
        "id": "2x4ZcYoOYuWL",
        "outputId": "e9a293f4-4817-4c7b-aa01-d33676cd4cee"
      },
      "execution_count": null,
      "outputs": [
        {
          "output_type": "stream",
          "name": "stdout",
          "text": [
            "Costo inicial: 195.50999272613043\n"
          ]
        }
      ]
    },
    {
      "cell_type": "code",
      "source": [
        "# propagacion (atras)\n",
        "m = Y.shape[1]\n",
        "update_nn = backward_pass(Y, update_nn, m, A0)"
      ],
      "metadata": {
        "id": "iFyyGv0wYv3V"
      },
      "execution_count": null,
      "outputs": []
    },
    {
      "cell_type": "code",
      "source": [
        "# Actualización de parámetros\n",
        "learning_rate = 0.1\n",
        "update_parameters(update_nn, learning_rate)"
      ],
      "metadata": {
        "id": "40NkIRZjYy2b"
      },
      "execution_count": null,
      "outputs": []
    },
    {
      "cell_type": "code",
      "source": [
        "# Propagación hacia adelante después de la actualización de parámetros\n",
        "A_final, update_nn = forward_pass(A0, nn)\n",
        "cost = cost_func(Y, A_final)\n",
        "print(\"Costo después de la actualización:\", cost)"
      ],
      "metadata": {
        "colab": {
          "base_uri": "https://localhost:8080/"
        },
        "id": "ToDj09QLY0bA",
        "outputId": "57db2643-8c67-4e6c-9aab-993cd138cf4b"
      },
      "execution_count": null,
      "outputs": [
        {
          "output_type": "stream",
          "name": "stdout",
          "text": [
            "Costo después de la actualización: 1321.4174987495092\n"
          ]
        }
      ]
    },
    {
      "cell_type": "code",
      "source": [
        "# Graficar la activación Sigmoid\n",
        "x = np.linspace(-10, 10, 100)\n",
        "plt.plot(x, sigmoid(x)[0], label='Sigmoid')\n",
        "plt.title('Función de activación Sigmoid')\n",
        "plt.xlabel('x')\n",
        "plt.ylabel('sigmoid(x)')\n",
        "plt.legend()\n",
        "plt.show()"
      ],
      "metadata": {
        "colab": {
          "base_uri": "https://localhost:8080/",
          "height": 472
        },
        "id": "epdqTbnbY3qJ",
        "outputId": "c62ec57f-00e0-43e6-f151-6a19da5c2685"
      },
      "execution_count": null,
      "outputs": [
        {
          "output_type": "display_data",
          "data": {
            "text/plain": [
              "<Figure size 640x480 with 1 Axes>"
            ],
            "image/png": "[encoded data removed]"
          },
          "metadata": {}
        }
      ]
    }
  ],
  "metadata": {
    "colab": {
      "provenance": []
    },
    "kernelspec": {
      "display_name": "Python 3 (ipykernel)",
      "language": "python",
      "name": "python3"
    },
    "language_info": {
      "codemirror_mode": {
        "name": "ipython",
        "version": 3
      },
      "file_extension": ".py",
      "mimetype": "text/x-python",
      "name": "python",
      "nbconvert_exporter": "python",
      "pygments_lexer": "ipython3",
      "version": "3.10.9"
    }
  },
  "nbformat": 4,
  "nbformat_minor": 0
}