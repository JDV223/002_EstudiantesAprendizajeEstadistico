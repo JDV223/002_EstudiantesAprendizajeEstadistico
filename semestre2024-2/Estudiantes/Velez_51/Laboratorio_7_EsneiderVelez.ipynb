{
  "nbformat": 4,
  "nbformat_minor": 0,
  "metadata": {
    "colab": {
      "provenance": []
    },
    "kernelspec": {
      "name": "python3",
      "display_name": "Python 3"
    },
    "language_info": {
      "name": "python"
    }
  },
  "cells": [
    {
      "cell_type": "code",
      "execution_count": null,
      "metadata": {
        "id": "dyY4KBpel4f-"
      },
      "outputs": [],
      "source": [
        "import pandas as pd\n",
        "import scipy as sc\n",
        "import sympy as sp\n",
        "import numpy as np\n",
        "import h5py\n",
        "import matplotlib.pylab as plt"
      ]
    },
    {
      "cell_type": "code",
      "source": [
        "#Datasets\n",
        "data_train= \"/content/train_catvnoncat.h5\"\n",
        "train_dataset = h5py.File(data_train, \"r\")\n",
        "\n",
        "data_test= \"/content/test_catvnoncat.h5\"\n",
        "test_dataset = h5py.File(data_test, \"r\")"
      ],
      "metadata": {
        "id": "eBDEuDVymIkH"
      },
      "execution_count": null,
      "outputs": []
    },
    {
      "cell_type": "code",
      "source": [
        "#Identificación de la estructura de los datos\n",
        "train_dataset.keys()"
      ],
      "metadata": {
        "colab": {
          "base_uri": "https://localhost:8080/"
        },
        "id": "Adikcx6rmOg4",
        "outputId": "cb83acc5-fc64-4a05-f9f7-49c86d9ba8c8"
      },
      "execution_count": null,
      "outputs": [
        {
          "output_type": "execute_result",
          "data": {
            "text/plain": [
              "<KeysViewHDF5 ['list_classes', 'train_set_x', 'train_set_y']>"
            ]
          },
          "metadata": {},
          "execution_count": 40
        }
      ]
    },
    {
      "cell_type": "code",
      "source": [
        "# Obtención de la data\n",
        "xtrain_classes, xtrain, train_label =\\\n",
        "train_dataset[\"list_classes\"],train_dataset[\"train_set_x\"],train_dataset[\"train_set_y\"]\n",
        "\n",
        "test_classes, xtest,test_label =\\\n",
        "test_dataset[\"list_classes\"],test_dataset[\"test_set_x\"],test_dataset[\"test_set_y\"]"
      ],
      "metadata": {
        "id": "8Ejmu5MTmRX4"
      },
      "execution_count": null,
      "outputs": []
    },
    {
      "cell_type": "code",
      "source": [
        "np.shape(xtrain)"
      ],
      "metadata": {
        "colab": {
          "base_uri": "https://localhost:8080/"
        },
        "id": "gXOzQNBtmSxu",
        "outputId": "94c3d355-debe-4e7f-a1eb-2921509e2086"
      },
      "execution_count": null,
      "outputs": [
        {
          "output_type": "execute_result",
          "data": {
            "text/plain": [
              "(209, 64, 64, 3)"
            ]
          },
          "metadata": {},
          "execution_count": 8
        }
      ]
    },
    {
      "cell_type": "code",
      "source": [
        "plt.imshow(xtrain[0])\n",
        "plt.show()"
      ],
      "metadata": {
        "colab": {
          "base_uri": "https://localhost:8080/",
          "height": 432
        },
        "id": "1SpAEKU4mZNo",
        "outputId": "c219aa41-9e04-403b-8dab-dec06fa47a25"
      },
      "execution_count": null,
      "outputs": [
        {
          "output_type": "display_data",
          "data": {
            "text/plain": [
              "<Figure size 640x480 with 1 Axes>"
            ],
            "image/png": "[encoded data removed]"
          },
          "metadata": {}
        }
      ]
    },
    {
      "cell_type": "code",
      "source": [
        "np.shape(xtrain[0])"
      ],
      "metadata": {
        "colab": {
          "base_uri": "https://localhost:8080/"
        },
        "id": "x0yJn0Q8ma7l",
        "outputId": "33efaec8-5411-4a85-cf0f-fd8658cfd38a"
      },
      "execution_count": null,
      "outputs": [
        {
          "output_type": "execute_result",
          "data": {
            "text/plain": [
              "(64, 64, 3)"
            ]
          },
          "metadata": {},
          "execution_count": 10
        }
      ]
    },
    {
      "cell_type": "code",
      "source": [
        "np.reshape(xtrain[0], 64*64*3)"
      ],
      "metadata": {
        "colab": {
          "base_uri": "https://localhost:8080/"
        },
        "id": "sRSGPjLAme9f",
        "outputId": "a2f5e117-3644-43c3-deff-1d19bb34d9c2"
      },
      "execution_count": null,
      "outputs": [
        {
          "output_type": "execute_result",
          "data": {
            "text/plain": [
              "array([17, 31, 56, ...,  0,  0,  0], dtype=uint8)"
            ]
          },
          "metadata": {},
          "execution_count": 11
        }
      ]
    },
    {
      "cell_type": "code",
      "source": [
        "#Normalizando el dataset\n",
        "xtrain_= np.reshape(xtrain,(209, 64*64*3))/255\n",
        "xtest_ = np.reshape(xtest,(50, 64*64*3))/255"
      ],
      "metadata": {
        "id": "UWYoW1LMmnEl"
      },
      "execution_count": null,
      "outputs": []
    },
    {
      "cell_type": "markdown",
      "source": [
        "## Topología de la red.\n",
        "\n",
        "1. Construir un clase  que permita definir una red neuronal con la topología\n",
        "deseada y la función de activación para cada capa, para ello deberá construir una funcion Topology con el número de capas de la red neuronal :\n",
        "\n",
        "Topology = [n_x, n_h1, n_h2, n_h3, ...,n_y]\n",
        "\n",
        "En este caso:\n",
        "- $n^{[0]}=n_x$ seran los valores de entradas de la capa de entrada\n",
        "- $n^{[1]}=n_{h1}$ Primera capa oculta de la red neuronal\n",
        "- $n^{[2]}=n_{h2}$ Segunda capa oculta de la red neuronal\n",
        "\n",
        ".\n",
        "\n",
        ".\n",
        "\n",
        ".\n",
        "\n",
        "\n",
        "- $n^{[l]}=n_{hl}$ Segunda capa oculta de la red neuronal\n",
        ".\n",
        "\n",
        ".\n",
        "\n",
        ".\n",
        "\n",
        "- $n^{[L]}=n_{y}$ Segunda capa oculta de la red neuronal\n",
        "\n",
        "donde\n",
        "\n",
        "- $\\mathrm{n_x}$: valores de entrada\n",
        "- $\\mathrm{n_{h1}}$: hidden layer 1\n",
        "- $\\mathrm{n_{h2}}$: hidden layer 2\n",
        "- $\\mathrm{n_y}$: last layer\n",
        "\n",
        "- $n^{[L]}=n_{y}$ Segunda capa oculta de la red neuronal\n",
        "\n",
        "\n",
        "También definir una lista con las funciones de activaciones para cada capa.\n",
        "\n",
        "\n",
        "activation=[None, relu, relu, relu, ...,sigmoid]\n",
        "\n",
        "  \n",
        "\n",
        "\n",
        "a. Cada unas de las capas deberá tener los parámetros de inicialización de manera aleatoria:\n",
        "\n",
        "\n",
        "La matriz de parametros para cada capa debera tener:\n",
        "\n",
        "\n",
        "$\\mathrm{dim(\\vec{b}^{[l]})}=n^{[l]}$\n",
        "\n",
        "$\\mathrm{dim(\\vec{\\Theta}^{[l]})}=n^{[l]}\\times n^{[l-1]}$\n",
        "\n",
        "Lo anteriores parametros deberán estar en el constructor de la clase.\n",
        "\n",
        "\n",
        "b. Construya un metodo llamado output cuya salida serán los valores de Z y A\n",
        "\n",
        "\n",
        "$\\mathrm{dim(\\vec{\\cal{A}}^{[l]})}=n^{[l-1]}\\times m $\n",
        "\n",
        "$\\mathrm{dim(\\vec{\\cal{Z}}^{[l]})}=n^{[l]}\\times m $."
      ],
      "metadata": {
        "id": "F4BwBW2Imwls"
      }
    },
    {
      "cell_type": "markdown",
      "source": [
        "\n",
        "Se sugiere para cada capa emplear programación orientada a objetos definida de la siguiente manera:\n",
        "\n",
        "```\n",
        "class layer_nn():\n",
        "  def __init__(self, act_fun, nlayer_present, nlayer_before):\n",
        "    self.theta = 2*np.random.random((nlayer_present, nlayer_before)) - 1\n",
        "    self.B = 2*np.random.random((nlayer_present,1)) - 1\n",
        "    self.act_fun = act_fun\n",
        "\n",
        "  def output(self, Z, A):\n",
        "    self.Z = Z\n",
        "    self.A = A\n",
        "\n",
        "\n",
        "\n",
        "def act_function(x, activation):\n",
        "  if activation==\"sigmoid\":\n",
        "    f = lambda x: 1/(1+np.exp(-x))\n",
        "    fp = f(x)*(1-f(x))\n",
        "    return f, fp\n",
        "  \n",
        "  elif activation == \"tanh\":\n",
        "    f = lambda x: np.tanh\n",
        "    return tanh\n",
        "  else :\n",
        "    return 0\n",
        "```\n",
        "    "
      ],
      "metadata": {
        "id": "2Par9Gq-qyZO"
      }
    },
    {
      "cell_type": "code",
      "source": [
        "m = 2*np.random.random((2, 2)) - 1"
      ],
      "metadata": {
        "id": "nCgr5BSXJEf6"
      },
      "execution_count": null,
      "outputs": []
    },
    {
      "cell_type": "code",
      "source": [
        "sp.Matrix(m)"
      ],
      "metadata": {
        "colab": {
          "base_uri": "https://localhost:8080/",
          "height": 58
        },
        "id": "IYx_7PXbJF7o",
        "outputId": "b4bf415b-9abe-41b5-fcc3-08143a4c2017"
      },
      "execution_count": null,
      "outputs": [
        {
          "output_type": "execute_result",
          "data": {
            "text/plain": [
              "Matrix([\n",
              "[-0.840175054699664, -0.131405015066934],\n",
              "[-0.692383421815123, -0.470268299955726]])"
            ],
            "text/latex": "$\\displaystyle \\left[\\begin{matrix}-0.840175054699664 & -0.131405015066934\\\\-0.692383421815123 & -0.470268299955726\\end{matrix}\\right]$"
          },
          "metadata": {},
          "execution_count": 15
        }
      ]
    },
    {
      "cell_type": "code",
      "source": [
        "class layer_nn():\n",
        "  def __init__(self, func_act, nn_present, nn_before):\n",
        "    np.random.seed(0)\n",
        "    self.theta = 2*np.random.random((nn_present, nn_before)) - 1\n",
        "    self.b = 2*np.random.random((nn_present, 1))-1\n",
        "    self.func_acti = func_act\n",
        "\n",
        "  def output(self, A, Z):\n",
        "    self.A = A\n",
        "    self.Z = Z\n",
        "\n",
        "\n",
        "def activation_function(name, x):\n",
        "  if (name==\"sigmoid\"):\n",
        "    f = lambda x: 1/(1+np.exp(-x))\n",
        "    return f(x)\n",
        "\n",
        "  elif (name==\"tanh\"):\n",
        "    f =  lambda x: np.tanh(x)\n",
        "    return f(x)\n",
        "  else :\n",
        "    return \"Error\"\n"
      ],
      "metadata": {
        "id": "pJKNro75opue"
      },
      "execution_count": null,
      "outputs": []
    },
    {
      "cell_type": "code",
      "source": [
        "x = np.linspace(-10,10,100)\n",
        "plt.plot(x,activation_function('sigmoid',x))\n",
        "plt.show()"
      ],
      "metadata": {
        "colab": {
          "base_uri": "https://localhost:8080/",
          "height": 430
        },
        "id": "xn-LGwyBJcGU",
        "outputId": "058f5185-bf88-4762-80dd-0a04887a3a8a"
      },
      "execution_count": null,
      "outputs": [
        {
          "output_type": "display_data",
          "data": {
            "text/plain": [
              "<Figure size 640x480 with 1 Axes>"
            ],
            "image/png": "[encoded data removed]"
          },
          "metadata": {}
        }
      ]
    },
    {
      "cell_type": "code",
      "source": [
        "nx = 12288\n",
        "Topology = [nx,3,4,7,1] #definir la topologia de la red"
      ],
      "metadata": {
        "id": "4pgaUSckmwWk"
      },
      "execution_count": null,
      "outputs": []
    },
    {
      "cell_type": "code",
      "source": [
        "#Crear las capas de activación de la red con la función de activación sigmoid\n",
        "l1 = layer_nn(\"sigmoid\",3, nx) #Capa 1\n",
        "l2 = layer_nn(\"sigmoid\", 4, 3) #Capa 2\n",
        "l3 = layer_nn(\"sigmoid\", 7, 4) #Capa 3\n",
        "l4 = layer_nn(\"sigmoid\",1, 7) #Capa 4\n"
      ],
      "metadata": {
        "id": "3oBmlAftpiKI"
      },
      "execution_count": null,
      "outputs": []
    },
    {
      "cell_type": "code",
      "source": [
        "#Incializacion de la arquitectura de la red\n",
        "red_nn = [l1, l2, l3, l4]"
      ],
      "metadata": {
        "id": "TIObS8yXw5lG"
      },
      "execution_count": null,
      "outputs": []
    },
    {
      "cell_type": "code",
      "source": [
        "A0 = xtrain_.T\n",
        "np.shape(l1.theta@A0)"
      ],
      "metadata": {
        "colab": {
          "base_uri": "https://localhost:8080/"
        },
        "id": "V2Ny3jl9Kz-7",
        "outputId": "9b07d52c-8981-45c4-cfa1-323dabebef41"
      },
      "execution_count": null,
      "outputs": [
        {
          "output_type": "execute_result",
          "data": {
            "text/plain": [
              "(3, 209)"
            ]
          },
          "metadata": {},
          "execution_count": 20
        }
      ]
    },
    {
      "cell_type": "code",
      "source": [
        "np.shape(l1.b.repeat(209, axis = 1))"
      ],
      "metadata": {
        "colab": {
          "base_uri": "https://localhost:8080/"
        },
        "id": "fdQu46tVM_R9",
        "outputId": "2088d302-b71a-489e-b3e0-9508fd4d9faf"
      },
      "execution_count": null,
      "outputs": [
        {
          "output_type": "execute_result",
          "data": {
            "text/plain": [
              "(3, 209)"
            ]
          },
          "metadata": {},
          "execution_count": 21
        }
      ]
    },
    {
      "cell_type": "code",
      "source": [
        "#Propagación de la red en las sucesivas capas\n",
        "\n",
        "#Capa 1\n",
        "Z1 = l1.theta@A0 + l1.b\n",
        "A1 = activation_function(l1.func_acti, Z1)\n",
        "\n",
        "#Capa2\n",
        "Z2 = l2.theta@A1 + l2.b\n",
        "A2 = activation_function(l2.func_acti, Z2)\n",
        "\n",
        "#Capa3\n",
        "Z3 = l3.theta@A2 + l3.b\n",
        "A3 = activation_function(l3.func_acti, Z3)\n",
        "\n",
        "#Capa 4\n",
        "Z4 = l4.theta@A3 + l4.b\n",
        "A4 = activation_function(l4.func_acti, Z4)"
      ],
      "metadata": {
        "id": "J-FAcB53Q-Sm"
      },
      "execution_count": null,
      "outputs": []
    },
    {
      "cell_type": "code",
      "source": [
        "np.shape(A4)"
      ],
      "metadata": {
        "colab": {
          "base_uri": "https://localhost:8080/"
        },
        "id": "1D1L_aARSSu8",
        "outputId": "e623390e-e956-4bbb-dfc1-2970e903497d"
      },
      "execution_count": null,
      "outputs": [
        {
          "output_type": "execute_result",
          "data": {
            "text/plain": [
              "(1, 209)"
            ]
          },
          "metadata": {},
          "execution_count": 23
        }
      ]
    },
    {
      "cell_type": "code",
      "source": [
        "ref=A4[0].copy()"
      ],
      "metadata": {
        "id": "o8XROdJ4Sgem"
      },
      "execution_count": null,
      "outputs": []
    },
    {
      "cell_type": "markdown",
      "source": [
        "##Generalización\n"
      ],
      "metadata": {
        "id": "6oZ11dIkC0QA"
      }
    },
    {
      "cell_type": "code",
      "source": [
        "class layer_nn():\n",
        "  def __init__(self, func_act, nn_present, nn_before):\n",
        "    np.random.seed(0)\n",
        "    self.theta = 2*np.random.random((nn_present, nn_before)) - 1\n",
        "    self.b = 2*np.random.random((nn_present, 1))-1\n",
        "    self.func_acti = func_act\n",
        "\n",
        "  def output(self, A, Ap, Z):\n",
        "    self.A = A\n",
        "    self.Z = Z\n",
        "    self.Ap = Ap\n",
        "\n",
        "  def derivative(self,dtheta, db ):\n",
        "    self.dtheta = dtheta\n",
        "    self.db = db\n",
        "\n",
        "\n",
        "def activation_function(name, x):\n",
        "  if (name==\"sigmoid\"):\n",
        "    f = 1/(1+np.exp(-x))\n",
        "    df = f * (1-f)\n",
        "    return f, df\n",
        "\n",
        "  elif (name==\"relu\"):\n",
        "    return np.maximum(x, 0)\n",
        "\n",
        "  elif (name==\"tanh\"):\n",
        "    f =  lambda x: np.tanh(x)\n",
        "    return f(x)\n",
        "  else :\n",
        "    return \"Error\"\n",
        "\n",
        "def build_red(topology, act_func):\n",
        "  L = len(topology)\n",
        "  red_nn = [layer_nn(act_func, topology[i], topology[i-1]) for i in range(1, Nl)]\n",
        "  return red_nn\n",
        "\n",
        "def forward_pass(A0, nn):\n",
        "  update_nn = []\n",
        "  for layer in nn:\n",
        "    print(np.shape(layer.theta))\n",
        "    li = layer\n",
        "    Zi = li.theta@A0 + li.b\n",
        "    Aii, Ap = activation_function(li.func_acti, Zi)\n",
        "    li.output(Aii, Ap,Zi)\n",
        "    update_nn.append(li)\n",
        "    A0 = Aii.copy()\n",
        "\n",
        "  return Aii, update_nn"
      ],
      "metadata": {
        "id": "VkWhi78gC0CC"
      },
      "execution_count": null,
      "outputs": []
    },
    {
      "cell_type": "code",
      "source": [
        "#Para la topologia de la red\n",
        "nx = 12288\n",
        "Topology = [nx,3, 4, 7, 1 ]\n",
        "act_func = [\"sigmoid\",\"sigmoid\", \"sigmoid\", \"sigmoid\", \"sigmoid\"]"
      ],
      "metadata": {
        "id": "-N2F3TWQOeWH"
      },
      "execution_count": null,
      "outputs": []
    },
    {
      "cell_type": "code",
      "source": [
        "nx = 12288\n",
        "Topology = [nx,3, 4, 7, 1 ]\n",
        "act_func = [\"sigmoid\",\"sigmoid\", \"sigmoid\", \"sigmoid\", \"sigmoid\"]\n",
        "nn = build_red(Topology, act_func)"
      ],
      "metadata": {
        "id": "Z7MG8jJXOfDc"
      },
      "execution_count": null,
      "outputs": []
    },
    {
      "cell_type": "code",
      "source": [
        "nx = 12288\n",
        "Topology = [nx,3, 4, 7, 1 ]\n",
        "act_func = [\"sigmoid\",\"sigmoid\", \"sigmoid\", \"sigmoid\", \"sigmoid\"]\n",
        "nn = build_red(Topology, act_func)\n",
        "AL, update_nn = forward_pass(A0, nn)"
      ],
      "metadata": {
        "colab": {
          "base_uri": "https://localhost:8080/"
        },
        "id": "WkA0LjTBOwtr",
        "outputId": "c158484c-0d0d-4ac0-a1e3-314169b1f7ca"
      },
      "execution_count": null,
      "outputs": [
        {
          "output_type": "stream",
          "name": "stdout",
          "text": [
            "(3, 12288)\n",
            "(4, 3)\n",
            "(7, 4)\n",
            "(1, 7)\n"
          ]
        }
      ]
    },
    {
      "cell_type": "markdown",
      "source": [
        "3. Encontrar la funcion de coste.\n",
        "\n",
        "\n",
        "$$-\\frac{1}{m} \\sum\\limits_{i = 1}^{m} (y^{(i)}\\log\\left(a^{[L] (i)}\\right) + (1-y^{(i)})\\log\\left(1- a^{[L](i)}\\right)) \\tag{7}$$"
      ],
      "metadata": {
        "id": "-ZimzM5FDrhT"
      }
    },
    {
      "cell_type": "code",
      "source": [
        "Y = np.array(train_label)"
      ],
      "metadata": {
        "id": "jCgtVEN3Sqfc"
      },
      "execution_count": null,
      "outputs": []
    },
    {
      "cell_type": "code",
      "source": [
        "def cost_func(Y, A):\n",
        "  m = Y.shape[0]\n",
        "  ji = - ( Y*np.log(A)-(1-Y)*np.log(1-A))\n",
        "  cost = ji.sum()\n",
        "  return cost/m"
      ],
      "metadata": {
        "id": "P-B9x-RCDsj5"
      },
      "execution_count": null,
      "outputs": []
    },
    {
      "cell_type": "code",
      "source": [
        "J = cost_func(Y, AL)"
      ],
      "metadata": {
        "id": "CrlIt7oTSx50"
      },
      "execution_count": null,
      "outputs": []
    },
    {
      "cell_type": "markdown",
      "source": [
        "\n",
        "4. Construir un codigo que permita realizar el BackwardPropagation\n",
        "\n",
        "\n",
        "# Backward Propagation\n",
        "\n",
        "Para una capa $l$ arbitraria tenemos que:\n",
        "\n",
        "- \\begin{equation}\n",
        "d\\Theta^{[l]} =  d{\\cal Z}^{(i)[l]} Trans(A)^{(i)[l-1]} = dA^{(i)[l]} f'({\\cal Z}^{(i)[l]} ) Trans(A)^{(i)[l-1]}\n",
        "\\end{equation}\n",
        "\n",
        "- \\begin{equation}\n",
        "db^{[l]} =  d{\\cal Z}^{(i)[L]}  = dA^{(i)[l]} f'({\\cal Z}^{(i)[l]} )\n",
        "\\end{equation}\n",
        "```\n",
        "db_L =  m_*np.sum(dZ, axis=1, keepdims=True)\n",
        "```\n",
        "Los valores de dA pueden ser escritos como:\n",
        "- \\begin{equation}\n",
        "dA^{(i)[l-1]} = \\Theta^{l} \\cdot dZ^{(i)[l]}\n",
        "\\end{equation}\n",
        "\n",
        "\n",
        "\n",
        "\n",
        "\n",
        "$ dZ^{[l]} = dA^{[l]} * f'^{[l]} (Z^{[l]}) $\n",
        "$ d\\Theta^{[l]} = \\frac{\\partial \\mathcal{J} }{\\partial \\Theta^{[l]}} = \\frac{1}{m} dZ^{[l]} A^{[l-1] T} \\tag{1}$\n",
        "$ db^{[l]} = \\frac{\\partial \\mathcal{J} }{\\partial b^{[l]}} = \\frac{1}{m} \\sum_{i = 1}^{m} dZ^{[l](i)}\\tag{2}$\n",
        "$ dA^{[l-1]} = \\frac{\\partial \\mathcal{L} }{\\partial A^{[l-1]}} = \\theta^{[l] T} dZ^{[l]} \\tag{3}$\n",
        "\n",
        "\n",
        "Para la capa L esima:\n",
        "\n",
        "```\n",
        "dAL = -(np.divide(Y, A) - np.divide(1 - Y, 1 - A))\n",
        "```\n",
        "\n",
        "# Aplicacion gradiente descendente\n",
        "\n",
        "$$ \\Theta^{[l]} = \\Theta^{[l]} - \\alpha \\text{ } d\\Theta^{[l]} \\tag{16}$$\n",
        "$$ b^{[l]} = b^{[l]} - \\alpha \\text{ } db^{[l]} \\tag{17}$$"
      ],
      "metadata": {
        "id": "dFFDFUlPEyRo"
      }
    },
    {
      "cell_type": "code",
      "source": [
        "m_= 1/209\n",
        "dAL = -(np.divide(Y, AL) - np.divide(1 - Y, 1 - AL))\n",
        "fp = update_nn[3].Ap\n",
        "dZ = dAL*fp\n",
        "dthetaL = dZ@update_nn[2].A.T\n",
        "db_L =  m_*np.sum(dZ, axis=1, keepdims=True)\n",
        "\n",
        "update_nn[3].dtheta=dthetaL\n",
        "update_nn[3].db=db_L"
      ],
      "metadata": {
        "id": "b56nBxjGEz03"
      },
      "execution_count": null,
      "outputs": []
    },
    {
      "cell_type": "code",
      "source": [
        "np.shape(update_nn[3].theta.T)"
      ],
      "metadata": {
        "colab": {
          "base_uri": "https://localhost:8080/"
        },
        "id": "cWSzn01nS6M2",
        "outputId": "37b59e77-4cbf-495e-cb7b-e50e122b1897"
      },
      "execution_count": null,
      "outputs": [
        {
          "output_type": "execute_result",
          "data": {
            "text/plain": [
              "(7, 1)"
            ]
          },
          "metadata": {},
          "execution_count": 36
        }
      ]
    },
    {
      "cell_type": "code",
      "source": [
        "np.shape(dZ)"
      ],
      "metadata": {
        "colab": {
          "base_uri": "https://localhost:8080/"
        },
        "id": "xG1Qz_nNS9LN",
        "outputId": "7f485382-fcc8-4ba4-dc0d-da6bb6cd33d7"
      },
      "execution_count": null,
      "outputs": [
        {
          "output_type": "execute_result",
          "data": {
            "text/plain": [
              "(1, 209)"
            ]
          },
          "metadata": {},
          "execution_count": 37
        }
      ]
    },
    {
      "cell_type": "code",
      "source": [
        "# Capa L-1\n",
        "dAL_1 = np.dot(update_nn[3].theta.T, dZ)\n",
        "fp = update_nn[2].Ap\n",
        "dZ_1 = dAL_1*fp\n",
        "\n",
        "dthetaL1 = m_*dZ_1@update_nn[1].Ap.T\n",
        "db_L1 = dZ_1.mean()\n",
        "\n",
        "update_nn[2].dtheta=dthetaL1\n",
        "update_nn[2].db=db_L1"
      ],
      "metadata": {
        "id": "Mglm8ZtETBz0"
      },
      "execution_count": null,
      "outputs": []
    },
    {
      "cell_type": "code",
      "source": [
        "# Capa L-1\n",
        "dAL_1 = np.dot(update_nn[2].theta.T, dZ_1)\n",
        "fp = update_nn[1].Ap\n",
        "dZ_1 = dAL_1*fp\n",
        "\n",
        "dtheta_L1 = m_*dZ_1@update_nn[0].Ap.T\n",
        "db_L1 = dZ_1.mean()\n",
        "\n",
        "update_nn[1].dtheta=dtheta_L1\n",
        "update_nn[1].db=db_L1"
      ],
      "metadata": {
        "id": "w_xQ6Qs5TEW5"
      },
      "execution_count": null,
      "outputs": []
    },
    {
      "cell_type": "markdown",
      "source": [
        "##Generalización del Backward Propagation"
      ],
      "metadata": {
        "id": "a_RybbQfzljd"
      }
    },
    {
      "cell_type": "code",
      "source": [
        "def backward_propagation(AL, Y, nn):\n",
        "    m = Y.shape[1]\n",
        "\n",
        "    # Capa de clasificación\n",
        "    dAL = -np.divide(Y, AL) + np.divide(1 - Y, 1 - AL)\n",
        "    fp = nn[-1].Ap\n",
        "    dZ = dAL * fp\n",
        "\n",
        "    dtheta = 1/m * dZ @ nn[-2].A.T\n",
        "    db = 1/m * np.sum(dZ, axis=1, keepdims=True)\n",
        "\n",
        "    nn[-1].derivative(dtheta, db)\n",
        "\n",
        "    # Propagar hacia atrás\n",
        "    for i in reversed(range(len(nn) - 1)):\n",
        "        dA = nn[i + 1].theta.T @ dZ\n",
        "        fp = nn[i].Ap\n",
        "        dZ = dA * fp\n",
        "\n",
        "        if i > 0:\n",
        "            dtheta = 1/m * dZ @ nn[i - 1].A.T\n",
        "        else:\n",
        "            dtheta = 1/m * dZ @ nn[i].A.T\n",
        "\n",
        "        db = 1/m * np.sum(dZ, axis=1, keepdims=True)\n",
        "        nn[i].derivative(dtheta, db)\n",
        "\n",
        "    return nn"
      ],
      "metadata": {
        "id": "l7QXRQibzrtP"
      },
      "execution_count": null,
      "outputs": []
    }
  ]
}