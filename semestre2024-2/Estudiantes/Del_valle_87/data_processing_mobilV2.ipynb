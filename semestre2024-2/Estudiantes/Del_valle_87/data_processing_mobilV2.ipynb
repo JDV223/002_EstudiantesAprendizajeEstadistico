{
 "cells": [
  {
   "cell_type": "markdown",
   "id": "19f3f593-dfe8-4bb7-becd-b0cf917e69a7",
   "metadata": {},
   "source": [
    "# Data Processing for MobileNet"
   ]
  },
  {
   "cell_type": "markdown",
   "id": "52799786-3544-402a-99ee-ec710a48eaba",
   "metadata": {},
   "source": [
    "## Import libraries"
   ]
  },
  {
   "cell_type": "code",
   "execution_count": null,
   "id": "7779b161-5fcb-416c-a800-3fb1986ec728",
   "metadata": {},
   "outputs": [],
   "source": [
    "conda install scikit-image"
   ]
  },
  {
   "cell_type": "code",
   "execution_count": 9,
   "id": "6c957840-1041-48bd-9da9-ca4397e812ac",
   "metadata": {},
   "outputs": [],
   "source": [
    "import numpy as np\n",
    "import pandas as pd\n",
    "import matplotlib.pyplot as plt\n",
    "from pathlib import Path\n",
    "from matplotlib.image import imread\n",
    "from skimage import io, transform"
   ]
  },
  {
   "cell_type": "markdown",
   "id": "5c33d127-b888-435f-a02c-2cf07d704233",
   "metadata": {},
   "source": [
    "## Upload Data Set"
   ]
  },
  {
   "cell_type": "code",
   "execution_count": 10,
   "id": "4f2f7a1c-3e00-4908-9f09-ed52103a0eaa",
   "metadata": {},
   "outputs": [],
   "source": [
    "df_mat = pd.read_hdf('matminer_gau_cmp.h5','matminerstd')\n",
    "df_mp = pd.read_hdf('mp_gau_cmp.h5','mp')"
   ]
  },
  {
   "cell_type": "code",
   "execution_count": 11,
   "id": "8042f868-927b-40ba-9edd-8be6b2f563ea",
   "metadata": {},
   "outputs": [],
   "source": [
    "### Join the data sets\n",
    "df = pd.concat([df_mat, df_mp], ignore_index=True)"
   ]
  },
  {
   "cell_type": "code",
   "execution_count": 12,
   "id": "817f6fa1-8dab-4cb9-b534-ded2355a7ab1",
   "metadata": {},
   "outputs": [
    {
     "name": "stdout",
     "output_type": "stream",
     "text": [
      "<class 'pandas.core.frame.DataFrame'>\n",
      "RangeIndex: 87989 entries, 0 to 87988\n",
      "Data columns (total 3 columns):\n",
      " #   Column          Non-Null Count  Dtype \n",
      "---  ------          --------------  ----- \n",
      " 0   mpid            87989 non-null  object\n",
      " 1   crystal_system  87989 non-null  object\n",
      " 2   Ygau            87989 non-null  object\n",
      "dtypes: object(3)\n",
      "memory usage: 2.0+ MB\n"
     ]
    }
   ],
   "source": [
    "df.info()"
   ]
  },
  {
   "cell_type": "code",
   "execution_count": 13,
   "id": "d6c167c8-dac5-4f74-9173-669743db8546",
   "metadata": {},
   "outputs": [
    {
     "data": {
      "text/plain": [
       "mpid                                                      mp-601148\n",
       "crystal_system                                         Orthorhombic\n",
       "Ygau              [0.0, 0.0, 0.0, 0.0, 0.0, 0.0, 0.0, 0.0, 0.0, ...\n",
       "Name: 73, dtype: object"
      ]
     },
     "execution_count": 13,
     "metadata": {},
     "output_type": "execute_result"
    }
   ],
   "source": [
    "df.loc[73]"
   ]
  },
  {
   "cell_type": "code",
   "execution_count": 14,
   "id": "aa307e0c-bb0e-4c3d-a01a-bcc4a33a3384",
   "metadata": {},
   "outputs": [
    {
     "data": {
      "text/html": [
       "<div>\n",
       "<style scoped>\n",
       "    .dataframe tbody tr th:only-of-type {\n",
       "        vertical-align: middle;\n",
       "    }\n",
       "\n",
       "    .dataframe tbody tr th {\n",
       "        vertical-align: top;\n",
       "    }\n",
       "\n",
       "    .dataframe thead th {\n",
       "        text-align: right;\n",
       "    }\n",
       "</style>\n",
       "<table border=\"1\" class=\"dataframe\">\n",
       "  <thead>\n",
       "    <tr style=\"text-align: right;\">\n",
       "      <th></th>\n",
       "      <th>mpid</th>\n",
       "      <th>crystal_system</th>\n",
       "      <th>Ygau</th>\n",
       "    </tr>\n",
       "  </thead>\n",
       "  <tbody>\n",
       "    <tr>\n",
       "      <th>83727</th>\n",
       "      <td>mp-604118</td>\n",
       "      <td>Orthorhombic</td>\n",
       "      <td>[0.0, 0.0, 0.0, 0.0, 0.0, 0.0, 0.0, 0.0, 0.0, ...</td>\n",
       "    </tr>\n",
       "  </tbody>\n",
       "</table>\n",
       "</div>"
      ],
      "text/plain": [
       "            mpid crystal_system  \\\n",
       "83727  mp-604118   Orthorhombic   \n",
       "\n",
       "                                                    Ygau  \n",
       "83727  [0.0, 0.0, 0.0, 0.0, 0.0, 0.0, 0.0, 0.0, 0.0, ...  "
      ]
     },
     "execution_count": 14,
     "metadata": {},
     "output_type": "execute_result"
    }
   ],
   "source": [
    "df[df['mpid'] == 'mp-604118']"
   ]
  },
  {
   "cell_type": "markdown",
   "id": "868d187a-ceb7-422d-91ff-8d2e2f577ae2",
   "metadata": {},
   "source": [
    "## Create the Directories"
   ]
  },
  {
   "cell_type": "code",
   "execution_count": 5,
   "id": "0f6f7832-5db3-48ed-9a9a-085ba4a3243a",
   "metadata": {},
   "outputs": [],
   "source": [
    "#data set directory\n",
    "dataset_path = Path.cwd() /'img_datasetV2'\n",
    "#dataset_path.mkdir(exist_ok= True)"
   ]
  },
  {
   "cell_type": "code",
   "execution_count": 6,
   "id": "885ce911-cd51-4445-b883-dc8d2302dbc8",
   "metadata": {},
   "outputs": [],
   "source": [
    "#Create the crystal systems directories\n",
    "for sys in df.crystal_system.unique():\n",
    "    sys_path = dataset_path / sys\n",
    "    #sys_path.mkdir(exist_ok= True)"
   ]
  },
  {
   "cell_type": "markdown",
   "id": "f0212c0c-4eb8-4ace-9eb2-4d316d6ba718",
   "metadata": {},
   "source": [
    "## Generate the Diffraction Patterns"
   ]
  },
  {
   "cell_type": "code",
   "execution_count": 34,
   "id": "a7d0d420-6c64-4e25-8e34-b4e755192ba1",
   "metadata": {},
   "outputs": [
    {
     "data": {
      "text/html": [
       "<div>\n",
       "<style scoped>\n",
       "    .dataframe tbody tr th:only-of-type {\n",
       "        vertical-align: middle;\n",
       "    }\n",
       "\n",
       "    .dataframe tbody tr th {\n",
       "        vertical-align: top;\n",
       "    }\n",
       "\n",
       "    .dataframe thead th {\n",
       "        text-align: right;\n",
       "    }\n",
       "</style>\n",
       "<table border=\"1\" class=\"dataframe\">\n",
       "  <thead>\n",
       "    <tr style=\"text-align: right;\">\n",
       "      <th></th>\n",
       "      <th>mpid</th>\n",
       "      <th>crystal_system</th>\n",
       "      <th>Ygau</th>\n",
       "    </tr>\n",
       "  </thead>\n",
       "  <tbody>\n",
       "    <tr>\n",
       "      <th>0</th>\n",
       "      <td>mp-85</td>\n",
       "      <td>Tetragonal</td>\n",
       "      <td>[0.0, 0.0, 0.0, 0.0, 0.0, 0.0, 0.0, 0.0, 0.0, ...</td>\n",
       "    </tr>\n",
       "    <tr>\n",
       "      <th>1</th>\n",
       "      <td>mp-110</td>\n",
       "      <td>Cubic</td>\n",
       "      <td>[0.0, 0.0, 0.0, 0.0, 0.0, 0.0, 0.0, 0.0, 0.0, ...</td>\n",
       "    </tr>\n",
       "    <tr>\n",
       "      <th>2</th>\n",
       "      <td>mp-20</td>\n",
       "      <td>Cubic</td>\n",
       "      <td>[0.0, 0.0, 0.0, 0.0, 0.0, 0.0, 0.0, 0.0, 0.0, ...</td>\n",
       "    </tr>\n",
       "    <tr>\n",
       "      <th>3</th>\n",
       "      <td>mp-8640</td>\n",
       "      <td>Cubic</td>\n",
       "      <td>[0.0, 0.0, 0.0, 0.0, 0.0, 0.0, 0.0, 0.0, 0.0, ...</td>\n",
       "    </tr>\n",
       "    <tr>\n",
       "      <th>4</th>\n",
       "      <td>mp-674158</td>\n",
       "      <td>Cubic</td>\n",
       "      <td>[0.0, 0.0, 0.0, 0.0, 0.0, 0.0, 0.0, 0.0, 0.0, ...</td>\n",
       "    </tr>\n",
       "  </tbody>\n",
       "</table>\n",
       "</div>"
      ],
      "text/plain": [
       "        mpid crystal_system                                               Ygau\n",
       "0      mp-85     Tetragonal  [0.0, 0.0, 0.0, 0.0, 0.0, 0.0, 0.0, 0.0, 0.0, ...\n",
       "1     mp-110          Cubic  [0.0, 0.0, 0.0, 0.0, 0.0, 0.0, 0.0, 0.0, 0.0, ...\n",
       "2      mp-20          Cubic  [0.0, 0.0, 0.0, 0.0, 0.0, 0.0, 0.0, 0.0, 0.0, ...\n",
       "3    mp-8640          Cubic  [0.0, 0.0, 0.0, 0.0, 0.0, 0.0, 0.0, 0.0, 0.0, ...\n",
       "4  mp-674158          Cubic  [0.0, 0.0, 0.0, 0.0, 0.0, 0.0, 0.0, 0.0, 0.0, ..."
      ]
     },
     "execution_count": 34,
     "metadata": {},
     "output_type": "execute_result"
    }
   ],
   "source": [
    "df.head()"
   ]
  },
  {
   "cell_type": "code",
   "execution_count": 24,
   "id": "fd016542-1c1c-4692-82fd-1f3ddfd96ded",
   "metadata": {},
   "outputs": [
    {
     "data": {
      "text/html": [
       "<div>\n",
       "<style scoped>\n",
       "    .dataframe tbody tr th:only-of-type {\n",
       "        vertical-align: middle;\n",
       "    }\n",
       "\n",
       "    .dataframe tbody tr th {\n",
       "        vertical-align: top;\n",
       "    }\n",
       "\n",
       "    .dataframe thead th {\n",
       "        text-align: right;\n",
       "    }\n",
       "</style>\n",
       "<table border=\"1\" class=\"dataframe\">\n",
       "  <thead>\n",
       "    <tr style=\"text-align: right;\">\n",
       "      <th></th>\n",
       "      <th>mpid</th>\n",
       "      <th>crystal_system</th>\n",
       "      <th>Ygau</th>\n",
       "    </tr>\n",
       "  </thead>\n",
       "  <tbody>\n",
       "  </tbody>\n",
       "</table>\n",
       "</div>"
      ],
      "text/plain": [
       "Empty DataFrame\n",
       "Columns: [mpid, crystal_system, Ygau]\n",
       "Index: []"
      ]
     },
     "execution_count": 24,
     "metadata": {},
     "output_type": "execute_result"
    }
   ],
   "source": [
    "df[df['mpid'] == 'mp10000']"
   ]
  },
  {
   "cell_type": "code",
   "execution_count": 7,
   "id": "6d958b92-5005-4850-8e81-6fbbd2e0a865",
   "metadata": {},
   "outputs": [],
   "source": [
    "%matplotlib inline\n",
    "def generate_DIF_img(material):\n",
    "    name =  str(material.mpid) + '.jpg'\n",
    "    path =  dataset_path / material.crystal_system / name\n",
    "    img = material.Ygau.reshape((1, -1)) \n",
    "    \n",
    "    fig, ax = plt.subplots(figsize=(3, 3))\n",
    "    ax.imshow(img, cmap = 'hot', aspect='auto')\n",
    "    ax.axis('off')\n",
    "    plt.savefig(fname = path, bbox_inches='tight') #Save the DIF pattern\n",
    "    plt.close(fig) "
   ]
  },
  {
   "cell_type": "code",
   "execution_count": 8,
   "id": "49f3da49-ccf8-4556-9401-ce8bd6546aa7",
   "metadata": {},
   "outputs": [
    {
     "name": "stdout",
     "output_type": "stream",
     "text": [
      "5000 left\n"
     ]
    }
   ],
   "source": [
    "for index, material in df.iterrows():\n",
    "    if index <= 79970:\n",
    "        continue\n",
    "        \n",
    "    generate_DIF_img(material)\n",
    "\n",
    "    if index == df.shape[0] // 3:\n",
    "        print('third compleated')\n",
    "\n",
    "    if index == df.shape[0] // 2:\n",
    "        print('half compleated')\n",
    "\n",
    "    if index == 2 * df.shape[0] // 3:\n",
    "        print('2/3 compleated')\n",
    "\n",
    "    if index == df.shape[0] - 10000:\n",
    "        print('10000 left')\n",
    "    if index == df.shape[0] - 5000:\n",
    "        print('5000 left')"
   ]
  },
  {
   "cell_type": "code",
   "execution_count": 12,
   "id": "30348f8d-7cec-4962-a929-a0648f4bf021",
   "metadata": {},
   "outputs": [],
   "source": [
    "%matplotlib inline\n",
    "def generate_DIF_img(material):\n",
    "    name =  str(material.mpid) + '.jpg'\n",
    "    path = dataset_path / material.crystal_system / name\n",
    "    img = material.Ygau.reshape((1, -1)) \n",
    "\n",
    "    io.imsave(\"resized_image.jpg\", img_as_ubyte(resized_image))  # Convert to uint8 before saving\n",
    "    \n",
    "    fig, ax = plt.subplots(figsize=(20, 4))\n",
    "    ax.imshow(img, cmap = 'hot', aspect='auto')\n",
    "    ax.axis('off')\n",
    "    plt.savefig(fname = path, bbox_inches='tight') #Save the DIF pattern\n",
    "    plt.close(fig) \n"
   ]
  },
  {
   "cell_type": "markdown",
   "id": "9d73d31d-9d0c-4afa-8570-2083a015758c",
   "metadata": {},
   "source": [
    "## Reshape the images so they are Squared"
   ]
  },
  {
   "cell_type": "code",
   "execution_count": null,
   "id": "77979cd1-9ee2-4b19-b929-9f5b94cc7989",
   "metadata": {},
   "outputs": [],
   "source": [
    "data_path = Path.cwd() / 'img_dataset-copia'"
   ]
  },
  {
   "cell_type": "code",
   "execution_count": 19,
   "id": "07c0d3c0-7eff-48f8-97c5-4fe12bd8989f",
   "metadata": {},
   "outputs": [
    {
     "name": "stdout",
     "output_type": "stream",
     "text": [
      "<class 'numpy.ndarray'>\n"
     ]
    }
   ],
   "source": [
    "img = io.imread(\"mp-85v.jpg\")\n",
    "print(type(img))"
   ]
  },
  {
   "cell_type": "code",
   "execution_count": 20,
   "id": "28cb4f23-19c2-4e5f-876c-3543801014f0",
   "metadata": {},
   "outputs": [
    {
     "data": {
      "text/plain": [
       "(328, 1570, 3)"
      ]
     },
     "execution_count": 20,
     "metadata": {},
     "output_type": "execute_result"
    }
   ],
   "source": [
    "img.shape"
   ]
  },
  {
   "cell_type": "code",
   "execution_count": 21,
   "id": "ea80e681-81c4-493c-bd5e-9537f3a9b98f",
   "metadata": {},
   "outputs": [
    {
     "data": {
      "text/plain": [
       "(-0.5, 1569.5, 327.5, -0.5)"
      ]
     },
     "execution_count": 21,
     "metadata": {},
     "output_type": "execute_result"
    },
    {
     "data": {
      "image/png": "[encoded data removed]",
      "text/plain": [
       "<Figure size 1000x400 with 1 Axes>"
      ]
     },
     "metadata": {},
     "output_type": "display_data"
    }
   ],
   "source": [
    "fig, ax = plt.subplots(figsize=(10, 4))\n",
    "ax.imshow(img)\n",
    "ax.axis('off')"
   ]
  },
  {
   "cell_type": "code",
   "execution_count": 22,
   "id": "54a5e9a2-768f-4804-affa-2d9f8351cadb",
   "metadata": {},
   "outputs": [
    {
     "data": {
      "text/plain": [
       "(-0.5, 253.5, 253.5, -0.5)"
      ]
     },
     "execution_count": 22,
     "metadata": {},
     "output_type": "execute_result"
    },
    {
     "data": {
      "image/png": "[encoded data removed]",
      "text/plain": [
       "<Figure size 800x800 with 1 Axes>"
      ]
     },
     "metadata": {},
     "output_type": "display_data"
    }
   ],
   "source": [
    "resized_image = transform.resize(img, (254, 254))  # Resize to 200x300 pixels\n",
    "\n",
    "# Show original and resized images\n",
    "fig, ax = plt.subplots(figsize=(8, 8))\n",
    "ax.imshow(resized_image)\n",
    "ax.axis(\"off\")"
   ]
  },
  {
   "cell_type": "code",
   "execution_count": 23,
   "id": "072b4f39-6fb7-417b-8106-1c4a4abdad13",
   "metadata": {},
   "outputs": [],
   "source": [
    "from skimage import io, img_as_ubyte\n",
    "\n",
    "# Save the resized image\n",
    "io.imsave(\"resized_image.jpg\", img_as_ubyte(resized_image))  # Convert to uint8 before saving\n"
   ]
  },
  {
   "cell_type": "code",
   "execution_count": null,
   "id": "401e812d-6ee3-4c75-91f5-bf17dfa956a8",
   "metadata": {},
   "outputs": [],
   "source": []
  },
  {
   "cell_type": "code",
   "execution_count": null,
   "id": "cea0a92e-3f77-4681-aab3-d98ba3b1c74b",
   "metadata": {},
   "outputs": [],
   "source": []
  }
 ],
 "metadata": {
  "kernelspec": {
   "display_name": "Python 3 (ipykernel)",
   "language": "python",
   "name": "python3"
  },
  "language_info": {
   "codemirror_mode": {
    "name": "ipython",
    "version": 3
   },
   "file_extension": ".py",
   "mimetype": "text/x-python",
   "name": "python",
   "nbconvert_exporter": "python",
   "pygments_lexer": "ipython3",
   "version": "3.12.7"
  }
 },
 "nbformat": 4,
 "nbformat_minor": 5
}
