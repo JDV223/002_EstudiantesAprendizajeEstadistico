{
 "cells": [
  {
   "cell_type": "markdown",
   "id": "617be1af-d0cb-4455-b07c-fcf749dd1d25",
   "metadata": {},
   "source": [
    "# Data Loading and Storage of X-ray Diffraction Patterns"
   ]
  },
  {
   "cell_type": "markdown",
   "id": "2d3e8151-ffe2-4b80-91d5-d3ffc7f30ca9",
   "metadata": {},
   "source": [
    "The purpose of this notebook is to load and store the X-ray diffraction patterns of various materials, obtained from three different open databases: [RRUFF](https://rruff.info/about/about_general.php), the [Matminer](https://hackingmaterials.lbl.gov/matminer/) library, and the present [Materials Project](https://next-gen.materialsproject.org/) data. A total of XXX diffraction patterns were found. The data is stored in four different JSON files: three contain the materials from each database, and the last one holds the combined data for further processing."
   ]
  },
  {
   "cell_type": "markdown",
   "id": "7defce96-e6bb-420a-aec5-98335323b1de",
   "metadata": {},
   "source": [
    "## Libraries"
   ]
  },
  {
   "cell_type": "code",
   "execution_count": 2,
   "id": "9d326303-2f2e-4f3b-8f74-d32291270434",
   "metadata": {},
   "outputs": [],
   "source": [
    "import numpy as np\n",
    "import pandas as pd\n",
    "import matplotlib.pyplot as plt\n",
    "from pathlib import Path\n",
    "import re\n",
    "from collections import Counter\n",
    "from PIL import Image\n",
    "\n",
    "import json\n",
    "\n",
    "\n",
    "#materials project\n",
    "from matminer.datasets import load_dataset # !pip install matminer\n",
    "from matminer.datasets import get_all_dataset_info\n",
    "\n",
    "#pymatgen\n",
    "from pymatgen.symmetry.analyzer import SpacegroupAnalyzer\n",
    "from pymatgen.analysis.diffraction.xrd import XRDCalculator\n",
    "\n",
    "#materials project api\n",
    "from mp_api.client import MPRester"
   ]
  },
  {
   "cell_type": "markdown",
   "id": "b618a09f-5540-4112-8c91-af4f6d72c12f",
   "metadata": {},
   "source": [
    "It is necessary to download the XY_RAW data from this [link](https://rruff.info/zipped_data_files/powder/), and store it in the same directory as this notebook. "
   ]
  },
  {
   "cell_type": "code",
   "execution_count": 2,
   "id": "062093b3-009b-44bb-8041-ef2e47ce74e5",
   "metadata": {},
   "outputs": [],
   "source": [
    "RRUFF_df = pd.DataFrame(columns=['id' , 'source_database', \n",
    "                         'crystal_system', 'X_values', 'Y_values'])"
   ]
  },
  {
   "cell_type": "markdown",
   "id": "2c5147c6-ed0f-4212-bc91-7a05ad9334f4",
   "metadata": {},
   "source": [
    "#### Functions"
   ]
  },
  {
   "cell_type": "markdown",
   "id": "5e75e6ad-ff62-4d9f-8a80-45552e00a4c5",
   "metadata": {},
   "source": [
    "The data is stored as tables in txt files. the following functions read the necessary information from these files."
   ]
  },
  {
   "cell_type": "code",
   "execution_count": 3,
   "id": "1efc6091-babb-49ee-8094-036ba27ce567",
   "metadata": {},
   "outputs": [],
   "source": [
    "def read_compoundname(file_name):\n",
    "    #All the file names follows the format: compound__identity number__Powder__Xray_Data_XY_RAW\n",
    "    regex = r'^([A-Za-z0-9-.+]+)__([A-Za-z0-9-.]+)__(\\w+)'\n",
    "    try:\n",
    "        split_name =re.search(regex, file_name).groups()\n",
    "        return split_name[0]\n",
    "    except AttributeError:\n",
    "        return None"
   ]
  },
  {
   "cell_type": "code",
   "execution_count": 4,
   "id": "dd1daf12-536f-4317-9931-1007491917d6",
   "metadata": {},
   "outputs": [],
   "source": [
    "def read_compoundid(file_name):\n",
    "    #All the file names follows the format: compound__identity number__Powder__Xray_Data_XY_RAW\n",
    "    regex = r'^([A-Za-z0-9-.+]+)__([A-Za-z0-9-.]+)__(\\w+)'\n",
    "    try:\n",
    "        split_name =re.search(regex, file_name).groups()\n",
    "        compound_id = split_name[0]+ '__' + split_name[1]\n",
    "        return compound_id\n",
    "    except AttributeError:\n",
    "        return None"
   ]
  },
  {
   "cell_type": "code",
   "execution_count": 5,
   "id": "3b965816-1bfb-4f42-b1c0-2877c8333761",
   "metadata": {},
   "outputs": [],
   "source": [
    "def read_crystalsys(file_path):\n",
    "    try:\n",
    "        content_dif = file_path.read_text(encoding=\"utf-8\")\n",
    "    except UnicodeDecodeError:  #characters that cannot be decoded using the utf-8 encoding.\n",
    "        content_dif = file_path.read_text(encoding=\"latin1\")  # or 'ISO-8859-1'.\n",
    "\n",
    "    for line in content_dif.splitlines():\n",
    "        regex = r'crystal system:\\s*([A-Za-z]+)'\n",
    "        if re.search(regex, line): \n",
    "            return re.search(regex, line).group(1).lower()\n",
    "    return None "
   ]
  },
  {
   "cell_type": "code",
   "execution_count": 6,
   "id": "af515192-35bc-42b4-8fdb-01aef90a5b66",
   "metadata": {},
   "outputs": [],
   "source": [
    "def read_XYdata(file_path_xy):\n",
    "    #Read the data from the file.\n",
    "    two_theta = [] #X \n",
    "    intensity = [] #Y\n",
    "\n",
    "    content_xy = file_path_xy.read_text(encoding=\"utf-8\")\n",
    "\n",
    "    for line in content_xy.splitlines():\n",
    "        #If starts with 2 float numbers, then it is the 2theta, intensity data\n",
    "        regex = r'^(\\d+\\.*\\d+),\\s*(\\d+\\.*\\d+)' \n",
    "        if re.search(regex, line):\n",
    "            record = re.search(regex, line).groups()\n",
    "            #The first number is the 2theta angle.\n",
    "            two_theta.append(float(record[0])) \n",
    "            #The second number is the intensity.\n",
    "            intensity.append(float(record[1]))\n",
    "            \n",
    "    two_theta = np.array(two_theta)\n",
    "    intensity = np.array(intensity)\n",
    "    \n",
    "    return two_theta, intensity\n",
    "    "
   ]
  },
  {
   "cell_type": "markdown",
   "id": "29653d75-b105-4bc2-82f7-858b097e1dd4",
   "metadata": {},
   "source": [
    "#### Store the diffraction data in the RRUFF DataFrame"
   ]
  },
  {
   "cell_type": "code",
   "execution_count": 7,
   "id": "e4f3feb2-eafc-4d24-8364-827aa2b85dec",
   "metadata": {},
   "outputs": [],
   "source": [
    "# Iterate over all files in the XY directoty\n",
    "path_XY = Path.cwd() / 'XY_RAW'\n",
    "for index, file_path in enumerate(path_XY.glob(\"*.txt\")):\n",
    "\n",
    "    # Find the files's compound name\n",
    "    compound_name = read_compoundname(file_path.name)\n",
    "    compound_id = read_compoundid(file_path.name)\n",
    "\n",
    "    # Find the file's crystal system and it's the corresponding directory.\n",
    "    crystalsys = read_crystalsys(file_path)\n",
    "    \n",
    "    if crystalsys == 'rhombohedral':\n",
    "        crystalsys = 'trigonal'\n",
    "    \n",
    "    # Find the XY data of the XRD pattern\n",
    "    X, Y = read_XYdata(file_path)\n",
    "\n",
    "    #Store the data in the dataset\n",
    "    RRUFF_df.loc[index] = [compound_id, 'RUFFF', crystalsys ,  X, Y]"
   ]
  },
  {
   "cell_type": "code",
   "execution_count": 8,
   "id": "cf04bab2-1aea-42d5-97b9-64f9d12532a6",
   "metadata": {},
   "outputs": [
    {
     "name": "stdout",
     "output_type": "stream",
     "text": [
      "<class 'pandas.core.frame.DataFrame'>\n",
      "Index: 3002 entries, 0 to 3001\n",
      "Data columns (total 5 columns):\n",
      " #   Column           Non-Null Count  Dtype \n",
      "---  ------           --------------  ----- \n",
      " 0   id               3001 non-null   object\n",
      " 1   source_database  3002 non-null   object\n",
      " 2   crystal_system   2918 non-null   object\n",
      " 3   X_values         3002 non-null   object\n",
      " 4   Y_values         3002 non-null   object\n",
      "dtypes: object(5)\n",
      "memory usage: 140.7+ KB\n"
     ]
    }
   ],
   "source": [
    "RRUFF_df.info()"
   ]
  },
  {
   "cell_type": "code",
   "execution_count": 9,
   "id": "bba72147-b411-4f70-a4c5-927a88860b8f",
   "metadata": {},
   "outputs": [
    {
     "data": {
      "text/html": [
       "<div>\n",
       "<style scoped>\n",
       "    .dataframe tbody tr th:only-of-type {\n",
       "        vertical-align: middle;\n",
       "    }\n",
       "\n",
       "    .dataframe tbody tr th {\n",
       "        vertical-align: top;\n",
       "    }\n",
       "\n",
       "    .dataframe thead th {\n",
       "        text-align: right;\n",
       "    }\n",
       "</style>\n",
       "<table border=\"1\" class=\"dataframe\">\n",
       "  <thead>\n",
       "    <tr style=\"text-align: right;\">\n",
       "      <th></th>\n",
       "      <th>id</th>\n",
       "      <th>source_database</th>\n",
       "      <th>crystal_system</th>\n",
       "      <th>X_values</th>\n",
       "      <th>Y_values</th>\n",
       "    </tr>\n",
       "  </thead>\n",
       "  <tbody>\n",
       "    <tr>\n",
       "      <th>0</th>\n",
       "      <td>Abhurite__R060227-9</td>\n",
       "      <td>RUFFF</td>\n",
       "      <td>hexagonal</td>\n",
       "      <td>[5.0, 5.01, 5.02, 5.03, 5.04, 5.05, 5.06, 5.07...</td>\n",
       "      <td>[0.0, 0.0, 0.0, 0.0, 0.0, 0.0, 0.0, 0.0, 0.0, ...</td>\n",
       "    </tr>\n",
       "    <tr>\n",
       "      <th>1</th>\n",
       "      <td>Acanthite__R070578-9</td>\n",
       "      <td>RUFFF</td>\n",
       "      <td>monoclinic</td>\n",
       "      <td>[5.0, 5.01, 5.02, 5.03, 5.04, 5.05, 5.06, 5.07...</td>\n",
       "      <td>[0.0, 0.0, 0.0, 0.0, 0.0, 0.0, 0.0, 0.0, 0.0, ...</td>\n",
       "    </tr>\n",
       "    <tr>\n",
       "      <th>2</th>\n",
       "      <td>Acanthite__R080016-1</td>\n",
       "      <td>RUFFF</td>\n",
       "      <td>monoclinic</td>\n",
       "      <td>[5.01, 5.02, 5.03, 5.04, 5.05, 5.06, 5.07, 5.0...</td>\n",
       "      <td>[62.0, 74.0, 70.0, 75.0, 75.0, 74.0, 73.0, 66....</td>\n",
       "    </tr>\n",
       "    <tr>\n",
       "      <th>3</th>\n",
       "      <td>Actinolite__R040063-1</td>\n",
       "      <td>RUFFF</td>\n",
       "      <td>monoclinic</td>\n",
       "      <td>[5.01, 5.02, 5.03, 5.04, 5.05, 5.06, 5.07, 5.0...</td>\n",
       "      <td>[57.0, 35.0, 47.0, 61.0, 57.0, 57.0, 66.0, 64....</td>\n",
       "    </tr>\n",
       "    <tr>\n",
       "      <th>4</th>\n",
       "      <td>Actinolite__R040064-1</td>\n",
       "      <td>RUFFF</td>\n",
       "      <td>monoclinic</td>\n",
       "      <td>[5.01, 5.02, 5.03, 5.04, 5.05, 5.06, 5.07, 5.0...</td>\n",
       "      <td>[31.0, 37.0, 41.0, 41.0, 40.0, 44.0, 49.0, 30....</td>\n",
       "    </tr>\n",
       "  </tbody>\n",
       "</table>\n",
       "</div>"
      ],
      "text/plain": [
       "                      id source_database crystal_system  \\\n",
       "0    Abhurite__R060227-9           RUFFF      hexagonal   \n",
       "1   Acanthite__R070578-9           RUFFF     monoclinic   \n",
       "2   Acanthite__R080016-1           RUFFF     monoclinic   \n",
       "3  Actinolite__R040063-1           RUFFF     monoclinic   \n",
       "4  Actinolite__R040064-1           RUFFF     monoclinic   \n",
       "\n",
       "                                            X_values  \\\n",
       "0  [5.0, 5.01, 5.02, 5.03, 5.04, 5.05, 5.06, 5.07...   \n",
       "1  [5.0, 5.01, 5.02, 5.03, 5.04, 5.05, 5.06, 5.07...   \n",
       "2  [5.01, 5.02, 5.03, 5.04, 5.05, 5.06, 5.07, 5.0...   \n",
       "3  [5.01, 5.02, 5.03, 5.04, 5.05, 5.06, 5.07, 5.0...   \n",
       "4  [5.01, 5.02, 5.03, 5.04, 5.05, 5.06, 5.07, 5.0...   \n",
       "\n",
       "                                            Y_values  \n",
       "0  [0.0, 0.0, 0.0, 0.0, 0.0, 0.0, 0.0, 0.0, 0.0, ...  \n",
       "1  [0.0, 0.0, 0.0, 0.0, 0.0, 0.0, 0.0, 0.0, 0.0, ...  \n",
       "2  [62.0, 74.0, 70.0, 75.0, 75.0, 74.0, 73.0, 66....  \n",
       "3  [57.0, 35.0, 47.0, 61.0, 57.0, 57.0, 66.0, 64....  \n",
       "4  [31.0, 37.0, 41.0, 41.0, 40.0, 44.0, 49.0, 30....  "
      ]
     },
     "execution_count": 9,
     "metadata": {},
     "output_type": "execute_result"
    }
   ],
   "source": [
    "RRUFF_df.head()"
   ]
  },
  {
   "cell_type": "markdown",
   "id": "21266343-4350-4831-873d-ddd43595f590",
   "metadata": {},
   "source": [
    "Capitalize the names of the crystal systems"
   ]
  },
  {
   "cell_type": "markdown",
   "id": "dcf2ceca-60d7-4ada-8029-f5937464ad5c",
   "metadata": {
    "jp-MarkdownHeadingCollapsed": true
   },
   "source": [
    "### Missing values"
   ]
  },
  {
   "cell_type": "code",
   "execution_count": 10,
   "id": "e4e25e5b-45bd-454b-9432-78fa583332c3",
   "metadata": {},
   "outputs": [
    {
     "data": {
      "text/plain": [
       "id                  1\n",
       "source_database     0\n",
       "crystal_system     84\n",
       "X_values            0\n",
       "Y_values            0\n",
       "dtype: int64"
      ]
     },
     "execution_count": 10,
     "metadata": {},
     "output_type": "execute_result"
    }
   ],
   "source": [
    "#Null values by column\n",
    "RRUFF_df.isnull().sum()"
   ]
  },
  {
   "cell_type": "code",
   "execution_count": 11,
   "id": "5e239f2a-c890-40c9-b1ef-c205cba3660b",
   "metadata": {},
   "outputs": [
    {
     "data": {
      "text/html": [
       "<div>\n",
       "<style scoped>\n",
       "    .dataframe tbody tr th:only-of-type {\n",
       "        vertical-align: middle;\n",
       "    }\n",
       "\n",
       "    .dataframe tbody tr th {\n",
       "        vertical-align: top;\n",
       "    }\n",
       "\n",
       "    .dataframe thead th {\n",
       "        text-align: right;\n",
       "    }\n",
       "</style>\n",
       "<table border=\"1\" class=\"dataframe\">\n",
       "  <thead>\n",
       "    <tr style=\"text-align: right;\">\n",
       "      <th></th>\n",
       "      <th>id</th>\n",
       "      <th>source_database</th>\n",
       "      <th>crystal_system</th>\n",
       "      <th>X_values</th>\n",
       "      <th>Y_values</th>\n",
       "    </tr>\n",
       "  </thead>\n",
       "  <tbody>\n",
       "    <tr>\n",
       "      <th>26</th>\n",
       "      <td>AeschyniteY__R060312-1</td>\n",
       "      <td>RUFFF</td>\n",
       "      <td>None</td>\n",
       "      <td>[5.01, 5.02, 5.03, 5.04, 5.05, 5.06, 5.07, 5.0...</td>\n",
       "      <td>[18.0, 23.0, 26.0, 20.0, 19.0, 26.0, 25.0, 20....</td>\n",
       "    </tr>\n",
       "    <tr>\n",
       "      <th>67</th>\n",
       "      <td>AllaniteCe__R080092-1</td>\n",
       "      <td>RUFFF</td>\n",
       "      <td>None</td>\n",
       "      <td>[5.01, 5.02, 5.03, 5.04, 5.05, 5.06, 5.07, 5.0...</td>\n",
       "      <td>[51.0, 46.0, 52.0, 52.0, 62.0, 67.0, 55.0, 57....</td>\n",
       "    </tr>\n",
       "    <tr>\n",
       "      <th>96</th>\n",
       "      <td>Amber__R060569-1</td>\n",
       "      <td>RUFFF</td>\n",
       "      <td>None</td>\n",
       "      <td>[5.01, 5.02, 5.03, 5.04, 5.05, 5.06, 5.07, 5.0...</td>\n",
       "      <td>[44.0, 56.0, 70.0, 61.0, 63.0, 40.0, 54.0, 78....</td>\n",
       "    </tr>\n",
       "    <tr>\n",
       "      <th>142</th>\n",
       "      <td>Anilite__R060688-9</td>\n",
       "      <td>RUFFF</td>\n",
       "      <td>None</td>\n",
       "      <td>[6.0, 6.03, 6.06, 6.09, 6.12, 6.15, 6.18, 6.21...</td>\n",
       "      <td>[147.176, 148.506, 151.494, 149.956, 149.227, ...</td>\n",
       "    </tr>\n",
       "    <tr>\n",
       "      <th>157</th>\n",
       "      <td>Anorthite__R070598-1</td>\n",
       "      <td>RUFFF</td>\n",
       "      <td>None</td>\n",
       "      <td>[5.01, 5.02, 5.03, 5.04, 5.05, 5.06, 5.07, 5.0...</td>\n",
       "      <td>[63.0, 35.0, 63.0, 62.0, 49.0, 44.0, 49.0, 43....</td>\n",
       "    </tr>\n",
       "  </tbody>\n",
       "</table>\n",
       "</div>"
      ],
      "text/plain": [
       "                         id source_database crystal_system  \\\n",
       "26   AeschyniteY__R060312-1           RUFFF           None   \n",
       "67    AllaniteCe__R080092-1           RUFFF           None   \n",
       "96         Amber__R060569-1           RUFFF           None   \n",
       "142      Anilite__R060688-9           RUFFF           None   \n",
       "157    Anorthite__R070598-1           RUFFF           None   \n",
       "\n",
       "                                              X_values  \\\n",
       "26   [5.01, 5.02, 5.03, 5.04, 5.05, 5.06, 5.07, 5.0...   \n",
       "67   [5.01, 5.02, 5.03, 5.04, 5.05, 5.06, 5.07, 5.0...   \n",
       "96   [5.01, 5.02, 5.03, 5.04, 5.05, 5.06, 5.07, 5.0...   \n",
       "142  [6.0, 6.03, 6.06, 6.09, 6.12, 6.15, 6.18, 6.21...   \n",
       "157  [5.01, 5.02, 5.03, 5.04, 5.05, 5.06, 5.07, 5.0...   \n",
       "\n",
       "                                              Y_values  \n",
       "26   [18.0, 23.0, 26.0, 20.0, 19.0, 26.0, 25.0, 20....  \n",
       "67   [51.0, 46.0, 52.0, 52.0, 62.0, 67.0, 55.0, 57....  \n",
       "96   [44.0, 56.0, 70.0, 61.0, 63.0, 40.0, 54.0, 78....  \n",
       "142  [147.176, 148.506, 151.494, 149.956, 149.227, ...  \n",
       "157  [63.0, 35.0, 63.0, 62.0, 49.0, 44.0, 49.0, 43....  "
      ]
     },
     "execution_count": 11,
     "metadata": {},
     "output_type": "execute_result"
    }
   ],
   "source": [
    "RRUFF_df.loc[RRUFF_df.isnull().any(axis=1)].head()"
   ]
  },
  {
   "cell_type": "markdown",
   "id": "a2c52147-58be-40ac-93a3-2b6fa9e9b2e3",
   "metadata": {},
   "source": [
    "The elements without a crystal system are amorphous materials, like glass.Therefore, they should be deleted."
   ]
  },
  {
   "cell_type": "code",
   "execution_count": 12,
   "id": "5871501d-2f73-40ea-9926-7a32bc450ce3",
   "metadata": {},
   "outputs": [
    {
     "data": {
      "text/plain": [
       "id                 0\n",
       "source_database    0\n",
       "crystal_system     0\n",
       "X_values           0\n",
       "Y_values           0\n",
       "dtype: int64"
      ]
     },
     "execution_count": 12,
     "metadata": {},
     "output_type": "execute_result"
    }
   ],
   "source": [
    "RRUFF_df = RRUFF_df.replace({None: np.nan})\n",
    "RRUFF_df.dropna(inplace=True)\n",
    "RRUFF_df.isna().sum()"
   ]
  },
  {
   "cell_type": "markdown",
   "id": "2c38c488-2535-4cad-9f06-01c5dde5d1b0",
   "metadata": {
    "jp-MarkdownHeadingCollapsed": true
   },
   "source": [
    "### Crystal Systems Present in the RRUFF Dataset"
   ]
  },
  {
   "cell_type": "code",
   "execution_count": 13,
   "id": "5358a382-73cc-4d2b-b4f1-f3c6bd60e008",
   "metadata": {},
   "outputs": [
    {
     "data": {
      "text/plain": [
       "crystal_system\n",
       "cubic           302\n",
       "hexagonal       513\n",
       "monoclinic      960\n",
       "orthorhombic    610\n",
       "tetragonal      218\n",
       "triclinic       293\n",
       "trigonal         19\n",
       "unknown           2\n",
       "Name: id, dtype: int64"
      ]
     },
     "execution_count": 13,
     "metadata": {},
     "output_type": "execute_result"
    }
   ],
   "source": [
    "RRUFF_crystalsys = RRUFF_df.groupby('crystal_system')['id'].count()\n",
    "RRUFF_crystalsys"
   ]
  },
  {
   "cell_type": "markdown",
   "id": "260b7a7d-0f6a-4587-b3c2-64de67382e44",
   "metadata": {},
   "source": [
    "### Capitalize the names of the crystal systems"
   ]
  },
  {
   "cell_type": "code",
   "execution_count": 14,
   "id": "525910be-c2b1-425b-9ad1-94da97bddf8d",
   "metadata": {},
   "outputs": [],
   "source": [
    "RRUFF_df['crystal_system'] = RRUFF_df['crystal_system'].apply(lambda x: x.capitalize())"
   ]
  },
  {
   "cell_type": "markdown",
   "id": "1861e89b-0597-4f0b-bc56-af4df608a6df",
   "metadata": {
    "jp-MarkdownHeadingCollapsed": true
   },
   "source": [
    "### Delete the materials with an unknown crystal system"
   ]
  },
  {
   "cell_type": "code",
   "execution_count": 15,
   "id": "49c0bec3-f110-44b7-9e14-9d88c7259c7b",
   "metadata": {},
   "outputs": [
    {
     "data": {
      "text/html": [
       "<div>\n",
       "<style scoped>\n",
       "    .dataframe tbody tr th:only-of-type {\n",
       "        vertical-align: middle;\n",
       "    }\n",
       "\n",
       "    .dataframe tbody tr th {\n",
       "        vertical-align: top;\n",
       "    }\n",
       "\n",
       "    .dataframe thead th {\n",
       "        text-align: right;\n",
       "    }\n",
       "</style>\n",
       "<table border=\"1\" class=\"dataframe\">\n",
       "  <thead>\n",
       "    <tr style=\"text-align: right;\">\n",
       "      <th></th>\n",
       "      <th>id</th>\n",
       "      <th>source_database</th>\n",
       "      <th>crystal_system</th>\n",
       "      <th>X_values</th>\n",
       "      <th>Y_values</th>\n",
       "    </tr>\n",
       "  </thead>\n",
       "  <tbody>\n",
       "    <tr>\n",
       "      <th>10</th>\n",
       "      <td>Adachiite__R230014-9</td>\n",
       "      <td>RUFFF</td>\n",
       "      <td>Unknown</td>\n",
       "      <td>[0.0, 0.05, 0.1, 0.15, 0.2, 0.25, 0.3, 0.35, 0...</td>\n",
       "      <td>[0.0, 0.0, 0.0, 0.0, 0.0, 0.0, 0.0, 0.0, 0.0, ...</td>\n",
       "    </tr>\n",
       "    <tr>\n",
       "      <th>1051</th>\n",
       "      <td>Fluorcarletonite__R180028</td>\n",
       "      <td>RUFFF</td>\n",
       "      <td>Unknown</td>\n",
       "      <td>[3.0, 3.02, 3.04, 3.06, 3.08, 3.1, 3.12, 3.14,...</td>\n",
       "      <td>[1601.0, 1548.0, 1588.0, 1519.0, 1502.0, 1525....</td>\n",
       "    </tr>\n",
       "  </tbody>\n",
       "</table>\n",
       "</div>"
      ],
      "text/plain": [
       "                             id source_database crystal_system  \\\n",
       "10         Adachiite__R230014-9           RUFFF        Unknown   \n",
       "1051  Fluorcarletonite__R180028           RUFFF        Unknown   \n",
       "\n",
       "                                               X_values  \\\n",
       "10    [0.0, 0.05, 0.1, 0.15, 0.2, 0.25, 0.3, 0.35, 0...   \n",
       "1051  [3.0, 3.02, 3.04, 3.06, 3.08, 3.1, 3.12, 3.14,...   \n",
       "\n",
       "                                               Y_values  \n",
       "10    [0.0, 0.0, 0.0, 0.0, 0.0, 0.0, 0.0, 0.0, 0.0, ...  \n",
       "1051  [1601.0, 1548.0, 1588.0, 1519.0, 1502.0, 1525....  "
      ]
     },
     "execution_count": 15,
     "metadata": {},
     "output_type": "execute_result"
    }
   ],
   "source": [
    "unknown_crysys = RRUFF_df[RRUFF_df['crystal_system']=='Unknown']\n",
    "unknown_crysys"
   ]
  },
  {
   "cell_type": "code",
   "execution_count": 16,
   "id": "9c7492f5-8479-4c2e-a5f5-eb7c767320d0",
   "metadata": {},
   "outputs": [],
   "source": [
    "RRUFF_df.drop(unknown_crysys.index, inplace=True)"
   ]
  },
  {
   "cell_type": "markdown",
   "id": "d7e75c99-dfce-4db2-b461-b68efef02b4e",
   "metadata": {},
   "source": [
    "### Materials per Crystal system"
   ]
  },
  {
   "cell_type": "code",
   "execution_count": 17,
   "id": "cc04a5bd-2307-496b-b106-ca570732b4a3",
   "metadata": {},
   "outputs": [
    {
     "data": {
      "image/png": "[encoded data removed]",
      "text/plain": [
       "<Figure size 1000x500 with 1 Axes>"
      ]
     },
     "metadata": {},
     "output_type": "display_data"
    }
   ],
   "source": [
    "plt.style.use('seaborn-v0_8-dark')\n",
    "\n",
    "# Bar plot\n",
    "fig, ax = plt.subplots(figsize=(10,5))\n",
    "\n",
    "\n",
    "bar_container = ax.bar(RRUFF_crystalsys.index, \n",
    "                       RRUFF_crystalsys.values,\n",
    "                       edgecolor = 'k', \n",
    "                       align='center',\n",
    "                       linewidth= 0.4,\n",
    "                       alpha=0.75,\n",
    "                       color='teal')\n",
    "\n",
    "ax.set_title('Materials per Crystal System', fontsize=16)\n",
    "ax.set_ylabel('')\n",
    "ax.set_xlabel(' ')\n",
    "ax.bar_label(bar_container, fmt='{:,.0f}')\n",
    "\n",
    "#plt.tight_layout()\n",
    "plt.grid()\n",
    "plt.show()\n",
    "plt.style.use('default')"
   ]
  },
  {
   "cell_type": "code",
   "execution_count": 19,
   "id": "6e5a2506-1049-472e-bf05-214e0873303c",
   "metadata": {},
   "outputs": [
    {
     "data": {
      "text/plain": [
       "array([ 5.  ,  5.01,  5.02, ..., 89.98, 89.99, 90.  ])"
      ]
     },
     "execution_count": 19,
     "metadata": {},
     "output_type": "execute_result"
    }
   ],
   "source": [
    "RRUFF_df['X_values'][0]"
   ]
  },
  {
   "cell_type": "markdown",
   "id": "8117b0a6-f739-45a0-8f6e-f3f71053c752",
   "metadata": {},
   "source": [
    "### Save the dataframe"
   ]
  },
  {
   "cell_type": "code",
   "execution_count": 20,
   "id": "b266c85b-1cd5-4010-ba33-2188e5c37c9b",
   "metadata": {},
   "outputs": [],
   "source": [
    "RRUFF_df.to_json(\"RRUFF.json\")"
   ]
  },
  {
   "cell_type": "markdown",
   "id": "17a15c63-ac90-4645-9417-1d0bc1a1947c",
   "metadata": {},
   "source": [
    "# Load the Matminer data"
   ]
  },
  {
   "cell_type": "code",
   "execution_count": 21,
   "id": "c193fa57-cd08-40c6-b22a-abd4b0afd982",
   "metadata": {},
   "outputs": [],
   "source": [
    "#mp_all_20181018\n",
    "matminer_df = load_dataset(\"mp_all_20181018\") "
   ]
  },
  {
   "cell_type": "markdown",
   "id": "d893d71c-1d9a-4934-a212-7ded334b52f5",
   "metadata": {},
   "source": [
    "### Examine the data"
   ]
  },
  {
   "cell_type": "code",
   "execution_count": 22,
   "id": "e12f869d-3392-41bc-a993-a902eb72f443",
   "metadata": {
    "scrolled": true
   },
   "outputs": [
    {
     "name": "stdout",
     "output_type": "stream",
     "text": [
      "Dataset: mp_all_20181018\n",
      "Description: A complete copy of the Materials Project database as of 10/18/2018. mp_all files contain structure data for each material while mp_nostruct does not.\n",
      "Columns:\n",
      "\tbulk modulus: in GPa, average of Voight, Reuss, and Hill\n",
      "\te_form: Formation energy per atom (eV)\n",
      "\te_hull: The calculated energy above the convex hull, in eV per atom\n",
      "\telastic anisotropy: The ratio of elastic anisotropy.\n",
      "\tformula: The chemical formula of the MP entry\n",
      "\tgap pbe: The band gap in eV calculated with PBE-DFT functional\n",
      "\tinitial structure: A Pymatgen Structure object describing the material crystal structure prior to relaxation\n",
      "\tmpid: (input): The Materials Project mpid, as a string.\n",
      "\tmu_b: The total magnetization of the unit cell.\n",
      "\tshear modulus: in GPa, average of Voight, Reuss, and Hill\n",
      "\tstructure: A Pymatgen Structure object describing the material crystal structure\n",
      "Num Entries: 83989\n",
      "Reference: A. Jain*, S.P. Ong*, G. Hautier, W. Chen, W.D. Richards, S. Dacek, S. Cholia, D. Gunter, D. Skinner, G. Ceder, K.A. Persson (*=equal contributions)\n",
      "The Materials Project: A materials genome approach to accelerating materials innovation\n",
      "APL Materials, 2013, 1(1), 011002.\n",
      "doi:10.1063/1.4812323\n",
      "Bibtex citations: ['@article{Jain2013,\\nauthor = {Jain, Anubhav and Ong, Shyue Ping and Hautier, Geoffroy and Chen, Wei and Richards, William Davidson and Dacek, Stephen and Cholia, Shreyas and Gunter, Dan and Skinner, David and Ceder, Gerbrand and Persson, Kristin a.},\\ndoi = {10.1063/1.4812323},\\nissn = {2166532X},\\njournal = {APL Materials},\\nnumber = {1},\\npages = {011002},\\ntitle = {{The Materials Project: A materials genome approach to accelerating materials innovation}},\\nurl = {http://link.aip.org/link/AMPADS/v1/i1/p011002/s1\\\\&Agg=doi},\\nvolume = {1},\\nyear = {2013}\\n}']\n",
      "File type: json.gz\n",
      "Figshare URL: https://ndownloader.figshare.com/files/13309250\n",
      "SHA256 Hash Digest: 1f3de2dc7c68959647240921b841293fce918ea1708e6f3760ba35a9cdfe0500\n",
      "\n",
      "\n"
     ]
    }
   ],
   "source": [
    "#Print the dataset doc \n",
    "print(get_all_dataset_info(\"mp_all_20181018\"))"
   ]
  },
  {
   "cell_type": "code",
   "execution_count": 23,
   "id": "eeeb3007-6c2b-4e6d-bb44-9dd1bc1963c8",
   "metadata": {},
   "outputs": [
    {
     "name": "stdout",
     "output_type": "stream",
     "text": [
      "<class 'pandas.core.frame.DataFrame'>\n",
      "Index: 83989 entries, 0 to 83988\n",
      "Data columns (total 11 columns):\n",
      " #   Column              Non-Null Count  Dtype  \n",
      "---  ------              --------------  -----  \n",
      " 0   mpid                83989 non-null  object \n",
      " 1   formula             83987 non-null  object \n",
      " 2   e_hull              83989 non-null  float64\n",
      " 3   gap pbe             83989 non-null  float64\n",
      " 4   mu_b                83989 non-null  float64\n",
      " 5   elastic anisotropy  7676 non-null   float64\n",
      " 6   bulk modulus        7676 non-null   float64\n",
      " 7   shear modulus       7676 non-null   float64\n",
      " 8   structure           83989 non-null  object \n",
      " 9   e_form              83989 non-null  float64\n",
      " 10  initial structure   83989 non-null  object \n",
      "dtypes: float64(7), object(4)\n",
      "memory usage: 7.7+ MB\n"
     ]
    }
   ],
   "source": [
    "matminer_df.info()"
   ]
  },
  {
   "cell_type": "code",
   "execution_count": 24,
   "id": "b663658b-e68c-4644-9bd5-b8ea6a5b2eb9",
   "metadata": {},
   "outputs": [
    {
     "data": {
      "text/html": [
       "<div>\n",
       "<style scoped>\n",
       "    .dataframe tbody tr th:only-of-type {\n",
       "        vertical-align: middle;\n",
       "    }\n",
       "\n",
       "    .dataframe tbody tr th {\n",
       "        vertical-align: top;\n",
       "    }\n",
       "\n",
       "    .dataframe thead th {\n",
       "        text-align: right;\n",
       "    }\n",
       "</style>\n",
       "<table border=\"1\" class=\"dataframe\">\n",
       "  <thead>\n",
       "    <tr style=\"text-align: right;\">\n",
       "      <th></th>\n",
       "      <th>mpid</th>\n",
       "      <th>formula</th>\n",
       "      <th>e_hull</th>\n",
       "      <th>gap pbe</th>\n",
       "      <th>mu_b</th>\n",
       "      <th>elastic anisotropy</th>\n",
       "      <th>bulk modulus</th>\n",
       "      <th>shear modulus</th>\n",
       "      <th>structure</th>\n",
       "      <th>e_form</th>\n",
       "      <th>initial structure</th>\n",
       "    </tr>\n",
       "  </thead>\n",
       "  <tbody>\n",
       "    <tr>\n",
       "      <th>0</th>\n",
       "      <td>mp-85</td>\n",
       "      <td>In</td>\n",
       "      <td>0.003319</td>\n",
       "      <td>0.0000</td>\n",
       "      <td>2.700000e-05</td>\n",
       "      <td>1.044699</td>\n",
       "      <td>33.154748</td>\n",
       "      <td>4.904836</td>\n",
       "      <td>[[0. 0. 0.] In]</td>\n",
       "      <td>0.003319</td>\n",
       "      <td>[[0. 0. 0.] In]</td>\n",
       "    </tr>\n",
       "    <tr>\n",
       "      <th>1</th>\n",
       "      <td>mp-110</td>\n",
       "      <td>Mg</td>\n",
       "      <td>0.039182</td>\n",
       "      <td>0.0000</td>\n",
       "      <td>-1.360000e-05</td>\n",
       "      <td>-11.326659</td>\n",
       "      <td>35.636106</td>\n",
       "      <td>1.830272</td>\n",
       "      <td>[[0. 0. 0.] Mg]</td>\n",
       "      <td>0.039182</td>\n",
       "      <td>[[0. 0. 0.] Mg]</td>\n",
       "    </tr>\n",
       "    <tr>\n",
       "      <th>2</th>\n",
       "      <td>mp-20</td>\n",
       "      <td>Be</td>\n",
       "      <td>0.108143</td>\n",
       "      <td>0.0000</td>\n",
       "      <td>1.000000e-07</td>\n",
       "      <td>8.030000</td>\n",
       "      <td>124.000000</td>\n",
       "      <td>84.000000</td>\n",
       "      <td>[[0.63178657 0.88038073 0.88034747] Be, [1.895...</td>\n",
       "      <td>0.108143</td>\n",
       "      <td>[[0.71544 1.0248  0.6759 ] Be, [1.79944 2.3912...</td>\n",
       "    </tr>\n",
       "    <tr>\n",
       "      <th>3</th>\n",
       "      <td>mp-8640</td>\n",
       "      <td>Hf</td>\n",
       "      <td>0.071216</td>\n",
       "      <td>0.0000</td>\n",
       "      <td>-2.050000e-05</td>\n",
       "      <td>0.881277</td>\n",
       "      <td>101.242732</td>\n",
       "      <td>44.836516</td>\n",
       "      <td>[[0. 0. 0.] Hf]</td>\n",
       "      <td>0.071216</td>\n",
       "      <td>[[0. 0. 0.] Hf]</td>\n",
       "    </tr>\n",
       "    <tr>\n",
       "      <th>4</th>\n",
       "      <td>mp-674158</td>\n",
       "      <td>P</td>\n",
       "      <td>3.509988</td>\n",
       "      <td>2.0113</td>\n",
       "      <td>3.000042e+00</td>\n",
       "      <td>10.884643</td>\n",
       "      <td>0.327165</td>\n",
       "      <td>-0.064038</td>\n",
       "      <td>[[0. 0. 0.] P]</td>\n",
       "      <td>3.509988</td>\n",
       "      <td>[[0. 0. 0.] P]</td>\n",
       "    </tr>\n",
       "  </tbody>\n",
       "</table>\n",
       "</div>"
      ],
      "text/plain": [
       "        mpid formula    e_hull  gap pbe          mu_b  elastic anisotropy  \\\n",
       "0      mp-85      In  0.003319   0.0000  2.700000e-05            1.044699   \n",
       "1     mp-110      Mg  0.039182   0.0000 -1.360000e-05          -11.326659   \n",
       "2      mp-20      Be  0.108143   0.0000  1.000000e-07            8.030000   \n",
       "3    mp-8640      Hf  0.071216   0.0000 -2.050000e-05            0.881277   \n",
       "4  mp-674158       P  3.509988   2.0113  3.000042e+00           10.884643   \n",
       "\n",
       "   bulk modulus  shear modulus  \\\n",
       "0     33.154748       4.904836   \n",
       "1     35.636106       1.830272   \n",
       "2    124.000000      84.000000   \n",
       "3    101.242732      44.836516   \n",
       "4      0.327165      -0.064038   \n",
       "\n",
       "                                           structure    e_form  \\\n",
       "0                                    [[0. 0. 0.] In]  0.003319   \n",
       "1                                    [[0. 0. 0.] Mg]  0.039182   \n",
       "2  [[0.63178657 0.88038073 0.88034747] Be, [1.895...  0.108143   \n",
       "3                                    [[0. 0. 0.] Hf]  0.071216   \n",
       "4                                     [[0. 0. 0.] P]  3.509988   \n",
       "\n",
       "                                   initial structure  \n",
       "0                                    [[0. 0. 0.] In]  \n",
       "1                                    [[0. 0. 0.] Mg]  \n",
       "2  [[0.71544 1.0248  0.6759 ] Be, [1.79944 2.3912...  \n",
       "3                                    [[0. 0. 0.] Hf]  \n",
       "4                                     [[0. 0. 0.] P]  "
      ]
     },
     "execution_count": 24,
     "metadata": {},
     "output_type": "execute_result"
    }
   ],
   "source": [
    "matminer_df.head()"
   ]
  },
  {
   "cell_type": "markdown",
   "id": "4309dbe0-9c4c-4044-ab41-251342e837dc",
   "metadata": {},
   "source": [
    "### Filter the Data"
   ]
  },
  {
   "cell_type": "markdown",
   "id": "64cdc53b-fd9e-446c-af7e-2c91a1ed8a28",
   "metadata": {},
   "source": [
    "Keep only the \"id\" and \"structure\" columns. The structure is a pymatgen object, that is used to calculate the crystal system and the X-ray diffraction pattern data."
   ]
  },
  {
   "cell_type": "code",
   "execution_count": 25,
   "id": "aefe5e28-428c-41fd-b5f5-ac2300ac7a10",
   "metadata": {},
   "outputs": [],
   "source": [
    "matminer_df = matminer_df[['mpid', 'structure']] "
   ]
  },
  {
   "cell_type": "code",
   "execution_count": 26,
   "id": "88dbc009-c740-453a-a736-366a27f55031",
   "metadata": {},
   "outputs": [
    {
     "data": {
      "text/html": [
       "<div>\n",
       "<style scoped>\n",
       "    .dataframe tbody tr th:only-of-type {\n",
       "        vertical-align: middle;\n",
       "    }\n",
       "\n",
       "    .dataframe tbody tr th {\n",
       "        vertical-align: top;\n",
       "    }\n",
       "\n",
       "    .dataframe thead th {\n",
       "        text-align: right;\n",
       "    }\n",
       "</style>\n",
       "<table border=\"1\" class=\"dataframe\">\n",
       "  <thead>\n",
       "    <tr style=\"text-align: right;\">\n",
       "      <th></th>\n",
       "      <th>mpid</th>\n",
       "      <th>structure</th>\n",
       "    </tr>\n",
       "  </thead>\n",
       "  <tbody>\n",
       "    <tr>\n",
       "      <th>0</th>\n",
       "      <td>mp-85</td>\n",
       "      <td>[[0. 0. 0.] In]</td>\n",
       "    </tr>\n",
       "    <tr>\n",
       "      <th>1</th>\n",
       "      <td>mp-110</td>\n",
       "      <td>[[0. 0. 0.] Mg]</td>\n",
       "    </tr>\n",
       "    <tr>\n",
       "      <th>2</th>\n",
       "      <td>mp-20</td>\n",
       "      <td>[[0.63178657 0.88038073 0.88034747] Be, [1.895...</td>\n",
       "    </tr>\n",
       "    <tr>\n",
       "      <th>3</th>\n",
       "      <td>mp-8640</td>\n",
       "      <td>[[0. 0. 0.] Hf]</td>\n",
       "    </tr>\n",
       "    <tr>\n",
       "      <th>4</th>\n",
       "      <td>mp-674158</td>\n",
       "      <td>[[0. 0. 0.] P]</td>\n",
       "    </tr>\n",
       "  </tbody>\n",
       "</table>\n",
       "</div>"
      ],
      "text/plain": [
       "        mpid                                          structure\n",
       "0      mp-85                                    [[0. 0. 0.] In]\n",
       "1     mp-110                                    [[0. 0. 0.] Mg]\n",
       "2      mp-20  [[0.63178657 0.88038073 0.88034747] Be, [1.895...\n",
       "3    mp-8640                                    [[0. 0. 0.] Hf]\n",
       "4  mp-674158                                     [[0. 0. 0.] P]"
      ]
     },
     "execution_count": 26,
     "metadata": {},
     "output_type": "execute_result"
    }
   ],
   "source": [
    "matminer_df.head()"
   ]
  },
  {
   "cell_type": "markdown",
   "id": "78693bf5-1ed4-4d4c-9798-f4ebc670dbf2",
   "metadata": {},
   "source": [
    "### Missing values"
   ]
  },
  {
   "cell_type": "code",
   "execution_count": 27,
   "id": "b00f4941-c31e-415f-8451-ebad7e940238",
   "metadata": {},
   "outputs": [
    {
     "data": {
      "text/plain": [
       "mpid         0\n",
       "structure    0\n",
       "dtype: int64"
      ]
     },
     "execution_count": 27,
     "metadata": {},
     "output_type": "execute_result"
    }
   ],
   "source": [
    "#Null values by column\n",
    "matminer_df.isnull().sum()"
   ]
  },
  {
   "cell_type": "code",
   "execution_count": 28,
   "id": "4d7dd686-63ad-42f7-bd4b-5ae941e027d0",
   "metadata": {},
   "outputs": [
    {
     "data": {
      "text/plain": [
       "mpid         0\n",
       "structure    0\n",
       "dtype: int64"
      ]
     },
     "execution_count": 28,
     "metadata": {},
     "output_type": "execute_result"
    }
   ],
   "source": [
    "matminer_df.isna().sum()"
   ]
  },
  {
   "cell_type": "markdown",
   "id": "43aa9b89-0bd3-4517-b0a0-8b76d449c1ad",
   "metadata": {},
   "source": [
    "### Calculate the crystal system"
   ]
  },
  {
   "cell_type": "code",
   "execution_count": 23,
   "id": "a1129653-4ea1-4183-822e-27bd8641a4df",
   "metadata": {},
   "outputs": [],
   "source": [
    "def find_crystalsystem(structure):\n",
    "    calculator = SpacegroupAnalyzer(structure)\n",
    "   \n",
    "    return calculator.get_crystal_system()  "
   ]
  },
  {
   "cell_type": "code",
   "execution_count": 30,
   "id": "93ad345f-0cff-402d-8f3a-be3bfe298a13",
   "metadata": {},
   "outputs": [],
   "source": [
    "matminer_df['crystal_system'] = matminer_df['structure'].apply(find_crystalsystem)"
   ]
  },
  {
   "cell_type": "markdown",
   "id": "c0a0861d-e82e-4fa0-b8f9-ffa63fd976b3",
   "metadata": {
    "jp-MarkdownHeadingCollapsed": true
   },
   "source": [
    "### Capitalize the names of the crystal systems "
   ]
  },
  {
   "cell_type": "code",
   "execution_count": 35,
   "id": "ce3df84b-0b66-4e02-b116-0ba022559905",
   "metadata": {},
   "outputs": [],
   "source": [
    "matminer_df['crystal_system'] = matminer_df['crystal_system'].apply(lambda x: x.capitalize())"
   ]
  },
  {
   "cell_type": "markdown",
   "id": "dbdd1d91-edfa-4c88-9246-979b18eba58c",
   "metadata": {},
   "source": [
    "### Calculate the XY diffraction data"
   ]
  },
  {
   "cell_type": "code",
   "execution_count": 22,
   "id": "05a0c537-ac34-4bdc-8004-7eaa04646fcc",
   "metadata": {},
   "outputs": [],
   "source": [
    "def find_pattern(structure):\n",
    "    #calculate and store the X-Ray powder diffraction as a 2theta- Intensity table.\n",
    "    # Use the conventional structure to ensure peaks are labeled correctly\n",
    "    sga = SpacegroupAnalyzer(structure)\n",
    "    conventional_structure = sga.get_conventional_standard_structure()\n",
    "    \n",
    "    # Generate the XRD diffraction pattern\n",
    "    calculator = XRDCalculator(wavelength=\"CuKa\")\n",
    "    \n",
    "    return calculator.get_pattern(conventional_structure)"
   ]
  },
  {
   "cell_type": "markdown",
   "id": "36a305d9-490d-444d-a868-cf3dc8160964",
   "metadata": {},
   "source": [
    "**Note:** I had to do this with a loop because otherwise, it would never finish."
   ]
  },
  {
   "cell_type": "code",
   "execution_count": 32,
   "id": "7bc2c0a2-b38b-412b-b8c3-fb169c226cb2",
   "metadata": {},
   "outputs": [
    {
     "name": "stderr",
     "output_type": "stream",
     "text": [
      "C:\\Users\\juliana\\anaconda3\\Lib\\site-packages\\pymatgen\\core\\periodic_table.py:289: UserWarning: No Pauling electronegativity for Ar. Setting to NaN. This has no physical meaning, and is mainly done to avoid errors caused by the code expecting a float.\n",
      "  warnings.warn(\n",
      "C:\\Users\\juliana\\anaconda3\\Lib\\site-packages\\pymatgen\\core\\periodic_table.py:289: UserWarning: No Pauling electronegativity for He. Setting to NaN. This has no physical meaning, and is mainly done to avoid errors caused by the code expecting a float.\n",
      "  warnings.warn(\n",
      "C:\\Users\\juliana\\anaconda3\\Lib\\site-packages\\pymatgen\\core\\periodic_table.py:289: UserWarning: No Pauling electronegativity for Ne. Setting to NaN. This has no physical meaning, and is mainly done to avoid errors caused by the code expecting a float.\n",
      "  warnings.warn(\n",
      "C:\\Users\\juliana\\anaconda3\\Lib\\site-packages\\pymatgen\\core\\periodic_table.py:289: UserWarning: No Pauling electronegativity for He. Setting to NaN. This has no physical meaning, and is mainly done to avoid errors caused by the code expecting a float.\n",
      "  warnings.warn(\n",
      "C:\\Users\\juliana\\anaconda3\\Lib\\site-packages\\pymatgen\\core\\periodic_table.py:289: UserWarning: No Pauling electronegativity for Ar. Setting to NaN. This has no physical meaning, and is mainly done to avoid errors caused by the code expecting a float.\n",
      "  warnings.warn(\n",
      "C:\\Users\\juliana\\anaconda3\\Lib\\site-packages\\pymatgen\\core\\periodic_table.py:289: UserWarning: No Pauling electronegativity for He. Setting to NaN. This has no physical meaning, and is mainly done to avoid errors caused by the code expecting a float.\n",
      "  warnings.warn(\n",
      "C:\\Users\\juliana\\anaconda3\\Lib\\site-packages\\pymatgen\\core\\periodic_table.py:289: UserWarning: No Pauling electronegativity for He. Setting to NaN. This has no physical meaning, and is mainly done to avoid errors caused by the code expecting a float.\n",
      "  warnings.warn(\n",
      "C:\\Users\\juliana\\anaconda3\\Lib\\site-packages\\pymatgen\\core\\periodic_table.py:289: UserWarning: No Pauling electronegativity for He. Setting to NaN. This has no physical meaning, and is mainly done to avoid errors caused by the code expecting a float.\n",
      "  warnings.warn(\n"
     ]
    }
   ],
   "source": [
    "X=[]\n",
    "Y=[]\n",
    "for index in range(matminer_df.shape[0]):\n",
    "    material = matminer_df.loc[index]\n",
    "    pattern = find_pattern(material.structure)\n",
    "    X.append(pattern.x)\n",
    "    Y.append(pattern.y)"
   ]
  },
  {
   "cell_type": "code",
   "execution_count": 33,
   "id": "8cf3cf32-bad4-4bfc-b72e-08fefba68bc1",
   "metadata": {},
   "outputs": [],
   "source": [
    "matminer_df['X_values'] = X"
   ]
  },
  {
   "cell_type": "code",
   "execution_count": 34,
   "id": "ad212fdb-cc9c-491f-a0db-eec1b3bd2500",
   "metadata": {},
   "outputs": [],
   "source": [
    "matminer_df['Y_values'] = Y"
   ]
  },
  {
   "cell_type": "markdown",
   "id": "cff27a72-62bc-4754-9219-f2719363fa87",
   "metadata": {},
   "source": [
    "### Materials per Crystal system"
   ]
  },
  {
   "cell_type": "code",
   "execution_count": 3,
   "id": "90c5687f-ffa6-4332-be75-c87009868d75",
   "metadata": {},
   "outputs": [],
   "source": [
    "matminer_df = pd.read_json('matminer.json')"
   ]
  },
  {
   "cell_type": "code",
   "execution_count": 4,
   "id": "1b7e20e6-4c97-42ad-828d-4b76b882bcd2",
   "metadata": {},
   "outputs": [
    {
     "data": {
      "text/plain": [
       "crystal_system\n",
       "Cubic           10737\n",
       "Hexagonal        6066\n",
       "Monoclinic      18814\n",
       "Orthorhombic    18799\n",
       "Tetragonal      10508\n",
       "Triclinic       12078\n",
       "Trigonal         6987\n",
       "Name: mpid, dtype: int64"
      ]
     },
     "execution_count": 4,
     "metadata": {},
     "output_type": "execute_result"
    }
   ],
   "source": [
    "matminer_crystalsys = matminer_df.groupby('crystal_system')['mpid'].count()\n",
    "matminer_crystalsys"
   ]
  },
  {
   "cell_type": "code",
   "execution_count": 7,
   "id": "448a6bbe-6c2a-4c6f-8e43-fa295238f95d",
   "metadata": {},
   "outputs": [
    {
     "data": {
      "image/png": "[encoded data removed]",
      "text/plain": [
       "<Figure size 1000x500 with 1 Axes>"
      ]
     },
     "metadata": {},
     "output_type": "display_data"
    }
   ],
   "source": [
    "plt.style.use('seaborn-v0_8-dark')\n",
    "\n",
    "# Bar plot\n",
    "fig, ax = plt.subplots(figsize=(10,5))\n",
    "\n",
    "\n",
    "bar_container = ax.bar(matminer_crystalsys.index, \n",
    "                       matminer_crystalsys.values,\n",
    "                       edgecolor = 'k', \n",
    "                       align='center',\n",
    "                       linewidth= 0.4,\n",
    "                       color='teal')\n",
    "\n",
    "ax.set_title('Materials per Crystal System', fontsize=16)\n",
    "ax.set_ylabel('')\n",
    "ax.set_xlabel(' ')\n",
    "ax.bar_label(bar_container, fmt='{:,.0f}')\n",
    "\n",
    "#plt.tight_layout()\n",
    "plt.grid()\n",
    "plt.show()\n",
    "plt.style.use('default')"
   ]
  },
  {
   "cell_type": "markdown",
   "id": "24ff3c41-6d80-471c-81b1-dd1cc6ff4ff1",
   "metadata": {},
   "source": [
    "### Store the matminer data "
   ]
  },
  {
   "cell_type": "code",
   "execution_count": 44,
   "id": "8e1cc9a4-be07-4ef7-809b-f0eeb3fd5593",
   "metadata": {},
   "outputs": [
    {
     "data": {
      "text/plain": [
       "Index(['mpid', 'structure', 'crystal_system', 'X_values', 'Y_values'], dtype='object')"
      ]
     },
     "execution_count": 44,
     "metadata": {},
     "output_type": "execute_result"
    }
   ],
   "source": [
    "matminer_df.columns"
   ]
  },
  {
   "cell_type": "code",
   "execution_count": 46,
   "id": "9ecb1c48-7070-4340-9166-e4f96870a800",
   "metadata": {},
   "outputs": [],
   "source": [
    "tmp = matminer_df.drop(columns=['structure'])"
   ]
  },
  {
   "cell_type": "code",
   "execution_count": 47,
   "id": "3b253f8f-0b57-4693-b6a9-d1c3b408b91c",
   "metadata": {},
   "outputs": [],
   "source": [
    "tmp.to_json(\"matminer.json\")"
   ]
  },
  {
   "cell_type": "markdown",
   "id": "ff7e4bfd-406a-4553-8b2c-e9b8da2e0a64",
   "metadata": {},
   "source": [
    "# Load the materials project data"
   ]
  },
  {
   "cell_type": "markdown",
   "id": "5985b665-8e10-43dd-93f5-216954203749",
   "metadata": {},
   "source": [
    "Request 1,000 materials from the hexagonal and trigonal crystal systems through the Materials Project API. These systems have fewer materials, and I was only able to request 1,000.\n",
    "You can find the Materials Project documentation [here](https://docs.materialsproject.org/)."
   ]
  },
  {
   "cell_type": "code",
   "execution_count": 8,
   "id": "95b2bdd6-cb6f-45cc-941e-86c78b61a787",
   "metadata": {},
   "outputs": [],
   "source": [
    "mp_df = pd.DataFrame(columns=['mpid', 'crystal_system', 'X_values', 'Y_values'])"
   ]
  },
  {
   "cell_type": "code",
   "execution_count": 9,
   "id": "bf4ddd47-a369-443b-b608-bf2b7fdb084a",
   "metadata": {},
   "outputs": [],
   "source": [
    "#KEY to the materials project API\n",
    "API_KEY = \"VWWqWZsn3v6LQFwqnWEwYc4vVj119EHl\""
   ]
  },
  {
   "cell_type": "code",
   "execution_count": 10,
   "id": "8e61494c-b7b2-475d-ae08-b1694ae4099d",
   "metadata": {},
   "outputs": [],
   "source": [
    "def get_mp_data(crystal_system, size, API_KEY = API_KEY):\n",
    "    with MPRester(API_KEY) as mpr:\n",
    "        docs = mpr.materials.summary.search(crystal_system = crystal_system, \n",
    "                                            num_chunks =1, \n",
    "                                            chunk_size=size,\n",
    "                                            fields=['material_id', 'symmetry', \n",
    "                                                  'structure'])\n",
    "    return docs"
   ]
  },
  {
   "cell_type": "code",
   "execution_count": 11,
   "id": "fcdab45e-7cba-4346-b95f-3dfe95df83cc",
   "metadata": {},
   "outputs": [
    {
     "data": {
      "application/vnd.jupyter.widget-view+json": {
       "model_id": "b97681a15be445bd955c94b7dc06cb15",
       "version_major": 2,
       "version_minor": 0
      },
      "text/plain": [
       "Retrieving SummaryDoc documents:   0%|          | 0/1000 [00:00<?, ?it/s]"
      ]
     },
     "metadata": {},
     "output_type": "display_data"
    }
   ],
   "source": [
    "materials_hexagonal = get_mp_data('Hexagonal', 1000)"
   ]
  },
  {
   "cell_type": "code",
   "execution_count": 15,
   "id": "6698c832-5fd2-4a26-84a6-85a1f542f0eb",
   "metadata": {},
   "outputs": [
    {
     "data": {
      "application/vnd.jupyter.widget-view+json": {
       "model_id": "ee79a526a4cf49fda9ede627a561fb45",
       "version_major": 2,
       "version_minor": 0
      },
      "text/plain": [
       "Retrieving SummaryDoc documents:   0%|          | 0/1000 [00:00<?, ?it/s]"
      ]
     },
     "metadata": {},
     "output_type": "display_data"
    }
   ],
   "source": [
    "materials_trigonal = get_mp_data('Trigonal', 1000)"
   ]
  },
  {
   "cell_type": "code",
   "execution_count": 18,
   "id": "851836d8-3466-4dc4-b21a-1e9b4b66b410",
   "metadata": {},
   "outputs": [
    {
     "data": {
      "application/vnd.jupyter.widget-view+json": {
       "model_id": "c4e34c3f477848e698a21a03f12f7869",
       "version_major": 2,
       "version_minor": 0
      },
      "text/plain": [
       "Retrieving SummaryDoc documents:   0%|          | 0/1000 [00:00<?, ?it/s]"
      ]
     },
     "metadata": {},
     "output_type": "display_data"
    }
   ],
   "source": [
    "materials_tetragonal = get_mp_data('Tetragonal', 1000)"
   ]
  },
  {
   "cell_type": "code",
   "execution_count": 19,
   "id": "9ee30ec5-1556-4bda-884e-90bab954b68f",
   "metadata": {},
   "outputs": [
    {
     "data": {
      "application/vnd.jupyter.widget-view+json": {
       "model_id": "bcbfbc8aba944f298471e3e5b221c6ff",
       "version_major": 2,
       "version_minor": 0
      },
      "text/plain": [
       "Retrieving SummaryDoc documents:   0%|          | 0/1000 [00:00<?, ?it/s]"
      ]
     },
     "metadata": {},
     "output_type": "display_data"
    }
   ],
   "source": [
    "materials_cubic = get_mp_data('Cubic', 1000)"
   ]
  },
  {
   "cell_type": "markdown",
   "id": "d7939e4b-4c3f-447c-9fca-e577d4343ed6",
   "metadata": {},
   "source": [
    "### Store the data in the materials project dataframe"
   ]
  },
  {
   "cell_type": "code",
   "execution_count": 20,
   "id": "49eec4b7-3927-4cd2-95ae-00eeb4b7d997",
   "metadata": {},
   "outputs": [],
   "source": [
    "def add_mp_data(data, target_df):\n",
    "    size_df = target_df.shape[0]\n",
    "    for i, material in enumerate(data):\n",
    "        mpid = material.material_id\n",
    "        crystal_sys = str(material.symmetry.crystal_system).capitalize()\n",
    "\n",
    "        pattern = find_pattern(material.structure)\n",
    "\n",
    "        x_values = pattern.x\n",
    "        y_values = pattern.y\n",
    "\n",
    "        target_df.loc[i + size_df] = [mpid, crystal_sys, \n",
    "                                      x_values, y_values]"
   ]
  },
  {
   "cell_type": "code",
   "execution_count": 24,
   "id": "18f473f8-881f-4607-a61f-3311d3001bbb",
   "metadata": {},
   "outputs": [
    {
     "name": "stderr",
     "output_type": "stream",
     "text": [
      "C:\\Users\\juliana\\anaconda3\\Lib\\site-packages\\pymatgen\\core\\periodic_table.py:289: UserWarning: No Pauling electronegativity for Ar. Setting to NaN. This has no physical meaning, and is mainly done to avoid errors caused by the code expecting a float.\n",
      "  warnings.warn(\n",
      "C:\\Users\\juliana\\anaconda3\\Lib\\site-packages\\pymatgen\\core\\periodic_table.py:289: UserWarning: No Pauling electronegativity for Ar. Setting to NaN. This has no physical meaning, and is mainly done to avoid errors caused by the code expecting a float.\n",
      "  warnings.warn(\n"
     ]
    }
   ],
   "source": [
    "add_mp_data(materials_hexagonal, mp_df)\n",
    "add_mp_data(materials_trigonal, mp_df)\n",
    "add_mp_data(materials_tetragonal, mp_df)\n",
    "add_mp_data(materials_cubic, mp_df)"
   ]
  },
  {
   "cell_type": "markdown",
   "id": "1d40d754-ddcc-4459-8273-aeddcc13290f",
   "metadata": {},
   "source": [
    "### Save the materials project data"
   ]
  },
  {
   "cell_type": "code",
   "execution_count": 25,
   "id": "ab4adbb6-22fc-40a2-9dfc-c2b268d5ee90",
   "metadata": {},
   "outputs": [],
   "source": [
    "mp_df.to_json(\"mp.json\")"
   ]
  },
  {
   "cell_type": "markdown",
   "id": "34a87430-599c-437a-a71b-062a06436beb",
   "metadata": {},
   "source": [
    "# Join the Datasets"
   ]
  },
  {
   "cell_type": "code",
   "execution_count": 27,
   "id": "f6592d42-c64d-4500-ba93-fa9584066ba8",
   "metadata": {},
   "outputs": [
    {
     "data": {
      "image/png": "[encoded data removed]",
      "text/plain": [
       "<Figure size 800x500 with 1 Axes>"
      ]
     },
     "metadata": {},
     "output_type": "display_data"
    }
   ],
   "source": [
    "plt.style.use('seaborn-v0_8-dark')\n",
    "num_matminer = matminer_df.groupby('crystal_system')['mpid'].count()\n",
    "num_mp = mp_df.groupby('crystal_system')['mpid'].count()\n",
    "index = num_matminer.index\n",
    "\n",
    "df = pd.DataFrame({'Matminer': num_matminer,\n",
    "                  'Materials Project': num_mp}, index=index)\n",
    "\n",
    "fig, ax = plt.subplots(figsize=(8, 5))\n",
    "df.plot.bar(rot=0, stacked=True, \n",
    "            color= ['teal', 'mediumseagreen'],alpha=0.75,\n",
    "            ax = ax)\n",
    "ax.set(title='Number of Materials', xlabel='Crystal System')\n",
    "plt.tight_layout()"
   ]
  },
  {
   "cell_type": "markdown",
   "id": "a55c88a3-0e5e-44de-800a-2edfd381254f",
   "metadata": {},
   "source": [
    "### concatenate the dataframes"
   ]
  },
  {
   "cell_type": "code",
   "execution_count": 28,
   "id": "f777ac85-f080-443f-a913-fd20bb19abbf",
   "metadata": {},
   "outputs": [],
   "source": [
    "# Change the column names so they match\n",
    "matminer_df.rename(columns={'mpid': 'id'}, inplace=True)\n",
    "mp_df.rename(columns={'mpid': 'id'}, inplace=True)\n",
    "\n",
    "# Add source database column\n",
    "matminer_df['source_database'] = 'Matminer'\n",
    "mp_df['source_database'] = 'mp'"
   ]
  },
  {
   "cell_type": "code",
   "execution_count": 30,
   "id": "5cd154d8-196f-43bf-a3ae-3e0e97380d57",
   "metadata": {},
   "outputs": [],
   "source": [
    "dataset = pd.concat([matminer_df, mp_df], \n",
    "                   ignore_index=True)\n"
   ]
  },
  {
   "cell_type": "markdown",
   "id": "a2c945d0-571d-4244-83ce-f7b36924c4dc",
   "metadata": {},
   "source": [
    "### Dataset information"
   ]
  },
  {
   "cell_type": "code",
   "execution_count": 31,
   "id": "e39bce36-f922-425f-82c6-cf45845acc5b",
   "metadata": {},
   "outputs": [
    {
     "data": {
      "text/html": [
       "<div>\n",
       "<style scoped>\n",
       "    .dataframe tbody tr th:only-of-type {\n",
       "        vertical-align: middle;\n",
       "    }\n",
       "\n",
       "    .dataframe tbody tr th {\n",
       "        vertical-align: top;\n",
       "    }\n",
       "\n",
       "    .dataframe thead th {\n",
       "        text-align: right;\n",
       "    }\n",
       "</style>\n",
       "<table border=\"1\" class=\"dataframe\">\n",
       "  <thead>\n",
       "    <tr style=\"text-align: right;\">\n",
       "      <th></th>\n",
       "      <th>id</th>\n",
       "      <th>crystal_system</th>\n",
       "      <th>X_values</th>\n",
       "      <th>Y_values</th>\n",
       "      <th>source_database</th>\n",
       "    </tr>\n",
       "  </thead>\n",
       "  <tbody>\n",
       "    <tr>\n",
       "      <th>0</th>\n",
       "      <td>mp-85</td>\n",
       "      <td>Tetragonal</td>\n",
       "      <td>[32.3536089071, 36.3520663769, 38.1099360092, ...</td>\n",
       "      <td>[100.0, 18.1958586805, 31.8782768858, 22.91688...</td>\n",
       "      <td>Matminer</td>\n",
       "    </tr>\n",
       "    <tr>\n",
       "      <th>1</th>\n",
       "      <td>mp-110</td>\n",
       "      <td>Cubic</td>\n",
       "      <td>[35.4679954588, 51.0324956984, 63.6841425788, ...</td>\n",
       "      <td>[100.0, 16.976374379, 33.5918902393, 9.9493066...</td>\n",
       "      <td>Matminer</td>\n",
       "    </tr>\n",
       "    <tr>\n",
       "      <th>2</th>\n",
       "      <td>mp-20</td>\n",
       "      <td>Cubic</td>\n",
       "      <td>[51.6585266924, 76.0725042731]</td>\n",
       "      <td>[100.0, 17.5068706603]</td>\n",
       "      <td>Matminer</td>\n",
       "    </tr>\n",
       "    <tr>\n",
       "      <th>3</th>\n",
       "      <td>mp-8640</td>\n",
       "      <td>Cubic</td>\n",
       "      <td>[34.6695349659, 40.2473671921, 58.2290835966, ...</td>\n",
       "      <td>[100.0, 49.9874745409, 34.2603160603, 40.33535...</td>\n",
       "      <td>Matminer</td>\n",
       "    </tr>\n",
       "    <tr>\n",
       "      <th>4</th>\n",
       "      <td>mp-674158</td>\n",
       "      <td>Cubic</td>\n",
       "      <td>[19.5279458907, 22.5859010533, 32.1552064177, ...</td>\n",
       "      <td>[100.0, 51.0568207953, 37.3581324298, 45.40608...</td>\n",
       "      <td>Matminer</td>\n",
       "    </tr>\n",
       "  </tbody>\n",
       "</table>\n",
       "</div>"
      ],
      "text/plain": [
       "          id crystal_system  \\\n",
       "0      mp-85     Tetragonal   \n",
       "1     mp-110          Cubic   \n",
       "2      mp-20          Cubic   \n",
       "3    mp-8640          Cubic   \n",
       "4  mp-674158          Cubic   \n",
       "\n",
       "                                            X_values  \\\n",
       "0  [32.3536089071, 36.3520663769, 38.1099360092, ...   \n",
       "1  [35.4679954588, 51.0324956984, 63.6841425788, ...   \n",
       "2                     [51.6585266924, 76.0725042731]   \n",
       "3  [34.6695349659, 40.2473671921, 58.2290835966, ...   \n",
       "4  [19.5279458907, 22.5859010533, 32.1552064177, ...   \n",
       "\n",
       "                                            Y_values source_database  \n",
       "0  [100.0, 18.1958586805, 31.8782768858, 22.91688...        Matminer  \n",
       "1  [100.0, 16.976374379, 33.5918902393, 9.9493066...        Matminer  \n",
       "2                             [100.0, 17.5068706603]        Matminer  \n",
       "3  [100.0, 49.9874745409, 34.2603160603, 40.33535...        Matminer  \n",
       "4  [100.0, 51.0568207953, 37.3581324298, 45.40608...        Matminer  "
      ]
     },
     "execution_count": 31,
     "metadata": {},
     "output_type": "execute_result"
    }
   ],
   "source": [
    "dataset.head()"
   ]
  },
  {
   "cell_type": "code",
   "execution_count": 32,
   "id": "74b76735-79da-42aa-a0eb-d97e900f3557",
   "metadata": {},
   "outputs": [
    {
     "name": "stdout",
     "output_type": "stream",
     "text": [
      "<class 'pandas.core.frame.DataFrame'>\n",
      "RangeIndex: 87989 entries, 0 to 87988\n",
      "Data columns (total 5 columns):\n",
      " #   Column           Non-Null Count  Dtype \n",
      "---  ------           --------------  ----- \n",
      " 0   id               87989 non-null  object\n",
      " 1   crystal_system   87989 non-null  object\n",
      " 2   X_values         87989 non-null  object\n",
      " 3   Y_values         87989 non-null  object\n",
      " 4   source_database  87989 non-null  object\n",
      "dtypes: object(5)\n",
      "memory usage: 3.4+ MB\n"
     ]
    }
   ],
   "source": [
    "dataset.info()"
   ]
  },
  {
   "cell_type": "code",
   "execution_count": 33,
   "id": "f91e8507-c06a-4ec9-8c94-1a1bd0452c8d",
   "metadata": {},
   "outputs": [
    {
     "data": {
      "text/plain": [
       "id                 0\n",
       "crystal_system     0\n",
       "X_values           0\n",
       "Y_values           0\n",
       "source_database    0\n",
       "dtype: int64"
      ]
     },
     "execution_count": 33,
     "metadata": {},
     "output_type": "execute_result"
    }
   ],
   "source": [
    "dataset.isnull().sum()"
   ]
  },
  {
   "cell_type": "markdown",
   "id": "9e94af8e-c8d0-4e47-88ac-943b51fbf540",
   "metadata": {},
   "source": [
    "### Materials per Crystal System"
   ]
  },
  {
   "cell_type": "code",
   "execution_count": 34,
   "id": "bbcf3836-3cc9-40a4-a195-c35f6206b00d",
   "metadata": {},
   "outputs": [
    {
     "data": {
      "image/png": "[encoded data removed]",
      "text/plain": [
       "<Figure size 600x500 with 1 Axes>"
      ]
     },
     "metadata": {},
     "output_type": "display_data"
    }
   ],
   "source": [
    "crystal_sys = dataset.groupby('crystal_system')['id'].count()\n",
    "\n",
    "# Donut plot\n",
    "fig, ax = plt.subplots(figsize=(6,5))\n",
    "\n",
    "# create a color palette, mapped to these values\n",
    "Set2 = plt.color_sequences[\"Set2\"]\n",
    "colors = [Set2[i] for i in range(crystal_sys.size)]\n",
    "\n",
    "ax.pie(crystal_sys.values, \n",
    "       radius=1.5, \n",
    "       colors=colors,\n",
    "       labels= crystal_sys.index, \n",
    "       wedgeprops=dict(width= 0.5, edgecolor='w'),\n",
    "      autopct = '%1.1f%%')\n",
    "\n",
    "fig.suptitle('Materials per Crystal System', fontsize=16)\n",
    "plt.tight_layout()\n",
    "plt.show()\n",
    "plt.style.use('default')"
   ]
  },
  {
   "cell_type": "markdown",
   "id": "140f308d-0d10-46a9-990b-801d4027b43a",
   "metadata": {},
   "source": [
    "### Save dataset"
   ]
  },
  {
   "cell_type": "code",
   "execution_count": 35,
   "id": "fed77b4e-c028-4fd4-86b1-0c89350a0654",
   "metadata": {},
   "outputs": [
    {
     "ename": "KeyboardInterrupt",
     "evalue": "",
     "output_type": "error",
     "traceback": [
      "\u001b[1;31m---------------------------------------------------------------------------\u001b[0m",
      "\u001b[1;31mKeyboardInterrupt\u001b[0m                         Traceback (most recent call last)",
      "Cell \u001b[1;32mIn[35], line 1\u001b[0m\n\u001b[1;32m----> 1\u001b[0m dataset\u001b[38;5;241m.\u001b[39mto_json(\u001b[38;5;124m\"\u001b[39m\u001b[38;5;124mdataseV2.json\u001b[39m\u001b[38;5;124m\"\u001b[39m)\n",
      "File \u001b[1;32m~\\anaconda3\\Lib\\site-packages\\pandas\\util\\_decorators.py:333\u001b[0m, in \u001b[0;36mdeprecate_nonkeyword_arguments.<locals>.decorate.<locals>.wrapper\u001b[1;34m(*args, **kwargs)\u001b[0m\n\u001b[0;32m    327\u001b[0m \u001b[38;5;28;01mif\u001b[39;00m \u001b[38;5;28mlen\u001b[39m(args) \u001b[38;5;241m>\u001b[39m num_allow_args:\n\u001b[0;32m    328\u001b[0m     warnings\u001b[38;5;241m.\u001b[39mwarn(\n\u001b[0;32m    329\u001b[0m         msg\u001b[38;5;241m.\u001b[39mformat(arguments\u001b[38;5;241m=\u001b[39m_format_argument_list(allow_args)),\n\u001b[0;32m    330\u001b[0m         \u001b[38;5;167;01mFutureWarning\u001b[39;00m,\n\u001b[0;32m    331\u001b[0m         stacklevel\u001b[38;5;241m=\u001b[39mfind_stack_level(),\n\u001b[0;32m    332\u001b[0m     )\n\u001b[1;32m--> 333\u001b[0m \u001b[38;5;28;01mreturn\u001b[39;00m func(\u001b[38;5;241m*\u001b[39margs, \u001b[38;5;241m*\u001b[39m\u001b[38;5;241m*\u001b[39mkwargs)\n",
      "File \u001b[1;32m~\\anaconda3\\Lib\\site-packages\\pandas\\core\\generic.py:2702\u001b[0m, in \u001b[0;36mNDFrame.to_json\u001b[1;34m(self, path_or_buf, orient, date_format, double_precision, force_ascii, date_unit, default_handler, lines, compression, index, indent, storage_options, mode)\u001b[0m\n\u001b[0;32m   2699\u001b[0m config\u001b[38;5;241m.\u001b[39mis_nonnegative_int(indent)\n\u001b[0;32m   2700\u001b[0m indent \u001b[38;5;241m=\u001b[39m indent \u001b[38;5;129;01mor\u001b[39;00m \u001b[38;5;241m0\u001b[39m\n\u001b[1;32m-> 2702\u001b[0m \u001b[38;5;28;01mreturn\u001b[39;00m json\u001b[38;5;241m.\u001b[39mto_json(\n\u001b[0;32m   2703\u001b[0m     path_or_buf\u001b[38;5;241m=\u001b[39mpath_or_buf,\n\u001b[0;32m   2704\u001b[0m     obj\u001b[38;5;241m=\u001b[39m\u001b[38;5;28mself\u001b[39m,\n\u001b[0;32m   2705\u001b[0m     orient\u001b[38;5;241m=\u001b[39morient,\n\u001b[0;32m   2706\u001b[0m     date_format\u001b[38;5;241m=\u001b[39mdate_format,\n\u001b[0;32m   2707\u001b[0m     double_precision\u001b[38;5;241m=\u001b[39mdouble_precision,\n\u001b[0;32m   2708\u001b[0m     force_ascii\u001b[38;5;241m=\u001b[39mforce_ascii,\n\u001b[0;32m   2709\u001b[0m     date_unit\u001b[38;5;241m=\u001b[39mdate_unit,\n\u001b[0;32m   2710\u001b[0m     default_handler\u001b[38;5;241m=\u001b[39mdefault_handler,\n\u001b[0;32m   2711\u001b[0m     lines\u001b[38;5;241m=\u001b[39mlines,\n\u001b[0;32m   2712\u001b[0m     compression\u001b[38;5;241m=\u001b[39mcompression,\n\u001b[0;32m   2713\u001b[0m     index\u001b[38;5;241m=\u001b[39mindex,\n\u001b[0;32m   2714\u001b[0m     indent\u001b[38;5;241m=\u001b[39mindent,\n\u001b[0;32m   2715\u001b[0m     storage_options\u001b[38;5;241m=\u001b[39mstorage_options,\n\u001b[0;32m   2716\u001b[0m     mode\u001b[38;5;241m=\u001b[39mmode,\n\u001b[0;32m   2717\u001b[0m )\n",
      "File \u001b[1;32m~\\anaconda3\\Lib\\site-packages\\pandas\\io\\json\\_json.py:217\u001b[0m, in \u001b[0;36mto_json\u001b[1;34m(path_or_buf, obj, orient, date_format, double_precision, force_ascii, date_unit, default_handler, lines, compression, index, indent, storage_options, mode)\u001b[0m\n\u001b[0;32m    213\u001b[0m     s \u001b[38;5;241m=\u001b[39m convert_to_line_delimits(s)\n\u001b[0;32m    215\u001b[0m \u001b[38;5;28;01mif\u001b[39;00m path_or_buf \u001b[38;5;129;01mis\u001b[39;00m \u001b[38;5;129;01mnot\u001b[39;00m \u001b[38;5;28;01mNone\u001b[39;00m:\n\u001b[0;32m    216\u001b[0m     \u001b[38;5;66;03m# apply compression and byte/text conversion\u001b[39;00m\n\u001b[1;32m--> 217\u001b[0m     \u001b[38;5;28;01mwith\u001b[39;00m get_handle(\n\u001b[0;32m    218\u001b[0m         path_or_buf, mode, compression\u001b[38;5;241m=\u001b[39mcompression, storage_options\u001b[38;5;241m=\u001b[39mstorage_options\n\u001b[0;32m    219\u001b[0m     ) \u001b[38;5;28;01mas\u001b[39;00m handles:\n\u001b[0;32m    220\u001b[0m         handles\u001b[38;5;241m.\u001b[39mhandle\u001b[38;5;241m.\u001b[39mwrite(s)\n\u001b[0;32m    221\u001b[0m \u001b[38;5;28;01melse\u001b[39;00m:\n",
      "File \u001b[1;32m~\\anaconda3\\Lib\\site-packages\\pandas\\io\\common.py:664\u001b[0m, in \u001b[0;36mget_handle\u001b[1;34m(path_or_buf, mode, encoding, compression, memory_map, is_text, errors, storage_options)\u001b[0m\n\u001b[0;32m    649\u001b[0m \u001b[38;5;129m@overload\u001b[39m\n\u001b[0;32m    650\u001b[0m \u001b[38;5;28;01mdef\u001b[39;00m \u001b[38;5;21mget_handle\u001b[39m(\n\u001b[0;32m    651\u001b[0m     path_or_buf: FilePath \u001b[38;5;241m|\u001b[39m BaseBuffer,\n\u001b[1;32m   (...)\u001b[0m\n\u001b[0;32m    659\u001b[0m     storage_options: StorageOptions \u001b[38;5;241m=\u001b[39m \u001b[38;5;241m.\u001b[39m\u001b[38;5;241m.\u001b[39m\u001b[38;5;241m.\u001b[39m,\n\u001b[0;32m    660\u001b[0m ) \u001b[38;5;241m-\u001b[39m\u001b[38;5;241m>\u001b[39m IOHandles[\u001b[38;5;28mstr\u001b[39m] \u001b[38;5;241m|\u001b[39m IOHandles[\u001b[38;5;28mbytes\u001b[39m]:\n\u001b[0;32m    661\u001b[0m     \u001b[38;5;241m.\u001b[39m\u001b[38;5;241m.\u001b[39m\u001b[38;5;241m.\u001b[39m\n\u001b[1;32m--> 664\u001b[0m \u001b[38;5;129m@doc\u001b[39m(compression_options\u001b[38;5;241m=\u001b[39m_shared_docs[\u001b[38;5;124m\"\u001b[39m\u001b[38;5;124mcompression_options\u001b[39m\u001b[38;5;124m\"\u001b[39m] \u001b[38;5;241m%\u001b[39m \u001b[38;5;124m\"\u001b[39m\u001b[38;5;124mpath_or_buf\u001b[39m\u001b[38;5;124m\"\u001b[39m)\n\u001b[0;32m    665\u001b[0m \u001b[38;5;28;01mdef\u001b[39;00m \u001b[38;5;21mget_handle\u001b[39m(\n\u001b[0;32m    666\u001b[0m     path_or_buf: FilePath \u001b[38;5;241m|\u001b[39m BaseBuffer,\n\u001b[0;32m    667\u001b[0m     mode: \u001b[38;5;28mstr\u001b[39m,\n\u001b[0;32m    668\u001b[0m     \u001b[38;5;241m*\u001b[39m,\n\u001b[0;32m    669\u001b[0m     encoding: \u001b[38;5;28mstr\u001b[39m \u001b[38;5;241m|\u001b[39m \u001b[38;5;28;01mNone\u001b[39;00m \u001b[38;5;241m=\u001b[39m \u001b[38;5;28;01mNone\u001b[39;00m,\n\u001b[0;32m    670\u001b[0m     compression: CompressionOptions \u001b[38;5;241m|\u001b[39m \u001b[38;5;28;01mNone\u001b[39;00m \u001b[38;5;241m=\u001b[39m \u001b[38;5;28;01mNone\u001b[39;00m,\n\u001b[0;32m    671\u001b[0m     memory_map: \u001b[38;5;28mbool\u001b[39m \u001b[38;5;241m=\u001b[39m \u001b[38;5;28;01mFalse\u001b[39;00m,\n\u001b[0;32m    672\u001b[0m     is_text: \u001b[38;5;28mbool\u001b[39m \u001b[38;5;241m=\u001b[39m \u001b[38;5;28;01mTrue\u001b[39;00m,\n\u001b[0;32m    673\u001b[0m     errors: \u001b[38;5;28mstr\u001b[39m \u001b[38;5;241m|\u001b[39m \u001b[38;5;28;01mNone\u001b[39;00m \u001b[38;5;241m=\u001b[39m \u001b[38;5;28;01mNone\u001b[39;00m,\n\u001b[0;32m    674\u001b[0m     storage_options: StorageOptions \u001b[38;5;241m|\u001b[39m \u001b[38;5;28;01mNone\u001b[39;00m \u001b[38;5;241m=\u001b[39m \u001b[38;5;28;01mNone\u001b[39;00m,\n\u001b[0;32m    675\u001b[0m ) \u001b[38;5;241m-\u001b[39m\u001b[38;5;241m>\u001b[39m IOHandles[\u001b[38;5;28mstr\u001b[39m] \u001b[38;5;241m|\u001b[39m IOHandles[\u001b[38;5;28mbytes\u001b[39m]:\n\u001b[0;32m    676\u001b[0m \u001b[38;5;250m    \u001b[39m\u001b[38;5;124;03m\"\"\"\u001b[39;00m\n\u001b[0;32m    677\u001b[0m \u001b[38;5;124;03m    Get file handle for given path/buffer and mode.\u001b[39;00m\n\u001b[0;32m    678\u001b[0m \n\u001b[1;32m   (...)\u001b[0m\n\u001b[0;32m    711\u001b[0m \u001b[38;5;124;03m    Returns the dataclass IOHandles\u001b[39;00m\n\u001b[0;32m    712\u001b[0m \u001b[38;5;124;03m    \"\"\"\u001b[39;00m\n\u001b[0;32m    713\u001b[0m     \u001b[38;5;66;03m# Windows does not default to utf-8. Set to utf-8 for a consistent behavior\u001b[39;00m\n",
      "\u001b[1;31mKeyboardInterrupt\u001b[0m: "
     ]
    }
   ],
   "source": [
    "dataset.to_json(\"dataseV2.json\")"
   ]
  },
  {
   "cell_type": "code",
   "execution_count": null,
   "id": "81433b8a-4fbb-4464-84fc-28ae030862e0",
   "metadata": {},
   "outputs": [],
   "source": []
  },
  {
   "cell_type": "code",
   "execution_count": null,
   "id": "5582acff-13e3-47d9-81ed-3061050ca46f",
   "metadata": {},
   "outputs": [],
   "source": []
  }
 ],
 "metadata": {
  "kernelspec": {
   "display_name": "Python 3 (ipykernel)",
   "language": "python",
   "name": "python3"
  },
  "language_info": {
   "codemirror_mode": {
    "name": "ipython",
    "version": 3
   },
   "file_extension": ".py",
   "mimetype": "text/x-python",
   "name": "python",
   "nbconvert_exporter": "python",
   "pygments_lexer": "ipython3",
   "version": "3.12.7"
  }
 },
 "nbformat": 4,
 "nbformat_minor": 5
}
