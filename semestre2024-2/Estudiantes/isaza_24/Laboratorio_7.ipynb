{
  "cells": [
    {
      "cell_type": "markdown",
      "metadata": {
        "id": "uKPb3LC9cTyI"
      },
      "source": [
        "<a href=\"https://colab.research.google.com/github/CienciaDatosUdea/002_EstudiantesAprendizajeEstadistico/blob/main/semestre2024-2/Laboratorios/Laboratorio_07_nn_zeroV1.ipynb\" target=\"_parent\"><img src=\"https://colab.research.google.com/assets/colab-badge.svg\" alt=\"Open In Colab\"/></a>"
      ]
    },
    {
      "cell_type": "code",
      "execution_count": null,
      "metadata": {
        "id": "UG0R-DxjnBhn"
      },
      "outputs": [],
      "source": [
        "#liberias\n",
        "import pandas as pd\n",
        "import scipy as sc\n",
        "import numpy as np\n",
        "import h5py\n",
        "import matplotlib.pylab as plt"
      ]
    },
    {
      "cell_type": "code",
      "execution_count": null,
      "metadata": {
        "id": "u3DbUInju5bB",
        "colab": {
          "base_uri": "https://localhost:8080/",
          "height": 478
        },
        "outputId": "2a85e75b-37d2-48dd-a5ac-3e141ef2ebc2"
      },
      "outputs": [
        {
          "output_type": "error",
          "ename": "FileNotFoundError",
          "evalue": "[Errno 2] Unable to synchronously open file (unable to open file: name = 'train_catvnoncat.h5', errno = 2, error message = 'No such file or directory', flags = 0, o_flags = 0)",
          "traceback": [
            "\u001b[0;31m---------------------------------------------------------------------------\u001b[0m",
            "\u001b[0;31mFileNotFoundError\u001b[0m                         Traceback (most recent call last)",
            "\u001b[0;32m<ipython-input-4-05807db868f5>\u001b[0m in \u001b[0;36m<cell line: 3>\u001b[0;34m()\u001b[0m\n\u001b[1;32m      1\u001b[0m \u001b[0;31m#Cargamos los dataset\u001b[0m\u001b[0;34m\u001b[0m\u001b[0;34m\u001b[0m\u001b[0m\n\u001b[1;32m      2\u001b[0m \u001b[0mdata_train\u001b[0m\u001b[0;34m=\u001b[0m \u001b[0;34m\"train_catvnoncat.h5\"\u001b[0m\u001b[0;34m\u001b[0m\u001b[0;34m\u001b[0m\u001b[0m\n\u001b[0;32m----> 3\u001b[0;31m \u001b[0mtrain_dataset\u001b[0m \u001b[0;34m=\u001b[0m \u001b[0mh5py\u001b[0m\u001b[0;34m.\u001b[0m\u001b[0mFile\u001b[0m\u001b[0;34m(\u001b[0m\u001b[0mdata_train\u001b[0m\u001b[0;34m,\u001b[0m \u001b[0;34m\"r\"\u001b[0m\u001b[0;34m)\u001b[0m\u001b[0;34m\u001b[0m\u001b[0;34m\u001b[0m\u001b[0m\n\u001b[0m\u001b[1;32m      4\u001b[0m \u001b[0;34m\u001b[0m\u001b[0m\n\u001b[1;32m      5\u001b[0m \u001b[0mdata_test\u001b[0m\u001b[0;34m=\u001b[0m \u001b[0;34m\"test_catvnoncat.h5\"\u001b[0m\u001b[0;34m\u001b[0m\u001b[0;34m\u001b[0m\u001b[0m\n",
            "\u001b[0;32m/usr/local/lib/python3.10/dist-packages/h5py/_hl/files.py\u001b[0m in \u001b[0;36m__init__\u001b[0;34m(self, name, mode, driver, libver, userblock_size, swmr, rdcc_nslots, rdcc_nbytes, rdcc_w0, track_order, fs_strategy, fs_persist, fs_threshold, fs_page_size, page_buf_size, min_meta_keep, min_raw_keep, locking, alignment_threshold, alignment_interval, meta_block_size, **kwds)\u001b[0m\n\u001b[1;32m    559\u001b[0m                                  \u001b[0mfs_persist\u001b[0m\u001b[0;34m=\u001b[0m\u001b[0mfs_persist\u001b[0m\u001b[0;34m,\u001b[0m \u001b[0mfs_threshold\u001b[0m\u001b[0;34m=\u001b[0m\u001b[0mfs_threshold\u001b[0m\u001b[0;34m,\u001b[0m\u001b[0;34m\u001b[0m\u001b[0;34m\u001b[0m\u001b[0m\n\u001b[1;32m    560\u001b[0m                                  fs_page_size=fs_page_size)\n\u001b[0;32m--> 561\u001b[0;31m                 \u001b[0mfid\u001b[0m \u001b[0;34m=\u001b[0m \u001b[0mmake_fid\u001b[0m\u001b[0;34m(\u001b[0m\u001b[0mname\u001b[0m\u001b[0;34m,\u001b[0m \u001b[0mmode\u001b[0m\u001b[0;34m,\u001b[0m \u001b[0muserblock_size\u001b[0m\u001b[0;34m,\u001b[0m \u001b[0mfapl\u001b[0m\u001b[0;34m,\u001b[0m \u001b[0mfcpl\u001b[0m\u001b[0;34m,\u001b[0m \u001b[0mswmr\u001b[0m\u001b[0;34m=\u001b[0m\u001b[0mswmr\u001b[0m\u001b[0;34m)\u001b[0m\u001b[0;34m\u001b[0m\u001b[0;34m\u001b[0m\u001b[0m\n\u001b[0m\u001b[1;32m    562\u001b[0m \u001b[0;34m\u001b[0m\u001b[0m\n\u001b[1;32m    563\u001b[0m             \u001b[0;32mif\u001b[0m \u001b[0misinstance\u001b[0m\u001b[0;34m(\u001b[0m\u001b[0mlibver\u001b[0m\u001b[0;34m,\u001b[0m \u001b[0mtuple\u001b[0m\u001b[0;34m)\u001b[0m\u001b[0;34m:\u001b[0m\u001b[0;34m\u001b[0m\u001b[0;34m\u001b[0m\u001b[0m\n",
            "\u001b[0;32m/usr/local/lib/python3.10/dist-packages/h5py/_hl/files.py\u001b[0m in \u001b[0;36mmake_fid\u001b[0;34m(name, mode, userblock_size, fapl, fcpl, swmr)\u001b[0m\n\u001b[1;32m    233\u001b[0m         \u001b[0;32mif\u001b[0m \u001b[0mswmr\u001b[0m \u001b[0;32mand\u001b[0m \u001b[0mswmr_support\u001b[0m\u001b[0;34m:\u001b[0m\u001b[0;34m\u001b[0m\u001b[0;34m\u001b[0m\u001b[0m\n\u001b[1;32m    234\u001b[0m             \u001b[0mflags\u001b[0m \u001b[0;34m|=\u001b[0m \u001b[0mh5f\u001b[0m\u001b[0;34m.\u001b[0m\u001b[0mACC_SWMR_READ\u001b[0m\u001b[0;34m\u001b[0m\u001b[0;34m\u001b[0m\u001b[0m\n\u001b[0;32m--> 235\u001b[0;31m         \u001b[0mfid\u001b[0m \u001b[0;34m=\u001b[0m \u001b[0mh5f\u001b[0m\u001b[0;34m.\u001b[0m\u001b[0mopen\u001b[0m\u001b[0;34m(\u001b[0m\u001b[0mname\u001b[0m\u001b[0;34m,\u001b[0m \u001b[0mflags\u001b[0m\u001b[0;34m,\u001b[0m \u001b[0mfapl\u001b[0m\u001b[0;34m=\u001b[0m\u001b[0mfapl\u001b[0m\u001b[0;34m)\u001b[0m\u001b[0;34m\u001b[0m\u001b[0;34m\u001b[0m\u001b[0m\n\u001b[0m\u001b[1;32m    236\u001b[0m     \u001b[0;32melif\u001b[0m \u001b[0mmode\u001b[0m \u001b[0;34m==\u001b[0m \u001b[0;34m'r+'\u001b[0m\u001b[0;34m:\u001b[0m\u001b[0;34m\u001b[0m\u001b[0;34m\u001b[0m\u001b[0m\n\u001b[1;32m    237\u001b[0m         \u001b[0mfid\u001b[0m \u001b[0;34m=\u001b[0m \u001b[0mh5f\u001b[0m\u001b[0;34m.\u001b[0m\u001b[0mopen\u001b[0m\u001b[0;34m(\u001b[0m\u001b[0mname\u001b[0m\u001b[0;34m,\u001b[0m \u001b[0mh5f\u001b[0m\u001b[0;34m.\u001b[0m\u001b[0mACC_RDWR\u001b[0m\u001b[0;34m,\u001b[0m \u001b[0mfapl\u001b[0m\u001b[0;34m=\u001b[0m\u001b[0mfapl\u001b[0m\u001b[0;34m)\u001b[0m\u001b[0;34m\u001b[0m\u001b[0;34m\u001b[0m\u001b[0m\n",
            "\u001b[0;32mh5py/_objects.pyx\u001b[0m in \u001b[0;36mh5py._objects.with_phil.wrapper\u001b[0;34m()\u001b[0m\n",
            "\u001b[0;32mh5py/_objects.pyx\u001b[0m in \u001b[0;36mh5py._objects.with_phil.wrapper\u001b[0;34m()\u001b[0m\n",
            "\u001b[0;32mh5py/h5f.pyx\u001b[0m in \u001b[0;36mh5py.h5f.open\u001b[0;34m()\u001b[0m\n",
            "\u001b[0;31mFileNotFoundError\u001b[0m: [Errno 2] Unable to synchronously open file (unable to open file: name = 'train_catvnoncat.h5', errno = 2, error message = 'No such file or directory', flags = 0, o_flags = 0)"
          ]
        }
      ],
      "source": [
        "#Cargamos los dataset\n",
        "data_train= \"train_catvnoncat.h5\"\n",
        "train_dataset = h5py.File(data_train, \"r\")\n",
        "\n",
        "data_test= \"test_catvnoncat.h5\"\n",
        "test_dataset = h5py.File(data_test, \"r\")"
      ]
    },
    {
      "cell_type": "code",
      "execution_count": null,
      "metadata": {
        "id": "vXXeE1af2OJx"
      },
      "outputs": [],
      "source": [
        "train_dataset.keys()"
      ]
    },
    {
      "cell_type": "code",
      "execution_count": null,
      "metadata": {
        "id": "-1hat8N62M4e"
      },
      "outputs": [],
      "source": [
        "# Read the data\n",
        "xtrain_classes, xtrain, train_label =\\\n",
        "train_dataset[\"list_classes\"],train_dataset[\"train_set_x\"],train_dataset[\"train_set_y\"]\n",
        "\n",
        "test_classes, xtest,test_label =\\\n",
        "test_dataset[\"list_classes\"],test_dataset[\"test_set_x\"],test_dataset[\"test_set_y\"]\n"
      ]
    },
    {
      "cell_type": "code",
      "execution_count": null,
      "metadata": {
        "id": "d2mgfnsTvC2a"
      },
      "outputs": [],
      "source": [
        "np.shape(xtrain)"
      ]
    },
    {
      "cell_type": "code",
      "execution_count": null,
      "metadata": {
        "id": "qC1DrIWiu--B"
      },
      "outputs": [],
      "source": [
        "plt.imshow(xtrain[208])"
      ]
    },
    {
      "cell_type": "code",
      "execution_count": null,
      "metadata": {
        "id": "9pxd8cOX4Xk6"
      },
      "outputs": [],
      "source": [
        "np.shape(xtrain[0])"
      ]
    },
    {
      "cell_type": "code",
      "execution_count": null,
      "metadata": {
        "id": "Du9z2Uxb4cJR"
      },
      "outputs": [],
      "source": [
        "np.reshape(xtrain[0], 64*64*3)"
      ]
    },
    {
      "cell_type": "code",
      "execution_count": null,
      "metadata": {
        "id": "vhMaDzC0vVPp"
      },
      "outputs": [],
      "source": [
        "xtrain_= np.reshape(xtrain,(209, 64*64*3))/255\n",
        "xtest_ = np.reshape(xtest,(50, 64*64*3))/255"
      ]
    },
    {
      "cell_type": "code",
      "execution_count": null,
      "metadata": {
        "id": "UADlx19ivW3z"
      },
      "outputs": [],
      "source": [
        "len(xtrain_[208])"
      ]
    },
    {
      "cell_type": "code",
      "execution_count": null,
      "metadata": {
        "id": "FeSx2i9B4_f3"
      },
      "outputs": [],
      "source": [
        "64*64*3"
      ]
    },
    {
      "cell_type": "markdown",
      "metadata": {
        "id": "i97z3Eofni2T"
      },
      "source": [
        "Construyamos una red neuronal con una capa de entrada, una capa de salida con una red y L-1 redes ocultas.\n",
        "\n",
        "# Con m datos de entrenamientos.\n",
        "\n",
        "Para $m$ datos de entrenamiento, las expresión anteriores pueden ser resumidas en las siguientes ecuaciones\n",
        "\n",
        "\n",
        "\n",
        "\\begin{equation}\n",
        "\\begin{bmatrix}\n",
        "z_1^{(0)}  &z_1^{(1)} & .&.& .&z_1^{(m)}\\\\\n",
        "z_2^{(0)}  &z_2^{(1)} &. &.&  .&z_2^{(m)}\\\\\n",
        ".          & .        &. & &   &.      \\\\\n",
        ".          & .        &  &. &   &.      \\\\\n",
        ".          & .        &  &  & .&      \\\\\n",
        "z_{n^{[l]}}^{(0)}&z_{n^{[l]}}^{(1)} & . & .& .& z_{n^{[l]}}^{(m)}        \\\\\n",
        "\\end{bmatrix}^{[l]}=\n",
        "\\begin{bmatrix}\n",
        "\\theta_{11} & \\theta_{12} & . & .& .& \\theta_{1n^{[l-1]}}\\\\\n",
        "\\theta_{21} & \\theta_{22} & . & .& .& \\theta_{2n^{[l-1]}}\\\\\n",
        ". & .  & . &   & & .\\\\\n",
        ". & .  &   & . & & .\\\\\n",
        ". & .  &   &  & .& .\\\\\n",
        "\\theta_{n^{[l]}1} & \\theta_{n^{[l]}2} & . & .& .& \\theta_{n^{[l]}n^{[l-1]}}\\\\\n",
        "\\end{bmatrix}^{[l]}_{n^{[l]} \\times n^{[l-1]}}\n",
        "\\begin{bmatrix}\n",
        "a_1^{(0)}  &a_1^{(1)} & .&.& .&a_1^{(m)}\\\\\n",
        "a_2^{(0)}  &a_2^{(1)} &. &.&  .&a_2^{(m)}\\\\\n",
        ".          & .        &. & &   &.      \\\\\n",
        ".          & .        &  &. &   &.      \\\\\n",
        ".          & .        &  &  & .&      \\\\\n",
        "a_{n^{[L-1]}}^{(0)}&a_{n^{[L-1]}}^{(1)} & . & .& .& a_{n^{[L-1]}}^{(m)}        \\\\\n",
        "\\end{bmatrix}^{[l-1]} +\n",
        "\\begin{bmatrix}\n",
        "b_1 \\\\\n",
        "b_2 \\\\\n",
        ". \\\\\n",
        ". \\\\\n",
        ". \\\\\n",
        "b_{n^{[l]}}\\\\\n",
        "\\end{bmatrix}^{[l]}\n",
        "\\end{equation}\n",
        "\n",
        "\n",
        "Escrito de una formas mas compacta tenemos que:\n",
        "\n",
        "\n",
        "\\begin{equation}\n",
        "[ \\vec{Z}^{[l](0)},\\vec{Z}^{[l](1)},...,\\vec{Z}^{[l](m)}  ]= \\Theta^{[l]} [\\vec{A}^{[l-1](0)},\\vec{A}^{[l-1](1)},...,\\vec{A}^{[l-1](m)} ]+ \\vec{b}^{[l]}\n",
        "\\end{equation}\n",
        "\n",
        "Aplicando la funcion de activación:\n",
        "\n",
        "\\begin{equation}\n",
        "[\\vec{A}^{[l](0)},\\vec{A}^{[l](1)},...,\\vec{A}^{[l](m)} ]=f([\\vec{Z}^{[l](0)},\\vec{Z}^{[l](1)},...,\\vec{Z}^{[l](m)}  ])\n",
        "\\end{equation}\n",
        "\n",
        "Las dimensiones de las expresiones anteriores, pueden ser resumidas en lo siguiente:\n",
        "\n",
        "$\\mathrm{dim(\\vec{\\cal{Z}}^{[l]})}=n^{[l]}\\times m $\n",
        "\n",
        "$\\mathrm{dim(\\vec{\\Theta}^{[l]})}=n^{[l]}\\times n^{[l-1]}$\n",
        "\n",
        "$\\mathrm{dim(\\vec{\\cal{A}}^{[l]})}=n^{[l-1]}\\times m $\n",
        "\n",
        "$\\mathrm{dim(\\vec{b}^{[l]})}=n^{[l]}$\n",
        "\n",
        "\n"
      ]
    },
    {
      "cell_type": "markdown",
      "metadata": {
        "id": "rfFDqaFihE-d"
      },
      "source": [
        "## Topología de la red.\n",
        "\n",
        "1. Construir un clase  que permita definir una red neuronal con la topología\n",
        "deseada y la función de activación para cada capa, para ello deberá construir una funcion Topology con el número de capas de la red neuronal :\n",
        "\n",
        "Topology = [n_x, n_h1, n_h2, n_h3, ...,n_y]\n",
        "\n",
        "En este caso:\n",
        "- $n^{[0]}=n_x$ seran los valores de entradas de la capa de entrada\n",
        "- $n^{[1]}=n_{h1}$ Primera capa oculta de la red neuronal\n",
        "- $n^{[2]}=n_{h2}$ Segunda capa oculta de la red neuronal\n",
        "\n",
        ".\n",
        "\n",
        ".\n",
        "\n",
        ".\n",
        "\n",
        "\n",
        "- $n^{[l]}=n_{hl}$ Segunda capa oculta de la red neuronal\n",
        ".\n",
        "\n",
        ".\n",
        "\n",
        ".\n",
        "\n",
        "- $n^{[L]}=n_{y}$ Segunda capa oculta de la red neuronal\n",
        "\n",
        "donde\n",
        "\n",
        "- $\\mathrm{n_x}$: valores de entrada\n",
        "- $\\mathrm{n_{h1}}$: hidden layer 1\n",
        "- $\\mathrm{n_{h2}}$: hidden layer 2\n",
        "- $\\mathrm{n_y}$: last layer\n",
        "\n",
        "- $n^{[L]}=n_{y}$ Segunda capa oculta de la red neuronal\n",
        "\n",
        "\n",
        "También definir una lista con las funciones de activaciones para cada capa.\n",
        "\n",
        "\n",
        "activation=[None, relu, relu, relu, ...,sigmoid]\n",
        "\n",
        "  \n",
        "\n",
        "\n",
        "a. Cada unas de las capas deberá tener los parámetros de inicialización de manera aleatoria:\n",
        "\n",
        "\n",
        "La matriz de parametros para cada capa debera tener:\n",
        "\n",
        "\n",
        "$\\mathrm{dim(\\vec{b}^{[l]})}=n^{[l]}$\n",
        "\n",
        "$\\mathrm{dim(\\vec{\\Theta}^{[l]})}=n^{[l]}\\times n^{[l-1]}$\n",
        "\n",
        "Lo anteriores parametros deberán estar en el constructor de la clase.\n",
        "\n",
        "\n",
        "b. Construya un metodo llamado output cuya salida serán los valores de Z y A\n",
        "\n",
        "\n",
        "$\\mathrm{dim(\\vec{\\cal{A}}^{[l]})}=n^{[l-1]}\\times m $\n",
        "\n",
        "$\\mathrm{dim(\\vec{\\cal{Z}}^{[l]})}=n^{[l]}\\times m $."
      ]
    },
    {
      "cell_type": "markdown",
      "metadata": {
        "id": "VYQt5vHfnuEo"
      },
      "source": [
        "\n",
        "\n",
        "Se sugiere para cada capa emplear programación orientada a objetos definida de la siguiente manera:\n",
        "\n",
        "```\n",
        "class layer_nn():\n",
        "  def __init__(self, act_fun, nlayer_present, nlayer_before):\n",
        "    self.theta = 2*np.random.random((nlayer_present, nlayer_before)) - 1\n",
        "    self.B = 2*np.random.random((nlayer_present,1)) - 1\n",
        "    self.act_fun = act_fun\n",
        "\n",
        "  def output(self, Z, A):\n",
        "    self.Z = Z\n",
        "    self.A = A\n",
        "\n",
        "\n",
        "\n",
        "def act_function(x, activation):\n",
        "  if activation==\"sigmoid\":\n",
        "    f = lambda x: 1/(1+np.exp(-x))\n",
        "    fp = f(x)*(1-f(x))\n",
        "    return f, fp\n",
        "  \n",
        "  elif activation == \"tanh\":\n",
        "    f = lambda x: np.tanh\n",
        "    return tanh\n",
        "  else :\n",
        "    return 0\n",
        "```\n",
        "    \n",
        "\n",
        "2. Construir un generalizacion de la red, en el que entrada el valor inicial\n",
        "y la red neuronal completa arroje la salida y la actualizacion de la red con los parametros deseados:\n",
        "\n",
        "  ```\n",
        "  A, nn = forward_pass(A0, nn_red)\n",
        "\n",
        " ```\n",
        "3. Encontrar la funcion de coste.\n",
        "\n",
        "\n",
        "$$-\\frac{1}{m} \\sum\\limits_{i = 1}^{m} (y^{(i)}\\log\\left(a^{[L] (i)}\\right) + (1-y^{(i)})\\log\\left(1- a^{[L](i)}\\right)) \\tag{7}$$\n",
        "\n",
        "\n",
        "4. Construir un codigo que permita realizar el BackwardPropagation\n",
        "\n",
        "\n",
        "# Backward Propagation\n",
        "\n",
        "Para una capa $l$ arbitraria tenemos que:\n",
        "\n",
        "- \\begin{equation}\n",
        "d\\Theta^{[l]} =  d{\\cal Z}^{(i)[l]} Trans(A)^{(i)[l-1]} = dA^{(i)[l]} f'({\\cal Z}^{(i)[l]} ) Trans(A)^{(i)[l-1]}\n",
        "\\end{equation}\n",
        "\n",
        "- \\begin{equation}\n",
        "db^{[l]} =  d{\\cal Z}^{(i)[L]}  = dA^{(i)[l]} f'({\\cal Z}^{(i)[l]} )\n",
        "\\end{equation}\n",
        "```\n",
        "db_L =  m_*np.sum(dZ, axis=1, keepdims=True)\n",
        "```\n",
        "Los valores de dA pueden ser escritos como:\n",
        "- \\begin{equation}\n",
        "dA^{(i)[l-1]} = \\Theta^{l} \\cdot dZ^{(i)[l]}\n",
        "\\end{equation}\n",
        "\n",
        "\n",
        "\n",
        "\n",
        "\n",
        "$ dZ^{[l]} = dA^{[l]} * f'^{[l]} (Z^{[l]}) $\n",
        "$ d\\Theta^{[l]} = \\frac{\\partial \\mathcal{J} }{\\partial \\Theta^{[l]}} = \\frac{1}{m} dZ^{[l]} A^{[l-1] T} \\tag{1}$\n",
        "$ db^{[l]} = \\frac{\\partial \\mathcal{J} }{\\partial b^{[l]}} = \\frac{1}{m} \\sum_{i = 1}^{m} dZ^{[l](i)}\\tag{2}$\n",
        "$ dA^{[l-1]} = \\frac{\\partial \\mathcal{L} }{\\partial A^{[l-1]}} = \\theta^{[l] T} dZ^{[l]} \\tag{3}$\n",
        "\n",
        "\n",
        "Para la capa L esima:\n",
        "\n",
        "```\n",
        "dAL = -(np.divide(Y, A) - np.divide(1 - Y, 1 - A))\n",
        "```\n",
        "\n",
        "# Aplicacion gradiente descendente\n",
        "\n",
        "$$ \\Theta^{[l]} = \\Theta^{[l]} - \\alpha \\text{ } d\\Theta^{[l]} \\tag{16}$$\n",
        "$$ b^{[l]} = b^{[l]} - \\alpha \\text{ } db^{[l]} \\tag{17}$$\n"
      ]
    },
    {
      "cell_type": "markdown",
      "metadata": {
        "id": "lF_qdftyQKR5"
      },
      "source": [
        "# Generalizacion Forward Pass"
      ]
    },
    {
      "cell_type": "markdown",
      "metadata": {
        "id": "JQ4m24HgbRXw"
      },
      "source": [
        "\n",
        "\\begin{equation}\n",
        "[ \\vec{Z}^{[l](0)},\\vec{Z}^{[l](1)},...,\\vec{Z}^{[l](m)}  ]= \\Theta^{[l]} [\\vec{A}^{[l-1](0)},\\vec{A}^{[l-1](1)},...,\\vec{A}^{[l-1](m)} ]+ \\vec{b}^{[l]}\n",
        "\\end{equation}\n"
      ]
    },
    {
      "cell_type": "markdown",
      "metadata": {
        "id": "H44xkI09RzO0"
      },
      "source": [
        "\n",
        "\n",
        "# Backward Propagation\n",
        "\n",
        "Para una capa $l$ arbitraria tenemos que:\n",
        "\n",
        "- \\begin{equation}\n",
        "d\\Theta^{[l]} =  d{\\cal Z}^{(i)[l]} Trans(A)^{(i)[l-1]} = dA^{(i)[l]} f'({\\cal Z}^{(i)[l]} ) Trans(A)^{(i)[l-1]}\n",
        "\\end{equation}\n",
        "\n",
        "- \\begin{equation}\n",
        "db^{[l]} =  d{\\cal Z}^{(i)[L]}  = dA^{(i)[l]} f'({\\cal Z}^{(i)[l]} )\n",
        "\\end{equation}\n",
        "```\n",
        "db_L =  m_*np.sum(dZ, axis=1, keepdims=True)\n",
        "```\n",
        "Los valores de dA pueden ser escritos como:\n",
        "- \\begin{equation}\n",
        "dA^{(i)[l-1]} = \\Theta^{l} \\cdot dZ^{(i)[l]}\n",
        "\\end{equation}\n",
        "\n",
        "\n",
        "\n",
        "\n",
        "\n",
        "$ dZ^{[l]} = dA^{[l]} * f'^{[l]} (Z^{[l]}) $\n",
        "$ d\\Theta^{[l]} = \\frac{\\partial \\mathcal{J} }{\\partial \\Theta^{[l]}} = \\frac{1}{m} dZ^{[l]} A^{[l-1] T} \\tag{1}$\n",
        "$ db^{[l]} = \\frac{\\partial \\mathcal{J} }{\\partial b^{[l]}} = \\frac{1}{m} \\sum_{i = 1}^{m} dZ^{[l](i)}\\tag{2}$\n",
        "$ dA^{[l-1]} = \\frac{\\partial \\mathcal{L} }{\\partial A^{[l-1]}} = \\theta^{[l] T} dZ^{[l]} \\tag{3}$\n",
        "\n",
        "\n",
        "Para la capa L esima:\n",
        "\n",
        "```\n",
        "dAL = -(np.divide(Y, A) - np.divide(1 - Y, 1 - A))\n",
        "```"
      ]
    },
    {
      "cell_type": "markdown",
      "source": [
        "#Solución"
      ],
      "metadata": {
        "id": "g9cSAf-IKmtI"
      }
    },
    {
      "cell_type": "code",
      "source": [
        "import numpy as np\n",
        "import sympy as sp"
      ],
      "metadata": {
        "id": "XGCZerhPKmXU"
      },
      "execution_count": 49,
      "outputs": []
    },
    {
      "cell_type": "code",
      "source": [
        "m = 2*np.random.rand(2,2) - 1"
      ],
      "metadata": {
        "id": "aHgiZY78Kr2w"
      },
      "execution_count": 50,
      "outputs": []
    },
    {
      "cell_type": "code",
      "source": [
        "sp.Matrix(m)"
      ],
      "metadata": {
        "colab": {
          "base_uri": "https://localhost:8080/",
          "height": 58
        },
        "id": "hll36P61K054",
        "outputId": "53bd255a-5b2b-4cdb-d678-86a9f3b46df6"
      },
      "execution_count": 51,
      "outputs": [
        {
          "output_type": "execute_result",
          "data": {
            "text/plain": [
              "Matrix([\n",
              "[ -0.892071890907765, -0.134555449303314],\n",
              "[-0.0677641408694134,  0.496104442931836]])"
            ],
            "text/latex": "$\\displaystyle \\left[\\begin{matrix}-0.892071890907765 & -0.134555449303314\\\\-0.0677641408694134 & 0.496104442931836\\end{matrix}\\right]$"
          },
          "metadata": {},
          "execution_count": 51
        }
      ]
    },
    {
      "cell_type": "markdown",
      "source": [
        "# **Punto 1**"
      ],
      "metadata": {
        "id": "0TNtdVJ64rn1"
      }
    },
    {
      "cell_type": "code",
      "source": [
        "# Función de transformación logística para modelar probabilidades en clasificación binaria con rango entre 0 y 1\n",
        "def activacion_logistica(x):\n",
        "    salida = 1 / (1 + np.exp(-x))\n",
        "    derivada_salida = salida * (1 - salida)  # Gradiente de la función Logística\n",
        "    return salida, derivada_salida\n",
        "\n",
        "# Función de activación hiperbólica, transformación no lineal con rango entre -1 y 1\n",
        "def activacion_hiperbolica(x):\n",
        "    salida = np.tanh(x)\n",
        "    derivada_salida = 1 - salida**2  # Gradiente de la función Hiperbólica\n",
        "    return salida, derivada_salida\n",
        "\n",
        "# Clase para representar un componente estructural de red neuronal\n",
        "class ComponenteNeuronal():\n",
        "    def __init__(self, funcion_transformacion, dimension_actual, dimension_previa):\n",
        "        np.random.seed(0)\n",
        "        # Inicialización de elementos estructurales\n",
        "        self.pesos = 2 * np.random.random((dimension_actual, dimension_previa)) - 1 # Matriz de ponderación\n",
        "        self.sesgo = 2 * np.random.random((dimension_actual, 1)) - 1 # Vector de sesgo\n",
        "        self.funcion_transformacion = funcion_transformacion # Tipo de función de transformación\n",
        "        self.salida_transformada = None # Resultado de transformación\n",
        "        self.gradiente_transformado = None # Derivada de transformación\n",
        "\n",
        "        # Asignación de función de transformación\n",
        "        if funcion_transformacion == \"logistica\":\n",
        "            self.transformacion = activacion_logistica\n",
        "            self.derivada_transformacion = lambda Z: Z * (1 - Z)  # Gradiente Logística\n",
        "        elif funcion_transformacion == \"hiperbolica\":\n",
        "            self.transformacion = activacion_hiperbolica\n",
        "            self.derivada_transformacion = lambda Z: 1 - Z**2  # Gradiente Hiperbólica\n",
        "        else:\n",
        "            raise ValueError(\"Función de transformación no reconocida\")\n",
        "\n",
        "    def registrar_transformacion(self, A, Z): # Almacena transformaciones y entradas\n",
        "        self.salida_transformada = A\n",
        "        self.entrada_transformada = Z\n",
        "\n",
        "    def registrar_gradiente(self, dpesos, dsesgo): # Almacena gradientes calculados\n",
        "        self.dpesos = dpesos\n",
        "        self.dsesgo = dsesgo\n",
        "\n",
        "# Propagación hacia adelante en red neuronal\n",
        "def propagacion_directa(entrada_inicial, componentes_red):\n",
        "    componentes_actualizados = []\n",
        "    for componente in componentes_red:\n",
        "        Z = np.dot(componente.pesos, entrada_inicial) + componente.sesgo\n",
        "        A, A_prima = componente.transformacion(Z)\n",
        "        componente.registrar_transformacion(A, Z)\n",
        "        componentes_actualizados.append(componente)\n",
        "        entrada_inicial = A.copy()\n",
        "    return entrada_inicial, componentes_actualizados\n",
        "\n",
        "# Función de evaluación de pérdida\n",
        "def funcion_perdida(etiquetas, predicciones):\n",
        "    cantidad_muestras = etiquetas.shape[0]\n",
        "    perdida = - (np.multiply(etiquetas, np.log(predicciones)) + np.multiply(1 - etiquetas, np.log(1 - predicciones))).sum()\n",
        "    return perdida / cantidad_muestras\n",
        "\n",
        "# Retropropagación del error\n",
        "def retropropagacion(etiquetas, componentes_red, numero_muestras, entrada_inicial):\n",
        "    dA = -(np.divide(etiquetas, componentes_red[-1].salida_transformada) - np.divide(1 - etiquetas, 1 - componentes_red[-1].salida_transformada))\n",
        "    componentes_actualizados = []\n",
        "\n",
        "    for i in reversed(range(len(componentes_red))):\n",
        "        componente = componentes_red[i]\n",
        "        dZ = dA * componente.derivada_transformacion(componente.salida_transformada)\n",
        "        dpesos = np.dot(dZ, componentes_red[i-1].salida_transformada.T) if i > 0 else np.dot(dZ, entrada_inicial.T)\n",
        "        dsesgo = np.sum(dZ, axis=1, keepdims=True) / numero_muestras\n",
        "        componente.registrar_gradiente(dpesos, dsesgo)\n",
        "\n",
        "        if i > 0:\n",
        "            dA = np.dot(componente.pesos.T, dZ)\n",
        "\n",
        "        componentes_actualizados.append(componente)\n",
        "\n",
        "    return componentes_actualizados\n",
        "\n",
        "# Actualización de parámetros mediante descenso de gradiente\n",
        "def actualizar_parametros(componentes_red, tasa_aprendizaje):\n",
        "    for componente in componentes_red:\n",
        "        componente.pesos -= tasa_aprendizaje * componente.dpesos\n",
        "        componente.sesgo -= tasa_aprendizaje * componente.dsesgo\n",
        "\n",
        "# Método de construcción de red neuronal\n",
        "def construir_red_neuronal(arquitectura, funciones_transformacion):\n",
        "    componentes = []\n",
        "    for i in range(1, len(arquitectura)):\n",
        "        componentes.append(ComponenteNeuronal(funciones_transformacion[i-1], arquitectura[i], arquitectura[i-1]))\n",
        "    return componentes"
      ],
      "metadata": {
        "id": "wac_rjdCzDaU"
      },
      "execution_count": 61,
      "outputs": []
    },
    {
      "cell_type": "markdown",
      "source": [
        "# **Punto 2**"
      ],
      "metadata": {
        "id": "wCC6WkrD480I"
      }
    },
    {
      "cell_type": "code",
      "source": [
        "# Inicialización de la red neuronal\n",
        "entradas = 12288  # Número de entradas (ejemplo)\n",
        "arquitectura = [entradas, 3, 4, 7, 1]  # Arquitectura de la red neuronal\n",
        "funciones_transformacion = [\"logistica\", \"logistica\", \"logistica\", \"logistica\"]  # Funciones de transformación\n",
        "\n",
        "# Construcción de la red neuronal\n",
        "red_neuronal = construir_red_neuronal(arquitectura, funciones_transformacion)"
      ],
      "metadata": {
        "id": "uZrrbErxz3Jo"
      },
      "execution_count": 62,
      "outputs": []
    },
    {
      "cell_type": "code",
      "source": [
        "# Ejemplo de datos de entrenamiento\n",
        "entrada_entrenamiento = np.random.rand(12288, 209)  # 209 ejemplos de entrenamiento\n",
        "etiquetas_entrenamiento = np.random.randint(0, 2, (1, 209))  # Etiquetas binarias"
      ],
      "metadata": {
        "id": "Pd4iS30h0eoM"
      },
      "execution_count": 63,
      "outputs": []
    },
    {
      "cell_type": "code",
      "source": [
        "# Propagación hacia adelante\n",
        "entrada_inicial = entrada_entrenamiento\n",
        "salida_final, componentes_actualizados = propagacion_directa(entrada_inicial, red_neuronal)"
      ],
      "metadata": {
        "id": "UtCBNgzR0pS0"
      },
      "execution_count": 64,
      "outputs": []
    },
    {
      "cell_type": "markdown",
      "source": [
        "# **Punto 3**"
      ],
      "metadata": {
        "id": "cRWKmQpB5EF2"
      }
    },
    {
      "cell_type": "code",
      "source": [
        "# Función de costo\n",
        "etiquetas = etiquetas_entrenamiento\n",
        "perdida = funcion_perdida(etiquetas, salida_final)\n",
        "print(\"Pérdida inicial:\", perdida)"
      ],
      "metadata": {
        "colab": {
          "base_uri": "https://localhost:8080/"
        },
        "id": "1dhlqO9P0xFV",
        "outputId": "2c63b707-45f2-4718-c088-c5997b6d550b"
      },
      "execution_count": 65,
      "outputs": [
        {
          "output_type": "stream",
          "name": "stdout",
          "text": [
            "Pérdida inicial: 195.50999272613043\n"
          ]
        }
      ]
    },
    {
      "cell_type": "markdown",
      "source": [
        "# **Punto 4**"
      ],
      "metadata": {
        "id": "kmeNlVce5JUZ"
      }
    },
    {
      "cell_type": "code",
      "source": [
        "# Retropropagación\n",
        "numero_muestras = etiquetas.shape[1]\n",
        "componentes_actualizados = retropropagacion(etiquetas, componentes_actualizados, numero_muestras, entrada_inicial)"
      ],
      "metadata": {
        "id": "CCDGSZk008n5"
      },
      "execution_count": 66,
      "outputs": []
    },
    {
      "cell_type": "code",
      "source": [
        "# Actualización de parámetros\n",
        "learning_rate = 0.1\n",
        "actualizar_parametros(componentes_actualizados, learning_rate)"
      ],
      "metadata": {
        "id": "NvBDY_da3Xf3"
      },
      "execution_count": 67,
      "outputs": []
    },
    {
      "cell_type": "code",
      "source": [
        "# Propagación hacia adelante después de la actualización de parámetros\n",
        "salida_final, componentes_actualizados = propagacion_directa(entrada_inicial, red_neuronal)\n",
        "perdida = funcion_perdida(etiquetas_entrenamiento, salida_final)\n",
        "print(\"Pérdida después de la actualización:\", perdida)"
      ],
      "metadata": {
        "colab": {
          "base_uri": "https://localhost:8080/"
        },
        "id": "GF0FGvBE4LfX",
        "outputId": "f7a3059b-c08d-4d3c-f586-ff505a62cb8a"
      },
      "execution_count": 68,
      "outputs": [
        {
          "output_type": "stream",
          "name": "stdout",
          "text": [
            "Pérdida después de la actualización: 1321.4174987495092\n"
          ]
        }
      ]
    },
    {
      "cell_type": "code",
      "source": [
        "# Graficar la activación Sigmoid\n",
        "x = np.linspace(-10, 10, 100)\n",
        "plt.plot(x, activacion_logistica(x)[0], label='Sigmoid')\n",
        "plt.title('Función de activación Sigmoid')\n",
        "plt.xlabel('x')\n",
        "plt.ylabel('sigmoid(x)')\n",
        "plt.legend()\n",
        "plt.show()"
      ],
      "metadata": {
        "colab": {
          "base_uri": "https://localhost:8080/",
          "height": 472
        },
        "id": "XcBGoovn4Nq4",
        "outputId": "96cf0a35-c887-419d-c554-c51d49294ff2"
      },
      "execution_count": 69,
      "outputs": [
        {
          "output_type": "display_data",
          "data": {
            "text/plain": [
              "<Figure size 640x480 with 1 Axes>"
            ],
            "image/png": "[encoded data removed]"
          },
          "metadata": {}
        }
      ]
    }
  ],
  "metadata": {
    "colab": {
      "provenance": [],
      "collapsed_sections": [
        "0TNtdVJ64rn1",
        "wCC6WkrD480I",
        "cRWKmQpB5EF2",
        "kmeNlVce5JUZ"
      ]
    },
    "kernelspec": {
      "display_name": "Python 3 (ipykernel)",
      "language": "python",
      "name": "python3"
    },
    "language_info": {
      "codemirror_mode": {
        "name": "ipython",
        "version": 3
      },
      "file_extension": ".py",
      "mimetype": "text/x-python",
      "name": "python",
      "nbconvert_exporter": "python",
      "pygments_lexer": "ipython3",
      "version": "3.10.9"
    }
  },
  "nbformat": 4,
  "nbformat_minor": 0
}