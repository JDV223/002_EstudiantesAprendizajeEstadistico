{
 "cells": [
  {
   "cell_type": "markdown",
   "metadata": {},
   "source": [
    "<a href=\"https://colab.research.google.com/github/CienciaDatosUdea/002_EstudiantesAprendizajeEstadistico/blob/main/semestre2024-2/Laboratorios/Laboratorio_07_nn_zeroV1.ipynb\" target=\"_parent\"><img src=\"https://colab.research.google.com/assets/colab-badge.svg\" alt=\"Open In Colab\"/></a>"
   ]
  },
  {
   "cell_type": "code",
   "execution_count": 2,
   "metadata": {
    "id": "UG0R-DxjnBhn"
   },
   "outputs": [],
   "source": [
    "import pandas as pd\n",
    "import scipy as sc\n",
    "import numpy as np\n",
    "import h5py\n",
    "import matplotlib.pylab as plt"
   ]
  },
  {
   "cell_type": "code",
   "execution_count": 2,
   "metadata": {
    "colab": {
     "base_uri": "https://localhost:8080/",
     "height": 490
    },
    "id": "u3DbUInju5bB",
    "outputId": "4ba32e13-1edb-45da-da57-149cd0d3a302"
   },
   "outputs": [
    {
     "ename": "FileNotFoundError",
     "evalue": "[Errno 2] Unable to synchronously open file (unable to open file: name = 'train_catvnoncat_.h5', errno = 2, error message = 'No such file or directory', flags = 0, o_flags = 0)",
     "output_type": "error",
     "traceback": [
      "\u001b[1;31m---------------------------------------------------------------------------\u001b[0m",
      "\u001b[1;31mFileNotFoundError\u001b[0m                         Traceback (most recent call last)",
      "Cell \u001b[1;32mIn[2], line 2\u001b[0m\n\u001b[0;32m      1\u001b[0m data_train\u001b[38;5;241m=\u001b[39m \u001b[38;5;124m\"\u001b[39m\u001b[38;5;124mtrain_catvnoncat_.h5\u001b[39m\u001b[38;5;124m\"\u001b[39m\n\u001b[1;32m----> 2\u001b[0m train_dataset \u001b[38;5;241m=\u001b[39m \u001b[43mh5py\u001b[49m\u001b[38;5;241;43m.\u001b[39;49m\u001b[43mFile\u001b[49m\u001b[43m(\u001b[49m\u001b[43mdata_train\u001b[49m\u001b[43m,\u001b[49m\u001b[43m \u001b[49m\u001b[38;5;124;43m\"\u001b[39;49m\u001b[38;5;124;43mr\u001b[39;49m\u001b[38;5;124;43m\"\u001b[39;49m\u001b[43m)\u001b[49m\n\u001b[0;32m      4\u001b[0m data_test\u001b[38;5;241m=\u001b[39m \u001b[38;5;124m\"\u001b[39m\u001b[38;5;124mtest_catvnoncat.h5\u001b[39m\u001b[38;5;124m\"\u001b[39m\n\u001b[0;32m      5\u001b[0m test_dataset \u001b[38;5;241m=\u001b[39m h5py\u001b[38;5;241m.\u001b[39mFile(data_test, \u001b[38;5;124m\"\u001b[39m\u001b[38;5;124mr\u001b[39m\u001b[38;5;124m\"\u001b[39m)\n",
      "File \u001b[1;32me:\\UdeA\\Aprendizaje Estadístico\\002_EstudiantesAprendizajeEstadistico\\semestre2024-2\\Estudiantes\\Sosa_41\\venv\\lib\\site-packages\\h5py\\_hl\\files.py:561\u001b[0m, in \u001b[0;36mFile.__init__\u001b[1;34m(self, name, mode, driver, libver, userblock_size, swmr, rdcc_nslots, rdcc_nbytes, rdcc_w0, track_order, fs_strategy, fs_persist, fs_threshold, fs_page_size, page_buf_size, min_meta_keep, min_raw_keep, locking, alignment_threshold, alignment_interval, meta_block_size, **kwds)\u001b[0m\n\u001b[0;32m    552\u001b[0m     fapl \u001b[38;5;241m=\u001b[39m make_fapl(driver, libver, rdcc_nslots, rdcc_nbytes, rdcc_w0,\n\u001b[0;32m    553\u001b[0m                      locking, page_buf_size, min_meta_keep, min_raw_keep,\n\u001b[0;32m    554\u001b[0m                      alignment_threshold\u001b[38;5;241m=\u001b[39malignment_threshold,\n\u001b[0;32m    555\u001b[0m                      alignment_interval\u001b[38;5;241m=\u001b[39malignment_interval,\n\u001b[0;32m    556\u001b[0m                      meta_block_size\u001b[38;5;241m=\u001b[39mmeta_block_size,\n\u001b[0;32m    557\u001b[0m                      \u001b[38;5;241m*\u001b[39m\u001b[38;5;241m*\u001b[39mkwds)\n\u001b[0;32m    558\u001b[0m     fcpl \u001b[38;5;241m=\u001b[39m make_fcpl(track_order\u001b[38;5;241m=\u001b[39mtrack_order, fs_strategy\u001b[38;5;241m=\u001b[39mfs_strategy,\n\u001b[0;32m    559\u001b[0m                      fs_persist\u001b[38;5;241m=\u001b[39mfs_persist, fs_threshold\u001b[38;5;241m=\u001b[39mfs_threshold,\n\u001b[0;32m    560\u001b[0m                      fs_page_size\u001b[38;5;241m=\u001b[39mfs_page_size)\n\u001b[1;32m--> 561\u001b[0m     fid \u001b[38;5;241m=\u001b[39m \u001b[43mmake_fid\u001b[49m\u001b[43m(\u001b[49m\u001b[43mname\u001b[49m\u001b[43m,\u001b[49m\u001b[43m \u001b[49m\u001b[43mmode\u001b[49m\u001b[43m,\u001b[49m\u001b[43m \u001b[49m\u001b[43muserblock_size\u001b[49m\u001b[43m,\u001b[49m\u001b[43m \u001b[49m\u001b[43mfapl\u001b[49m\u001b[43m,\u001b[49m\u001b[43m \u001b[49m\u001b[43mfcpl\u001b[49m\u001b[43m,\u001b[49m\u001b[43m \u001b[49m\u001b[43mswmr\u001b[49m\u001b[38;5;241;43m=\u001b[39;49m\u001b[43mswmr\u001b[49m\u001b[43m)\u001b[49m\n\u001b[0;32m    563\u001b[0m \u001b[38;5;28;01mif\u001b[39;00m \u001b[38;5;28misinstance\u001b[39m(libver, \u001b[38;5;28mtuple\u001b[39m):\n\u001b[0;32m    564\u001b[0m     \u001b[38;5;28mself\u001b[39m\u001b[38;5;241m.\u001b[39m_libver \u001b[38;5;241m=\u001b[39m libver\n",
      "File \u001b[1;32me:\\UdeA\\Aprendizaje Estadístico\\002_EstudiantesAprendizajeEstadistico\\semestre2024-2\\Estudiantes\\Sosa_41\\venv\\lib\\site-packages\\h5py\\_hl\\files.py:235\u001b[0m, in \u001b[0;36mmake_fid\u001b[1;34m(name, mode, userblock_size, fapl, fcpl, swmr)\u001b[0m\n\u001b[0;32m    233\u001b[0m     \u001b[38;5;28;01mif\u001b[39;00m swmr \u001b[38;5;129;01mand\u001b[39;00m swmr_support:\n\u001b[0;32m    234\u001b[0m         flags \u001b[38;5;241m|\u001b[39m\u001b[38;5;241m=\u001b[39m h5f\u001b[38;5;241m.\u001b[39mACC_SWMR_READ\n\u001b[1;32m--> 235\u001b[0m     fid \u001b[38;5;241m=\u001b[39m \u001b[43mh5f\u001b[49m\u001b[38;5;241;43m.\u001b[39;49m\u001b[43mopen\u001b[49m\u001b[43m(\u001b[49m\u001b[43mname\u001b[49m\u001b[43m,\u001b[49m\u001b[43m \u001b[49m\u001b[43mflags\u001b[49m\u001b[43m,\u001b[49m\u001b[43m \u001b[49m\u001b[43mfapl\u001b[49m\u001b[38;5;241;43m=\u001b[39;49m\u001b[43mfapl\u001b[49m\u001b[43m)\u001b[49m\n\u001b[0;32m    236\u001b[0m \u001b[38;5;28;01melif\u001b[39;00m mode \u001b[38;5;241m==\u001b[39m \u001b[38;5;124m'\u001b[39m\u001b[38;5;124mr+\u001b[39m\u001b[38;5;124m'\u001b[39m:\n\u001b[0;32m    237\u001b[0m     fid \u001b[38;5;241m=\u001b[39m h5f\u001b[38;5;241m.\u001b[39mopen(name, h5f\u001b[38;5;241m.\u001b[39mACC_RDWR, fapl\u001b[38;5;241m=\u001b[39mfapl)\n",
      "File \u001b[1;32mh5py\\\\_objects.pyx:54\u001b[0m, in \u001b[0;36mh5py._objects.with_phil.wrapper\u001b[1;34m()\u001b[0m\n",
      "File \u001b[1;32mh5py\\\\_objects.pyx:55\u001b[0m, in \u001b[0;36mh5py._objects.with_phil.wrapper\u001b[1;34m()\u001b[0m\n",
      "File \u001b[1;32mh5py\\\\h5f.pyx:102\u001b[0m, in \u001b[0;36mh5py.h5f.open\u001b[1;34m()\u001b[0m\n",
      "\u001b[1;31mFileNotFoundError\u001b[0m: [Errno 2] Unable to synchronously open file (unable to open file: name = 'train_catvnoncat_.h5', errno = 2, error message = 'No such file or directory', flags = 0, o_flags = 0)"
     ]
    }
   ],
   "source": [
    "data_train= \"train_catvnoncat_.h5\"\n",
    "train_dataset = h5py.File(data_train, \"r\")\n",
    "\n",
    "data_test= \"test_catvnoncat.h5\"\n",
    "test_dataset = h5py.File(data_test, \"r\")"
   ]
  },
  {
   "cell_type": "code",
   "execution_count": null,
   "metadata": {
    "id": "vXXeE1af2OJx"
   },
   "outputs": [],
   "source": [
    "train_dataset.keys()"
   ]
  },
  {
   "cell_type": "code",
   "execution_count": null,
   "metadata": {
    "colab": {
     "base_uri": "https://localhost:8080/",
     "height": 235
    },
    "id": "-1hat8N62M4e",
    "outputId": "ff5fd202-893c-48fd-c197-eed03f939b52"
   },
   "outputs": [
    {
     "ename": "NameError",
     "evalue": "ignored",
     "output_type": "error",
     "traceback": [
      "\u001b[0;31m---------------------------------------------------------------------------\u001b[0m",
      "\u001b[0;31mNameError\u001b[0m                                 Traceback (most recent call last)",
      "\u001b[0;32m<ipython-input-76-1f4bc49c347d>\u001b[0m in \u001b[0;36m<cell line: 3>\u001b[0;34m()\u001b[0m\n\u001b[1;32m      1\u001b[0m \u001b[0;31m# Read the data\u001b[0m\u001b[0;34m\u001b[0m\u001b[0;34m\u001b[0m\u001b[0m\n\u001b[1;32m      2\u001b[0m \u001b[0mxtrain_classes\u001b[0m\u001b[0;34m,\u001b[0m \u001b[0mxtrain\u001b[0m\u001b[0;34m,\u001b[0m \u001b[0mtrain_label\u001b[0m \u001b[0;34m=\u001b[0m\u001b[0;31m\\\u001b[0m\u001b[0;34m\u001b[0m\u001b[0;34m\u001b[0m\u001b[0m\n\u001b[0;32m----> 3\u001b[0;31m \u001b[0mtrain_dataset\u001b[0m\u001b[0;34m[\u001b[0m\u001b[0;34m\"list_classes\"\u001b[0m\u001b[0;34m]\u001b[0m\u001b[0;34m,\u001b[0m\u001b[0mtrain_dataset\u001b[0m\u001b[0;34m[\u001b[0m\u001b[0;34m\"train_set_x\"\u001b[0m\u001b[0;34m]\u001b[0m\u001b[0;34m,\u001b[0m\u001b[0mtrain_dataset\u001b[0m\u001b[0;34m[\u001b[0m\u001b[0;34m\"train_set_y\"\u001b[0m\u001b[0;34m]\u001b[0m\u001b[0;34m\u001b[0m\u001b[0;34m\u001b[0m\u001b[0m\n\u001b[0m\u001b[1;32m      4\u001b[0m \u001b[0;34m\u001b[0m\u001b[0m\n\u001b[1;32m      5\u001b[0m \u001b[0mtest_classes\u001b[0m\u001b[0;34m,\u001b[0m \u001b[0mxtest\u001b[0m\u001b[0;34m,\u001b[0m\u001b[0mtest_label\u001b[0m \u001b[0;34m=\u001b[0m\u001b[0;31m\\\u001b[0m\u001b[0;34m\u001b[0m\u001b[0;34m\u001b[0m\u001b[0m\n",
      "\u001b[0;31mNameError\u001b[0m: name 'train_dataset' is not defined"
     ]
    }
   ],
   "source": [
    "# Read the data\n",
    "xtrain_classes, xtrain, train_label =\\\n",
    "train_dataset[\"list_classes\"],train_dataset[\"train_set_x\"],train_dataset[\"train_set_y\"]\n",
    "\n",
    "test_classes, xtest,test_label =\\\n",
    "test_dataset[\"list_classes\"],test_dataset[\"test_set_x\"],test_dataset[\"test_set_y\"]\n"
   ]
  },
  {
   "cell_type": "code",
   "execution_count": null,
   "metadata": {
    "colab": {
     "base_uri": "https://localhost:8080/",
     "height": 169
    },
    "id": "d2mgfnsTvC2a",
    "outputId": "162891da-843e-4e80-a87d-2240f7f168ac"
   },
   "outputs": [
    {
     "ename": "NameError",
     "evalue": "ignored",
     "output_type": "error",
     "traceback": [
      "\u001b[0;31m---------------------------------------------------------------------------\u001b[0m",
      "\u001b[0;31mNameError\u001b[0m                                 Traceback (most recent call last)",
      "\u001b[0;32m<ipython-input-77-94e9d4b60f0d>\u001b[0m in \u001b[0;36m<cell line: 1>\u001b[0;34m()\u001b[0m\n\u001b[0;32m----> 1\u001b[0;31m \u001b[0mnp\u001b[0m\u001b[0;34m.\u001b[0m\u001b[0mshape\u001b[0m\u001b[0;34m(\u001b[0m\u001b[0mxtrain\u001b[0m\u001b[0;34m)\u001b[0m\u001b[0;34m\u001b[0m\u001b[0;34m\u001b[0m\u001b[0m\n\u001b[0m",
      "\u001b[0;31mNameError\u001b[0m: name 'xtrain' is not defined"
     ]
    }
   ],
   "source": [
    "np.shape(xtrain)"
   ]
  },
  {
   "cell_type": "code",
   "execution_count": null,
   "metadata": {
    "colab": {
     "base_uri": "https://localhost:8080/",
     "height": 285
    },
    "id": "qC1DrIWiu--B",
    "outputId": "7be2078b-9943-44b8-9379-2140c569e7b1"
   },
   "outputs": [
    {
     "data": {
      "text/plain": [
       "<matplotlib.image.AxesImage at 0x7fbab2d4b4d0>"
      ]
     },
     "execution_count": 9,
     "metadata": {},
     "output_type": "execute_result"
    },
    {
     "data": {
      "image/png": "[encoded data removed]",
      "text/plain": [
       "<Figure size 432x288 with 1 Axes>"
      ]
     },
     "metadata": {
      "needs_background": "light"
     },
     "output_type": "display_data"
    }
   ],
   "source": [
    "plt.imshow(xtrain[208])"
   ]
  },
  {
   "cell_type": "code",
   "execution_count": null,
   "metadata": {
    "colab": {
     "base_uri": "https://localhost:8080/",
     "height": 169
    },
    "id": "9pxd8cOX4Xk6",
    "outputId": "b7426eb7-d6c7-420c-e7eb-bf9cb758a66f"
   },
   "outputs": [
    {
     "ename": "NameError",
     "evalue": "ignored",
     "output_type": "error",
     "traceback": [
      "\u001b[0;31m---------------------------------------------------------------------------\u001b[0m",
      "\u001b[0;31mNameError\u001b[0m                                 Traceback (most recent call last)",
      "\u001b[0;32m<ipython-input-73-0f8841b7195f>\u001b[0m in \u001b[0;36m<cell line: 1>\u001b[0;34m()\u001b[0m\n\u001b[0;32m----> 1\u001b[0;31m \u001b[0mnp\u001b[0m\u001b[0;34m.\u001b[0m\u001b[0mshape\u001b[0m\u001b[0;34m(\u001b[0m\u001b[0mxtrain\u001b[0m\u001b[0;34m[\u001b[0m\u001b[0;36m0\u001b[0m\u001b[0;34m]\u001b[0m\u001b[0;34m)\u001b[0m\u001b[0;34m\u001b[0m\u001b[0;34m\u001b[0m\u001b[0m\n\u001b[0m",
      "\u001b[0;31mNameError\u001b[0m: name 'xtrain' is not defined"
     ]
    }
   ],
   "source": [
    "np.shape(xtrain[0])"
   ]
  },
  {
   "cell_type": "code",
   "execution_count": null,
   "metadata": {
    "colab": {
     "base_uri": "https://localhost:8080/"
    },
    "id": "Du9z2Uxb4cJR",
    "outputId": "f5e28629-462d-4d51-ee04-247109456656"
   },
   "outputs": [
    {
     "data": {
      "text/plain": [
       "array([17, 31, 56, ...,  0,  0,  0], dtype=uint8)"
      ]
     },
     "execution_count": 11,
     "metadata": {},
     "output_type": "execute_result"
    }
   ],
   "source": [
    "np.reshape(xtrain[0], 64*64*3)"
   ]
  },
  {
   "cell_type": "code",
   "execution_count": null,
   "metadata": {
    "id": "vhMaDzC0vVPp"
   },
   "outputs": [],
   "source": [
    "xtrain_= np.reshape(xtrain,(209, 64*64*3))/255\n",
    "xtest_ = np.reshape(xtest,(50, 64*64*3))/255"
   ]
  },
  {
   "cell_type": "code",
   "execution_count": null,
   "metadata": {
    "colab": {
     "base_uri": "https://localhost:8080/"
    },
    "id": "UADlx19ivW3z",
    "outputId": "4a7ea612-06ed-4de4-eff5-7d1c568afc9f"
   },
   "outputs": [
    {
     "data": {
      "text/plain": [
       "12288"
      ]
     },
     "execution_count": 13,
     "metadata": {},
     "output_type": "execute_result"
    }
   ],
   "source": [
    "len(xtrain_[208])"
   ]
  },
  {
   "cell_type": "code",
   "execution_count": null,
   "metadata": {
    "colab": {
     "base_uri": "https://localhost:8080/"
    },
    "id": "FeSx2i9B4_f3",
    "outputId": "85b0205e-077d-4f9e-db46-0d72005f2a0a"
   },
   "outputs": [
    {
     "data": {
      "text/plain": [
       "12288"
      ]
     },
     "execution_count": 14,
     "metadata": {},
     "output_type": "execute_result"
    }
   ],
   "source": [
    "64*64*3"
   ]
  },
  {
   "cell_type": "markdown",
   "metadata": {
    "id": "i97z3Eofni2T"
   },
   "source": [
    "Construyamos una red neuronal con una capa de entrada, una capa de salida con una red y L-1 redes ocultas.\n",
    "\n",
    "# Con m datos de entrenamientos.\n",
    "\n",
    "Para $m$ datos de entrenamiento, las expresión anteriores pueden ser resumidas en las siguientes ecuaciones\n",
    "\n",
    "\n",
    "\n",
    "\\begin{equation}\n",
    "\\begin{bmatrix}\n",
    "z_1^{(0)}  &z_1^{(1)} & .&.& .&z_1^{(m)}\\\\\n",
    "z_2^{(0)}  &z_2^{(1)} &. &.&  .&z_2^{(m)}\\\\\n",
    ".          & .        &. & &   &.      \\\\\n",
    ".          & .        &  &. &   &.      \\\\\n",
    ".          & .        &  &  & .&      \\\\\n",
    "z_{n^{[l]}}^{(0)}&z_{n^{[l]}}^{(1)} & . & .& .& z_{n^{[l]}}^{(m)}        \\\\\n",
    "\\end{bmatrix}^{[l]}=\n",
    "\\begin{bmatrix}\n",
    "\\theta_{11} & \\theta_{12} & . & .& .& \\theta_{1n^{[l-1]}}\\\\\n",
    "\\theta_{21} & \\theta_{22} & . & .& .& \\theta_{2n^{[l-1]}}\\\\\n",
    ". & .  & . &   & & .\\\\\n",
    ". & .  &   & . & & .\\\\\n",
    ". & .  &   &  & .& .\\\\\n",
    "\\theta_{n^{[l]}1} & \\theta_{n^{[l]}2} & . & .& .& \\theta_{n^{[l]}n^{[l-1]}}\\\\\n",
    "\\end{bmatrix}^{[l]}_{n^{[l]} \\times n^{[l-1]}}\n",
    "\\begin{bmatrix}\n",
    "a_1^{(0)}  &a_1^{(1)} & .&.& .&a_1^{(m)}\\\\\n",
    "a_2^{(0)}  &a_2^{(1)} &. &.&  .&a_2^{(m)}\\\\\n",
    ".          & .        &. & &   &.      \\\\\n",
    ".          & .        &  &. &   &.      \\\\\n",
    ".          & .        &  &  & .&      \\\\\n",
    "a_{n^{[L-1]}}^{(0)}&a_{n^{[L-1]}}^{(1)} & . & .& .& a_{n^{[L-1]}}^{(m)}        \\\\\n",
    "\\end{bmatrix}^{[l-1]} +\n",
    "\\begin{bmatrix}\n",
    "b_1 \\\\\n",
    "b_2 \\\\\n",
    ". \\\\\n",
    ". \\\\\n",
    ". \\\\\n",
    "b_{n^{[l]}}\\\\\n",
    "\\end{bmatrix}^{[l]}\n",
    "\\end{equation}\n",
    "\n",
    "\n",
    "Escrito de una formas mas compacta tenemos que:\n",
    "\n",
    "\n",
    "\\begin{equation}\n",
    "[ \\vec{Z}^{[l](0)},\\vec{Z}^{[l](1)},...,\\vec{Z}^{[l](m)}  ]= \\Theta^{[l]} [\\vec{A}^{[l-1](0)},\\vec{A}^{[l-1](1)},...,\\vec{A}^{[l-1](m)} ]+ \\vec{b}^{[l]}\n",
    "\\end{equation}\n",
    "\n",
    "Aplicando la funcion de activación:\n",
    "\n",
    "\\begin{equation}\n",
    "[\\vec{A}^{[l](0)},\\vec{A}^{[l](1)},...,\\vec{A}^{[l](m)} ]=f([\\vec{Z}^{[l](0)},\\vec{Z}^{[l](1)},...,\\vec{Z}^{[l](m)}  ])\n",
    "\\end{equation}\n",
    "\n",
    "Las dimensiones de las expresiones anteriores, pueden ser resumidas en lo siguiente:\n",
    "\n",
    "$\\mathrm{dim(\\vec{\\cal{Z}}^{[l]})}=n^{[l]}\\times m $\n",
    "\n",
    "$\\mathrm{dim(\\vec{\\Theta}^{[l]})}=n^{[l]}\\times n^{[l-1]}$\n",
    "\n",
    "$\\mathrm{dim(\\vec{\\cal{A}}^{[l]})}=n^{[l-1]}\\times m $\n",
    "\n",
    "$\\mathrm{dim(\\vec{b}^{[l]})}=n^{[l]}$\n",
    "\n",
    "\n"
   ]
  },
  {
   "cell_type": "markdown",
   "metadata": {
    "id": "rfFDqaFihE-d"
   },
   "source": [
    "## Topología de la red.\n",
    "\n",
    "1. Construir un clase  que permita definir una red neuronal con la topología\n",
    "deseada y la función de activación para cada capa, para ello deberá construir una funcion Topology con el número de capas de la red neuronal :\n",
    "\n",
    "Topology = [n_x, n_h1, n_h2, n_h3, ...,n_y]\n",
    "\n",
    "En este caso:\n",
    "- $n^{[0]}=n_x$ seran los valores de entradas de la capa de entrada\n",
    "- $n^{[1]}=n_{h1}$ Primera capa oculta de la red neuronal\n",
    "- $n^{[2]}=n_{h2}$ Segunda capa oculta de la red neuronal\n",
    "\n",
    ".\n",
    "\n",
    ".\n",
    "\n",
    ".\n",
    "\n",
    "\n",
    "- $n^{[l]}=n_{hl}$ Segunda capa oculta de la red neuronal\n",
    ".\n",
    "\n",
    ".\n",
    "\n",
    ".\n",
    "\n",
    "- $n^{[L]}=n_{y}$ Segunda capa oculta de la red neuronal\n",
    "\n",
    "donde\n",
    "\n",
    "- $\\mathrm{n_x}$: valores de entrada\n",
    "- $\\mathrm{n_{h1}}$: hidden layer 1\n",
    "- $\\mathrm{n_{h2}}$: hidden layer 2\n",
    "- $\\mathrm{n_y}$: last layer\n",
    "\n",
    "- $n^{[L]}=n_{y}$ Segunda capa oculta de la red neuronal\n",
    "\n",
    "\n",
    "También definir una lista con las funciones de activaciones para cada capa.\n",
    "\n",
    "\n",
    "activation=[None, relu, relu, relu, ...,sigmoid]\n",
    "\n",
    "  \n",
    "\n",
    "\n",
    "a. Cada unas de las capas deberá tener los parámetros de inicialización de manera aleatoria:\n",
    "\n",
    "\n",
    "La matriz de parametros para cada capa debera tener:\n",
    "\n",
    "\n",
    "$\\mathrm{dim(\\vec{b}^{[l]})}=n^{[l]}$\n",
    "\n",
    "$\\mathrm{dim(\\vec{\\Theta}^{[l]})}=n^{[l]}\\times n^{[l-1]}$\n",
    "\n",
    "Lo anteriores parametros deberán estar en el constructor de la clase.\n",
    "\n",
    "\n",
    "b. Construya un metodo llamado output cuya salida serán los valores de Z y A\n",
    "\n",
    "\n",
    "$\\mathrm{dim(\\vec{\\cal{A}}^{[l]})}=n^{[l-1]}\\times m $\n",
    "\n",
    "$\\mathrm{dim(\\vec{\\cal{Z}}^{[l]})}=n^{[l]}\\times m $.\n",
    "\n",
    "\n",
    "\n",
    "\n",
    "Se sugiere para cada capa emplear programación orientada a objetos definida de la siguiente manera:\n",
    "\n",
    "```\n",
    "class layer_nn():\n",
    "  def __init__(self, act_fun, nlayer_present, nlayer_before):\n",
    "    self.theta = 2*np.random.random((nlayer_present, nlayer_before)) - 1\n",
    "    self.B = 2*np.random.random((nlayer_present,1)) - 1\n",
    "    self.act_fun = act_fun\n",
    "\n",
    "  def output(self, Z, A ):\n",
    "    self.Z = Z\n",
    "    self.A = A\n",
    "\n",
    "\n",
    "\n",
    "def act_function(x, activation):\n",
    "  if activation==\"sigmoid\":\n",
    "    f = lambda x: 1/(1+np.exp(-x))\n",
    "    fp = f(x)*(1-f(x))\n",
    "    return f, fp\n",
    "  \n",
    "  elif activation == \"tanh\":\n",
    "    f = lambda x: np.tanh\n",
    "    return tanh\n",
    "  else :\n",
    "    return 0\n",
    "```"
   ]
  },
  {
   "cell_type": "code",
   "execution_count": 17,
   "metadata": {},
   "outputs": [],
   "source": [
    "# clase para una capa de la red neuronal\n",
    "\n",
    "# inicializa los parámetros de una capa de la red neuronal:\n",
    "\n",
    "class LayerNN:\n",
    "    def __init__(self, act_fun, nlayer_present, nlayer_before):\n",
    "\n",
    "        self.theta = 2 * np.random.random((nlayer_present, nlayer_before)) - 1  \n",
    "        self.b = 2 * np.random.random((nlayer_present, 1)) - 1 \n",
    "        self.act_fun = act_fun\n",
    "\n",
    "    # aplica la función de activación a Z:\n",
    "    def activate(Z, act_fun):\n",
    "        if act_fun == \"sigmoid\":\n",
    "            return 1 / (1 + np.exp(-Z))\n",
    "        elif act_fun == \"relu\":\n",
    "            return np.maximum(0, Z)\n",
    "        elif act_fun == \"tanh\":\n",
    "            return np.tanh(Z)"
   ]
  },
  {
   "cell_type": "code",
   "execution_count": 18,
   "metadata": {},
   "outputs": [],
   "source": [
    "# clase para la red neuronal\n",
    "\n",
    "# inicializa una red neuronal con una topología y funciones de activación definidas:\n",
    "\n",
    "class NeuralNetwork:\n",
    "    def __init__(self, topology, activations):\n",
    "\n",
    "        # guardamos las capas de la red neuronal\n",
    "        self.layers = []\n",
    "        for i in range(1, len(topology)):\n",
    "            # creamos cada capa de la red con sus pesos, bias y función de activación\n",
    "            self.layers.append(LayerNN(activations[i], topology[i], topology[i - 1]))\n",
    "\n",
    "    # calcula el paso hacia adelante (forward pass) en la red neuronal:\n",
    "    def forward(self, X):\n",
    "\n",
    "        Z_list = []\n",
    "        A_list = [X]\n",
    "\n",
    "        for layer in self.layers:\n",
    "            # calculamos Z = theta * A + b:\n",
    "            Z = np.dot(layer.theta, A_list[-1]) + layer.b\n",
    "\n",
    "            # aplicamos la función de activación para obtener A:\n",
    "            A = LayerNN.activate(Z, layer.act_fun)\n",
    "\n",
    "            Z_list.append(Z)\n",
    "            A_list.append(A)\n",
    "\n",
    "        return Z_list, A_list # Z y A para todas las capas"
   ]
  },
  {
   "cell_type": "code",
   "execution_count": 19,
   "metadata": {},
   "outputs": [],
   "source": [
    "# definición de la topología y las funciones de activación:\n",
    "\n",
    "Topology = [3, 5, 4, 2]  # 3 entradas, dos capas ocultas (5 y 4 neuronas), 2 salidas\n",
    "activation = [None, \"relu\", \"relu\", \"sigmoid\"]\n",
    "\n",
    "# inicialización de la red\n",
    "nn = NeuralNetwork(Topology, activation)\n",
    "\n",
    "# generación de datos aleatorios para la prueba\n",
    "X = np.random.random((3, 10))  \n",
    "\n",
    "# propagación hacia adelante\n",
    "Z, A = nn.forward(X)\n"
   ]
  },
  {
   "cell_type": "code",
   "execution_count": 20,
   "metadata": {},
   "outputs": [
    {
     "name": "stdout",
     "output_type": "stream",
     "text": [
      "Valores Z para cada capa:\n",
      "Capa 1:\n",
      "[[ 0.5418264   0.86161512  1.17566639  1.02172798  0.83672948  0.43566927\n",
      "   0.99321387  0.43867044  0.2462564   0.37899926]\n",
      " [ 0.21576141  0.50788595  0.70393301  0.44161921  0.19303531  0.33142353\n",
      "   0.28829693  0.13048497  0.00174252 -0.08673315]\n",
      " [-0.7855611  -0.450855   -0.14981629 -0.35983782 -0.58747047 -0.81328468\n",
      "  -0.43979002 -0.8878142  -1.06842605 -1.01163315]\n",
      " [-0.71480029 -0.62590598 -1.16873222 -1.08267727 -0.88376639 -0.79999149\n",
      "  -1.04109685 -0.9267983  -1.18454949 -1.10143316]\n",
      " [-0.20714987 -0.07337827 -0.2976348  -0.5657562  -0.7298418   0.15191282\n",
      "  -0.81464978 -0.28402987 -0.3290851  -0.67396275]]\n",
      "\n",
      "Capa 2:\n",
      "[[ 5.01038524e-01  5.99227976e-01  6.80522825e-01  6.12983433e-01\n",
      "   5.42921395e-01  4.51873384e-01  5.83024878e-01  4.70857013e-01\n",
      "   4.19611671e-01  4.39878045e-01]\n",
      " [ 2.52985908e-01 -1.42945661e-02 -2.79327584e-01 -1.54078773e-01\n",
      "  -1.68886860e-03  2.83638413e-01 -1.33816602e-01  3.39455207e-01\n",
      "   5.01594562e-01  3.87197478e-01]\n",
      " [ 1.14079339e+00  1.58412437e+00  1.96690751e+00  1.68303961e+00\n",
      "   1.38048985e+00  9.79171250e-01  1.56981821e+00  1.00297108e+00\n",
      "   7.63450792e-01  8.76257793e-01]\n",
      " [-7.26219556e-01 -7.22153619e-01 -7.63299767e-01 -8.25729309e-01\n",
      "  -8.67631572e-01 -6.10547036e-01 -8.89338306e-01 -7.23080771e-01\n",
      "  -7.02158527e-01 -7.61593976e-01]]\n",
      "\n",
      "Capa 3:\n",
      "[[-1.22494269 -1.63279    -1.85765442 -1.68974691 -1.51109405 -1.10986062\n",
      "  -1.62229746 -1.09366835 -0.85883548 -0.99088733]\n",
      " [-0.55464704 -0.60799799 -0.70327279 -0.62916406 -0.55109362 -0.51448974\n",
      "  -0.59816712 -0.54004641 -0.51801007 -0.51768843]]\n",
      "\n",
      "Valores A (activaciones) para cada capa:\n",
      "Capa 0:\n",
      "[[2.43802572e-01 4.23650568e-01 9.88161377e-01 8.75540803e-01\n",
      "  6.61327689e-01 1.34576136e-01 8.80074543e-01 2.85199790e-01\n",
      "  2.73685198e-01 4.02070121e-01]\n",
      " [7.75734880e-01 7.35514266e-01 1.22431305e-04 3.98986270e-01\n",
      "  8.94342555e-01 3.54424100e-01 6.84553582e-01 5.26415577e-01\n",
      "  1.95708008e-01 5.96009305e-01]\n",
      " [3.65088865e-01 1.45212286e-01 5.55332489e-01 6.09436325e-01\n",
      "  5.50820226e-01 3.73408734e-01 6.52945548e-01 5.98912831e-01\n",
      "  8.92570168e-01 8.73055473e-01]]\n",
      "\n",
      "Capa 1:\n",
      "[[0.5418264  0.86161512 1.17566639 1.02172798 0.83672948 0.43566927\n",
      "  0.99321387 0.43867044 0.2462564  0.37899926]\n",
      " [0.21576141 0.50788595 0.70393301 0.44161921 0.19303531 0.33142353\n",
      "  0.28829693 0.13048497 0.00174252 0.        ]\n",
      " [0.         0.         0.         0.         0.         0.\n",
      "  0.         0.         0.         0.        ]\n",
      " [0.         0.         0.         0.         0.         0.\n",
      "  0.         0.         0.         0.        ]\n",
      " [0.         0.         0.         0.         0.         0.15191282\n",
      "  0.         0.         0.         0.        ]]\n",
      "\n",
      "Capa 2:\n",
      "[[0.50103852 0.59922798 0.68052283 0.61298343 0.54292139 0.45187338\n",
      "  0.58302488 0.47085701 0.41961167 0.43987805]\n",
      " [0.25298591 0.         0.         0.         0.         0.28363841\n",
      "  0.         0.33945521 0.50159456 0.38719748]\n",
      " [1.14079339 1.58412437 1.96690751 1.68303961 1.38048985 0.97917125\n",
      "  1.56981821 1.00297108 0.76345079 0.87625779]\n",
      " [0.         0.         0.         0.         0.         0.\n",
      "  0.         0.         0.         0.        ]]\n",
      "\n",
      "Capa 3:\n",
      "[[0.2270678  0.16344852 0.13497668 0.15580913 0.18077671 0.24789687\n",
      "  0.16488827 0.25092813 0.2975827  0.27073685]\n",
      " [0.36478693 0.35251602 0.33108701 0.34770011 0.36561072 0.37414162\n",
      "  0.35476314 0.36817679 0.37331766 0.37339291]]\n",
      "\n"
     ]
    }
   ],
   "source": [
    "print(\"Valores Z para cada capa:\")\n",
    "for i, z in enumerate(Z):\n",
    "    print(f\"Capa {i + 1}:\\n{z}\\n\")\n",
    "\n",
    "print(\"Valores A (activaciones) para cada capa:\")\n",
    "for i, a in enumerate(A):\n",
    "    print(f\"Capa {i}:\\n{a}\\n\")"
   ]
  },
  {
   "cell_type": "markdown",
   "metadata": {},
   "source": [
    "2. Construir un generalizacion de la red, en el que entrada el valor inicial\n",
    "y la red neuronal completa arroje la salida y la actualizacion de la red con los parametros deseados:\n",
    "\n",
    "  ```\n",
    "  A, nn = forward_pass(A0, nn_red)\n",
    "\n",
    " ```"
   ]
  },
  {
   "cell_type": "markdown",
   "metadata": {},
   "source": [
    "Ahora, para este punto, seguimos realizando la propagación hacia adelante como en el punto 1, pero la hacemos más general y fácil de usar creando una función llamada `forward_pass`. Esta función toma los datos de entrada y la red neuronal completa, y nos devuelve directamente la salida final de la red junto con la red actualizada, haciendo el proceso más modular y listo para integrarse en tareas más complejas como el entrenamiento."
   ]
  },
  {
   "cell_type": "code",
   "execution_count": 25,
   "metadata": {},
   "outputs": [],
   "source": [
    "class LayerNN:\n",
    "    def __init__(self, act_fun, nlayer_present, nlayer_before):\n",
    "        self.theta = 2 * np.random.random((nlayer_present, nlayer_before)) - 1\n",
    "        self.b = 2 * np.random.random((nlayer_present, 1)) - 1\n",
    "        self.act_fun = act_fun\n",
    "\n",
    "    def activate(Z, act_fun):\n",
    "        if act_fun == \"sigmoid\":\n",
    "            return 1 / (1 + np.exp(-Z))\n",
    "        elif act_fun == \"relu\":\n",
    "            return np.maximum(0, Z)\n",
    "        elif act_fun == \"tanh\":\n",
    "            return np.tanh(Z)\n",
    "\n",
    "class NeuralNetwork:\n",
    "    def __init__(self, topology, activations):\n",
    "        self.layers = []\n",
    "        for i in range(1, len(topology)):\n",
    "            self.layers.append(LayerNN(activations[i], topology[i], topology[i - 1]))\n",
    "\n",
    "    def forward(self, X):\n",
    "        Z_list = []\n",
    "        A_list = [X]\n",
    "\n",
    "        for layer in self.layers:\n",
    "            Z = np.dot(layer.theta, A_list[-1]) + layer.b\n",
    "            A = LayerNN.activate(Z, layer.act_fun)\n",
    "\n",
    "            Z_list.append(Z)\n",
    "            A_list.append(A)\n",
    "\n",
    "        return Z_list, A_list\n",
    "\n",
    "# generalización de la red\n",
    "# esta función realiza el forward pass y retorna la salida final y la red actualizada\n",
    "def forward_pass(A0, nn_red):\n",
    "\n",
    "    # ejecutamos el forward pass\n",
    "    _, A_list = nn_red.forward(A0)\n",
    "\n",
    "    return A_list[-1], nn_red # la salida final es la última lista de activaciones"
   ]
  },
  {
   "cell_type": "code",
   "execution_count": 26,
   "metadata": {},
   "outputs": [
    {
     "name": "stdout",
     "output_type": "stream",
     "text": [
      "Salida final de la red:\n",
      "[[0.67349452 0.64170611 0.68385061 0.68120311 0.66025139 0.68385061\n",
      "  0.69632485 0.68036262 0.65916344 0.66207036]\n",
      " [0.68645501 0.72617692 0.67241808 0.67606029 0.70360252 0.67241808\n",
      "  0.66652915 0.67720879 0.70497236 0.70129926]]\n"
     ]
    }
   ],
   "source": [
    "Topology = [3, 5, 4, 2] \n",
    "activation = [None, \"relu\", \"relu\", \"sigmoid\"]\n",
    "\n",
    "nn = NeuralNetwork(Topology, activation)\n",
    "\n",
    "A0 = np.random.random((3, 10))\n",
    "\n",
    "A_final, nn_updated = forward_pass(A0, nn)\n",
    "\n",
    "print(\"Salida final de la red:\")\n",
    "print(A_final)"
   ]
  },
  {
   "cell_type": "markdown",
   "metadata": {},
   "source": [
    "\n",
    "3. Encontrar la funcion de coste.\n",
    "\n",
    "\n",
    "$$-\\frac{1}{m} \\sum\\limits_{i = 1}^{m} (y^{(i)}\\log\\left(a^{[L] (i)}\\right) + (1-y^{(i)})\\log\\left(1- a^{[L](i)}\\right)) \\tag{7}$$\n",
    "\n"
   ]
  },
  {
   "cell_type": "code",
   "execution_count": 27,
   "metadata": {},
   "outputs": [],
   "source": [
    "def compute_cost(Y, AL):\n",
    "    m = Y.shape[1]  \n",
    "    cost = -np.sum(Y * np.log(AL) + (1 - Y) * np.log(1 - AL)) / m\n",
    "    return np.squeeze(cost)  "
   ]
  },
  {
   "cell_type": "code",
   "execution_count": 29,
   "metadata": {},
   "outputs": [],
   "source": [
    "np.random.seed(23)  \n",
    "\n",
    "A0 = np.random.random((3, 10))  # 10 ejemplos con 3 características cada uno\n",
    "Y_test = np.random.randint(0, 2, (1, 10))  # etiquetas reales (0 o 1) para 10 ejemplos\n",
    "\n",
    "# realizamos el forward pass\n",
    "_, A_list = nn.forward(A0)\n",
    "AL = A_list[-1]  # salida final de la red\n",
    "\n",
    "cost = compute_cost(Y_test, AL)\n"
   ]
  },
  {
   "cell_type": "code",
   "execution_count": 30,
   "metadata": {},
   "outputs": [
    {
     "name": "stdout",
     "output_type": "stream",
     "text": [
      "Etiquetas reales (Y): [[0 1 0 0 0 1 0 0 0 0]]\n",
      "Predicciones de la red (AL): [[0.70707734 0.65105597 0.69085001 0.68385061 0.69984748 0.6848591\n",
      "  0.68385061 0.68385061 0.66737445 0.68021989]\n",
      " [0.67384999 0.71499972 0.66958184 0.67241808 0.6648321  0.67227288\n",
      "  0.67241808 0.67241808 0.70049207 0.67740346]]\n",
      "Costo calculado: 1.9846923013997002\n"
     ]
    }
   ],
   "source": [
    "print(\"Etiquetas reales (Y):\", Y_test)\n",
    "print(\"Predicciones de la red (AL):\", AL)\n",
    "print(\"Costo calculado:\", cost)"
   ]
  },
  {
   "cell_type": "markdown",
   "metadata": {},
   "source": [
    "Las etiquetas reales $(Y)$ muestran los valores esperados para los 10 ejemplos, donde la mayoría pertenecen a la clase negativa (0) y solo dos ejemplos corresponden a la clase positiva (1).\n",
    "\n",
    "Los valores de las predicciones de la red $(AL)$ están muy concentrados entre 0.65 y 0.71, lo que nos indica que la red no está diferenciando claramente entre las clases. Idealmente, las probabilidades deberían acercarse a 1 para los ejemplos positivos y a 0 para los negativos, pero eso no está ocurriendo.\n",
    "\n",
    "El costo calculado (1.98) es relativamente alto, lo que señala que las predicciones de la red no están alineadas con las etiquetas reales. Esto sugiere que los parámetros iniciales de la red no están optimizados, y que la red no ha pasado por un proceso de entrenamiento para ajustar los pesos y biases.\n",
    "\n",
    "Para mejorar el desempeño de la red, sería necesario entrenarla utilizando un algoritmo de optimización, como el descenso de gradiente, para reducir el costo y ajustar mejor las predicciones a las etiquetas reales."
   ]
  },
  {
   "cell_type": "markdown",
   "metadata": {
    "id": "VYQt5vHfnuEo"
   },
   "source": [
    "\n",
    "4. Construir un codigo que permita realizar el BackwardPropagation\n",
    "\n",
    "\n",
    "# Backward Propagation\n",
    "\n",
    "Para una capa $l$ arbitraria tenemos que:\n",
    "\n",
    "- \\begin{equation}\n",
    "d\\Theta^{[l]} =  d{\\cal Z}^{(i)[l]} Trans(A)^{(i)[l-1]} = dA^{(i)[l]} f'({\\cal Z}^{(i)[l]} ) Trans(A)^{(i)[l-1]}\n",
    "\\end{equation}\n",
    "\n",
    "- \\begin{equation}\n",
    "db^{[l]} =  d{\\cal Z}^{(i)[L]}  = dA^{(i)[l]} f'({\\cal Z}^{(i)[l]} )\n",
    "\\end{equation}\n",
    "```\n",
    "db_L =  m_*np.sum(dZ, axis=1, keepdims=True)\n",
    "```\n",
    "Los valores de dA pueden ser escritos como:\n",
    "- \\begin{equation}\n",
    "dA^{(i)[l-1]} = \\Theta^{l} \\cdot dZ^{(i)[l]}\n",
    "\\end{equation}\n",
    "\n",
    "\n",
    "\n",
    "\n",
    "\n",
    "$ dZ^{[l]} = dA^{[l]} * f'^{[l]} (Z^{[l]}) $\n",
    "$ d\\Theta^{[l]} = \\frac{\\partial \\mathcal{J} }{\\partial \\Theta^{[l]}} = \\frac{1}{m} dZ^{[l]} A^{[l-1] T} \\tag{1}$\n",
    "$ db^{[l]} = \\frac{\\partial \\mathcal{J} }{\\partial b^{[l]}} = \\frac{1}{m} \\sum_{i = 1}^{m} dZ^{[l](i)}\\tag{2}$\n",
    "$ dA^{[l-1]} = \\frac{\\partial \\mathcal{L} }{\\partial A^{[l-1]}} = \\theta^{[l] T} dZ^{[l]} \\tag{3}$\n",
    "\n",
    "\n",
    "Para la capa L esima:\n",
    "\n",
    "```\n",
    "dAL = -(np.divide(Y, A) - np.divide(1 - Y, 1 - A))\n",
    "```\n",
    "\n",
    "# Aplicacion gradiente descendente\n",
    "\n",
    "$$ \\Theta^{[l]} = \\Theta^{[l]} - \\alpha \\text{ } d\\Theta^{[l]} \\tag{16}$$\n",
    "$$ b^{[l]} = b^{[l]} - \\alpha \\text{ } db^{[l]} \\tag{17}$$\n"
   ]
  },
  {
   "cell_type": "code",
   "execution_count": 32,
   "metadata": {},
   "outputs": [],
   "source": [
    "class NeuralNetwork:\n",
    "    def __init__(self, topology, activations):\n",
    "        self.layers = []\n",
    "        for i in range(1, len(topology)):\n",
    "            self.layers.append(LayerNN(activations[i], topology[i], topology[i - 1]))\n",
    "\n",
    "    def forward(self, X):\n",
    "        Z_list = []\n",
    "        A_list = [X]\n",
    "        for layer in self.layers:\n",
    "            Z = np.dot(layer.theta, A_list[-1]) + layer.b\n",
    "            A = LayerNN.activate(Z, layer.act_fun)\n",
    "            Z_list.append(Z)\n",
    "            A_list.append(A)\n",
    "        return Z_list, A_list\n",
    "\n",
    "    def backward(self, X, Y, alpha):\n",
    "        m = X.shape[1]  # número de ejemplos\n",
    "        Z_list, A_list = self.forward(X)  # realizamos el forward pass\n",
    "        dA = -(np.divide(Y, A_list[-1]) - np.divide(1 - Y, 1 - A_list[-1]))  # dAL inicial\n",
    "\n",
    "        for l in reversed(range(len(self.layers))):\n",
    "            current_layer = self.layers[l]\n",
    "            Z = Z_list[l]\n",
    "            A_prev = A_list[l]\n",
    "\n",
    "            # derivada de la función de activación\n",
    "            if current_layer.act_fun == \"sigmoid\":\n",
    "                dZ = dA * (A_list[l + 1] * (1 - A_list[l + 1]))\n",
    "            elif current_layer.act_fun == \"relu\":\n",
    "                dZ = dA * (Z > 0)\n",
    "\n",
    "            # gradientes de pesos y bias\n",
    "            dTheta = (1 / m) * np.dot(dZ, A_prev.T)\n",
    "            db = (1 / m) * np.sum(dZ, axis=1, keepdims=True)\n",
    "\n",
    "            # actualización de dA para la capa anterior\n",
    "            if l > 0:\n",
    "                dA = np.dot(current_layer.theta.T, dZ)\n",
    "\n",
    "            # actualizamos los parámetros\n",
    "            current_layer.theta -= alpha * dTheta\n",
    "            current_layer.b -= alpha * db"
   ]
  },
  {
   "cell_type": "code",
   "execution_count": null,
   "metadata": {},
   "outputs": [],
   "source": [
    "class LayerNN:\n",
    "    def __init__(self, act_fun, nlayer_present, nlayer_before):\n",
    "        self.theta = 2 * np.random.random((nlayer_present, nlayer_before)) - 1\n",
    "        self.b = 2 * np.random.random((nlayer_present, 1)) - 1\n",
    "        self.act_fun = act_fun\n",
    "\n",
    "    def activate(Z, act_fun):\n",
    "        if act_fun == \"sigmoid\":\n",
    "            return 1 / (1 + np.exp(-Z))\n",
    "        elif act_fun == \"relu\":\n",
    "            return np.maximum(0, Z)"
   ]
  },
  {
   "cell_type": "code",
   "execution_count": 33,
   "metadata": {},
   "outputs": [],
   "source": [
    "np.random.seed(23)  \n",
    "Topology = [3, 5, 4, 1] \n",
    "activation = [None, \"relu\", \"relu\", \"sigmoid\"]  \n",
    "nn = NeuralNetwork(Topology, activation)\n",
    "\n",
    "X = np.random.random((3, 10))  \n",
    "Y = np.random.randint(0, 2, (1, 10)) \n",
    "\n",
    "# ejecución de la propagación hacia atrás con tasa de aprendizaje alpha\n",
    "alpha = 0.01\n",
    "nn.backward(X, Y, alpha)\n"
   ]
  },
  {
   "cell_type": "code",
   "execution_count": 34,
   "metadata": {},
   "outputs": [
    {
     "name": "stdout",
     "output_type": "stream",
     "text": [
      "Parámetros actualizados (theta y b) para la última capa:\n",
      "Theta: [[-0.64079636 -0.51883294  0.01518211 -0.2065086 ]]\n",
      "b: [[-0.03178028]]\n"
     ]
    }
   ],
   "source": [
    "print(\"Parámetros actualizados (theta y b) para la última capa:\")\n",
    "print(\"Theta:\", nn.layers[-1].theta)\n",
    "print(\"b:\", nn.layers[-1].b)"
   ]
  }
 ],
 "metadata": {
  "colab": {
   "provenance": []
  },
  "kernelspec": {
   "display_name": "venv",
   "language": "python",
   "name": "python3"
  },
  "language_info": {
   "codemirror_mode": {
    "name": "ipython",
    "version": 3
   },
   "file_extension": ".py",
   "mimetype": "text/x-python",
   "name": "python",
   "nbconvert_exporter": "python",
   "pygments_lexer": "ipython3",
   "version": "3.10.11"
  }
 },
 "nbformat": 4,
 "nbformat_minor": 1
}
