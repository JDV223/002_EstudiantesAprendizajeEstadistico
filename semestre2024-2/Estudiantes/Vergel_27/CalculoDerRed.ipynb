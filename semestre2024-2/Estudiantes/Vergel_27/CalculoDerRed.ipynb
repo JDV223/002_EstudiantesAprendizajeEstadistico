{
 "cells": [
  {
   "cell_type": "markdown",
   "metadata": {},
   "source": [
    "Para una red neuronal de tipo perceptron que contiene dos capas internas, luego existen n^0, n^1, n^2, n^3, donde:"
   ]
  },
  {
   "cell_type": "code",
   "execution_count": 1,
   "metadata": {},
   "outputs": [
    {
     "ename": "SyntaxError",
     "evalue": "invalid syntax (2226010670.py, line 1)",
     "output_type": "error",
     "traceback": [
      "\u001b[0;36m  File \u001b[0;32m\"/tmp/ipykernel_11603/2226010670.py\"\u001b[0;36m, line \u001b[0;32m1\u001b[0m\n\u001b[0;31m    -\u001b[0m\n\u001b[0m     ^\u001b[0m\n\u001b[0;31mSyntaxError\u001b[0m\u001b[0;31m:\u001b[0m invalid syntax\n"
     ]
    }
   ],
   "source": [
    "-\n",
    "-     -     -\n",
    "      -         -\n",
    "-     -     -\n",
    "-\n",
    "\n",
    "# n^0 n ^ 1 n^2 n^3"
   ]
  },
  {
   "cell_type": "markdown",
   "metadata": {},
   "source": [
    "$$ Z_{3,4}^{[1]} = \\Theta_{3,4}^{[1]} A_{4xm}^{0} + b_{3xm}^{[1]} $$\n",
    "$$  $$"
   ]
  },
  {
   "cell_type": "markdown",
   "metadata": {},
   "source": [
    "Donde la recurrencia que se había encontrado en la sesión pasada es:\n",
    "\n",
    "$$A^{[1]} = \\sigma(Z^{[l]}) = \\sigma(\\Theta^{[l]} A^{[l-1]} + b^{[l]})$$\n",
    "\n",
    "Y donde la función de coste estará dada por la función logística:\n",
    "\n",
    "$$ J = \\frac{1}{M} \\Sigma_{m=1}^M \\left( y^{(m)} log A^{[l]} + (1-y^{(m)}) log(1-A^{[l]}) \\right) $$"
   ]
  },
  {
   "cell_type": "markdown",
   "metadata": {},
   "source": []
  }
 ],
 "metadata": {
  "kernelspec": {
   "display_name": "base",
   "language": "python",
   "name": "python3"
  },
  "language_info": {
   "codemirror_mode": {
    "name": "ipython",
    "version": 3
   },
   "file_extension": ".py",
   "mimetype": "text/x-python",
   "name": "python",
   "nbconvert_exporter": "python",
   "pygments_lexer": "ipython3",
   "version": "3.9.7"
  }
 },
 "nbformat": 4,
 "nbformat_minor": 2
}
