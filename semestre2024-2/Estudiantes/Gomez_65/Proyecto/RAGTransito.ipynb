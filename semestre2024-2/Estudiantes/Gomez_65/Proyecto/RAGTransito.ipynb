{
 "cells": [
  {
   "cell_type": "markdown",
   "metadata": {},
   "source": [
    "# Chatbot de Leyes de Tránsito con RAG, GPT-4o y LangChain"
   ]
  },
  {
   "cell_type": "markdown",
   "metadata": {},
   "source": [
    "## Introducción\n",
    "\n",
    "En la actualidad, los modelos de lenguaje como GPT-4 han demostrado una gran capacidad para responder preguntas y asistir en la toma de decisiones en múltiples dominios. Sin embargo, estos modelos presentan una limitación fundamental: su conocimiento está restringido a los datos con los que fueron entrenados, lo que puede llevar a respuestas imprecisas o desactualizadas cuando se requiere información específica y en constante actualización, como la contenida en normativas legales.\n",
    "\n",
    "Uno de los ámbitos donde este problema se hace evidente es en la consulta de regulaciones de tránsito. En Colombia, el Código Nacional de Tránsito regula el comportamiento de conductores, peatones y autoridades viales, estableciendo normativas esenciales para la seguridad y el orden en las vías. Sin embargo, el acceso a esta información no siempre es intuitivo para el ciudadano común, y buscar artículos específicos dentro del documento puede ser un proceso tedioso.\n",
    "\n",
    "Este proyecto busca solucionar este problema mediante la implementación de un chatbot basado en la técnica de Retrieval-Augmented Generation (RAG). A través del uso de LangChain y LangGraph, se ha desarrollado un sistema capaz de responder preguntas sobre el Código de Tránsito de Colombia, utilizando fragmentos del texto oficial como contexto para generar respuestas precisas y fundamentadas.\n",
    "\n",
    "El objetivo principal de este trabajo es explorar cómo la integración de modelos de lenguaje con bases de datos de normativa legal puede mejorar el acceso a la información y facilitar la comprensión de regulaciones específicas. Además, se analizará la efectividad del enfoque RAG a lo largo de diferentes escenarios en los que un usuario podría necesitar consultoría legal."
   ]
  },
  {
   "cell_type": "markdown",
   "metadata": {},
   "source": [
    "## Metodología\n",
    "\n",
    "Para abordar el problema de acceso a la normativa del Código de Tránsito de Colombia, se implementó un chatbot basado en la técnica de Retrieval-Augmented Generation (RAG). Esta técnica permite que un modelo de lenguaje consulte una base de datos específica para complementar su conocimiento y generar respuestas más precisas.\n",
    "\n",
    "La solución se desarrolló utilizando LangChain y LangGraph, herramientas que facilitan la integración de modelos de lenguaje con flujos estructurados de información. A continuación, se describen los principales componentes del sistema.\n",
    "\n",
    "### Construcción de la base de conocimiento:\n",
    "\n",
    "El primer paso fue la recopilación del Código de Tránsito de Colombia en formato texto plano (.txt). Para esto es necesario descargar el PDF del Código y convertirlo a dicho formato, y después procesarlo para que quede de esta forma:"
   ]
  },
  {
   "cell_type": "code",
   "execution_count": 1,
   "metadata": {},
   "outputs": [
    {
     "name": "stdout",
     "output_type": "stream",
     "text": [
      "LEY 769 DE 2002\n",
      "(Agosto 6)\n",
      "\"Por la cual se expide el Código Nacional de Tránsito Terrestre y se dictan otras disposiciones\".\n",
      "PODER PÚBLICO - RAMA LEGISLATIVA\n",
      "Ver la Exposición de Motivos, Ley 769 de 2002\n",
      "TITULOI\n",
      "DISPOSICIONES GENERALES\n",
      "CAPITULO I\n",
      "Principios\n",
      "ARTÍCULO 1°. ÁMBITO DE APLICACIÓN Y PRINCIPIOS. Las normas del presente Código rigen en todo el territorio nacional y regulan la circulación de los peatones, usuarios, pasajeros, conductores, motociclistas, ciclistas, agentes de tránsito, y vehículos por las vías públicas o privadas que están abiertas al público, o en las vías privadas, que internamente circulen vehículos; así como la actuación y procedimientos de las autoridades de tránsito.\n",
      "En desarrollo de lo dispuesto por el artículo 24 de la Constitución Política, todo colombiano tiene derecho a circular libremente por el territorio nacional, pero está sujeto a la intervención y reglamentación de las autoridades para garantía de la seguridad y comodidad de los habitantes, espec...\n"
     ]
    }
   ],
   "source": [
    "from src.process_text import merge_lines\n",
    "\n",
    "file_path = \"ley-769-de-2002-codigo-nacional-de-transito_3704_0.txt\"\n",
    "\n",
    "with open(file_path, 'r') as file:\n",
    "    lines = file.readlines()\n",
    "\n",
    "\n",
    "final_text = ''.join(merge_lines(lines))\n",
    "print(final_text[:1000] + \"...\")\n",
    "\n",
    "with open(\n",
    "    \"ley-769-de-2002-codigo-nacional-de-transito_3704_0_processed.txt\", 'w'\n",
    ") as file:\n",
    "    file.write(final_text)"
   ]
  },
  {
   "cell_type": "markdown",
   "metadata": {},
   "source": [
    "### Indexación\n",
    "\n",
    "Teniendo la base de datos, el primer paso de RAG es tomar dicho texto y dividirlo en fragmentos con el objetivo de indexarlos. Estos fragmentos son los que se consultarán cuando el usuario realice una pregunta, para encontrar aquellos más directamente relacionados a dicha pregunta.\n",
    "\n",
    "Para realizar esto primero es necesario importar los módulos de LangChain y activar su API (para lo cual fue necesario crear antes una cuenta en la página web de LangSmith) y traer las variables de entorno:"
   ]
  },
  {
   "cell_type": "code",
   "execution_count": 2,
   "metadata": {},
   "outputs": [],
   "source": [
    "import os\n",
    "from dotenv import load_dotenv\n",
    "\n",
    "dotenv_path = '.env'\n",
    "\n",
    "load_dotenv(dotenv_path)\n",
    "\n",
    "langsmith_api_key = os.getenv('LANGSMITH_API_KEY')"
   ]
  },
  {
   "cell_type": "markdown",
   "metadata": {},
   "source": [
    "Para realizar esto primero dividimos el archivo de texto en pequeños elementos de máximo tamaño 300 caracteres, con posibilidad de solapamiento de 50 caracteres. Y a cada fragmento le asociamos un artículo, que es el artículo del cual hace parte dicho fragmento dentro del Código."
   ]
  },
  {
   "cell_type": "code",
   "execution_count": 3,
   "metadata": {},
   "outputs": [],
   "source": [
    "from langchain.document_loaders import TextLoader\n",
    "from langchain.text_splitter import RecursiveCharacterTextSplitter\n",
    "from langchain_community.vectorstores import Chroma\n",
    "from langchain_openai import OpenAIEmbeddings\n",
    "\n",
    "\n",
    "from src.index_formatted_text import clean_section_text, extract_article_sections\n",
    "\n",
    "# Cargar archivo de texto local\n",
    "file_path = \"ley-769-de-2002-codigo-nacional-de-transito_3704_0_processed.txt\"\n",
    "loader = TextLoader(file_path)\n",
    "docs = loader.load()\n",
    "\n",
    "# Procesar el texto original para obtener las secciones de artículos\n",
    "original_text = docs[0].page_content\n",
    "article_sections = extract_article_sections(original_text)\n",
    "\n",
    "# Divisor de texto modificado\n",
    "text_splitter = RecursiveCharacterTextSplitter.from_tiktoken_encoder(\n",
    "    chunk_size=300,\n",
    "    chunk_overlap=50\n",
    ")\n",
    "\n",
    "# Crear splits con la metadata de los artículos\n",
    "splits = []\n",
    "for section_text, article_num in article_sections:\n",
    "    section_splits = text_splitter.create_documents(\n",
    "        texts=[section_text],\n",
    "        metadatas=[{\n",
    "            \"source\": file_path,\n",
    "            \"source_article\": article_num\n",
    "        }]\n",
    "    )\n",
    "    splits.extend(section_splits)\n",
    "\n",
    "# Indexar con metadata mejorada\n",
    "vector_store = Chroma.from_documents(\n",
    "    documents=splits,\n",
    "    embedding=OpenAIEmbeddings()\n",
    ")"
   ]
  },
  {
   "cell_type": "markdown",
   "metadata": {},
   "source": [
    "Cada uno de los fragmentos se ve de la siguiente forma, donde se pueden ver los artículos correspondientes a los fragmentos dentro de `metadata`, donde dice `source_article`."
   ]
  },
  {
   "cell_type": "code",
   "execution_count": 4,
   "metadata": {},
   "outputs": [
    {
     "data": {
      "text/plain": [
       "[Document(metadata={'source': 'ley-769-de-2002-codigo-nacional-de-transito_3704_0_processed.txt', 'source_article': '1'}, page_content='ÁMBITO DE APLICACIÓN Y PRINCIPIOS. Las normas del presente Código rigen en todo el territorio nacional y regulan la circulación de los peatones, usuarios, pasajeros, conductores, motociclistas, ciclistas, agentes de tránsito, y vehículos por las vías públicas o privadas que están abiertas al público, o en las vías privadas, que internamente circulen vehículos; así como la actuación y procedimientos de las autoridades de tránsito.'),\n",
       " Document(metadata={'source': 'ley-769-de-2002-codigo-nacional-de-transito_3704_0_processed.txt', 'source_article': '1'}, page_content='En desarrollo de lo dispuesto por el artículo 24 de la Constitución Política, todo colombiano tiene derecho a circular libremente por el territorio nacional, pero está sujeto a la intervención y reglamentación de las autoridades para garantía de la seguridad y comodidad de los habitantes, especialmente de los peatones y de los discapacitados físicos y mentales, para la preservación de un ambiente sano y la protección del uso común del espacio público.\\nLe corresponde al Ministerio de Transporte como autoridad suprema de tránsito definir, orientar, vigilar e inspeccionar la ejecución de la política nacional en materia de tránsito.\\nLas autoridades de tránsito promoverán la difusión y el conocimiento de las disposiciones contenidas en este código.'),\n",
       " Document(metadata={'source': 'ley-769-de-2002-codigo-nacional-de-transito_3704_0_processed.txt', 'source_article': '1'}, page_content='Las autoridades de tránsito promoverán la difusión y el conocimiento de las disposiciones contenidas en este código.\\nLos principios rectores de este código son: seguridad de los usuarios, calidad, oportunidad, cubrimiento, libertad de acceso, plena identificación, libre circulación, educación y descentralización.'),\n",
       " Document(metadata={'source': 'ley-769-de-2002-codigo-nacional-de-transito_3704_0_processed.txt', 'source_article': '2'}, page_content='DEFINICIONES. Para la aplicación e interpretación de este código, se tendrán en cuenta las siguientes definiciones:\\nAcera o andén: Franja longitudinal de la vía urbana, destinada exclusivamente a la circulación de peatones, ubicada a los costados de ésta.\\nAccesibilidad: Condición esencial de los servicios públicos que permite en cualquier espacio o ambiente exterior o interior el fácil disfrute de dicho servicio por parte de toda la población.\\nAccidente de tránsito: Evento generalmente involuntario, generado al menos por un vehículo en movimiento, que causa daños a personas y bienes involucrados en él e igualmente afecta la normal circulación de los vehículos que se movilizan por la vía o vías comprendidas en el lugar o dentro de la zona de influencia del hecho.\\nAcompañante: Persona que viaja con el conductor de un vehículo automotor.'),\n",
       " Document(metadata={'source': 'ley-769-de-2002-codigo-nacional-de-transito_3704_0_processed.txt', 'source_article': '2'}, page_content='Acompañante: Persona que viaja con el conductor de un vehículo automotor.\\nAdelantamiento: Maniobra mediante la cual un vehículo se pone delante de otro vehículo que lo antecede en el mismo carril de una calzada.\\nAgente de tránsito: Todo funcionario o persona civil identificada que está investida de autoridad para regular la circulación vehicular y peatonal y vigilar, controlar e intervenir en el cumplimiento de las normas de tránsito y transporte en cada uno de los entes territoriales.\\nAlcoholemia: Cantidad de alcohol que tiene una persona en determinado momento en su sangre.\\nAlcoholometría: Examen o prueba de laboratorio, o por medio técnico que determina el nivel de alcohol etílico en la sangre.\\nAlcoholuria: Examen o prueba de laboratorio, o por otro medio técnico que determina el nive l de alcohol etílico en la orina.\\nAlcohosensor: Sistema para determinar alcohol en aire exhalado.'),\n",
       " Document(metadata={'source': 'ley-769-de-2002-codigo-nacional-de-transito_3704_0_processed.txt', 'source_article': '2'}, page_content='Alcohosensor: Sistema para determinar alcohol en aire exhalado.\\nAño del modelo: Año que asigna el fabricante o ensamblador al modelo del vehículo, de acuerdo con la declaración de despacho para consumo.\\nAprendiz: Persona que recibe de un instructor, técnicas de conducción de vehículos automotores y motocicletas.\\nAutomóvil antiguo: Automotor que haya cumplido 35 años y que conserve sus especificaciones y características originales de fábrica, presentación y funcionamiento.'),\n",
       " Document(metadata={'source': 'ley-769-de-2002-codigo-nacional-de-transito_3704_0_processed.txt', 'source_article': '2'}, page_content='Automóvil clásico: Automotor que haya cumplido 50 años y que además de conservar sus especificaciones y características originales de fábrica, presentación y funcionamiento, corresponda a marcas, series y modelos catalogados internacionalmente como tales.\\nAutopista: Vía de calzadas separadas, cada una con dos (2) o más carriles, control total de acceso y salida, con intersecciones en desnivel o mediante entradas y salidas directas a otras carreteras y con control de velocidades mínimas y máximas por carril.\\nBahía de estacionamiento: Parte complementaria de la estructura de la vía utilizada como zona de transición entre la calzada y el andén, destinada al estacionamiento de vehículos.\\nBarrera para control vehicular: Dispositivo dotado de punzones pinchallantas para uso en retenes y puesto de control de las fuerzas militares, la Policía Nacional, las autoridades de tránsito y transporte.'),\n",
       " Document(metadata={'source': 'ley-769-de-2002-codigo-nacional-de-transito_3704_0_processed.txt', 'source_article': '2'}, page_content='Berma: Parte de la estructura de la vía, destinada al soporte lateral de la calzada para el tránsito de peatones, semovientes y ocasionalmente al estacionamiento de vehículos y tránsito de vehículos de emergencia.\\nBicicleta: Vehículo no motorizado de dos (2) o más ruedas en línea, el cual se desplaza por el esfuerzo de su conductor accionando por medio de pedales.\\nBocacalle: Embocadura de una calle en una intersección.\\nBus: Vehículo automotor destinad o al transporte colectivo de personas y sus equipajes, debidamente registrado conforme a las normas y características especiales vigentes.\\nBuseta: Vehículo destinado al transporte de personas con capacidad de 20 a 30 pasajeros y distancia entre ejes inferiores a 4 metros.\\nCabina: Recinto separado de la carrocería de un vehículo destinado al conductor.'),\n",
       " Document(metadata={'source': 'ley-769-de-2002-codigo-nacional-de-transito_3704_0_processed.txt', 'source_article': '2'}, page_content='Cabina: Recinto separado de la carrocería de un vehículo destinado al conductor.\\nCalzada: Zona de la vía destinada a la circulación de vehículos.\\nCarreteable: Vía sin pavimentar destinada a la circulación de vehículos.\\nCamión: Vehículo automotor que por su tamaño y destinación se usa para transportar carga.\\nCamioneta picó: Vehículo automotor destinado al transporte de personas en la cabina y de carga en el platón.'),\n",
       " Document(metadata={'source': 'ley-769-de-2002-codigo-nacional-de-transito_3704_0_processed.txt', 'source_article': '2'}, page_content='Camión tractor: Vehículo automotor destinado a arrastrar uno o varios semirremolques o remolques, equipado con acople adecuado para tal fin.\\nCapacidad de pasajeros: Es el número de personas autorizado para ser transportados en un vehículo.\\nCapacidad de carga: Es el máximo tonelaje autorizado en un vehículo, de tal forma que el peso bruto vehicular no exceda los límites establecidos.\\nCarretera: vía cuya finalidad es permitir la circulación de vehículos, con niveles adecuados de seguridad y comodidad.\\nCarril: Parte de la calzada destinada al tránsito de una sola fila de vehículos.\\nCarrocería: Estructura del vehículo instalada sobre un chasis, destinada al transporte de personas o de carga.')]"
      ]
     },
     "execution_count": 4,
     "metadata": {},
     "output_type": "execute_result"
    }
   ],
   "source": [
    "splits[:10]"
   ]
  },
  {
   "cell_type": "code",
   "execution_count": 5,
   "metadata": {},
   "outputs": [
    {
     "data": {
      "text/plain": [
       "333"
      ]
     },
     "execution_count": 5,
     "metadata": {},
     "output_type": "execute_result"
    }
   ],
   "source": [
    "len(splits)"
   ]
  },
  {
   "cell_type": "markdown",
   "metadata": {},
   "source": [
    "En total resultan 333 fragmentos.\n",
    "\n",
    "### Extracción\n",
    "\n",
    "Teniendo los fragmentos indexados, el siguiente paso es añadir la capacidad de extracción dentro de dichos fragmentos. La técnica para realizar esto se llama multi-query, y consiste en lo siguiente.\n",
    "\n",
    "Primero el usuario realiza una pregunta al sistema, por ejemplo esta:"
   ]
  },
  {
   "cell_type": "code",
   "execution_count": 6,
   "metadata": {},
   "outputs": [],
   "source": [
    "question = \"una moto puede ir por la linea punteada amarilla entre carros?\""
   ]
  },
  {
   "cell_type": "markdown",
   "metadata": {},
   "source": [
    "La técnica de multi-query se encarga de covertir esta pregunta en cinco preguntas similares, con el objetivo de buscar dentro de los fragmentos indexados aquellos que se parezcan más a aquellas cincco preguntas. Esto permite la extracción de un mayor número de fragmentos, comparado con tan solo buscar respecto a una pregunta. Para esta conversión, de una a cinco preguntas, se usa GPT-3.5, y se escribe un prompt específicamente diseñado con este propósito. En este punto es necesario tener una cuenta de OpenAI, una API key, y créditos cargados dentro de esa cuenta. De lo contrario el siguiente código no correrá:"
   ]
  },
  {
   "cell_type": "code",
   "execution_count": 7,
   "metadata": {},
   "outputs": [],
   "source": [
    "from langchain.prompts import ChatPromptTemplate\n",
    "from langchain_core.output_parsers import StrOutputParser\n",
    "from langchain_openai import ChatOpenAI\n",
    "\n",
    "openai_api_key = os.getenv('OPENAI_API_KEY')\n",
    "\n",
    "retriever_llm = ChatOpenAI(model_name=\"gpt-3.5-turbo\", temperature=0)\n",
    "\n",
    "template = (\n",
    "    \"Eres una IA asistente modelo de lenguaje. Tu tarea es generar cinco \"\n",
    "    \"diferentes versiones de la pregunta dada por el usuario para extraer los \"\n",
    "    \"documentos relevantes de una base de datos de vectores. Al generar múltiples \"\n",
    "    \"perspectivas de la pregunta del usuario, tu objetivo es ayudar al usuario \"\n",
    "    \"a superar algunas de las limitaciones de la búsqueda de similaridad basada \"\n",
    "    \"en distancia. Escribe estas preguntas alternativas separadas por caracteres \"\n",
    "    \"de nueva línea, sin enumerar ni listar. Pregunta original: {pregunta}\"\n",
    ")"
   ]
  },
  {
   "cell_type": "markdown",
   "metadata": {},
   "source": [
    "Al pasar este prompt con la pregunta inicial por el modelo de GPT3.5, lo siguiente es el resultado:"
   ]
  },
  {
   "cell_type": "code",
   "execution_count": 8,
   "metadata": {},
   "outputs": [
    {
     "data": {
      "text/plain": [
       "['¿Es posible que una motocicleta circule por la línea punteada amarilla entre los vehículos?',\n",
       " '¿Está permitido que una moto se desplace por la línea punteada amarilla entre los automóviles?',\n",
       " '¿Puede una motocicleta transitar por la línea punteada amarilla entre los coches?',\n",
       " '¿Está autorizado el paso de una moto por la línea punteada amarilla entre los vehículos?',\n",
       " '¿Se permite que una motocicleta circule por la línea punteada amarilla entre los carros?']"
      ]
     },
     "execution_count": 8,
     "metadata": {},
     "output_type": "execute_result"
    }
   ],
   "source": [
    "prompt_perspectives = ChatPromptTemplate.from_template(template)\n",
    "\n",
    "generate_queries = (\n",
    "    prompt_perspectives\n",
    "    | retriever_llm\n",
    "    | StrOutputParser()\n",
    "    | (lambda x: x.split(\"\\n\"))\n",
    ")\n",
    "\n",
    "generate_queries.invoke(question)"
   ]
  },
  {
   "cell_type": "markdown",
   "metadata": {},
   "source": [
    "Esas son las cinco preguntas similares a la pregunta inicial. El siguiente paso es tomar estas preguntas y buscar los fragmentos más parecidos a ellas en la base de datos indexada. Esto se hace realizando búsquedas por similaridad, tomando las representaciones vectoriales de los fragmentos y de las preguntas, y trayendo aquellos fragmentos con menor producto interno con cualquiera de las preguntas. El resultado es el siguiente:"
   ]
  },
  {
   "cell_type": "code",
   "execution_count": 9,
   "metadata": {},
   "outputs": [
    {
     "name": "stderr",
     "output_type": "stream",
     "text": [
      "C:\\Users\\Camilo\\AppData\\Local\\Temp\\ipykernel_13668\\612399951.py:27: LangChainDeprecationWarning: The method `BaseTool.__call__` was deprecated in langchain-core 0.1.47 and will be removed in 1.0. Use :meth:`~invoke` instead.\n",
      "  serialized = extraer(question)\n"
     ]
    },
    {
     "name": "stdout",
     "output_type": "stream",
     "text": [
      "Number of extracted articles:  8\n",
      "[Artículo 94] No deben transitar sobre las aceras, lugares destinados al tránsito de peatones y por aquellas vías en donde las autoridades competentes lo prohíban. Deben conducir en las vías públicas permitidas o, donde existan, en aquellas especialmente diseñadas para ello.\n",
      "Deben respetar las señales, normas de tránsito y límites de velocidad.\n",
      "No deben adelantar a otros vehículos por la derecha o entre vehículos que transiten por sus respectivos carriles. Siempre utilizarán el carril libre a la izquierda del vehículo a sobrepasar.\n",
      "Deben usar las señales manuales detalladas en el artículo 69 de este código.\n",
      "Reglamentado por la Resolución del Min. Transporte 1737 de 2004. Los conductores y los acompañantes cuando hubieren, deberán utilizar casco de seguridad, de acuerdo como fije el Ministerio de Transporte.\n",
      "\n",
      "[Artículo 118] Amarilla: Indica atención para un cambio de luces o señales y para que el cruce sea desalojado por los vehículos que se encuentran en él o se abstengan de ingresar en el cruce aun disponiendo de espacio para hacerlo. No debe iniciarse la marcha en luz amarilla, ni incrementarse la velocidad durante ese lapso.\n",
      "No se debe ingresar en amarillo a la intersección y si un vehículo ya está en la intersección en luz amarilla mantendrá la prelación hasta culminar el cruce.\n",
      "Verde: Significa vía libre\n",
      "\n",
      "[Artículo 68] De cuatro (4) carriles: Los carriles exteriores se utilizarán para el tránsito ordinario de vehículos, y los interiores, para maniobras de adelantamiento o para circular a mayores velocidades dentro de los límites establecidos.\n",
      "PARÁGRAFO 1o. Sin perjuicio de las normas que sobre el particular se establecen en este código, las bicicletas, motocicletas, motociclos, mototriciclos y vehículos de tracción animal e impulsión humana, transitarán de acuerdo con las reglas que en cada caso dicte la autoridad de tránsito competente. En todo caso, estará prohibido transitar por los andenes o aceras, o puentes de uso exclusivo para los peatones.\n",
      "PARÁGRAFO 2o. Se prohíbe el tránsito de motocicletas y motociclos por las ciclorrutas o ciclovías. En caso de infracción se procederá a la inmovilización.\n",
      "\n",
      "[Artículo 70] Cuando un vehículo se encuentre dentro de una glorieta, tiene prelación sobre los que van a entrar a ella, siempre y cuando esté en movimiento.\n",
      "Cuando dos vehículos que transitan por vías diferentes llegan a una intersección y uno de ellos va a girar a la derecha, tiene prelación el vehículo que se encuentra a la derecha.\n",
      "Cuando un vehículo desee girar a la izquierda o a la derecha, debe buscar con anterioridad el carril más cercano a su giro e ingresar a la otra vía por el carril más próximo según el sentido de circulación.\n",
      "\n",
      "[Artículo 94] Los conductores que transiten en grupo lo harán uno detrás de otro.\n",
      "No deben sujetarse de otro vehículo o viajar cerca de otro carruaje de mayor tamaño que lo oculte de la vista de los conductores que transiten en sentido contrario.\n",
      "\n",
      "[Artículo 58] PROHIBICIONES A LOS PEATONES. Los peatones no po...\n"
     ]
    },
    {
     "name": "stderr",
     "output_type": "stream",
     "text": [
      "c:\\Users\\Camilo\\Documents\\Estudio\\StatsLearning\\RAGTransito\\src\\format_fragments.py:17: LangChainBetaWarning: The function `loads` is in beta. It is actively being worked on, so the API may change.\n",
      "  doc = loads(doc_str)\n"
     ]
    }
   ],
   "source": [
    "from langchain_core.tools import tool\n",
    "from langgraph.prebuilt import ToolNode\n",
    "\n",
    "from src.format_fragments import get_unique_union, format_context_with_articles\n",
    "\n",
    "@tool(response_format=\"content_and_artifact\")\n",
    "def extraer(pregunta: str):\n",
    "    \"\"\"Extrae información relacionada a la pregunta\"\"\"\n",
    "\n",
    "    retrieval_chain = generate_queries | retriever.map() | get_unique_union\n",
    "    docs = retrieval_chain.invoke({\"pregunta\": pregunta})\n",
    "\n",
    "    serialized = format_context_with_articles(docs)\n",
    "\n",
    "    print(\"Number of extracted articles: \", len(docs))\n",
    "\n",
    "    return serialized, docs\n",
    "\n",
    "retriever = vector_store.as_retriever()\n",
    "\n",
    "# Empaqueta el retriever en un ToolNode\n",
    "tools = ToolNode([extraer])\n",
    "retriever_llm_with_tools = retriever_llm.bind_tools([extraer])\n",
    "\n",
    "serialized = extraer(question)\n",
    "\n",
    "print(serialized[:3000] + \"...\")"
   ]
  },
  {
   "cell_type": "markdown",
   "metadata": {},
   "source": [
    "En total se extrayeron 7 artículos (de los cuales solo imprimí 5) que eran similares a las 5 preguntas en las que se convirtió a la pregunta original. Como se puede ver, a esta función extraer se le añadió un decorador `@tool`, que servirá más adelante cuando se implemente el chat con LangGraph.\n",
    "\n",
    "El último paso de RAG, después de la extracción, es la generación. Es decir, la parte que finalmente genera una respuesta basado en el contexto de los fragmentos que ha recibido. Esto se hace llamando a la API de OpenAI nuevamente, pero esta vez a GPT-4o en vez de 3.5. En el mensaje de prompt mostrado a continuacíón, se le describe la tarea de responder, y al final se le adicionan los artículos extraídos que debe usar de contexto. Se ve de esta forma:"
   ]
  },
  {
   "cell_type": "code",
   "execution_count": 10,
   "metadata": {},
   "outputs": [],
   "source": [
    "from langgraph.graph import MessagesState\n",
    "from langchain_core.messages import SystemMessage\n",
    "\n",
    "generator_llm = ChatOpenAI(model_name=\"gpt-4o\", temperature=0)\n",
    "\n",
    "def generate(state: MessagesState):\n",
    "    \"\"\"Generate answer.\"\"\"\n",
    "    recent_tool_messages = []\n",
    "    for message in reversed(state[\"messages\"]):\n",
    "        if message.type == \"tool\":\n",
    "            recent_tool_messages.append(message)\n",
    "        else:\n",
    "            break\n",
    "    tool_messages = recent_tool_messages[::-1]\n",
    "\n",
    "    docs_content = \"\\n\\n\".join(doc.content for doc in tool_messages)\n",
    "\n",
    "    system_message_content = (\n",
    "        \"Eres un asistente de leyes de tránsito en Colombia. Usa las siguientes \"\n",
    "        \"piezas de contexto extraídas para responder la pregunta. Si la respuesta \"\n",
    "        \"no está en el contexto, di que no sabes. Da algo de detalles, mencionando \"\n",
    "        \"el artículo en que te basaste en cada parte de la respuesta al principio \"\n",
    "        \"de dicha parte, diciendo \\\"Basado en el artículo X,...\\\"\"\n",
    "        \"\\n\\n\"\n",
    "        \"Contexto con artículos:\\n\\n\"\n",
    "        f\"{docs_content}\"\n",
    "    )\n",
    "\n",
    "    conversation_messages = [\n",
    "        message\n",
    "        for message in state[\"messages\"]\n",
    "        if message.type in (\"human\", \"system\")\n",
    "        or (message.type == \"ai\" and not message.tool_calls)\n",
    "    ]\n",
    "    prompt = [SystemMessage(system_message_content)] + conversation_messages\n",
    "\n",
    "    response = generator_llm.invoke(prompt)\n",
    "    return {\"messages\": [response]}"
   ]
  },
  {
   "cell_type": "markdown",
   "metadata": {},
   "source": [
    "Esta función no la ejecutamos todavía porque ya tiene elementos propios de LangGraph. Pero cuando se ejecuta, ya esta es la función que genera la respuesta que se le manda al usuario. Pero antes de ejecutar, se explicará ahora la implementación de LangGraph, y de dónde sale su necesaidad.\n",
    "\n",
    "### LangGraph\n",
    "\n",
    "Hasta ahora lo que hemos creado es un robot capaz de responder un mensaje. Sin embargo, una habilidad importante de los chatbots es que son capaces de conocer el historial de mensajes de una misma conversación. Esto se puede lograr con LangGraph, que es una tecnología derivada de LangChain diseñada para tratar los chatbots como grafos, en donde los nodos del grafo se pasan entre el historial de mensajes y otra información de la conversación en forma de un estado. Cada chatbot se puede observar con un grafo equivalente, en donde los nodos del grafo representan la serie de pasos que sigue el chatbot cada vez que recibe un mensaje nuevo.\n",
    "\n",
    "Para poder visualizarlo, primero procedemos a construir el grafo de este chatbot:\n",
    "\n"
   ]
  },
  {
   "cell_type": "code",
   "execution_count": 11,
   "metadata": {},
   "outputs": [],
   "source": [
    "from langgraph.prebuilt import tools_condition\n",
    "from langgraph.graph import StateGraph, END\n",
    "\n",
    "def query_or_respond(state: MessagesState):\n",
    "    \"\"\"Generate tool call for retrieval or respond.\"\"\"\n",
    "    response = retriever_llm_with_tools.invoke(state[\"messages\"])\n",
    "    return {\"messages\": [response]}\n",
    "\n",
    "graph_builder = StateGraph(MessagesState)\n",
    "\n",
    "graph_builder.add_node(query_or_respond)\n",
    "graph_builder.add_node(tools)\n",
    "graph_builder.add_node(generate)\n",
    "\n",
    "graph_builder.set_entry_point(\"query_or_respond\")\n",
    "graph_builder.add_conditional_edges(\n",
    "    \"query_or_respond\",\n",
    "    tools_condition,\n",
    "    {END: END, \"tools\": \"tools\"},\n",
    ")\n",
    "graph_builder.add_edge(\"tools\", \"generate\")\n",
    "graph_builder.add_edge(\"generate\", END)\n",
    "\n",
    "graph = graph_builder.compile()"
   ]
  },
  {
   "cell_type": "markdown",
   "metadata": {},
   "source": [
    "Y ahora imprimimos el grafo:"
   ]
  },
  {
   "cell_type": "code",
   "execution_count": 12,
   "metadata": {},
   "outputs": [
    {
     "data": {
      "image/png": "[encoded data removed]",
      "text/plain": [
       "<langgraph.graph.state.CompiledStateGraph object at 0x000001EAE7657010>"
      ]
     },
     "execution_count": 12,
     "metadata": {},
     "output_type": "execute_result"
    }
   ],
   "source": [
    "graph"
   ]
  },
  {
   "cell_type": "markdown",
   "metadata": {},
   "source": [
    "La forma de interpretarlo, es que cada vez que se recibe un mensaje nuevo del usuario, el chatbot comienza a ejecutar las instrucciones desde arriba. Primero manda el mensaje a la función `query_or_respond`, que se encarga de decidir si el mensaje requiere una consulta al Código de Tránsito, es decir `query`, o si basta con responder directamente, es decir `respond`. Esta función está definida en el bloque de código anterior.\n",
    "\n",
    "Después de esto, en caso de necesitar hacer la consulta, esta se hace dentro del nodo `tools`, y esta es la razón por la que la función `extraer` tiene el decorador `tool`, ya que es la que se ejecuta en este paso del grafo. Después de realizar la extracción, el resultado de la misma se va a la función `generate` (también definida antes), que realiza la generación final de la respuesta, y finalmente el proceso acaba en el nodo `__end__`.\n",
    "\n",
    "La razón por la que esto garantiza que el chatbot va a tener acceso al historial de mensajes, es que cada que se pasa por uno de los nodos del grafo, se tiene acceso a un estado del chat, que tiene todo el historial de mensajes que se va acumulando. Y se puede ver en la definición de la función `generate` que a través de `conversation_messages` siempre se le pasa de contexto al modelo todos los mensajes previos hasta ese punto de la conversación."
   ]
  },
  {
   "cell_type": "markdown",
   "metadata": {},
   "source": [
    "## Resultados\n",
    "\n",
    "Teniendo el proceso a seguir ya definido, el siguiente paso consiste en mostrar los resultados llamando al chatbot con algunas conversaciones de prueba:"
   ]
  },
  {
   "cell_type": "code",
   "execution_count": 13,
   "metadata": {},
   "outputs": [
    {
     "name": "stdout",
     "output_type": "stream",
     "text": [
      "================================\u001b[1m Human Message \u001b[0m=================================\n",
      "\n",
      "Hola\n",
      "==================================\u001b[1m Ai Message \u001b[0m==================================\n",
      "\n",
      "¡Hola! ¿En qué puedo ayudarte hoy?\n"
     ]
    }
   ],
   "source": [
    "input_message = \"Hola\"\n",
    "\n",
    "for step in graph.stream(\n",
    "    {\"messages\": [{\"role\": \"user\", \"content\": input_message}]},\n",
    "    stream_mode=\"values\",\n",
    "):\n",
    "    step[\"messages\"][-1].pretty_print()"
   ]
  },
  {
   "cell_type": "markdown",
   "metadata": {},
   "source": [
    "Aquí, ante un mensaje simple, el chatbot no realizó ninguna consulta. Pero ahora se le manda un mensaje complejo:"
   ]
  },
  {
   "cell_type": "code",
   "execution_count": 14,
   "metadata": {},
   "outputs": [
    {
     "name": "stdout",
     "output_type": "stream",
     "text": [
      "================================\u001b[1m Human Message \u001b[0m=================================\n",
      "\n",
      "una moto puede ir por la linea punteada amarilla entre carros?\n",
      "==================================\u001b[1m Ai Message \u001b[0m==================================\n",
      "Tool Calls:\n",
      "  extraer (call_U7PSvo5SbnxhjgnZ79XlZGPT)\n",
      " Call ID: call_U7PSvo5SbnxhjgnZ79XlZGPT\n",
      "  Args:\n",
      "    pregunta: una moto puede ir por la linea punteada amarilla entre carros?\n",
      "Number of extracted articles:  7\n",
      "=================================\u001b[1m Tool Message \u001b[0m=================================\n",
      "Name: extraer\n",
      "\n",
      "[Artículo 70] Cuando un vehículo se encuentre dentro de una glorieta, tiene prelación sobre los que van a entrar a ella, siempre y cuando esté en movimiento.\n",
      "Cuando dos vehículos que transitan por vías diferentes llegan a una intersección y uno de ellos va a girar a la derecha, tiene prelación el vehículo que se encuentra a la derecha.\n",
      "Cuando un vehículo desee girar a la izquierda o a la derecha, debe buscar con anterioridad el carril más cercano a su giro e ingresar a la otra vía por el carril más próximo según el sentido de circulación.\n",
      "\n",
      "[Artículo 60] OBLIGATORIEDAD DE TRANSITAR POR LOS CARRILES\n",
      "DEMARCADOS. Los vehículos deben transitar, obligatoriamente, por sus respectivos carriles, dentro de las líneas de demarcación, y atravesarlos solamente para efectuar maniobras de adelantamiento o de cruce.\n",
      "PARÁGRAFO 1o. Los conductores no podrán transitar con vehículo automotor o de tracción animal por la zona de seguridad y protección de la vía férrea.\n",
      "PARÁGRAFO 2o. Todo conductor, antes de efectuar un adelantamiento o cruce de una calzada a otra o de un carril a otro, debe anunciar su intención por medio de las luces direccionales y señales ópticas o audibles y efectuar la maniobra de forma que no entorpezca el tránsito, ni ponga en peligro a los demás vehículos o peatones.\n",
      "\n",
      "[Artículo 58] PROHIBICIONES A LOS PEATONES. Los peatones no podrán:\n",
      "Invadir la zona destinada al tránsito de vehículos, ni transitar en ésta en patines, monopatines, patinetas o similares. Texto subrayado declarado EXEQUIBLE por la Corte Constitucional mediante Sentencia C-449 de 2003\n",
      "Llevar, sin las debidas precauciones, elementos que puedan obstaculizar o afectar el tránsito.\n",
      "Cruzar por sitios no permitidos o transitar sobre el guardavías del ferrocarril.\n",
      "Colocarse delante o detrás de un vehículo que tenga el motor encendido.\n",
      "\n",
      "[Artículo 68] De cuatro (4) carriles: Los carriles exteriores se utilizarán para el tránsito ordinario de vehículos, y los interiores, para maniobras de adelantamiento o para circular a mayores velocidades dentro de los límites establecidos.\n",
      "PARÁGRAFO 1o. Sin perjuicio de las normas que sobre el particular se establecen en este código, las bicicletas, motocicletas, motociclos, mototriciclos y vehículos de tracción animal e impulsión humana, transitarán de acuerdo con las reglas que en cada caso dicte la autoridad de tránsito competente. En todo caso, estará prohibido transitar por los andenes o aceras, o puentes de uso exclusivo para los peatones.\n",
      "PARÁGRAFO 2o. Se prohíbe el tránsito de motocicletas y motociclos por las ciclorrutas o ciclovías. En caso de infracción se procederá a la inmovilización.\n",
      "\n",
      "[Artículo 94] Los conductores que transiten en grupo lo harán uno detrás de otro.\n",
      "No deben sujetarse de otro vehículo o viajar cerca de otro carruaje de mayor tamaño que lo oculte de la vista de los conductores que transiten en sentido contrario.\n",
      "\n",
      "[Artículo 118] Amarilla: Indica atención para un cambio de luces o señales y para que el cruce sea desalojado por los vehículos que se encuentran en él o se abstengan de ingresar en el cruce aun disponiendo de espacio para hacerlo. No debe iniciarse la marcha en luz amarilla, ni incrementarse la velocidad durante ese lapso.\n",
      "No se debe ingresar en amarillo a la intersección y si un vehículo ya está en la intersección en luz amarilla mantendrá la prelación hasta culminar el cruce.\n",
      "Verde: Significa vía libre\n",
      "\n",
      "[Artículo 94] NORMAS GENERALES PARA BICICLETAS, TRICICLOS,\n",
      "MOTOCICLETAS, MOTOCICLOS Y MOTOTRICICLOS. Los conductores de bicicletas, triciclos, motocicletas, motociclos y mototriciclos, estarán sujetos a las siguientes normas:\n",
      "Deben transitar por la derecha de las vías a distancia no mayor de un (1) metro de la acera u orilla y nunca utilizar las vías exclusivas para servicio público colectivo.\n",
      "Los conductores de estos tipos de vehículos y sus acompañantes deben vestir chalecos o chaquetas reflectivas de identificación que deben ser visibles cuando se conduzca entre las 18:00 y las 6:00 horas del día siguiente, y siempre que la visibilidad sea escasa.\n",
      "Los conductores que transiten en grupo lo harán uno detrás de otro.\n",
      "==================================\u001b[1m Ai Message \u001b[0m==================================\n",
      "\n",
      "Basado en el artículo 60, los vehículos, incluyendo motocicletas, deben transitar obligatoriamente por sus respectivos carriles dentro de las líneas de demarcación y solo pueden atravesarlos para efectuar maniobras de adelantamiento o de cruce. Esto implica que una motocicleta no debería circular por la línea punteada amarilla entre carros, ya que esto no constituye una maniobra de adelantamiento o cruce adecuada y podría entorpecer el tránsito o poner en peligro a los demás vehículos o peatones.\n"
     ]
    }
   ],
   "source": [
    "input_message = \"una moto puede ir por la linea punteada amarilla entre carros?\"\n",
    "\n",
    "for step in graph.stream(\n",
    "    {\"messages\": [{\"role\": \"user\", \"content\": input_message}]},\n",
    "    stream_mode=\"values\",\n",
    "):\n",
    "    step[\"messages\"][-1].pretty_print()"
   ]
  },
  {
   "cell_type": "markdown",
   "metadata": {},
   "source": [
    "A diferencia del primer mensaje, en este ya sí se le hace una pregunta que require consultar la base de datos indexada, y eso es lo que hace, como se puede ver evidenciado por los mensajes intermedios. Primero, después de hacer la pregunta, aparece un `Ai Message` que es el que hace el llamado al código de extracción, y después aparece un `Tool Message` que es el que contiene los fragmentos extraídos del Código. y finalmente aparece otro `Ai Message` que es el que contiene la respuesta final del chatbot. Esta respuesta final tiene sentido, y al revisar en el PDF del Código de Tránsito, observamos que es correcta.\n",
    "\n",
    "Le podemos hacer una prueba más:"
   ]
  },
  {
   "cell_type": "code",
   "execution_count": 16,
   "metadata": {},
   "outputs": [
    {
     "name": "stdout",
     "output_type": "stream",
     "text": [
      "================================\u001b[1m Human Message \u001b[0m=================================\n",
      "\n",
      "puedo usar las luces altas en una vía urbana?\n",
      "==================================\u001b[1m Ai Message \u001b[0m==================================\n",
      "Tool Calls:\n",
      "  extraer (call_K3myPfJgbg4FXqo8jPF6tqzq)\n",
      " Call ID: call_K3myPfJgbg4FXqo8jPF6tqzq\n",
      "  Args:\n",
      "    pregunta: puedo usar las luces altas en una vía urbana?\n",
      "Number of extracted articles:  8\n",
      "=================================\u001b[1m Tool Message \u001b[0m=================================\n",
      "Name: extraer\n",
      "\n",
      "[Artículo 90] LUCES INTERIORES DEL SERVICIO PÚBLICO COLECTIVO\n",
      "URBANO. En los vehículos de servicio público colectivo urbano, las luces interiores permanecerán encendidas durante todo el tiempo en que el vehículo esté prestando el servicio entre las dieciocho (18) horas y las seis (6) horas del día siguiente.\n",
      "PARÁGRAFO. Todos los vidrios de estos vehículos serán transparentes.\n",
      "\n",
      "[Artículo 104] NORMAS PARA DISPOSITIVOS SONOROS. Todo vehículo deberá estar provisto de un aparato para producir señales acústicas de intensidad, no superior a los señalados por las autoridades ambientales, utilizable únicamente para prevención de accidentes y para casos de emergencia. Se buscará por parte del Ministerio de Transporte y el Ministerio del Medio Ambiente reducir significativamente la intensidad de pitos y sirenas dentro del perímetro urbano, utilizando aparatos de menor contaminación auditiva.\n",
      "El uso de sirenas, luces intermitentes, o de alta intensidad y aparatos similares está reservado a los vehículos de bomberos, ambulancias, recolectores de basura, socorro, emergencia, fuerzas militares, policía y autoridades de tránsito y transporte.\n",
      "\n",
      "[Artículo 118] SIMBOLOGÍA DE LAS SEÑALES LUMINOSAS. Las señales luminosas para ordenar la circulación son las siguientes:\n",
      "Roja: Indica el deber de detenerse, sin pisar o invadir la raya inicial de la zona de cruce de peatones. Si ésta no se encuentra demarcada, se entenderá extendida a dos metros de distancia del semáforo. El giro a la derecha, cuando la luz está en rojo está permitido, respetando la prelación del peatón. La prohibición de este giro se indicará con señalización especial. Las autoridades de tránsito, en su jurisdicción, podrán autorizarlo.\n",
      "\n",
      "[Artículo 86] Dentro del perímetro urbano se usará la luz media, y se podrá hacer uso de luces exploradoras orientados sólo hacia la superficie de la vía, cuando éstas estén colocadas por debajo de las defensas del vehículo o cuando se trate de unidades integradas por el fabricante en el conjunto de luces frontales del vehículo. Fuera del perímetro urbano, podrá usarse la luz plena o alta, excepto cuando se aproxime un vehículo en sentido contrario o cuando la autoridad lo indique mediante la señal de tránsito correspondiente, o cuando la luz plena alcance un vehículo que transite adelante y pueda perturbar su conducción.\n",
      "PARÁGRAFO. Ningún vehículo podrá portar luces exploradoras en la parte posterior.\n",
      "CAPITULO IV.\n",
      "PARA EL TRANSPORTE PÚBLICO.\n",
      "\n",
      "[Artículo 101] NORMAS PARA REALIZAR TRABAJOS EN VÍA PÚBLICA.\n",
      "Siempre que deban efectuarse trabajos que alteren la circulación en las vías públicas, el interesado en tal labor obtendrá en forma previa la autorización correspondiente de la autoridad competente y señalizará el sitio de labor mediante la colocación de señales preventivas, reglamentarias e informativas que han de iluminarse en horas nocturnas.\n",
      "Los proyectos de edificación que causen modificaciones al sistema de tránsito o se constituyan en un polo importante generados de viajes tales como parques de diversiones, centros comerciales, estadios, centros culturales y otros, deberán tener la aprobación del organismo de tránsito de la jurisdicción.\n",
      "\n",
      "[Artículo 77] NORMAS PARA ESTACIONAR. En autopistas y zonas rurales, los vehículos podrán estacionarse únicamente por fuera de la vía colocando en el día señales reflectivas de peligro, y en la noche, luces de estacionamiento y señales luminosas de peligro. Quien haga caso omiso a este artículo será sancionado por la autoridad competente con multa equivalente a treinta (30) salarios mínimos legales diarios vigentes.\n",
      "\n",
      "[Artículo 131] Así mismo, cuando transite por cruces de hospitales o terminales de pasajeros.\n",
      "No utilizar el cinturón de seguridad por parte de los ocupantes del vehículo.\n",
      "Dejar de señalizar con las luces direccionales o mediante señales de mano y con la debida anticipación, la maniobra de giro o de cambio de carril.\n",
      "Transitar sin los dispositivos luminosos requeridos o sin los elementos determinados en este código.\n",
      "No respetar las señales de detención en el cruce de una línea férrea, o conducir por la vía férrea o por las zonas de protección y seguridad de ella.\n",
      "\n",
      "[Artículo 86] DE LAS LUCES EXTERIORES. Todo vehículo automotor deberá tener encendidas las luces exteriores a partir de las dieciocho (18) horas hasta las seis (6) horas del día siguiente, y cuando las condiciones de visibilidad sean adversas. Sin embargo, las autoridades de tránsito podrán fijar horarios de excepción. Ver la Resolución del Min. Transporte 2730 de 2004\n",
      "==================================\u001b[1m Ai Message \u001b[0m==================================\n",
      "\n",
      "Basado en el artículo 86, dentro del perímetro urbano se debe usar la luz media. No se menciona la posibilidad de usar luces altas en vías urbanas, por lo que se entiende que no está permitido su uso en estas áreas. Las luces altas están reservadas para uso fuera del perímetro urbano, excepto en situaciones específicas como cuando se aproxima un vehículo en sentido contrario.\n"
     ]
    }
   ],
   "source": [
    "input_message = \"puedo usar las luces altas en una vía urbana?\"\n",
    "\n",
    "for step in graph.stream(\n",
    "    {\"messages\": [{\"role\": \"user\", \"content\": input_message}]},\n",
    "    stream_mode=\"values\",\n",
    "):\n",
    "    step[\"messages\"][-1].pretty_print()"
   ]
  },
  {
   "cell_type": "markdown",
   "metadata": {},
   "source": [
    "Y una vez más el chatbot hace la consulta al Código de Tránsito, evidenciado por los mensajes intermedios, para finalmente dar la respuesta correcta."
   ]
  },
  {
   "cell_type": "markdown",
   "metadata": {},
   "source": [
    "## Validación"
   ]
  },
  {
   "cell_type": "markdown",
   "metadata": {},
   "source": [
    "Para probar qué tan bueno es el chatbot, se le harán 6 preguntas de las que ya conocemos las respuestas (habiéndolas buscado a mano), para darle un puntaje de 0 a 6 dependiendo de cuántas responda correctamente. Aquí se suprimirá mostrar los mensajes intermedios, para solo mostrar las respuestas finales.\n",
    "\n",
    "### 1. ¿Cuáles son las autoridades de tránsito en Colombia?\n",
    "\n",
    "Respuesta real: Según el Artículo 3, las autoridades de tránsito en Colombia incluyen el Ministerio de Transporte, los Gobernadores y Alcaldes, los organismos de tránsito departamentales, municipales o distritales, la Policía Nacional en sus cuerpos especializados, los Inspectores de Tránsito y Transporte, la Superintendencia de Puertos y Transporte, y los agentes de tránsito."
   ]
  },
  {
   "cell_type": "code",
   "execution_count": 31,
   "metadata": {},
   "outputs": [
    {
     "name": "stdout",
     "output_type": "stream",
     "text": [
      "================================\u001b[1m Human Message \u001b[0m=================================\n",
      "\n",
      "¿Cuáles son las autoridades de tránsito en Colombia?\n",
      "------------------------------\n",
      "Number of extracted articles:  9\n",
      "==================================\u001b[1m Ai Message \u001b[0m==================================\n",
      "\n",
      "Basado en el artículo 3, las autoridades de tránsito en Colombia, en su orden, son las siguientes:\n",
      "\n",
      "1. El Ministerio de Transporte.\n",
      "2. Los Gobernadores y los Alcaldes.\n",
      "3. Los organismos de tránsito de carácter departamental, municipal o distrital.\n",
      "4. La Policía Nacional en sus cuerpos especializados de policía de tránsito urbano y policía de carreteras.\n",
      "5. Los Inspectores de Policía, los Inspectores de Tránsito, Corregidores o quien haga sus veces en cada ente territorial.\n",
      "6. La Superintendencia General de Puertos y Transporte.\n",
      "7. Las fuerzas militares para cumplir exclusivamente lo dispuesto en el parágrafo 5o. de este artículo.\n",
      "8. Los agentes de Tránsito y Transporte.\n",
      "------------------------------\n"
     ]
    }
   ],
   "source": [
    "input_message = \"¿Cuáles son las autoridades de tránsito en Colombia?\"\n",
    "\n",
    "for step in graph.stream(\n",
    "    {\"messages\": [{\"role\": \"user\", \"content\": input_message}]},\n",
    "    stream_mode=\"values\",\n",
    "):\n",
    "    if (\n",
    "        \"tool_calls\" not in step[\"messages\"][-1].__dict__[\"additional_kwargs\"] and\n",
    "        step[\"messages\"][-1].__dict__[\"type\"] != \"tool\"\n",
    "    ):\n",
    "        step[\"messages\"][-1].pretty_print()\n",
    "        print(\"------------------------------\")"
   ]
  },
  {
   "cell_type": "markdown",
   "metadata": {},
   "source": [
    "Calificación: correcta.\n",
    "### 2. ¿Es obligatorio portar el equipo de prevención y seguridad en un vehículo?\n",
    "\n",
    "Respuesta real: Sí, según el Artículo 30, ningún vehículo podrá transitar por las vías del territorio nacional sin portar un equipo de carretera mínimo, que incluye un gato, cruceta, señales de carretera, botiquín de primeros auxilios, extintor, tacos de bloqueo, caja de herramientas básica, llanta de repuesto y linterna."
   ]
  },
  {
   "cell_type": "code",
   "execution_count": 32,
   "metadata": {},
   "outputs": [
    {
     "name": "stdout",
     "output_type": "stream",
     "text": [
      "================================\u001b[1m Human Message \u001b[0m=================================\n",
      "\n",
      "¿Es obligatorio portar el equipo de prevención y seguridad en un vehículo?\n",
      "------------------------------\n",
      "Number of extracted articles:  6\n",
      "==================================\u001b[1m Ai Message \u001b[0m==================================\n",
      "\n",
      "Basado en el artículo 30, sí, es obligatorio portar el equipo de prevención y seguridad en un vehículo. Ningún vehículo podrá transitar por las vías del territorio nacional sin portar el equipo de carretera mínimo especificado, que incluye elementos como un gato, una cruceta, señales de carretera, un botiquín de primeros auxilios, un extintor, entre otros.\n",
      "------------------------------\n"
     ]
    }
   ],
   "source": [
    "input_message = \"¿Es obligatorio portar el equipo de prevención y seguridad en un vehículo?\"\n",
    "\n",
    "for step in graph.stream(\n",
    "    {\"messages\": [{\"role\": \"user\", \"content\": input_message}]},\n",
    "    stream_mode=\"values\",\n",
    "):\n",
    "    if (\n",
    "        \"tool_calls\" not in step[\"messages\"][-1].__dict__[\"additional_kwargs\"] and\n",
    "        step[\"messages\"][-1].__dict__[\"type\"] != \"tool\"\n",
    "    ):\n",
    "        step[\"messages\"][-1].pretty_print()\n",
    "        print(\"------------------------------\")"
   ]
  },
  {
   "cell_type": "markdown",
   "metadata": {},
   "source": [
    "Califiación: correcta.\n",
    "### 3. ¿Cuánto tiempo es válida una licencia de conducción para vehículos particulares en Colombia?\n",
    "\n",
    "Respueta real: Según el Artículo 22, la licencia de conducción para vehículos particulares tiene una vigencia indefinida, mientras que para vehículos de servicio público es de 3 años y debe renovarse adjuntando un nuevo certificado de aptitud física y mental."
   ]
  },
  {
   "cell_type": "code",
   "execution_count": 33,
   "metadata": {},
   "outputs": [
    {
     "name": "stdout",
     "output_type": "stream",
     "text": [
      "================================\u001b[1m Human Message \u001b[0m=================================\n",
      "\n",
      "¿Cuánto tiempo es válida una licencia de conducción para vehículos particulares en Colombia?\n",
      "------------------------------\n",
      "Number of extracted articles:  5\n",
      "==================================\u001b[1m Ai Message \u001b[0m==================================\n",
      "\n",
      "Basado en el artículo 22, las licencias de conducción para vehículos particulares en Colombia tienen una vigencia indefinida.\n",
      "------------------------------\n"
     ]
    }
   ],
   "source": [
    "input_message = \"¿Cuánto tiempo es válida una licencia de conducción para vehículos particulares en Colombia?\"\n",
    "\n",
    "for step in graph.stream(\n",
    "    {\"messages\": [{\"role\": \"user\", \"content\": input_message}]},\n",
    "    stream_mode=\"values\",\n",
    "):\n",
    "    if (\n",
    "        \"tool_calls\" not in step[\"messages\"][-1].__dict__[\"additional_kwargs\"] and\n",
    "        step[\"messages\"][-1].__dict__[\"type\"] != \"tool\"\n",
    "    ):\n",
    "        step[\"messages\"][-1].pretty_print()\n",
    "        print(\"------------------------------\")"
   ]
  },
  {
   "cell_type": "markdown",
   "metadata": {},
   "source": [
    "Calificación: correcta.\n",
    "\n",
    "### 4. ¿Cuáles son las condiciones mínimas para que un vehículo pueda transitar por el territorio nacional?\n",
    "\n",
    "Respuesta real: Según el Artículo 28, el vehículo debe garantizar el perfecto funcionamiento de frenos, dirección, suspensión, señales visuales y audibles, escape de gases, llantas, vidrios de seguridad y espejos, además de cumplir con las normas ambientales de emisión de gases."
   ]
  },
  {
   "cell_type": "code",
   "execution_count": 34,
   "metadata": {},
   "outputs": [
    {
     "name": "stdout",
     "output_type": "stream",
     "text": [
      "================================\u001b[1m Human Message \u001b[0m=================================\n",
      "\n",
      "¿Cuáles son las condiciones mínimas para que un vehículo pueda transitar por el territorio nacional?\n",
      "------------------------------\n",
      "Number of extracted articles:  9\n",
      "==================================\u001b[1m Ai Message \u001b[0m==================================\n",
      "\n",
      "Basado en el artículo 28, para que un vehículo pueda transitar por el territorio nacional, debe garantizar como mínimo el perfecto funcionamiento de los frenos, del sistema de dirección, del sistema de suspensión, del sistema de señales visuales y audibles permitidas, y del sistema de escape de gases. Además, debe demostrar un estado adecuado de las llantas, del conjunto de vidrios de seguridad y de los espejos, y cumplir con las normas de emisión de gases que establezcan las autoridades ambientales.\n",
      "------------------------------\n"
     ]
    }
   ],
   "source": [
    "input_message = \"¿Cuáles son las condiciones mínimas para que un vehículo pueda transitar por el territorio nacional?\"\n",
    "\n",
    "for step in graph.stream(\n",
    "    {\"messages\": [{\"role\": \"user\", \"content\": input_message}]},\n",
    "    stream_mode=\"values\",\n",
    "):\n",
    "    if (\n",
    "        \"tool_calls\" not in step[\"messages\"][-1].__dict__[\"additional_kwargs\"] and\n",
    "        step[\"messages\"][-1].__dict__[\"type\"] != \"tool\"\n",
    "    ):\n",
    "        step[\"messages\"][-1].pretty_print()\n",
    "        print(\"------------------------------\")"
   ]
  },
  {
   "cell_type": "markdown",
   "metadata": {},
   "source": [
    "Calificación: correcta.\n",
    "\n",
    "### 5. ¿Cuáles son las sanciones por conducir en estado de embriaguez en Colombia?\n",
    "\n",
    "Respuesta real: Según el Artículo 26, si un conductor es sorprendido en flagrante estado de embriaguez, su licencia de conducción será suspendida. En caso de reincidencia, la licencia puede ser cancelada.\n",
    "\n",
    "Además según el artículo 131: Conducir en estado de embriaguez, o bajo los efectos de sustancias alucinógenas. \n",
    "Al infractor se le suspenderá la licencia de conducción de ocho (8) meses a un (1) \n",
    "año. Si se trata de conductor de vehículos de servicio público, de transporte \n",
    "escolar o de instructor de conducción, la multa pecuniaria será del doble indicado \n",
    "para ambas infracciones, se aumentará el período de suspensión de la licencia de \n",
    "conducción uno (1) a dos (2) años y se inmovilizará el vehículo. En todos los \n",
    "casos de embriaguez, el vehículo será inmovilizado y el estado de embriaguez o \n",
    "alcoholemia se determinará mediante una prueba que no cause lesión, la cual \n",
    "será determinada por el Instituto de Medicina Legal y Ciencias Forenses. Ver \n",
    "Acuerdo Distrital 36 de 1955 "
   ]
  },
  {
   "cell_type": "code",
   "execution_count": 35,
   "metadata": {},
   "outputs": [
    {
     "name": "stdout",
     "output_type": "stream",
     "text": [
      "================================\u001b[1m Human Message \u001b[0m=================================\n",
      "\n",
      "¿Cuáles son las sanciones por conducir en estado de embriaguez en Colombia?\n",
      "------------------------------\n",
      "Number of extracted articles:  5\n",
      "==================================\u001b[1m Ai Message \u001b[0m==================================\n",
      "\n",
      "Basado en el artículo 131, conducir en estado de embriaguez en Colombia conlleva a la suspensión de la licencia de conducción de ocho (8) meses a un (1) año. Si el infractor es un conductor de vehículos de servicio público, de transporte escolar o un instructor de conducción, la multa pecuniaria será el doble, el período de suspensión de la licencia de conducción se aumentará de uno (1) a dos (2) años, y el vehículo será inmovilizado.\n",
      "\n",
      "Basado en el artículo 152, si se establece un segundo grado de embriaguez, además de la sanción de multa, se decretará la suspensión de la licencia de conducción entre dos (2) y tres (3) años, y la obligación de prestar servicios gratuitos comunitarios por veinte (20) horas. En el caso de un tercer grado de embriaguez, la suspensión será entre tres (3) y diez (10) años, con la obligación de prestar servicios comunitarios por cuarenta (40) horas. La reincidencia en un tercer grado de embriaguez puede llevar a la cancelación definitiva de la licencia de conducción.\n",
      "------------------------------\n"
     ]
    }
   ],
   "source": [
    "input_message = \"¿Cuáles son las sanciones por conducir en estado de embriaguez en Colombia?\"\n",
    "\n",
    "for step in graph.stream(\n",
    "    {\"messages\": [{\"role\": \"user\", \"content\": input_message}]},\n",
    "    stream_mode=\"values\",\n",
    "):\n",
    "    if (\n",
    "        \"tool_calls\" not in step[\"messages\"][-1].__dict__[\"additional_kwargs\"] and\n",
    "        step[\"messages\"][-1].__dict__[\"type\"] != \"tool\"\n",
    "    ):\n",
    "        step[\"messages\"][-1].pretty_print()\n",
    "        print(\"------------------------------\")"
   ]
  },
  {
   "cell_type": "markdown",
   "metadata": {},
   "source": [
    "Calificación: correcta.\n",
    "\n",
    "### 6. ¿Es obligatorio que los vehículos tengan revisión técnico-mecánica y de gases?\n",
    "\n",
    "Respuesta real: Sí, según el Artículo 51, los vehículos de servicio público deben someterse a revisión técnico-mecánica anualmente, mientras que los de servicio particular lo deben hacer cada dos años."
   ]
  },
  {
   "cell_type": "code",
   "execution_count": 36,
   "metadata": {},
   "outputs": [
    {
     "name": "stdout",
     "output_type": "stream",
     "text": [
      "================================\u001b[1m Human Message \u001b[0m=================================\n",
      "\n",
      "¿Es obligatorio que los vehículos tengan revisión técnico-mecánica y de gases?\n",
      "------------------------------\n",
      "Number of extracted articles:  4\n",
      "==================================\u001b[1m Ai Message \u001b[0m==================================\n",
      "\n",
      "Basado en el artículo 51, sí, es obligatorio que los vehículos automotores se sometan a una revisión técnico-mecánica. Los vehículos de servicio público, escolar y de turismo deben hacerlo anualmente, mientras que los vehículos de servicio diferente al público deben hacerlo cada dos años. Esta revisión verifica el estado de la carrocería, niveles de emisión de gases, funcionamiento del sistema mecánico y eléctrico, entre otros aspectos.\n",
      "\n",
      "Basado en el artículo 52, también es obligatorio que los vehículos se sometan a una revisión de gases. La periodicidad es la misma que para la revisión técnico-mecánica: anualmente para vehículos de servicio público y cada dos años para los demás. Los vehículos nuevos deben realizar su primera revisión de gases al cumplir dos años desde su matrícula.\n",
      "\n",
      "Basado en el artículo 53, la revisión técnico-mecánica y de gases debe realizarse en centros de diagnóstico automotor legalmente constituidos, y es necesario presentar la licencia de tránsito y el seguro obligatorio para realizarla. Además, quien no porte el certificado de revisión incurrirá en sanciones.\n",
      "------------------------------\n"
     ]
    }
   ],
   "source": [
    "input_message = \"¿Es obligatorio que los vehículos tengan revisión técnico-mecánica y de gases?\"\n",
    "\n",
    "for step in graph.stream(\n",
    "    {\"messages\": [{\"role\": \"user\", \"content\": input_message}]},\n",
    "    stream_mode=\"values\",\n",
    "):\n",
    "    if (\n",
    "        \"tool_calls\" not in step[\"messages\"][-1].__dict__[\"additional_kwargs\"] and\n",
    "        step[\"messages\"][-1].__dict__[\"type\"] != \"tool\"\n",
    "    ):\n",
    "        step[\"messages\"][-1].pretty_print()\n",
    "        print(\"------------------------------\")"
   ]
  },
  {
   "cell_type": "markdown",
   "metadata": {},
   "source": [
    "Calificación: correcta.\n",
    "\n",
    "\n",
    "### Calificación final: 6/6\n",
    "\n",
    "Esto muestra que el chatbot es robusto y cumple bien su tarea, pues es capaz de encontrar dentro del Cödigo de Tránsito todo el contexto relevante para las pregunta que se le hacen."
   ]
  },
  {
   "cell_type": "markdown",
   "metadata": {},
   "source": [
    "## Conclusiones\n",
    "\n",
    "En las pruebas que se le hicieron, el chatbot logró responder todo correctamente, demostrando así que la estrategia implementada fue efectiva. Esto permite tener un chatbot del Código de Tránsito de Colombia, basado en GPT-4o y LangChain, corriendo rápidamente en un entorno local.\n",
    "\n",
    "Se concluye también que RAG es una técnica poderosa que permite aumentar la cantidad de información a la que tienen acceso los modelos de lenguaje, más allá de aquella con la que fueron entrenados. La capacidad de razonamiento del modelo de lenguaje elegido es muy importante para ser capaz de seleccionar, dentro del contexto, los artículos más relevantes para realmente responder la pregunta que se le está haciendo.\n",
    "\n",
    "Unos siguietnes pasos serían tomar esta estrategia y desplegarla, formando así un producto real diseñado para el público general."
   ]
  },
  {
   "cell_type": "markdown",
   "metadata": {},
   "source": [
    "## Referencias\n",
    "\n",
    "- Dhungana, K. (2024). Advanced RAG: Multi-Query Retriever Approach. Medium. Recuperado el 7 de febrero de 2025, de https://medium.com/@kbdhunga/advanced-rag-multi-query-retriever-approach-ad8cd0ea0f5b\n",
    "\n",
    "- FreeCodeCamp. (2024). Learn RAG from Scratch – Python AI Tutorial from a LangChain Engineer. FreeCodeCamp. Recuperado el 7 de febrero de 2025, de https://www.freecodecamp.org/news/mastering-rag-from-scratch/\n",
    "\n",
    "- LangChain. (2024). Build a Chatbot. LangChain Documentation. Recuperado el 7 de febrero de 2025, de https://python.langchain.com/docs/tutorials/chatbot/"
   ]
  },
  {
   "cell_type": "markdown",
   "metadata": {},
   "source": [
    "## Anexos\n",
    "\n",
    "Se puede encontrar dentro de los archivos en la carpeta `src` todas las funciones auxiliares que fueron usadas para el procesamiento de texto y para la combinación de fragmentos.\n",
    "\n",
    "Nótese que todas las definiciones de funciones en este notebook están en inglés excepto la función `extraer`. Esto es intencional. Cuando se llama a la función `query_or_respond` al principio del grafo, esta debe decidir por cuál de los dos caminos irse. Esta lógica de decisión no la programo yo, sino que el mismo modelo de lenguaje lo decide basado en el entrada del usuario, y en el nombre y la descripción de la función. Es por eso que esta función tiene el nombre y la descripción en español, para que el modelo de lenguaje que hasta ahora ha recibido todas las entradas en español tenga toda la información necesaria para decidir por cuál camino del grafo irse."
   ]
  }
 ],
 "metadata": {
  "kernelspec": {
   "display_name": "langchain-env",
   "language": "python",
   "name": "python3"
  },
  "language_info": {
   "codemirror_mode": {
    "name": "ipython",
    "version": 3
   },
   "file_extension": ".py",
   "mimetype": "text/x-python",
   "name": "python",
   "nbconvert_exporter": "python",
   "pygments_lexer": "ipython3",
   "version": "3.10.16"
  }
 },
 "nbformat": 4,
 "nbformat_minor": 2
}
