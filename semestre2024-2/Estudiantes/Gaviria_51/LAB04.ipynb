{
  "nbformat": 4,
  "nbformat_minor": 0,
  "metadata": {
    "colab": {
      "provenance": []
    },
    "kernelspec": {
      "name": "python3",
      "display_name": "Python 3"
    },
    "language_info": {
      "name": "python"
    }
  },
  "cells": [
    {
      "cell_type": "code",
      "source": [
        "import numpy as np\n",
        "import matplotlib.pylab as plt\n",
        "import pandas as pd\n",
        "import plotly.graph_objects as go"
      ],
      "metadata": {
        "id": "_DIBns6aC2t7"
      },
      "execution_count": null,
      "outputs": []
    },
    {
      "cell_type": "markdown",
      "source": [
        "Punto 1"
      ],
      "metadata": {
        "id": "TxxWCMmJqtw5"
      }
    },
    {
      "cell_type": "code",
      "source": [
        "#Iteraciones\n",
        "N = 100\n",
        "# Generación de caracterisiticas\n",
        "x_1 = 2 * np.random.random(N) - 1\n",
        "x_2 = 2 * np.random.random(N) - 1\n",
        "\n",
        "# Ecuación del plano\n",
        "y_label = 2.1 * x_1 - 3.1 * x_2\n",
        "#Creación de dataframe\n",
        "df = pd.DataFrame({\"x1\":x_1, \"x2\":x_2, \"y\":y_label})\n",
        "#Columna de unos\n",
        "df[\"ones\"]=1"
      ],
      "metadata": {
        "id": "TnUT8aqwCYPo"
      },
      "execution_count": null,
      "outputs": []
    },
    {
      "cell_type": "code",
      "source": [
        "#Creación de gráfica 3d\n",
        "\n",
        "fig = go.Figure(data=[go.Scatter3d(\n",
        "    x=df['x1'],\n",
        "    y=df['x2'],\n",
        "    z=df['y'],\n",
        "    mode='markers',\n",
        "    marker=dict(\n",
        "        size=4,\n",
        "        color=df['y'],                # conjunto de colores\n",
        "        colorscale='Viridis',   # elección de color\n",
        "        opacity=0.8\n",
        "    )\n",
        ")])\n",
        "\n",
        "# tight layout\n",
        "fig.update_layout(margin=dict(l=0, r=0, b=0, t=0))\n",
        "fig.show()"
      ],
      "metadata": {
        "colab": {
          "base_uri": "https://localhost:8080/",
          "height": 542
        },
        "id": "PvxDPh9lqiCF",
        "outputId": "420a83e5-ca2e-4ce7-f4fc-bfbac3e88f6e"
      },
      "execution_count": null,
      "outputs": [
        {
          "output_type": "display_data",
          "data": {
            "text/html": [
              "<html>\n",
              "<head><meta charset=\"utf-8\" /></head>\n",
              "<body>\n",
              "    <div>            <script src=\"https://cdnjs.cloudflare.com/ajax/libs/mathjax/2.7.5/MathJax.js?config=TeX-AMS-MML_SVG\"></script><script type=\"text/javascript\">if (window.MathJax && window.MathJax.Hub && window.MathJax.Hub.Config) {window.MathJax.Hub.Config({SVG: {font: \"STIX-Web\"}});}</script>                <script type=\"text/javascript\">window.PlotlyConfig = {MathJaxConfig: 'local'};</script>\n",
              "        <script charset=\"utf-8\" src=\"https://cdn.plot.ly/plotly-2.35.2.min.js\"></script>                <div id=\"90ec5b0e-82d8-4ad8-926f-29fdc7b07b03\" class=\"plotly-graph-div\" style=\"height:525px; width:100%;\"></div>            <script type=\"text/javascript\">                                    window.PLOTLYENV=window.PLOTLYENV || {};                                    if (document.getElementById(\"90ec5b0e-82d8-4ad8-926f-29fdc7b07b03\")) {                    Plotly.newPlot(                        \"90ec5b0e-82d8-4ad8-926f-29fdc7b07b03\",                        [{\"marker\":{\"color\":[-2.3348155650893077,1.5707424674851103,1.594032696598726,1.4787986754103264,3.296962582833494,1.84563586006642,-3.915344763974387,-2.9316518419135327,-2.450442377977648,2.640244753506447,-0.26038114287231195,-4.013167579818957,2.2033027305011212,2.4655900501840438,0.4901886029996376,1.1923384259447398,-2.2620039272197134,2.6696640452549656,1.1076021980141242,-0.6892082321107923,-4.045602890383849,0.5543194342469572,-3.7581155038792815,1.3075219350597918,-2.4433624453160596,0.25385323101381485,1.0150129413313493,-2.2902185992033695,-2.299872460745442,0.830500250891061,-2.293292765881479,-4.345479044043355,-0.2480430335721575,-2.5547714065067466,0.03355877282207528,-1.8688462710850051,3.4081185924965345,-0.753298171565419,0.560311823094922,0.6959277133845305,0.9531206177459115,1.1838194252001497,0.8160005246813873,0.9496901761630399,2.0720354175713616,-3.837868829224391,-0.12730383655195165,-1.279222290012639,2.4956489777734605,-3.8898800746110167,-0.46721816525172116,0.4011472812266337,1.0587747581002904,1.2579182077245172,0.14514832599361271,-0.9688515732485807,4.0858426234386895,3.9042313393080867,-5.025208885395987,-1.75039447498829,-3.581207199435715,-0.30409929452590556,2.51270557759759,-3.1639922672857024,2.10310687320379,-1.4616519696661503,1.6701018727231882,-0.9822175443237572,0.3054578230569638,-3.075264140368651,3.371884145833851,0.7291171066225473,-1.260996290595589,3.792356486248944,3.592099802873954,-0.8678114863456505,1.2922712377730803,0.12679384080602407,2.2841624852669193,4.1394108831075,1.6908841422984053,-2.051020099890295,-0.006582748933437577,-1.3277897188541656,-1.7611836059443557,-0.6327696536173296,-1.4495936009843597,3.993632907805586,0.43161240104863907,0.6300450292167761,-1.8496477976701946,-2.3402154263741073,-0.07067578011046272,0.03664233751249189,0.9291897990461288,-0.3762381240407072,-2.931231826392885,-0.01334516474723857,4.543117592394903,-2.8220190141639767],\"colorscale\":[[0.0,\"#440154\"],[0.1111111111111111,\"#482878\"],[0.2222222222222222,\"#3e4989\"],[0.3333333333333333,\"#31688e\"],[0.4444444444444444,\"#26828e\"],[0.5555555555555556,\"#1f9e89\"],[0.6666666666666666,\"#35b779\"],[0.7777777777777778,\"#6ece58\"],[0.8888888888888888,\"#b5de2b\"],[1.0,\"#fde725\"]],\"opacity\":0.8,\"size\":4},\"mode\":\"markers\",\"x\":[0.2836180619535156,-0.562963890845557,-0.23498138088642895,-0.4566918572222951,0.3409240359806742,0.9723272675319401,-0.9931462340294244,0.030891145860555858,0.16849021490424443,0.5722112840897611,-0.7740860369552431,-0.7269694626749401,-0.19822134531468438,0.30904009038287517,-0.6800404367853918,0.9655057935841471,-0.2950332400585918,0.2716585386725643,0.23561848060967328,-0.43919344718663544,-0.8608085705621913,0.1330030789312553,-0.6857620394017043,-0.4896564022368648,0.0062429449230581024,0.519114367226065,-0.32142202672043996,-0.7473692390752555,-0.5087836811724358,0.5904749363861606,-0.23116386308373582,-0.9734143097212629,0.5531640026560993,0.21217613883928133,0.060131983918061405,-0.012833093070416579,0.2184450975262464,-0.704367339321714,-0.5835892371096838,-0.21861300876293166,0.8824828180283364,-0.5378079994680014,0.21445063492878647,0.028185522348072478,-0.19057608494136669,-0.6630419116573087,-0.9487992583690876,-0.6752038468666044,0.7783997552317736,-0.8083290576056454,-0.36089287363025546,0.9738854912783756,-0.28782774389516175,-0.3970606723990373,-0.2023897559129615,0.43411736708579096,0.8166905149161177,0.7595084296241381,-0.9369181171962857,-0.3309102874359793,-0.6730300344757081,-0.6637644622297438,0.1720770737459283,-0.6121223820002475,0.9496135746211154,-0.20819581833671563,-0.2745389240729692,-0.6399382298245258,-0.8235003791824718,-0.3760394990574303,0.16988902125612748,-0.9935645727208948,-0.17751775271383186,0.5908652676763597,0.33937089481280625,0.4210941894480391,0.439312336139557,-0.6529647664846936,0.8823300070461437,0.5520765781328063,0.47051935189383265,-0.3650315072835446,0.9318448471575242,-0.33529842333074145,-0.8694700697802442,-0.35475838595179576,-0.6489059003106139,0.5037737152643014,0.9861834738403652,0.49284071268931906,-0.5046090973632344,-0.5381006129796675,0.6258763193001331,0.04313155793855694,0.12182879978904748,-0.3891288317653767,0.06256794001628396,0.012427286881099064,0.8830123447500817,-0.18475795736387068],\"y\":[0.9452946758682872,-0.888053754277671,-0.6733850311162022,-0.7864037340571439,-0.8325877765400251,0.06330690379053361,0.5902379588750308,0.9666204026518386,0.9046038158956651,-0.4640648570703061,-0.4403869466882899,0.802107002645672,-0.8450217921490188,-0.5860018904451632,-0.6187979097577292,0.26942701309095773,0.5298174590634421,-0.6771551980782518,-0.19767851249477753,-0.07519290547778779,0.7219048039365312,-0.08871386080365196,0.7477468455276459,-0.753483993470067,0.792410525694994,0.2697699806970715,-0.5451610314336366,0.2324978055307525,0.3972344291236538,0.13209584371608907,0.5831769849695592,0.7423577398802268,0.45473788359676326,0.9678520316352379,0.0299091591631786,0.5941602502055259,-0.9514141573198118,-0.2341526583903808,-0.5760803938791155,-0.37258549412473774,0.29035267745599835,-0.7461987819622429,-0.11795296494546315,-0.28725825136518957,-0.7974984503058811,0.7888647789496912,-0.6016692277493976,-0.04474380271200973,-0.2777449973505599,0.7072222753674713,-0.09376028044252105,0.530326532405792,-0.5365203291226226,-0.6747566515362888,-0.1839247785196232,0.6066122722995941,-0.7647717877789812,-0.7449237539023861,0.9863486578334797,0.3404783456041076,0.6993045571086218,-0.3515503471472763,-0.6939818460423035,0.6059791177694136,-0.03513495693530566,0.3304647584384024,-0.7247205204117495,-0.1166621736476603,-0.6563898772065015,0.7372842555961443,-0.9726184519987042,-0.9082589384956214,0.2865190354504974,-0.8230772335898673,-0.9288454592796971,0.5651965432859782,-0.11926301028387432,-0.48323220981415504,-0.13911918402258627,-0.9613064738801955,-0.2267075817165667,0.41433997890156493,0.6333732025691092,0.20118162253535754,-0.020872109869082944,-0.03620095383272304,0.02802942268776465,-0.9470026147582429,0.5288299658116542,0.13061950562283675,0.2548286107120652,0.390388431973163,0.446779371174433,0.017398043276928288,-0.21720945789971902,-0.1422362653763174,0.9879433872345424,0.012723376515337614,-0.8673521511031392,0.785170097967693],\"z\":[-2.3348155650893077,1.5707424674851103,1.594032696598726,1.4787986754103264,3.296962582833494,1.84563586006642,-3.915344763974387,-2.9316518419135327,-2.450442377977648,2.640244753506447,-0.26038114287231195,-4.013167579818957,2.2033027305011212,2.4655900501840438,0.4901886029996376,1.1923384259447398,-2.2620039272197134,2.6696640452549656,1.1076021980141242,-0.6892082321107923,-4.045602890383849,0.5543194342469572,-3.7581155038792815,1.3075219350597918,-2.4433624453160596,0.25385323101381485,1.0150129413313493,-2.2902185992033695,-2.299872460745442,0.830500250891061,-2.293292765881479,-4.345479044043355,-0.2480430335721575,-2.5547714065067466,0.03355877282207528,-1.8688462710850051,3.4081185924965345,-0.753298171565419,0.560311823094922,0.6959277133845305,0.9531206177459115,1.1838194252001497,0.8160005246813873,0.9496901761630399,2.0720354175713616,-3.837868829224391,-0.12730383655195165,-1.279222290012639,2.4956489777734605,-3.8898800746110167,-0.46721816525172116,0.4011472812266337,1.0587747581002904,1.2579182077245172,0.14514832599361271,-0.9688515732485807,4.0858426234386895,3.9042313393080867,-5.025208885395987,-1.75039447498829,-3.581207199435715,-0.30409929452590556,2.51270557759759,-3.1639922672857024,2.10310687320379,-1.4616519696661503,1.6701018727231882,-0.9822175443237572,0.3054578230569638,-3.075264140368651,3.371884145833851,0.7291171066225473,-1.260996290595589,3.792356486248944,3.592099802873954,-0.8678114863456505,1.2922712377730803,0.12679384080602407,2.2841624852669193,4.1394108831075,1.6908841422984053,-2.051020099890295,-0.006582748933437577,-1.3277897188541656,-1.7611836059443557,-0.6327696536173296,-1.4495936009843597,3.993632907805586,0.43161240104863907,0.6300450292167761,-1.8496477976701946,-2.3402154263741073,-0.07067578011046272,0.03664233751249189,0.9291897990461288,-0.3762381240407072,-2.931231826392885,-0.01334516474723857,4.543117592394903,-2.8220190141639767],\"type\":\"scatter3d\"}],                        {\"template\":{\"data\":{\"histogram2dcontour\":[{\"type\":\"histogram2dcontour\",\"colorbar\":{\"outlinewidth\":0,\"ticks\":\"\"},\"colorscale\":[[0.0,\"#0d0887\"],[0.1111111111111111,\"#46039f\"],[0.2222222222222222,\"#7201a8\"],[0.3333333333333333,\"#9c179e\"],[0.4444444444444444,\"#bd3786\"],[0.5555555555555556,\"#d8576b\"],[0.6666666666666666,\"#ed7953\"],[0.7777777777777778,\"#fb9f3a\"],[0.8888888888888888,\"#fdca26\"],[1.0,\"#f0f921\"]]}],\"choropleth\":[{\"type\":\"choropleth\",\"colorbar\":{\"outlinewidth\":0,\"ticks\":\"\"}}],\"histogram2d\":[{\"type\":\"histogram2d\",\"colorbar\":{\"outlinewidth\":0,\"ticks\":\"\"},\"colorscale\":[[0.0,\"#0d0887\"],[0.1111111111111111,\"#46039f\"],[0.2222222222222222,\"#7201a8\"],[0.3333333333333333,\"#9c179e\"],[0.4444444444444444,\"#bd3786\"],[0.5555555555555556,\"#d8576b\"],[0.6666666666666666,\"#ed7953\"],[0.7777777777777778,\"#fb9f3a\"],[0.8888888888888888,\"#fdca26\"],[1.0,\"#f0f921\"]]}],\"heatmap\":[{\"type\":\"heatmap\",\"colorbar\":{\"outlinewidth\":0,\"ticks\":\"\"},\"colorscale\":[[0.0,\"#0d0887\"],[0.1111111111111111,\"#46039f\"],[0.2222222222222222,\"#7201a8\"],[0.3333333333333333,\"#9c179e\"],[0.4444444444444444,\"#bd3786\"],[0.5555555555555556,\"#d8576b\"],[0.6666666666666666,\"#ed7953\"],[0.7777777777777778,\"#fb9f3a\"],[0.8888888888888888,\"#fdca26\"],[1.0,\"#f0f921\"]]}],\"heatmapgl\":[{\"type\":\"heatmapgl\",\"colorbar\":{\"outlinewidth\":0,\"ticks\":\"\"},\"colorscale\":[[0.0,\"#0d0887\"],[0.1111111111111111,\"#46039f\"],[0.2222222222222222,\"#7201a8\"],[0.3333333333333333,\"#9c179e\"],[0.4444444444444444,\"#bd3786\"],[0.5555555555555556,\"#d8576b\"],[0.6666666666666666,\"#ed7953\"],[0.7777777777777778,\"#fb9f3a\"],[0.8888888888888888,\"#fdca26\"],[1.0,\"#f0f921\"]]}],\"contourcarpet\":[{\"type\":\"contourcarpet\",\"colorbar\":{\"outlinewidth\":0,\"ticks\":\"\"}}],\"contour\":[{\"type\":\"contour\",\"colorbar\":{\"outlinewidth\":0,\"ticks\":\"\"},\"colorscale\":[[0.0,\"#0d0887\"],[0.1111111111111111,\"#46039f\"],[0.2222222222222222,\"#7201a8\"],[0.3333333333333333,\"#9c179e\"],[0.4444444444444444,\"#bd3786\"],[0.5555555555555556,\"#d8576b\"],[0.6666666666666666,\"#ed7953\"],[0.7777777777777778,\"#fb9f3a\"],[0.8888888888888888,\"#fdca26\"],[1.0,\"#f0f921\"]]}],\"surface\":[{\"type\":\"surface\",\"colorbar\":{\"outlinewidth\":0,\"ticks\":\"\"},\"colorscale\":[[0.0,\"#0d0887\"],[0.1111111111111111,\"#46039f\"],[0.2222222222222222,\"#7201a8\"],[0.3333333333333333,\"#9c179e\"],[0.4444444444444444,\"#bd3786\"],[0.5555555555555556,\"#d8576b\"],[0.6666666666666666,\"#ed7953\"],[0.7777777777777778,\"#fb9f3a\"],[0.8888888888888888,\"#fdca26\"],[1.0,\"#f0f921\"]]}],\"mesh3d\":[{\"type\":\"mesh3d\",\"colorbar\":{\"outlinewidth\":0,\"ticks\":\"\"}}],\"scatter\":[{\"fillpattern\":{\"fillmode\":\"overlay\",\"size\":10,\"solidity\":0.2},\"type\":\"scatter\"}],\"parcoords\":[{\"type\":\"parcoords\",\"line\":{\"colorbar\":{\"outlinewidth\":0,\"ticks\":\"\"}}}],\"scatterpolargl\":[{\"type\":\"scatterpolargl\",\"marker\":{\"colorbar\":{\"outlinewidth\":0,\"ticks\":\"\"}}}],\"bar\":[{\"error_x\":{\"color\":\"#2a3f5f\"},\"error_y\":{\"color\":\"#2a3f5f\"},\"marker\":{\"line\":{\"color\":\"#E5ECF6\",\"width\":0.5},\"pattern\":{\"fillmode\":\"overlay\",\"size\":10,\"solidity\":0.2}},\"type\":\"bar\"}],\"scattergeo\":[{\"type\":\"scattergeo\",\"marker\":{\"colorbar\":{\"outlinewidth\":0,\"ticks\":\"\"}}}],\"scatterpolar\":[{\"type\":\"scatterpolar\",\"marker\":{\"colorbar\":{\"outlinewidth\":0,\"ticks\":\"\"}}}],\"histogram\":[{\"marker\":{\"pattern\":{\"fillmode\":\"overlay\",\"size\":10,\"solidity\":0.2}},\"type\":\"histogram\"}],\"scattergl\":[{\"type\":\"scattergl\",\"marker\":{\"colorbar\":{\"outlinewidth\":0,\"ticks\":\"\"}}}],\"scatter3d\":[{\"type\":\"scatter3d\",\"line\":{\"colorbar\":{\"outlinewidth\":0,\"ticks\":\"\"}},\"marker\":{\"colorbar\":{\"outlinewidth\":0,\"ticks\":\"\"}}}],\"scattermapbox\":[{\"type\":\"scattermapbox\",\"marker\":{\"colorbar\":{\"outlinewidth\":0,\"ticks\":\"\"}}}],\"scatterternary\":[{\"type\":\"scatterternary\",\"marker\":{\"colorbar\":{\"outlinewidth\":0,\"ticks\":\"\"}}}],\"scattercarpet\":[{\"type\":\"scattercarpet\",\"marker\":{\"colorbar\":{\"outlinewidth\":0,\"ticks\":\"\"}}}],\"carpet\":[{\"aaxis\":{\"endlinecolor\":\"#2a3f5f\",\"gridcolor\":\"white\",\"linecolor\":\"white\",\"minorgridcolor\":\"white\",\"startlinecolor\":\"#2a3f5f\"},\"baxis\":{\"endlinecolor\":\"#2a3f5f\",\"gridcolor\":\"white\",\"linecolor\":\"white\",\"minorgridcolor\":\"white\",\"startlinecolor\":\"#2a3f5f\"},\"type\":\"carpet\"}],\"table\":[{\"cells\":{\"fill\":{\"color\":\"#EBF0F8\"},\"line\":{\"color\":\"white\"}},\"header\":{\"fill\":{\"color\":\"#C8D4E3\"},\"line\":{\"color\":\"white\"}},\"type\":\"table\"}],\"barpolar\":[{\"marker\":{\"line\":{\"color\":\"#E5ECF6\",\"width\":0.5},\"pattern\":{\"fillmode\":\"overlay\",\"size\":10,\"solidity\":0.2}},\"type\":\"barpolar\"}],\"pie\":[{\"automargin\":true,\"type\":\"pie\"}]},\"layout\":{\"autotypenumbers\":\"strict\",\"colorway\":[\"#636efa\",\"#EF553B\",\"#00cc96\",\"#ab63fa\",\"#FFA15A\",\"#19d3f3\",\"#FF6692\",\"#B6E880\",\"#FF97FF\",\"#FECB52\"],\"font\":{\"color\":\"#2a3f5f\"},\"hovermode\":\"closest\",\"hoverlabel\":{\"align\":\"left\"},\"paper_bgcolor\":\"white\",\"plot_bgcolor\":\"#E5ECF6\",\"polar\":{\"bgcolor\":\"#E5ECF6\",\"angularaxis\":{\"gridcolor\":\"white\",\"linecolor\":\"white\",\"ticks\":\"\"},\"radialaxis\":{\"gridcolor\":\"white\",\"linecolor\":\"white\",\"ticks\":\"\"}},\"ternary\":{\"bgcolor\":\"#E5ECF6\",\"aaxis\":{\"gridcolor\":\"white\",\"linecolor\":\"white\",\"ticks\":\"\"},\"baxis\":{\"gridcolor\":\"white\",\"linecolor\":\"white\",\"ticks\":\"\"},\"caxis\":{\"gridcolor\":\"white\",\"linecolor\":\"white\",\"ticks\":\"\"}},\"coloraxis\":{\"colorbar\":{\"outlinewidth\":0,\"ticks\":\"\"}},\"colorscale\":{\"sequential\":[[0.0,\"#0d0887\"],[0.1111111111111111,\"#46039f\"],[0.2222222222222222,\"#7201a8\"],[0.3333333333333333,\"#9c179e\"],[0.4444444444444444,\"#bd3786\"],[0.5555555555555556,\"#d8576b\"],[0.6666666666666666,\"#ed7953\"],[0.7777777777777778,\"#fb9f3a\"],[0.8888888888888888,\"#fdca26\"],[1.0,\"#f0f921\"]],\"sequentialminus\":[[0.0,\"#0d0887\"],[0.1111111111111111,\"#46039f\"],[0.2222222222222222,\"#7201a8\"],[0.3333333333333333,\"#9c179e\"],[0.4444444444444444,\"#bd3786\"],[0.5555555555555556,\"#d8576b\"],[0.6666666666666666,\"#ed7953\"],[0.7777777777777778,\"#fb9f3a\"],[0.8888888888888888,\"#fdca26\"],[1.0,\"#f0f921\"]],\"diverging\":[[0,\"#8e0152\"],[0.1,\"#c51b7d\"],[0.2,\"#de77ae\"],[0.3,\"#f1b6da\"],[0.4,\"#fde0ef\"],[0.5,\"#f7f7f7\"],[0.6,\"#e6f5d0\"],[0.7,\"#b8e186\"],[0.8,\"#7fbc41\"],[0.9,\"#4d9221\"],[1,\"#276419\"]]},\"xaxis\":{\"gridcolor\":\"white\",\"linecolor\":\"white\",\"ticks\":\"\",\"title\":{\"standoff\":15},\"zerolinecolor\":\"white\",\"automargin\":true,\"zerolinewidth\":2},\"yaxis\":{\"gridcolor\":\"white\",\"linecolor\":\"white\",\"ticks\":\"\",\"title\":{\"standoff\":15},\"zerolinecolor\":\"white\",\"automargin\":true,\"zerolinewidth\":2},\"scene\":{\"xaxis\":{\"backgroundcolor\":\"#E5ECF6\",\"gridcolor\":\"white\",\"linecolor\":\"white\",\"showbackground\":true,\"ticks\":\"\",\"zerolinecolor\":\"white\",\"gridwidth\":2},\"yaxis\":{\"backgroundcolor\":\"#E5ECF6\",\"gridcolor\":\"white\",\"linecolor\":\"white\",\"showbackground\":true,\"ticks\":\"\",\"zerolinecolor\":\"white\",\"gridwidth\":2},\"zaxis\":{\"backgroundcolor\":\"#E5ECF6\",\"gridcolor\":\"white\",\"linecolor\":\"white\",\"showbackground\":true,\"ticks\":\"\",\"zerolinecolor\":\"white\",\"gridwidth\":2}},\"shapedefaults\":{\"line\":{\"color\":\"#2a3f5f\"}},\"annotationdefaults\":{\"arrowcolor\":\"#2a3f5f\",\"arrowhead\":0,\"arrowwidth\":1},\"geo\":{\"bgcolor\":\"white\",\"landcolor\":\"#E5ECF6\",\"subunitcolor\":\"white\",\"showland\":true,\"showlakes\":true,\"lakecolor\":\"white\"},\"title\":{\"x\":0.05},\"mapbox\":{\"style\":\"light\"}}},\"margin\":{\"l\":0,\"r\":0,\"b\":0,\"t\":0}},                        {\"responsive\": true}                    ).then(function(){\n",
              "                            \n",
              "var gd = document.getElementById('90ec5b0e-82d8-4ad8-926f-29fdc7b07b03');\n",
              "var x = new MutationObserver(function (mutations, observer) {{\n",
              "        var display = window.getComputedStyle(gd).display;\n",
              "        if (!display || display === 'none') {{\n",
              "            console.log([gd, 'removed!']);\n",
              "            Plotly.purge(gd);\n",
              "            observer.disconnect();\n",
              "        }}\n",
              "}});\n",
              "\n",
              "// Listen for the removal of the full notebook cells\n",
              "var notebookContainer = gd.closest('#notebook-container');\n",
              "if (notebookContainer) {{\n",
              "    x.observe(notebookContainer, {childList: true});\n",
              "}}\n",
              "\n",
              "// Listen for the clearing of the current output cell\n",
              "var outputEl = gd.closest('.output');\n",
              "if (outputEl) {{\n",
              "    x.observe(outputEl, {childList: true});\n",
              "}}\n",
              "\n",
              "                        })                };                            </script>        </div>\n",
              "</body>\n",
              "</html>"
            ]
          },
          "metadata": {}
        }
      ]
    },
    {
      "cell_type": "markdown",
      "source": [
        "Punto 2"
      ],
      "metadata": {
        "id": "wEBKjvC0q8st"
      }
    },
    {
      "cell_type": "code",
      "source": [
        "#Generación de thetas aleatorios\n",
        "theta=np.random.random(3).reshape(3, 1)"
      ],
      "metadata": {
        "id": "1Jyms51KrYWV"
      },
      "execution_count": null,
      "outputs": []
    },
    {
      "cell_type": "markdown",
      "source": [
        "Punto 3"
      ],
      "metadata": {
        "id": "4rgnUFVJrcJT"
      }
    },
    {
      "cell_type": "code",
      "execution_count": null,
      "metadata": {
        "id": "dQ0SVBlrCHv1"
      },
      "outputs": [],
      "source": [
        "# Creación de matrix X de dimensión (n+1, m) incluyendo fila de unos\n",
        "X = df[[\"ones\", \"x1\", \"x2\"]].values.T\n",
        "# Matrix df valores de y\n",
        "Y = df.y.values.reshape(1, N)"
      ]
    },
    {
      "cell_type": "markdown",
      "source": [
        "Punto 4"
      ],
      "metadata": {
        "id": "9Zv-QJhkrEB7"
      }
    },
    {
      "cell_type": "code",
      "source": [
        "# Función modelo\n",
        "def model(theta, X):\n",
        "  return theta.T@X\n",
        "# Función de coste\n",
        "def costo(h, Y):\n",
        "  J= (h-Y)**2\n",
        "  return J.mean()\n",
        "# Función de calculo de gradiente descendente\n",
        "def update_params(theta, h, Y, learning_rate):\n",
        "  \"\"\"\n",
        "  Gradiente descendente\n",
        "  \"\"\"\n",
        "  grad = np.dot((h-Y), X.T).T\n",
        "  theta = theta - learning_rate*grad\n",
        "  return theta"
      ],
      "metadata": {
        "id": "4hnxV7sNCird"
      },
      "execution_count": null,
      "outputs": []
    },
    {
      "cell_type": "markdown",
      "source": [
        "Punto 5"
      ],
      "metadata": {
        "id": "ZPzvxRxVreJ7"
      }
    },
    {
      "cell_type": "code",
      "source": [
        "# Aplicación de gradiente descendente\n",
        "#Valor de constante a\n",
        "learning_rate=0.01\n",
        "# Iteraciones\n",
        "Niter=100\n",
        "# Lista para almacenar los valores del gradiente\n",
        "J = np.zeros(Niter)\n",
        "\n",
        "# Calculo de los valores del gradiente\n",
        "for i in range(0, Niter):\n",
        "  h = model(theta, X)\n",
        "  J[i] = costo(h, Y)\n",
        "  theta = update_params(theta, h, Y, learning_rate)"
      ],
      "metadata": {
        "id": "EwBqi5NoCji6"
      },
      "execution_count": null,
      "outputs": []
    },
    {
      "cell_type": "code",
      "source": [
        "#Valores de theta que se ajustan al plano\n",
        "print(f'los valores de theta que se ajustan al plano son: {theta}')\n",
        "plt.plot(J)\n",
        "plt.xlabel(\"Iteraciones\")\n",
        "plt.ylabel(\"Costo\")\n",
        "plt.title(\"Gradiente descendente\")\n",
        "plt.show()\n"
      ],
      "metadata": {
        "id": "2gI9SRxkDDDq",
        "colab": {
          "base_uri": "https://localhost:8080/",
          "height": 524
        },
        "outputId": "2db84a84-f95b-4863-8779-4903a44a34fb"
      },
      "execution_count": null,
      "outputs": [
        {
          "output_type": "stream",
          "name": "stdout",
          "text": [
            "los valores de theta que se ajustan al plano son: [[ 6.29278636e-17]\n",
            " [ 2.10000000e+00]\n",
            " [-3.10000000e+00]]\n"
          ]
        },
        {
          "output_type": "display_data",
          "data": {
            "text/plain": [
              "<Figure size 640x480 with 1 Axes>"
            ],
            "image/png": "[encoded data removed]"
          },
          "metadata": {}
        }
      ]
    },
    {
      "cell_type": "code",
      "source": [
        "#Plano de función modelo con valores de las caracteristicas\n",
        "\n",
        "# Definición de los valores de theta\n",
        "theta_0 = theta[0][0]\n",
        "theta_1 = theta[1][0]\n",
        "theta_2 = theta[2][0]\n",
        "\n",
        "# Definición de los valores de las  x caracterisiticas\n",
        "x_1=np.linspace(df['x1'].min(), df['x1'].max(), 10)\n",
        "x_2=np.linspace(df['x2'].min(), df['x2'].max(), 10)\n",
        "X1, X2 = np.meshgrid(x_1, x_2)\n",
        "# Ecuacion modelo\n",
        "Y_p = theta_0 + theta_1 * X1 + theta_2 * X2\n",
        "\n",
        "#Gráfica\n",
        "fig = go.Figure(data=[\n",
        "    go.Surface(x=X1, y=X2, z=Y_p, opacity=0.7, showscale=False),\n",
        "    go.Scatter3d(\n",
        "        x=df['x1'],\n",
        "        y=df['x2'],\n",
        "        z=df['y'],\n",
        "        mode='markers',\n",
        "        marker=dict(\n",
        "            size=4,\n",
        "            color=df['y'],  # set color to an array/list of desired values\n",
        "            colorscale='Viridis',  # choose a colorscale\n",
        "            opacity=0.8\n",
        "        )\n",
        "    )\n",
        "])\n",
        "\n",
        "\n",
        "fig.show()"
      ],
      "metadata": {
        "colab": {
          "base_uri": "https://localhost:8080/",
          "height": 542
        },
        "id": "ElZrxRs7B-v9",
        "outputId": "83d90c23-9013-41e5-a7e8-96fe3b73c218"
      },
      "execution_count": null,
      "outputs": [
        {
          "output_type": "display_data",
          "data": {
            "text/html": [
              "<html>\n",
              "<head><meta charset=\"utf-8\" /></head>\n",
              "<body>\n",
              "    <div>            <script src=\"https://cdnjs.cloudflare.com/ajax/libs/mathjax/2.7.5/MathJax.js?config=TeX-AMS-MML_SVG\"></script><script type=\"text/javascript\">if (window.MathJax && window.MathJax.Hub && window.MathJax.Hub.Config) {window.MathJax.Hub.Config({SVG: {font: \"STIX-Web\"}});}</script>                <script type=\"text/javascript\">window.PlotlyConfig = {MathJaxConfig: 'local'};</script>\n",
              "        <script charset=\"utf-8\" src=\"https://cdn.plot.ly/plotly-2.35.2.min.js\"></script>                <div id=\"c816e458-90c7-42cb-beee-c14316ed2a43\" class=\"plotly-graph-div\" style=\"height:525px; width:100%;\"></div>            <script type=\"text/javascript\">                                    window.PLOTLYENV=window.PLOTLYENV || {};                                    if (document.getElementById(\"c816e458-90c7-42cb-beee-c14316ed2a43\")) {                    Plotly.newPlot(                        \"c816e458-90c7-42cb-beee-c14316ed2a43\",                        [{\"opacity\":0.7,\"showscale\":false,\"x\":[[-0.9935645727208948,-0.7735925675474215,-0.5536205623739481,-0.3336485572004748,-0.11367655202700144,0.10629545314647193,0.3262674583199452,0.5462394634934187,0.7662114686668919,0.9861834738403652],[-0.9935645727208948,-0.7735925675474215,-0.5536205623739481,-0.3336485572004748,-0.11367655202700144,0.10629545314647193,0.3262674583199452,0.5462394634934187,0.7662114686668919,0.9861834738403652],[-0.9935645727208948,-0.7735925675474215,-0.5536205623739481,-0.3336485572004748,-0.11367655202700144,0.10629545314647193,0.3262674583199452,0.5462394634934187,0.7662114686668919,0.9861834738403652],[-0.9935645727208948,-0.7735925675474215,-0.5536205623739481,-0.3336485572004748,-0.11367655202700144,0.10629545314647193,0.3262674583199452,0.5462394634934187,0.7662114686668919,0.9861834738403652],[-0.9935645727208948,-0.7735925675474215,-0.5536205623739481,-0.3336485572004748,-0.11367655202700144,0.10629545314647193,0.3262674583199452,0.5462394634934187,0.7662114686668919,0.9861834738403652],[-0.9935645727208948,-0.7735925675474215,-0.5536205623739481,-0.3336485572004748,-0.11367655202700144,0.10629545314647193,0.3262674583199452,0.5462394634934187,0.7662114686668919,0.9861834738403652],[-0.9935645727208948,-0.7735925675474215,-0.5536205623739481,-0.3336485572004748,-0.11367655202700144,0.10629545314647193,0.3262674583199452,0.5462394634934187,0.7662114686668919,0.9861834738403652],[-0.9935645727208948,-0.7735925675474215,-0.5536205623739481,-0.3336485572004748,-0.11367655202700144,0.10629545314647193,0.3262674583199452,0.5462394634934187,0.7662114686668919,0.9861834738403652],[-0.9935645727208948,-0.7735925675474215,-0.5536205623739481,-0.3336485572004748,-0.11367655202700144,0.10629545314647193,0.3262674583199452,0.5462394634934187,0.7662114686668919,0.9861834738403652],[-0.9935645727208948,-0.7735925675474215,-0.5536205623739481,-0.3336485572004748,-0.11367655202700144,0.10629545314647193,0.3262674583199452,0.5462394634934187,0.7662114686668919,0.9861834738403652]],\"y\":[[-0.9726184519987042,-0.9726184519987042,-0.9726184519987042,-0.9726184519987042,-0.9726184519987042,-0.9726184519987042,-0.9726184519987042,-0.9726184519987042,-0.9726184519987042,-0.9726184519987042],[-0.7547782476394546,-0.7547782476394546,-0.7547782476394546,-0.7547782476394546,-0.7547782476394546,-0.7547782476394546,-0.7547782476394546,-0.7547782476394546,-0.7547782476394546,-0.7547782476394546],[-0.5369380432802049,-0.5369380432802049,-0.5369380432802049,-0.5369380432802049,-0.5369380432802049,-0.5369380432802049,-0.5369380432802049,-0.5369380432802049,-0.5369380432802049,-0.5369380432802049],[-0.31909783892095533,-0.31909783892095533,-0.31909783892095533,-0.31909783892095533,-0.31909783892095533,-0.31909783892095533,-0.31909783892095533,-0.31909783892095533,-0.31909783892095533,-0.31909783892095533],[-0.10125763456170567,-0.10125763456170567,-0.10125763456170567,-0.10125763456170567,-0.10125763456170567,-0.10125763456170567,-0.10125763456170567,-0.10125763456170567,-0.10125763456170567,-0.10125763456170567],[0.116582569797544,0.116582569797544,0.116582569797544,0.116582569797544,0.116582569797544,0.116582569797544,0.116582569797544,0.116582569797544,0.116582569797544,0.116582569797544],[0.33442277415679356,0.33442277415679356,0.33442277415679356,0.33442277415679356,0.33442277415679356,0.33442277415679356,0.33442277415679356,0.33442277415679356,0.33442277415679356,0.33442277415679356],[0.5522629785160433,0.5522629785160433,0.5522629785160433,0.5522629785160433,0.5522629785160433,0.5522629785160433,0.5522629785160433,0.5522629785160433,0.5522629785160433,0.5522629785160433],[0.7701031828752929,0.7701031828752929,0.7701031828752929,0.7701031828752929,0.7701031828752929,0.7701031828752929,0.7701031828752929,0.7701031828752929,0.7701031828752929,0.7701031828752929],[0.9879433872345424,0.9879433872345424,0.9879433872345424,0.9879433872345424,0.9879433872345424,0.9879433872345424,0.9879433872345424,0.9879433872345424,0.9879433872345424,0.9879433872345424]],\"z\":[[0.9286315984821027,1.3905728093463972,1.8525140202106913,2.3144552310749855,2.7763964419392795,3.238337652803574,3.700278863667868,4.162220074532162,4.624161285396456,5.08610249626075],[0.2533269649684291,0.7152681758327235,1.1772093866970177,1.6391505975613119,2.101091808425606,2.5630330192899002,3.024974230154194,3.486915441018488,3.9488566518827826,4.410797862747076],[-0.42197766854524477,0.03996354231904964,0.5019047531833438,0.9638459640476379,1.425787174911932,1.8877283857762261,2.34966959664052,2.8116108075048145,3.2735520183691085,3.735493229233403],[-1.0972823020589184,-0.635341091194624,-0.17339988033032983,0.28854133053396425,0.7504825413982584,1.2124237522625525,1.6743649631268465,2.136306173991141,2.598247384855435,3.060188595719729],[-1.7725869355725923,-1.3106457247082979,-0.8487045138440037,-0.3867633029797096,0.07517790788458453,0.5371191187488787,0.9990603296131727,1.461001540477467,1.922942751341761,2.384883962206055],[-2.4478915690862664,-1.9859503582219717,-1.5240091473576776,-1.0620679364933836,-0.6001267256290894,-0.1381855147647952,0.3237556960994988,0.7856969069637931,1.247638117828087,1.7095793286923813],[-3.1231962025999396,-2.661254991735645,-2.199313780871351,-1.7373725700070572,-1.275431359142763,-0.8134901482784688,-0.3515489374141748,0.11039227345011948,0.5723334843144134,1.0342746951787076],[-3.7985008361136137,-3.3365596252493193,-2.8746184143850253,-2.4126772035207313,-1.9507359926564372,-1.488794781792143,-1.026853570927849,-0.5649123600635546,-0.10297114919926065,0.35897006166503354],[-4.473805469627287,-4.0118642587629925,-3.549923047898699,-3.0879818370344045,-2.6260406261701106,-2.164099415305816,-1.7021582044415222,-1.240216993577228,-0.7782757827129341,-0.3163345718486399],[-5.149110103140961,-4.6871688922766666,-4.225227681412372,-3.763286470548078,-3.3013452596837842,-2.83940404881949,-2.377462837955196,-1.9155216270909017,-1.4535804162266077,-0.9916392053623135]],\"type\":\"surface\"},{\"marker\":{\"color\":[-2.3348155650893077,1.5707424674851103,1.594032696598726,1.4787986754103264,3.296962582833494,1.84563586006642,-3.915344763974387,-2.9316518419135327,-2.450442377977648,2.640244753506447,-0.26038114287231195,-4.013167579818957,2.2033027305011212,2.4655900501840438,0.4901886029996376,1.1923384259447398,-2.2620039272197134,2.6696640452549656,1.1076021980141242,-0.6892082321107923,-4.045602890383849,0.5543194342469572,-3.7581155038792815,1.3075219350597918,-2.4433624453160596,0.25385323101381485,1.0150129413313493,-2.2902185992033695,-2.299872460745442,0.830500250891061,-2.293292765881479,-4.345479044043355,-0.2480430335721575,-2.5547714065067466,0.03355877282207528,-1.8688462710850051,3.4081185924965345,-0.753298171565419,0.560311823094922,0.6959277133845305,0.9531206177459115,1.1838194252001497,0.8160005246813873,0.9496901761630399,2.0720354175713616,-3.837868829224391,-0.12730383655195165,-1.279222290012639,2.4956489777734605,-3.8898800746110167,-0.46721816525172116,0.4011472812266337,1.0587747581002904,1.2579182077245172,0.14514832599361271,-0.9688515732485807,4.0858426234386895,3.9042313393080867,-5.025208885395987,-1.75039447498829,-3.581207199435715,-0.30409929452590556,2.51270557759759,-3.1639922672857024,2.10310687320379,-1.4616519696661503,1.6701018727231882,-0.9822175443237572,0.3054578230569638,-3.075264140368651,3.371884145833851,0.7291171066225473,-1.260996290595589,3.792356486248944,3.592099802873954,-0.8678114863456505,1.2922712377730803,0.12679384080602407,2.2841624852669193,4.1394108831075,1.6908841422984053,-2.051020099890295,-0.006582748933437577,-1.3277897188541656,-1.7611836059443557,-0.6327696536173296,-1.4495936009843597,3.993632907805586,0.43161240104863907,0.6300450292167761,-1.8496477976701946,-2.3402154263741073,-0.07067578011046272,0.03664233751249189,0.9291897990461288,-0.3762381240407072,-2.931231826392885,-0.01334516474723857,4.543117592394903,-2.8220190141639767],\"colorscale\":[[0.0,\"#440154\"],[0.1111111111111111,\"#482878\"],[0.2222222222222222,\"#3e4989\"],[0.3333333333333333,\"#31688e\"],[0.4444444444444444,\"#26828e\"],[0.5555555555555556,\"#1f9e89\"],[0.6666666666666666,\"#35b779\"],[0.7777777777777778,\"#6ece58\"],[0.8888888888888888,\"#b5de2b\"],[1.0,\"#fde725\"]],\"opacity\":0.8,\"size\":4},\"mode\":\"markers\",\"x\":[0.2836180619535156,-0.562963890845557,-0.23498138088642895,-0.4566918572222951,0.3409240359806742,0.9723272675319401,-0.9931462340294244,0.030891145860555858,0.16849021490424443,0.5722112840897611,-0.7740860369552431,-0.7269694626749401,-0.19822134531468438,0.30904009038287517,-0.6800404367853918,0.9655057935841471,-0.2950332400585918,0.2716585386725643,0.23561848060967328,-0.43919344718663544,-0.8608085705621913,0.1330030789312553,-0.6857620394017043,-0.4896564022368648,0.0062429449230581024,0.519114367226065,-0.32142202672043996,-0.7473692390752555,-0.5087836811724358,0.5904749363861606,-0.23116386308373582,-0.9734143097212629,0.5531640026560993,0.21217613883928133,0.060131983918061405,-0.012833093070416579,0.2184450975262464,-0.704367339321714,-0.5835892371096838,-0.21861300876293166,0.8824828180283364,-0.5378079994680014,0.21445063492878647,0.028185522348072478,-0.19057608494136669,-0.6630419116573087,-0.9487992583690876,-0.6752038468666044,0.7783997552317736,-0.8083290576056454,-0.36089287363025546,0.9738854912783756,-0.28782774389516175,-0.3970606723990373,-0.2023897559129615,0.43411736708579096,0.8166905149161177,0.7595084296241381,-0.9369181171962857,-0.3309102874359793,-0.6730300344757081,-0.6637644622297438,0.1720770737459283,-0.6121223820002475,0.9496135746211154,-0.20819581833671563,-0.2745389240729692,-0.6399382298245258,-0.8235003791824718,-0.3760394990574303,0.16988902125612748,-0.9935645727208948,-0.17751775271383186,0.5908652676763597,0.33937089481280625,0.4210941894480391,0.439312336139557,-0.6529647664846936,0.8823300070461437,0.5520765781328063,0.47051935189383265,-0.3650315072835446,0.9318448471575242,-0.33529842333074145,-0.8694700697802442,-0.35475838595179576,-0.6489059003106139,0.5037737152643014,0.9861834738403652,0.49284071268931906,-0.5046090973632344,-0.5381006129796675,0.6258763193001331,0.04313155793855694,0.12182879978904748,-0.3891288317653767,0.06256794001628396,0.012427286881099064,0.8830123447500817,-0.18475795736387068],\"y\":[0.9452946758682872,-0.888053754277671,-0.6733850311162022,-0.7864037340571439,-0.8325877765400251,0.06330690379053361,0.5902379588750308,0.9666204026518386,0.9046038158956651,-0.4640648570703061,-0.4403869466882899,0.802107002645672,-0.8450217921490188,-0.5860018904451632,-0.6187979097577292,0.26942701309095773,0.5298174590634421,-0.6771551980782518,-0.19767851249477753,-0.07519290547778779,0.7219048039365312,-0.08871386080365196,0.7477468455276459,-0.753483993470067,0.792410525694994,0.2697699806970715,-0.5451610314336366,0.2324978055307525,0.3972344291236538,0.13209584371608907,0.5831769849695592,0.7423577398802268,0.45473788359676326,0.9678520316352379,0.0299091591631786,0.5941602502055259,-0.9514141573198118,-0.2341526583903808,-0.5760803938791155,-0.37258549412473774,0.29035267745599835,-0.7461987819622429,-0.11795296494546315,-0.28725825136518957,-0.7974984503058811,0.7888647789496912,-0.6016692277493976,-0.04474380271200973,-0.2777449973505599,0.7072222753674713,-0.09376028044252105,0.530326532405792,-0.5365203291226226,-0.6747566515362888,-0.1839247785196232,0.6066122722995941,-0.7647717877789812,-0.7449237539023861,0.9863486578334797,0.3404783456041076,0.6993045571086218,-0.3515503471472763,-0.6939818460423035,0.6059791177694136,-0.03513495693530566,0.3304647584384024,-0.7247205204117495,-0.1166621736476603,-0.6563898772065015,0.7372842555961443,-0.9726184519987042,-0.9082589384956214,0.2865190354504974,-0.8230772335898673,-0.9288454592796971,0.5651965432859782,-0.11926301028387432,-0.48323220981415504,-0.13911918402258627,-0.9613064738801955,-0.2267075817165667,0.41433997890156493,0.6333732025691092,0.20118162253535754,-0.020872109869082944,-0.03620095383272304,0.02802942268776465,-0.9470026147582429,0.5288299658116542,0.13061950562283675,0.2548286107120652,0.390388431973163,0.446779371174433,0.017398043276928288,-0.21720945789971902,-0.1422362653763174,0.9879433872345424,0.012723376515337614,-0.8673521511031392,0.785170097967693],\"z\":[-2.3348155650893077,1.5707424674851103,1.594032696598726,1.4787986754103264,3.296962582833494,1.84563586006642,-3.915344763974387,-2.9316518419135327,-2.450442377977648,2.640244753506447,-0.26038114287231195,-4.013167579818957,2.2033027305011212,2.4655900501840438,0.4901886029996376,1.1923384259447398,-2.2620039272197134,2.6696640452549656,1.1076021980141242,-0.6892082321107923,-4.045602890383849,0.5543194342469572,-3.7581155038792815,1.3075219350597918,-2.4433624453160596,0.25385323101381485,1.0150129413313493,-2.2902185992033695,-2.299872460745442,0.830500250891061,-2.293292765881479,-4.345479044043355,-0.2480430335721575,-2.5547714065067466,0.03355877282207528,-1.8688462710850051,3.4081185924965345,-0.753298171565419,0.560311823094922,0.6959277133845305,0.9531206177459115,1.1838194252001497,0.8160005246813873,0.9496901761630399,2.0720354175713616,-3.837868829224391,-0.12730383655195165,-1.279222290012639,2.4956489777734605,-3.8898800746110167,-0.46721816525172116,0.4011472812266337,1.0587747581002904,1.2579182077245172,0.14514832599361271,-0.9688515732485807,4.0858426234386895,3.9042313393080867,-5.025208885395987,-1.75039447498829,-3.581207199435715,-0.30409929452590556,2.51270557759759,-3.1639922672857024,2.10310687320379,-1.4616519696661503,1.6701018727231882,-0.9822175443237572,0.3054578230569638,-3.075264140368651,3.371884145833851,0.7291171066225473,-1.260996290595589,3.792356486248944,3.592099802873954,-0.8678114863456505,1.2922712377730803,0.12679384080602407,2.2841624852669193,4.1394108831075,1.6908841422984053,-2.051020099890295,-0.006582748933437577,-1.3277897188541656,-1.7611836059443557,-0.6327696536173296,-1.4495936009843597,3.993632907805586,0.43161240104863907,0.6300450292167761,-1.8496477976701946,-2.3402154263741073,-0.07067578011046272,0.03664233751249189,0.9291897990461288,-0.3762381240407072,-2.931231826392885,-0.01334516474723857,4.543117592394903,-2.8220190141639767],\"type\":\"scatter3d\"}],                        {\"template\":{\"data\":{\"histogram2dcontour\":[{\"type\":\"histogram2dcontour\",\"colorbar\":{\"outlinewidth\":0,\"ticks\":\"\"},\"colorscale\":[[0.0,\"#0d0887\"],[0.1111111111111111,\"#46039f\"],[0.2222222222222222,\"#7201a8\"],[0.3333333333333333,\"#9c179e\"],[0.4444444444444444,\"#bd3786\"],[0.5555555555555556,\"#d8576b\"],[0.6666666666666666,\"#ed7953\"],[0.7777777777777778,\"#fb9f3a\"],[0.8888888888888888,\"#fdca26\"],[1.0,\"#f0f921\"]]}],\"choropleth\":[{\"type\":\"choropleth\",\"colorbar\":{\"outlinewidth\":0,\"ticks\":\"\"}}],\"histogram2d\":[{\"type\":\"histogram2d\",\"colorbar\":{\"outlinewidth\":0,\"ticks\":\"\"},\"colorscale\":[[0.0,\"#0d0887\"],[0.1111111111111111,\"#46039f\"],[0.2222222222222222,\"#7201a8\"],[0.3333333333333333,\"#9c179e\"],[0.4444444444444444,\"#bd3786\"],[0.5555555555555556,\"#d8576b\"],[0.6666666666666666,\"#ed7953\"],[0.7777777777777778,\"#fb9f3a\"],[0.8888888888888888,\"#fdca26\"],[1.0,\"#f0f921\"]]}],\"heatmap\":[{\"type\":\"heatmap\",\"colorbar\":{\"outlinewidth\":0,\"ticks\":\"\"},\"colorscale\":[[0.0,\"#0d0887\"],[0.1111111111111111,\"#46039f\"],[0.2222222222222222,\"#7201a8\"],[0.3333333333333333,\"#9c179e\"],[0.4444444444444444,\"#bd3786\"],[0.5555555555555556,\"#d8576b\"],[0.6666666666666666,\"#ed7953\"],[0.7777777777777778,\"#fb9f3a\"],[0.8888888888888888,\"#fdca26\"],[1.0,\"#f0f921\"]]}],\"heatmapgl\":[{\"type\":\"heatmapgl\",\"colorbar\":{\"outlinewidth\":0,\"ticks\":\"\"},\"colorscale\":[[0.0,\"#0d0887\"],[0.1111111111111111,\"#46039f\"],[0.2222222222222222,\"#7201a8\"],[0.3333333333333333,\"#9c179e\"],[0.4444444444444444,\"#bd3786\"],[0.5555555555555556,\"#d8576b\"],[0.6666666666666666,\"#ed7953\"],[0.7777777777777778,\"#fb9f3a\"],[0.8888888888888888,\"#fdca26\"],[1.0,\"#f0f921\"]]}],\"contourcarpet\":[{\"type\":\"contourcarpet\",\"colorbar\":{\"outlinewidth\":0,\"ticks\":\"\"}}],\"contour\":[{\"type\":\"contour\",\"colorbar\":{\"outlinewidth\":0,\"ticks\":\"\"},\"colorscale\":[[0.0,\"#0d0887\"],[0.1111111111111111,\"#46039f\"],[0.2222222222222222,\"#7201a8\"],[0.3333333333333333,\"#9c179e\"],[0.4444444444444444,\"#bd3786\"],[0.5555555555555556,\"#d8576b\"],[0.6666666666666666,\"#ed7953\"],[0.7777777777777778,\"#fb9f3a\"],[0.8888888888888888,\"#fdca26\"],[1.0,\"#f0f921\"]]}],\"surface\":[{\"type\":\"surface\",\"colorbar\":{\"outlinewidth\":0,\"ticks\":\"\"},\"colorscale\":[[0.0,\"#0d0887\"],[0.1111111111111111,\"#46039f\"],[0.2222222222222222,\"#7201a8\"],[0.3333333333333333,\"#9c179e\"],[0.4444444444444444,\"#bd3786\"],[0.5555555555555556,\"#d8576b\"],[0.6666666666666666,\"#ed7953\"],[0.7777777777777778,\"#fb9f3a\"],[0.8888888888888888,\"#fdca26\"],[1.0,\"#f0f921\"]]}],\"mesh3d\":[{\"type\":\"mesh3d\",\"colorbar\":{\"outlinewidth\":0,\"ticks\":\"\"}}],\"scatter\":[{\"fillpattern\":{\"fillmode\":\"overlay\",\"size\":10,\"solidity\":0.2},\"type\":\"scatter\"}],\"parcoords\":[{\"type\":\"parcoords\",\"line\":{\"colorbar\":{\"outlinewidth\":0,\"ticks\":\"\"}}}],\"scatterpolargl\":[{\"type\":\"scatterpolargl\",\"marker\":{\"colorbar\":{\"outlinewidth\":0,\"ticks\":\"\"}}}],\"bar\":[{\"error_x\":{\"color\":\"#2a3f5f\"},\"error_y\":{\"color\":\"#2a3f5f\"},\"marker\":{\"line\":{\"color\":\"#E5ECF6\",\"width\":0.5},\"pattern\":{\"fillmode\":\"overlay\",\"size\":10,\"solidity\":0.2}},\"type\":\"bar\"}],\"scattergeo\":[{\"type\":\"scattergeo\",\"marker\":{\"colorbar\":{\"outlinewidth\":0,\"ticks\":\"\"}}}],\"scatterpolar\":[{\"type\":\"scatterpolar\",\"marker\":{\"colorbar\":{\"outlinewidth\":0,\"ticks\":\"\"}}}],\"histogram\":[{\"marker\":{\"pattern\":{\"fillmode\":\"overlay\",\"size\":10,\"solidity\":0.2}},\"type\":\"histogram\"}],\"scattergl\":[{\"type\":\"scattergl\",\"marker\":{\"colorbar\":{\"outlinewidth\":0,\"ticks\":\"\"}}}],\"scatter3d\":[{\"type\":\"scatter3d\",\"line\":{\"colorbar\":{\"outlinewidth\":0,\"ticks\":\"\"}},\"marker\":{\"colorbar\":{\"outlinewidth\":0,\"ticks\":\"\"}}}],\"scattermapbox\":[{\"type\":\"scattermapbox\",\"marker\":{\"colorbar\":{\"outlinewidth\":0,\"ticks\":\"\"}}}],\"scatterternary\":[{\"type\":\"scatterternary\",\"marker\":{\"colorbar\":{\"outlinewidth\":0,\"ticks\":\"\"}}}],\"scattercarpet\":[{\"type\":\"scattercarpet\",\"marker\":{\"colorbar\":{\"outlinewidth\":0,\"ticks\":\"\"}}}],\"carpet\":[{\"aaxis\":{\"endlinecolor\":\"#2a3f5f\",\"gridcolor\":\"white\",\"linecolor\":\"white\",\"minorgridcolor\":\"white\",\"startlinecolor\":\"#2a3f5f\"},\"baxis\":{\"endlinecolor\":\"#2a3f5f\",\"gridcolor\":\"white\",\"linecolor\":\"white\",\"minorgridcolor\":\"white\",\"startlinecolor\":\"#2a3f5f\"},\"type\":\"carpet\"}],\"table\":[{\"cells\":{\"fill\":{\"color\":\"#EBF0F8\"},\"line\":{\"color\":\"white\"}},\"header\":{\"fill\":{\"color\":\"#C8D4E3\"},\"line\":{\"color\":\"white\"}},\"type\":\"table\"}],\"barpolar\":[{\"marker\":{\"line\":{\"color\":\"#E5ECF6\",\"width\":0.5},\"pattern\":{\"fillmode\":\"overlay\",\"size\":10,\"solidity\":0.2}},\"type\":\"barpolar\"}],\"pie\":[{\"automargin\":true,\"type\":\"pie\"}]},\"layout\":{\"autotypenumbers\":\"strict\",\"colorway\":[\"#636efa\",\"#EF553B\",\"#00cc96\",\"#ab63fa\",\"#FFA15A\",\"#19d3f3\",\"#FF6692\",\"#B6E880\",\"#FF97FF\",\"#FECB52\"],\"font\":{\"color\":\"#2a3f5f\"},\"hovermode\":\"closest\",\"hoverlabel\":{\"align\":\"left\"},\"paper_bgcolor\":\"white\",\"plot_bgcolor\":\"#E5ECF6\",\"polar\":{\"bgcolor\":\"#E5ECF6\",\"angularaxis\":{\"gridcolor\":\"white\",\"linecolor\":\"white\",\"ticks\":\"\"},\"radialaxis\":{\"gridcolor\":\"white\",\"linecolor\":\"white\",\"ticks\":\"\"}},\"ternary\":{\"bgcolor\":\"#E5ECF6\",\"aaxis\":{\"gridcolor\":\"white\",\"linecolor\":\"white\",\"ticks\":\"\"},\"baxis\":{\"gridcolor\":\"white\",\"linecolor\":\"white\",\"ticks\":\"\"},\"caxis\":{\"gridcolor\":\"white\",\"linecolor\":\"white\",\"ticks\":\"\"}},\"coloraxis\":{\"colorbar\":{\"outlinewidth\":0,\"ticks\":\"\"}},\"colorscale\":{\"sequential\":[[0.0,\"#0d0887\"],[0.1111111111111111,\"#46039f\"],[0.2222222222222222,\"#7201a8\"],[0.3333333333333333,\"#9c179e\"],[0.4444444444444444,\"#bd3786\"],[0.5555555555555556,\"#d8576b\"],[0.6666666666666666,\"#ed7953\"],[0.7777777777777778,\"#fb9f3a\"],[0.8888888888888888,\"#fdca26\"],[1.0,\"#f0f921\"]],\"sequentialminus\":[[0.0,\"#0d0887\"],[0.1111111111111111,\"#46039f\"],[0.2222222222222222,\"#7201a8\"],[0.3333333333333333,\"#9c179e\"],[0.4444444444444444,\"#bd3786\"],[0.5555555555555556,\"#d8576b\"],[0.6666666666666666,\"#ed7953\"],[0.7777777777777778,\"#fb9f3a\"],[0.8888888888888888,\"#fdca26\"],[1.0,\"#f0f921\"]],\"diverging\":[[0,\"#8e0152\"],[0.1,\"#c51b7d\"],[0.2,\"#de77ae\"],[0.3,\"#f1b6da\"],[0.4,\"#fde0ef\"],[0.5,\"#f7f7f7\"],[0.6,\"#e6f5d0\"],[0.7,\"#b8e186\"],[0.8,\"#7fbc41\"],[0.9,\"#4d9221\"],[1,\"#276419\"]]},\"xaxis\":{\"gridcolor\":\"white\",\"linecolor\":\"white\",\"ticks\":\"\",\"title\":{\"standoff\":15},\"zerolinecolor\":\"white\",\"automargin\":true,\"zerolinewidth\":2},\"yaxis\":{\"gridcolor\":\"white\",\"linecolor\":\"white\",\"ticks\":\"\",\"title\":{\"standoff\":15},\"zerolinecolor\":\"white\",\"automargin\":true,\"zerolinewidth\":2},\"scene\":{\"xaxis\":{\"backgroundcolor\":\"#E5ECF6\",\"gridcolor\":\"white\",\"linecolor\":\"white\",\"showbackground\":true,\"ticks\":\"\",\"zerolinecolor\":\"white\",\"gridwidth\":2},\"yaxis\":{\"backgroundcolor\":\"#E5ECF6\",\"gridcolor\":\"white\",\"linecolor\":\"white\",\"showbackground\":true,\"ticks\":\"\",\"zerolinecolor\":\"white\",\"gridwidth\":2},\"zaxis\":{\"backgroundcolor\":\"#E5ECF6\",\"gridcolor\":\"white\",\"linecolor\":\"white\",\"showbackground\":true,\"ticks\":\"\",\"zerolinecolor\":\"white\",\"gridwidth\":2}},\"shapedefaults\":{\"line\":{\"color\":\"#2a3f5f\"}},\"annotationdefaults\":{\"arrowcolor\":\"#2a3f5f\",\"arrowhead\":0,\"arrowwidth\":1},\"geo\":{\"bgcolor\":\"white\",\"landcolor\":\"#E5ECF6\",\"subunitcolor\":\"white\",\"showland\":true,\"showlakes\":true,\"lakecolor\":\"white\"},\"title\":{\"x\":0.05},\"mapbox\":{\"style\":\"light\"}}}},                        {\"responsive\": true}                    ).then(function(){\n",
              "                            \n",
              "var gd = document.getElementById('c816e458-90c7-42cb-beee-c14316ed2a43');\n",
              "var x = new MutationObserver(function (mutations, observer) {{\n",
              "        var display = window.getComputedStyle(gd).display;\n",
              "        if (!display || display === 'none') {{\n",
              "            console.log([gd, 'removed!']);\n",
              "            Plotly.purge(gd);\n",
              "            observer.disconnect();\n",
              "        }}\n",
              "}});\n",
              "\n",
              "// Listen for the removal of the full notebook cells\n",
              "var notebookContainer = gd.closest('#notebook-container');\n",
              "if (notebookContainer) {{\n",
              "    x.observe(notebookContainer, {childList: true});\n",
              "}}\n",
              "\n",
              "// Listen for the clearing of the current output cell\n",
              "var outputEl = gd.closest('.output');\n",
              "if (outputEl) {{\n",
              "    x.observe(outputEl, {childList: true});\n",
              "}}\n",
              "\n",
              "                        })                };                            </script>        </div>\n",
              "</body>\n",
              "</html>"
            ]
          },
          "metadata": {}
        }
      ]
    },
    {
      "cell_type": "code",
      "source": [],
      "metadata": {
        "id": "4PHdqSTqZ6ky"
      },
      "execution_count": null,
      "outputs": []
    }
  ]
}