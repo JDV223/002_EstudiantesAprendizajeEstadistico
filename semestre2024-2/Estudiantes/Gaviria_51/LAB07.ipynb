{
  "nbformat": 4,
  "nbformat_minor": 0,
  "metadata": {
    "colab": {
      "provenance": []
    },
    "kernelspec": {
      "name": "python3",
      "display_name": "Python 3"
    },
    "language_info": {
      "name": "python"
    }
  },
  "cells": [
    {
      "cell_type": "code",
      "execution_count": 22,
      "metadata": {
        "id": "HRWtr53XRfPb"
      },
      "outputs": [],
      "source": [
        "import pandas as pd\n",
        "import scipy as sc\n",
        "import numpy as np\n",
        "import h5py\n",
        "import matplotlib.pylab as plt"
      ]
    },
    {
      "cell_type": "code",
      "source": [
        "#DATOS\n",
        "data_train= \"train_catvnoncat.h5\"\n",
        "train_dataset = h5py.File(data_train, \"r\")\n",
        "\n",
        "data_test= \"test_catvnoncat.h5\"\n",
        "test_dataset = h5py.File(data_test, \"r\")"
      ],
      "metadata": {
        "id": "ErvNsx07Rj2K"
      },
      "execution_count": 23,
      "outputs": []
    },
    {
      "cell_type": "code",
      "source": [
        "train_dataset.keys()"
      ],
      "metadata": {
        "colab": {
          "base_uri": "https://localhost:8080/"
        },
        "id": "vOmoOfgiR3o9",
        "outputId": "67e1d8f3-d1b2-402b-db67-1b84981fb75c"
      },
      "execution_count": 24,
      "outputs": [
        {
          "output_type": "execute_result",
          "data": {
            "text/plain": [
              "<KeysViewHDF5 ['list_classes', 'train_set_x', 'train_set_y']>"
            ]
          },
          "metadata": {},
          "execution_count": 24
        }
      ]
    },
    {
      "cell_type": "code",
      "source": [
        "# LECTURA DE DATOS\n",
        "# EXTRACCTON DE DATOS DE ENTRENAMIENTO\n",
        "xtrain_classes, xtrain, train_label =\\\n",
        "train_dataset[\"list_classes\"],train_dataset[\"train_set_x\"],train_dataset[\"train_set_y\"]\n",
        "\n",
        "#EXTRACCION DE DATOS DE TEST\n",
        "test_classes, xtest,test_label =\\\n",
        "test_dataset[\"list_classes\"],test_dataset[\"test_set_x\"],test_dataset[\"test_set_y\"]"
      ],
      "metadata": {
        "id": "IJJMWx23R69x"
      },
      "execution_count": 25,
      "outputs": []
    },
    {
      "cell_type": "code",
      "source": [
        "np.shape(xtest)"
      ],
      "metadata": {
        "colab": {
          "base_uri": "https://localhost:8080/"
        },
        "id": "m3U0qMaeR9Sk",
        "outputId": "b2d0d555-00c4-443e-87d8-1fa34c44c5cd"
      },
      "execution_count": 26,
      "outputs": [
        {
          "output_type": "execute_result",
          "data": {
            "text/plain": [
              "(50, 64, 64, 3)"
            ]
          },
          "metadata": {},
          "execution_count": 26
        }
      ]
    },
    {
      "cell_type": "code",
      "source": [
        "plt.imshow(xtrain[208])"
      ],
      "metadata": {
        "colab": {
          "base_uri": "https://localhost:8080/",
          "height": 449
        },
        "id": "r5LO5beNR_p7",
        "outputId": "0526902e-61c8-4661-b5d2-e79dfeaa319a"
      },
      "execution_count": 27,
      "outputs": [
        {
          "output_type": "execute_result",
          "data": {
            "text/plain": [
              "<matplotlib.image.AxesImage at 0x7e23836730d0>"
            ]
          },
          "metadata": {},
          "execution_count": 27
        },
        {
          "output_type": "display_data",
          "data": {
            "text/plain": [
              "<Figure size 640x480 with 1 Axes>"
            ],
            "image/png": "[encoded data removed]"
          },
          "metadata": {}
        }
      ]
    },
    {
      "cell_type": "code",
      "source": [
        "# ORGANIZACION DE LAS MATRICES DE LOS DATOS (Imagenes)\n",
        "# DEFINICION DE LOS DATOS DE TEST Y ENTRENAMIENTO\n",
        "xtrain_ = np.reshape(xtrain,(209, 64*64*3))/255\n",
        "\n",
        "xtest_  = np.reshape(xtest,(50, 64*64*3))/255"
      ],
      "metadata": {
        "id": "UEECM8J0SFeT"
      },
      "execution_count": 28,
      "outputs": []
    },
    {
      "cell_type": "markdown",
      "source": [
        "## CONSTRUCCIÓN DEL FORWARD PASS Y BACKWARD PASS"
      ],
      "metadata": {
        "id": "z7UDuhnSiWg5"
      }
    },
    {
      "cell_type": "code",
      "source": [
        "# FORWARD PASSS\n",
        "\n",
        "#GENERALIZACION\n",
        "\n",
        "#Construcción de la clase para las capas\n",
        "\n",
        "class layer_nn():\n",
        "  # Función de actualización para cada neurona\n",
        "  def __init__(self, func_act, nn_present, nn_before):\n",
        "    np.random.seed(0)\n",
        "    # Asignamiento del valor de theta al atributo de la función modelo o ajuste lineal\n",
        "    self.theta = 2*np.random.random((nn_present, nn_before)) - 1\n",
        "    # Asignamiento del valor de b al atributo del baias\n",
        "    self.b = 2*np.random.random((nn_present, 1))-1\n",
        "    # Asignamiento del valor al atributo de la función de activación\n",
        "    self.func_acti = func_act\n",
        "\n",
        "\n",
        "  # Función de valores de salidad de cada capa\n",
        "  def output(self, A, Ap, Z):\n",
        "    self.A = A\n",
        "    self.Z = Z\n",
        "    self.Ap = Ap\n",
        "  # Función de valores de la derivada para el gradiente descendente\n",
        "  def derivative(self,dtheta, db ):\n",
        "    self.dtheta = dw\n",
        "    self.db = db\n",
        "\n",
        "# Función de activación\n",
        "def activation_function(name, x):\n",
        "\n",
        "  if (name==\"sigmoid\"): # REGRESION  LOGISITCA\n",
        "    f = lambda x: 1/(1+np.exp(-x))\n",
        "    return f(x), f(x)\n",
        "\n",
        "  elif (name==\"tanh\"): # HIPERBOLICA\n",
        "    f =  lambda x: np.tanh(x)\n",
        "    return f(x)\n",
        "  else :\n",
        "    return \"Error\"\n"
      ],
      "metadata": {
        "id": "fOgSZ5VUiiE8"
      },
      "execution_count": 29,
      "outputs": []
    },
    {
      "cell_type": "code",
      "source": [
        "#FUNCIÓN DE CREACION DE LAS CAPAS\n",
        "def build_red(Topology, act_func):\n",
        "  L = len(Topology)\n",
        "  red_nn=[] # LISTA DE LAS CAPAS\n",
        "  for i in range(1, L):\n",
        "    li = layer_nn(act_func[i], Topology[i], Topology[i-1] )\n",
        "    red_nn.append(li)\n",
        "  return red_nn"
      ],
      "metadata": {
        "id": "lUiHwdHHmGOB"
      },
      "execution_count": 30,
      "outputs": []
    },
    {
      "cell_type": "code",
      "source": [
        "#  FORWARD PASS\n",
        "def forward_pass(A0, nn):\n",
        "  update_nn = [] # LISTA DE NEURONAS ACTUALIZADAS\n",
        "  for layer in nn:\n",
        "    print(np.shape(layer.theta))\n",
        "    li = layer # CAPA L-ESIMA\n",
        "    Zi = li.theta@A0 + li.b # NEURONA L-ESIMA\n",
        "    Aii, Ap = activation_function(li.func_acti, Zi) # DEFINICION DE FUNCION DE ACTIVACION\n",
        "    li.output(Aii, Ap,Zi) # DATOS DE SALIDA\n",
        "    update_nn.append(li) # ACTUALIZACION DE LA NEURONA\n",
        "    A0 = Aii.copy() # ACTUALIZACION DE FUNCION DE ACTIVACION\n",
        "\n",
        "  return Aii, update_nn"
      ],
      "metadata": {
        "id": "xdsHrvk9iiC_"
      },
      "execution_count": 31,
      "outputs": []
    },
    {
      "cell_type": "code",
      "source": [
        "# DATOS\n",
        "A0=xtrain_.T\n",
        "nx = 12288\n",
        "Topology = [nx,3, 4, 7, 1 ]\n",
        "act_func = [\"sigmoid\",\"sigmoid\", \"sigmoid\", \"sigmoid\", \"sigmoid\"]\n",
        "nn = build_red(Topology, act_func)\n",
        "AL, update_nn = forward_pass(A0, nn)"
      ],
      "metadata": {
        "colab": {
          "base_uri": "https://localhost:8080/"
        },
        "id": "cnAGVJhbiiAk",
        "outputId": "bd6d0dce-830c-4af1-bb67-a4a614d4a41e"
      },
      "execution_count": 32,
      "outputs": [
        {
          "output_type": "stream",
          "name": "stdout",
          "text": [
            "(3, 12288)\n",
            "(4, 3)\n",
            "(7, 4)\n",
            "(1, 7)\n"
          ]
        }
      ]
    },
    {
      "cell_type": "markdown",
      "source": [
        "##GENERALIZACION DEL BACKWARD PASS\n"
      ],
      "metadata": {
        "id": "8OA6QWJPo8Au"
      }
    },
    {
      "cell_type": "code",
      "source": [
        "# FUNCION DE COSTE\n",
        "Y=np.array(train_label)\n",
        "def cost_func(Y, A):\n",
        "  m = Y.shape[0]\n",
        "  ji = - ( Y*np.log(A)-(1-Y)*np.log(1-A))\n",
        "  cost = ji.sum()\n",
        "  return cost/m\n",
        "J = cost_func(Y, AL)"
      ],
      "metadata": {
        "id": "6rU9K1SBih91"
      },
      "execution_count": 33,
      "outputs": []
    },
    {
      "cell_type": "code",
      "source": [
        "#Generalizacion\n",
        "m_= 1/209\n",
        "dAL = -(np.divide(Y, AL) - np.divide(1 - Y, 1 - AL))\n",
        "for i in range(len(update_nn)-1, 0, -1):\n",
        "  fp=update_nn[i].Ap\n",
        "  dZ = dAL*fp\n",
        "  dthetaL = dZ@update_nn[i-1].A.T\n",
        "  db_L=  m_*np.sum(dZ, axis=1, keepdims=True)\n",
        "  update_nn[i].dtheta=dthetaL\n",
        "  update_nn[i].db=db_L"
      ],
      "metadata": {
        "id": "DoY9g_Mhih76"
      },
      "execution_count": 34,
      "outputs": []
    },
    {
      "cell_type": "code",
      "source": [
        "# Generalización de las capas\n",
        "def back_pass(Y, AL, update_nn  ):\n",
        "  m_= 1/209\n",
        "  dAL = -(np.divide(Y, AL) - np.divide(1 - Y, 1 - AL))\n",
        "  for i in range(len(update_nn)-1, 0, -1):\n",
        "    fp=update_nn[i].Ap\n",
        "    dZ = dAL*fp\n",
        "    dthetaL = m_*dZ@update_nn[i-1].Ap.T\n",
        "    db_L=  dZ.mean(axis=1, keepdims=True)\n",
        "    update_nn[i].dtheta=dthetaL\n",
        "    update_nn[i].db=db_L\n",
        "    dAL=np.dot(update_nn[i].theta.T, dZ)\n",
        "  return update_nn"
      ],
      "metadata": {
        "id": "nf7Ryu3PtkaC"
      },
      "execution_count": 35,
      "outputs": []
    },
    {
      "cell_type": "code",
      "source": [
        "Y=np.array(train_label)\n",
        "update_nn = back_pass(Y, AL, update_nn)"
      ],
      "metadata": {
        "id": "No2bb6k5kiqh"
      },
      "execution_count": 36,
      "outputs": []
    },
    {
      "cell_type": "markdown",
      "source": [
        "## ATTEMPS\n"
      ],
      "metadata": {
        "id": "69eDdlzyw4Pe"
      }
    },
    {
      "cell_type": "code",
      "source": [
        "class layer_nn():\n",
        "  def __init__(self, act_fun, nlayer_present, nlayer_before):\n",
        "    #VALORES DE FUNCIÓN MODELO\n",
        "    self.theta = 2*np.random.random((nlayer_present, nlayer_before)) - 1\n",
        "    #BAIAS\n",
        "    self.B = 2*np.random.random((nlayer_present,1)) - 1\n",
        "    #FUNCIÓN DE ACTIVACIÓN\n",
        "    self.act_fun = act_fun\n",
        "\n",
        "  def output(self, Z, A):\n",
        "    self.Z = Z\n",
        "    self.A = A\n",
        "\n",
        "# FUNCIONES DE ACTIVACIONES\n",
        "def act_function(x, activation):\n",
        "  if activation==\"sigmoid\":\n",
        "    f = lambda x: 1/(1+np.exp(-x))\n",
        "    return f(x)\n",
        "\n",
        "  elif activation == \"tanh\":\n",
        "    f = lambda x: np.tanh(x)\n",
        "    return f(x)\n",
        "  else :\n",
        "    return 0"
      ],
      "metadata": {
        "id": "I0PCsBi4SKde"
      },
      "execution_count": 37,
      "outputs": []
    },
    {
      "cell_type": "code",
      "source": [
        "  x = np.linspace(-10, 10, 100)\n",
        "  plt.plot(x, act_function(x,\"sigmoid\"))"
      ],
      "metadata": {
        "colab": {
          "base_uri": "https://localhost:8080/",
          "height": 447
        },
        "id": "OtKoOQU3YAl3",
        "outputId": "71dba899-e5ec-4c45-e1e3-6102a2c74648"
      },
      "execution_count": 38,
      "outputs": [
        {
          "output_type": "execute_result",
          "data": {
            "text/plain": [
              "[<matplotlib.lines.Line2D at 0x7e2350822fb0>]"
            ]
          },
          "metadata": {},
          "execution_count": 38
        },
        {
          "output_type": "display_data",
          "data": {
            "text/plain": [
              "<Figure size 640x480 with 1 Axes>"
            ],
            "image/png": "[encoded data removed]"
          },
          "metadata": {}
        }
      ]
    },
    {
      "cell_type": "code",
      "source": [
        "#Valores de entrada\n",
        "nx = 12288\n",
        "# Topologia: Numero de capas con su numero de neuronas respectivas\n",
        "Topology = [nx,3, 4, 7, 1 ]"
      ],
      "metadata": {
        "id": "Ma1uQXI-YAjb"
      },
      "execution_count": 39,
      "outputs": []
    },
    {
      "cell_type": "code",
      "source": [
        "# Capas ocultas\n",
        "# Primera capa con valores de entrada y con su numero de neuronas\n",
        "l1 = layer_nn(\"sigmoid\",3, nx)\n",
        "# Segunda capa con valores de la primera capa y su numero de neuronas ...\n",
        "l2 = layer_nn(\"sigmoid\", 4, 3)\n",
        "l3 = layer_nn(\"sigmoid\", 7, 4)\n",
        "l4 = layer_nn(\"sigmoid\",1, 7)"
      ],
      "metadata": {
        "id": "UnKLSFATYAgG"
      },
      "execution_count": 40,
      "outputs": []
    },
    {
      "cell_type": "code",
      "source": [
        "# Inicialización de la arquitectura\n",
        "nn_red = [l1,l2,l3,l4]"
      ],
      "metadata": {
        "id": "HtRQuQcjYAXz"
      },
      "execution_count": 41,
      "outputs": []
    },
    {
      "cell_type": "code",
      "source": [
        "# Valores de entrenamiento\n",
        "A0=xtrain_.T"
      ],
      "metadata": {
        "id": "20OEsIpyYAUu"
      },
      "execution_count": 42,
      "outputs": []
    },
    {
      "cell_type": "code",
      "source": [
        "# Capas\n",
        "A=[0]*len(nn_red)\n",
        "Z=[0]*len(nn_red)\n",
        "for i in range(len(nn_red)):\n",
        "  Z[i]=nn_red[i].theta@A0 + nn_red[i].B\n",
        "  A[i]=act_function(Z[i],nn_red[i].act_fun)\n",
        "  A0=A[i]\n",
        "\n",
        "# CAPAS\n",
        "def forward_pass(A0, nn):\n",
        "  update_nn = []\n",
        "  for layer in nn:\n",
        "    print(np.shape(layer.theta))\n",
        "    li = layer\n",
        "    Zi = li.theta@A0 + li.b\n",
        "    Aii, Ap = activation_function(li.func_acti, Zi)\n",
        "    li.output(Aii, Ap,Zi)\n",
        "    update_nn.append(li)\n",
        "    A0 = Aii.copy()\n",
        "\n",
        "  return Aii, update_nn"
      ],
      "metadata": {
        "id": "kqzSr1AlivZX"
      },
      "execution_count": 43,
      "outputs": []
    },
    {
      "cell_type": "code",
      "source": [
        "#Generalización de la clase\n",
        "class layer_nn():\n",
        "  def __init__(self, func_act, nn_present, nn_before):\n",
        "    np.random.seed(0)\n",
        "    self.theta = 2*np.random.random((nn_present, nn_before)) - 1\n",
        "    self.b = 2*np.random.random((nn_present, 1))-1\n",
        "    self.func_acti = func_act\n",
        "\n",
        "  def output(self, A, Ap, Z):\n",
        "    self.A = A\n",
        "    self.Z = Z\n",
        "    self.Ap = Ap\n",
        "\n",
        "  def derivative(self,dtheta, db ):\n",
        "    self.dtheta = dw\n",
        "    self.db = db\n",
        "\n",
        "def activation_function(name, x):\n",
        "  if (name==\"sigmoid\"):\n",
        "    f = lambda x: 1/(1+np.exp(-x))\n",
        "    return f(x), f(x)\n",
        "\n",
        "  elif (name==\"tanh\"):\n",
        "    f =  lambda x: np.tanh(x)\n",
        "    return f(x)\n",
        "  else :\n",
        "    return \"Error\""
      ],
      "metadata": {
        "id": "lydQ7zDqme8z"
      },
      "execution_count": 44,
      "outputs": []
    },
    {
      "cell_type": "code",
      "source": [
        "def build_red(Topology, act_func):\n",
        "  L = len(Topology)\n",
        "  red_nn=[]\n",
        "  for i in range(1, L):\n",
        "    li = layer_nn(act_func[i], Topology[i], Topology[i-1] )\n",
        "    red_nn.append(li)\n",
        "  return red_nn"
      ],
      "metadata": {
        "id": "dPJUmo-VpLWI"
      },
      "execution_count": 45,
      "outputs": []
    },
    {
      "cell_type": "code",
      "source": [
        "# CAPAS\n",
        "def forward_pass(A0, nn):\n",
        "  update_nn = []\n",
        "  for layer in nn:\n",
        "    print(np.shape(layer.theta))\n",
        "    li = layer\n",
        "    Zi = li.theta@A0 + li.b\n",
        "    Aii, Ap = activation_function(li.func_acti, Zi)\n",
        "    li.output(Aii, Ap,Zi)\n",
        "    update_nn.append(li)\n",
        "    A0 = Aii.copy()\n",
        "\n",
        "  return Aii, update_nn"
      ],
      "metadata": {
        "id": "QrIdYReqme3-"
      },
      "execution_count": 46,
      "outputs": []
    },
    {
      "cell_type": "code",
      "source": [
        "#Datos\n",
        "nx = 12288\n",
        "Topology = [nx,3, 4, 7, 1 ]\n",
        "act_func = [\"sigmoid\",\"sigmoid\", \"sigmoid\", \"sigmoid\", \"sigmoid\"]\n",
        "nn = build_red(Topology, act_func)"
      ],
      "metadata": {
        "id": "iPzzF8QJpDEJ"
      },
      "execution_count": 47,
      "outputs": []
    }
  ]
}