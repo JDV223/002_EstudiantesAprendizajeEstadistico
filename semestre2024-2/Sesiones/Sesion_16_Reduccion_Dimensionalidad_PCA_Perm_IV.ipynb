{
 "cells": [
  {
   "cell_type": "markdown",
   "metadata": {},
   "source": [
    "<a href=\"https://colab.research.google.com/github/CienciaDatosUdea/002_EstudiantesAprendizajeEstadistico/blob/main/semestre2024-2/Sesiones/Sesion_16_Reduccion_Dimensionalidad_PCA_Perm_IV.ipynb\" target=\"_parent\"><img src=\"https://colab.research.google.com/assets/colab-badge.svg\" alt=\"Open In Colab\"/></a>"
   ]
  },
  {
   "cell_type": "code",
   "execution_count": null,
   "metadata": {},
   "outputs": [],
   "source": [
    "import numpy as np\n",
    "import scipy as sp\n",
    "import matplotlib.pylab as plt"
   ]
  },
  {
   "cell_type": "markdown",
   "metadata": {},
   "source": [
    "# Reduccion de dimensionalidad"
   ]
  },
  {
   "cell_type": "code",
   "execution_count": null,
   "metadata": {},
   "outputs": [],
   "source": [
    "# Ejemplo de data set sintetico con variables aleatorias y variables relacionadas\n",
    "n = 100\n",
    "# variable causal con ruido gausiano pequeño\n",
    "x1 = np.linspace(-1, 1,n) + np.random.RandomState().normal(0, 0.05, n)\n",
    "# variable causal con un ruido grande uniforme\n",
    "x2 = np.linspace(-1, 1,n) + np.random.RandomState().uniform(-0.5, 0.5, n)\n",
    "# variable pura aleatoria gausiana\n",
    "x3 = np.random.RandomState().normal(0, 1, n)\n",
    "#variable pura aleatoria uniforme\n",
    "x4 =  np.random.RandomState().uniform(0, 1, n)\n",
    "#target y=5x+ruido\n",
    "y = np.array([0] * (n // 2) + [1] * (n // 2))\n",
    "#y =5*np.linspace(-1, 1,n) + np.random.RandomState().normal(0, 0.1, n)"
   ]
  },
  {
   "cell_type": "code",
   "execution_count": null,
   "metadata": {},
   "outputs": [],
   "source": [
    "#verifiquen como se ve la relacion entre cada x y el target y\n",
    "#print(x4,y)\n",
    "plt.figure()\n",
    "plt.plot(x1, y,\"bo\")\n",
    "plt.xlabel(\"variable\")\n",
    "plt.ylabel(\"target\")\n",
    "plt.show()"
   ]
  },
  {
   "cell_type": "markdown",
   "metadata": {},
   "source": [
    "## Permutation Test para clasificadores\n",
    "https://www.jmlr.org/papers/volume11/ojala10a/ojala10a.pdf\n",
    "\n",
    "Este test nos permite encontrar variables que estan muy poco correlacionadas con la variable objetivo. Se basa en un test combinatorio por lo cual a pesar de ser un test riguroso es dificil de aplicar a datasets muy grandes.\n"
   ]
  },
  {
   "cell_type": "code",
   "execution_count": null,
   "metadata": {},
   "outputs": [],
   "source": [
    "from sklearn.model_selection import permutation_test_score\n",
    "from sklearn.preprocessing import StandardScaler\n",
    "from sklearn.linear_model import LogisticRegression"
   ]
  },
  {
   "cell_type": "code",
   "execution_count": null,
   "metadata": {},
   "outputs": [],
   "source": [
    "#reshape for the test\n",
    "x1_perm = x1.reshape(-1,1)\n",
    "x2_perm = x2.reshape(-1,1)\n",
    "x3_perm = x3.reshape(-1,1)\n",
    "x4_perm = x4.reshape(-1,1)"
   ]
  },
  {
   "cell_type": "code",
   "execution_count": null,
   "metadata": {},
   "outputs": [],
   "source": [
    "def permutation_test(x,y):\n",
    "    estimator = LogisticRegression()\n",
    "    score, permutation_scores, pvalue = permutation_test_score(\n",
    "\n",
    "    estimator, x, y, random_state=0\n",
    "    )\n",
    "    print(f\"Original Score: {score:.3f}\")\n",
    "    print(\n",
    "        f\"Permutation Scores: {permutation_scores.mean():.3f} +/- \"\n",
    "        f\"{permutation_scores.std():.3f}\"\n",
    "        )\n",
    "    print(f\"P-value: {pvalue:.3f}\")\n",
    "    return None"
   ]
  },
  {
   "cell_type": "code",
   "execution_count": null,
   "metadata": {},
   "outputs": [],
   "source": [
    "print(\"X1\")\n",
    "permutation_test(x1_perm,y)\n",
    "\n",
    "print(\"X2\")\n",
    "permutation_test(x2_perm,y)\n",
    "\n",
    "print(\"X3\")\n",
    "permutation_test(x3_perm,y)\n",
    "\n",
    "print(\"X4\")\n",
    "permutation_test(x4_perm,y)\n",
    "\n"
   ]
  },
  {
   "cell_type": "markdown",
   "metadata": {},
   "source": [
    "The p-value represents the fraction of randomized data sets where the estimator performed as well or better than in the original data. A small p-value suggests that there is a real dependency between features and targets which has been used by the estimator to give good predictions. A large p-value may be due to lack of real dependency between features and targets or the estimator was not able to use the dependency to give good predictions."
   ]
  },
  {
   "cell_type": "markdown",
   "metadata": {},
   "source": [
    "Basados en el bajo valor p de x1 y x2 versus el alto valor p de x3 y x4 podemos reducir el numero de variables a x1 y x2"
   ]
  },
  {
   "cell_type": "markdown",
   "metadata": {},
   "source": [
    "## Principal Component Analysis PCA"
   ]
  },
  {
   "cell_type": "markdown",
   "metadata": {
    "id": "SP2iFX535ZMe"
   },
   "source": [
    "El análisis de componentes principales (PCA) es una técnica estadística que se utiliza para reducir la dimensionalidad de un conjunto de datos, es decir, para representar los datos con menos variables sin perder mucha información. El PCA busca las combinaciones lineales de las variables originales que capturan la mayor parte de la variación o la dispersión de los datos. Estas combinaciones se llaman componentes principales, y se ordenan de mayor a menor importancia. El PCA se puede usar para explorar la estructura de los datos, para visualizarlos en un espacio de baja dimensión, o para prepararlos para otros análisis como la regresión o la clasificación.\n",
    "\n",
    "Para entender mejor el PCA, puedes consultar la sección 3.2.1 y el apendice A de https://arxiv.org/pdf/2204.04198\n",
    "\n"
   ]
  },
  {
   "cell_type": "code",
   "execution_count": null,
   "metadata": {
    "colab": {
     "background_save": true
    },
    "executionInfo": {
     "elapsed": 7,
     "status": "ok",
     "timestamp": 1698435148850,
     "user": {
      "displayName": "HERNAN DAVID SALINAS JIMENEZ",
      "userId": "00408651407692255291"
     },
     "user_tz": 300
    },
    "id": "CZIuyWzsg-OB"
   },
   "outputs": [],
   "source": [
    "#Datos centrados en cero\n",
    "x1 = np.linspace(-1, 1,10)\n",
    "x2 = np.linspace(-1, 1,10) + (2*np.random.random(10)-1)"
   ]
  },
  {
   "cell_type": "code",
   "execution_count": null,
   "metadata": {},
   "outputs": [],
   "source": [
    "print(x1.mean())\n",
    "x1 = x1 - x1.mean()\n",
    "print(x1.mean())"
   ]
  },
  {
   "cell_type": "code",
   "execution_count": null,
   "metadata": {},
   "outputs": [],
   "source": [
    "print(x2.mean())\n",
    "x2 = x2 - x2.mean()\n",
    "print(x2.mean())"
   ]
  },
  {
   "cell_type": "code",
   "execution_count": null,
   "metadata": {
    "colab": {
     "base_uri": "https://localhost:8080/",
     "height": 470
    },
    "executionInfo": {
     "elapsed": 475,
     "status": "ok",
     "timestamp": 1698435149319,
     "user": {
      "displayName": "HERNAN DAVID SALINAS JIMENEZ",
      "userId": "00408651407692255291"
     },
     "user_tz": 300
    },
    "id": "i5q2ShzyhHyr",
    "outputId": "de2eabb5-b22e-40be-8aae-18b15550f0f0"
   },
   "outputs": [],
   "source": [
    "plt.figure()\n",
    "plt.plot(x1, x2,\"bo\")\n",
    "plt.xlabel(\"x1\")\n",
    "plt.ylabel(\"x2\")\n",
    "plt.show()"
   ]
  },
  {
   "cell_type": "code",
   "execution_count": null,
   "metadata": {
    "executionInfo": {
     "elapsed": 366,
     "status": "ok",
     "timestamp": 1698436269360,
     "user": {
      "displayName": "HERNAN DAVID SALINAS JIMENEZ",
      "userId": "00408651407692255291"
     },
     "user_tz": 300
    },
    "id": "_1AQVDdRoKRK"
   },
   "outputs": [],
   "source": [
    "np.stack?"
   ]
  },
  {
   "cell_type": "code",
   "execution_count": null,
   "metadata": {
    "colab": {
     "base_uri": "https://localhost:8080/"
    },
    "executionInfo": {
     "elapsed": 13,
     "status": "ok",
     "timestamp": 1698436259756,
     "user": {
      "displayName": "HERNAN DAVID SALINAS JIMENEZ",
      "userId": "00408651407692255291"
     },
     "user_tz": 300
    },
    "id": "BN_cDOnwhNhw",
    "outputId": "b5e72426-d7b7-446b-d240-aa7aa3fba5f2"
   },
   "outputs": [],
   "source": [
    "X = np.stack((x1, x2), axis = 0)\n",
    "X"
   ]
  },
  {
   "cell_type": "code",
   "execution_count": null,
   "metadata": {
    "colab": {
     "base_uri": "https://localhost:8080/"
    },
    "executionInfo": {
     "elapsed": 358,
     "status": "ok",
     "timestamp": 1698436448205,
     "user": {
      "displayName": "HERNAN DAVID SALINAS JIMENEZ",
      "userId": "00408651407692255291"
     },
     "user_tz": 300
    },
    "id": "GRG_AXgWhr9j",
    "outputId": "da17243b-14b0-444b-8d4a-4ee0cb1b21d8"
   },
   "outputs": [],
   "source": [
    "A = np.cov(X)\n",
    "A"
   ]
  },
  {
   "cell_type": "code",
   "execution_count": null,
   "metadata": {
    "colab": {
     "base_uri": "https://localhost:8080/"
    },
    "executionInfo": {
     "elapsed": 9,
     "status": "ok",
     "timestamp": 1698436448552,
     "user": {
      "displayName": "HERNAN DAVID SALINAS JIMENEZ",
      "userId": "00408651407692255291"
     },
     "user_tz": 300
    },
    "id": "1hvlQLVu6fVC",
    "outputId": "30d455c3-50b6-4a4e-d694-b10206f237a4"
   },
   "outputs": [],
   "source": [
    "M = np.matrix(A)\n",
    "M"
   ]
  },
  {
   "cell_type": "code",
   "execution_count": null,
   "metadata": {
    "executionInfo": {
     "elapsed": 3,
     "status": "ok",
     "timestamp": 1698436452155,
     "user": {
      "displayName": "HERNAN DAVID SALINAS JIMENEZ",
      "userId": "00408651407692255291"
     },
     "user_tz": 300
    },
    "id": "sE0JW2VjhwN_"
   },
   "outputs": [],
   "source": [
    "# Autovalores y autovectores\n",
    "E,U = np.linalg.eig(M)"
   ]
  },
  {
   "cell_type": "code",
   "execution_count": null,
   "metadata": {
    "colab": {
     "base_uri": "https://localhost:8080/"
    },
    "executionInfo": {
     "elapsed": 5,
     "status": "ok",
     "timestamp": 1698436452569,
     "user": {
      "displayName": "HERNAN DAVID SALINAS JIMENEZ",
      "userId": "00408651407692255291"
     },
     "user_tz": 300
    },
    "id": "-YEOMgNz6ksd",
    "outputId": "0d91dae9-958d-47c6-c5ae-4dd6e709e93c"
   },
   "outputs": [],
   "source": [
    "U"
   ]
  },
  {
   "cell_type": "code",
   "execution_count": null,
   "metadata": {
    "executionInfo": {
     "elapsed": 6,
     "status": "ok",
     "timestamp": 1698436459040,
     "user": {
      "displayName": "HERNAN DAVID SALINAS JIMENEZ",
      "userId": "00408651407692255291"
     },
     "user_tz": 300
    },
    "id": "rIy0qZSXieYJ"
   },
   "outputs": [],
   "source": [
    "U1 = np.array(U[:,0])\n",
    "U2 = np.array(U[:,1])"
   ]
  },
  {
   "cell_type": "code",
   "execution_count": null,
   "metadata": {
    "colab": {
     "base_uri": "https://localhost:8080/"
    },
    "executionInfo": {
     "elapsed": 8,
     "status": "ok",
     "timestamp": 1698436460151,
     "user": {
      "displayName": "HERNAN DAVID SALINAS JIMENEZ",
      "userId": "00408651407692255291"
     },
     "user_tz": 300
    },
    "id": "04o8kezNjmIO",
    "outputId": "b67b6f1c-3cf3-40fb-efcd-3279132cda94"
   },
   "outputs": [],
   "source": [
    "U2"
   ]
  },
  {
   "cell_type": "code",
   "execution_count": null,
   "metadata": {},
   "outputs": [],
   "source": [
    "E"
   ]
  },
  {
   "cell_type": "code",
   "execution_count": null,
   "metadata": {},
   "outputs": [],
   "source": [
    "#comparar a M\n",
    "#r = (np.matrix(X) @ np.matrix(X).T) /10"
   ]
  },
  {
   "cell_type": "code",
   "execution_count": null,
   "metadata": {
    "colab": {
     "background_save": true,
     "base_uri": "https://localhost:8080/",
     "height": 470
    },
    "executionInfo": {
     "elapsed": 681,
     "status": "ok",
     "timestamp": 1698436488559,
     "user": {
      "displayName": "HERNAN DAVID SALINAS JIMENEZ",
      "userId": "00408651407692255291"
     },
     "user_tz": 300
    },
    "id": "GDPQmirHifNa"
   },
   "outputs": [],
   "source": [
    "plt.figure()\n",
    "plt.plot(x1, x2,\"bo\")\n",
    "plt.quiver(0,0,U1[0][0],U1[1][0], label = \"Vector Proyección 1\")\n",
    "plt.quiver(0,0,U2[0][0],U2[1][0], label = \"Vector Proyección 2\")\n",
    "plt.xlabel(\"x1\")\n",
    "plt.ylabel(\"x2\")\n",
    "plt.legend()\n",
    "plt.show()"
   ]
  },
  {
   "cell_type": "code",
   "execution_count": null,
   "metadata": {
    "colab": {
     "base_uri": "https://localhost:8080/"
    },
    "executionInfo": {
     "elapsed": 334,
     "status": "ok",
     "timestamp": 1698436492584,
     "user": {
      "displayName": "HERNAN DAVID SALINAS JIMENEZ",
      "userId": "00408651407692255291"
     },
     "user_tz": 300
    },
    "id": "VtjnuTDhi3EH",
    "outputId": "ded76825-7432-41fd-9fb8-3c60c57511b8"
   },
   "outputs": [],
   "source": [
    "#Proyectamos los datos X en el subespacio reducido de manera que queda una sola variable P\n",
    "P = U2.T@X\n",
    "P"
   ]
  },
  {
   "cell_type": "code",
   "execution_count": null,
   "metadata": {
    "colab": {
     "base_uri": "https://localhost:8080/"
    },
    "executionInfo": {
     "elapsed": 340,
     "status": "ok",
     "timestamp": 1698436495485,
     "user": {
      "displayName": "HERNAN DAVID SALINAS JIMENEZ",
      "userId": "00408651407692255291"
     },
     "user_tz": 300
    },
    "id": "Uc4SVo5Ukmrc",
    "outputId": "e72cea0d-5009-436c-f01b-8b7b069ef4ab"
   },
   "outputs": [],
   "source": [
    "U2[1][0]"
   ]
  },
  {
   "cell_type": "code",
   "execution_count": null,
   "metadata": {
    "colab": {
     "base_uri": "https://localhost:8080/"
    },
    "executionInfo": {
     "elapsed": 8,
     "status": "ok",
     "timestamp": 1698436495814,
     "user": {
      "displayName": "HERNAN DAVID SALINAS JIMENEZ",
      "userId": "00408651407692255291"
     },
     "user_tz": 300
    },
    "id": "--ZZf0a-nJwz",
    "outputId": "88763649-b815-465f-e4dc-99c0ec4d8af2"
   },
   "outputs": [],
   "source": [
    "# Pendiente\n",
    "m = np.arctan(U2[1][0]/U2[0][0])\n",
    "m"
   ]
  },
  {
   "cell_type": "code",
   "execution_count": null,
   "metadata": {
    "executionInfo": {
     "elapsed": 2,
     "status": "ok",
     "timestamp": 1698436496182,
     "user": {
      "displayName": "HERNAN DAVID SALINAS JIMENEZ",
      "userId": "00408651407692255291"
     },
     "user_tz": 300
    },
    "id": "cU5n-4h_nV4D"
   },
   "outputs": [],
   "source": [
    "x2r = x1*np.tan(m)"
   ]
  },
  {
   "cell_type": "code",
   "execution_count": null,
   "metadata": {
    "colab": {
     "base_uri": "https://localhost:8080/",
     "height": 470
    },
    "executionInfo": {
     "elapsed": 413,
     "status": "ok",
     "timestamp": 1698436497237,
     "user": {
      "displayName": "HERNAN DAVID SALINAS JIMENEZ",
      "userId": "00408651407692255291"
     },
     "user_tz": 300
    },
    "id": "3-RkC0NskYSO",
    "outputId": "44b63e1c-ca7a-42d9-f951-4a16ae4e098e"
   },
   "outputs": [],
   "source": [
    "plt.figure()\n",
    "plt.plot(x1, x2,\"bo\")\n",
    "plt.quiver(0,0,U1[1][0],U1[0][0], label = \"Vector Proyección 1\")\n",
    "plt.quiver(0,0,U2[1][0],U2[0][0], label = \"Vector Proyección 2\")\n",
    "plt.plot(x1, x2r,\"r-\")\n",
    "plt.xlabel(\"x1\")\n",
    "plt.ylabel(\"x2\")\n",
    "plt.legend()\n",
    "plt.show()\n"
   ]
  },
  {
   "cell_type": "markdown",
   "metadata": {},
   "source": [
    "Observamos que los datos tienen la mayor varianza posible sobre la proyección del primer vector. Esta es una propiedad algebraica que se puede aprovechar para decidir quedarse con los datos proyectados sobre un subespacio mas pequeño que el original con una varianza mayor a ciertdo valor treshold."
   ]
  },
  {
   "cell_type": "markdown",
   "metadata": {},
   "source": [
    "El algoritmo quedaría de esta manera (tomado de la referencia indicada arriba):\n",
    "\n",
    "Algoritmo: Principal component analysis (PCA)\n",
    "\n",
    "Requiere: Hyperparametro k (la dimensionalidad de los datos proyectados)\n",
    "En el ejemplo anterior de dos dimensiones que se pueden reducir a una dimension escogeriamos k=1.\n",
    "\n",
    "Requiere: Matriz X ∈ Rn×m\n",
    "En el ejemplo anterior de los datos m=2 variables con cada una n=10 records  \n",
    "\n",
    "Paso 1: En este paso quitamos de manera que cada variable esta centrada en cero.\n",
    "X ← X − mean(X)\n",
    "\n",
    "Paso 2: Construimos la matriz de covarianza empírica Σ a partir de XᵀX/n\n",
    "\n",
    "Paso 3: Calculamos los vectores propios y los ordenamos por el valor de mayor a menor de sus valores propios\n",
    "V ← Eigenvectors(Σ) \n",
    "\n",
    "Paso 4: Construimos la matriz V˜ para hacer la proyección en el espacio reducido de los primeros k-vectores propios\n",
    "V˜ ← V [:, : k] \n",
    "\n",
    "Paso 5: Proyectamos los datos X en el espacio reducido para retornar X˜\n",
    "X˜ ← X V˜ ∈ Rn×k"
   ]
  },
  {
   "cell_type": "markdown",
   "metadata": {},
   "source": [
    "## Otras opciones en sklearn\n",
    "\n",
    "\n",
    "Ver la sección Feature selection en sklearn"
   ]
  }
 ],
 "metadata": {
  "colab": {
   "authorship_tag": "ABX9TyMM2ZC6J5uLOvDOoS3lciJs",
   "name": "",
   "version": ""
  },
  "kernelspec": {
   "display_name": "python-ml",
   "language": "python",
   "name": "python3"
  },
  "language_info": {
   "codemirror_mode": {
    "name": "ipython",
    "version": 3
   },
   "file_extension": ".py",
   "mimetype": "text/x-python",
   "name": "python",
   "nbconvert_exporter": "python",
   "pygments_lexer": "ipython3",
   "version": "3.12.3"
  }
 },
 "nbformat": 4,
 "nbformat_minor": 1
}
